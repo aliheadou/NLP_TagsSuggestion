{
 "cells": [
  {
   "cell_type": "markdown",
   "metadata": {},
   "source": [
    "# Projets: Suggestions de Tags \n",
    "\n",
    "\n",
    "Après avoir procéder à la préparation du jeu de données dans le notebook précédent, nous allons maintenant modéliser le système de suggestion des tags. Quatre approches de classifications seront présentées ici:\n",
    "  1. Bag-of-Words : Suggestion à partir d'un modèle LDA (*Topic Modelling*) \n",
    "  2. Embedding : \n",
    "      2.1 Word2Vec\n",
    "      2.2 BERT\n",
    "      2.3 Universal Sentence Encoder (USE)\n",
    "      \n",
    "  \n",
    "# <font color=\"#00afe6\">Sommaire</font>\n",
    "1. [Préparation du jeu de données.](#section_1)                       \n",
    "2. [Train / val / test split.](#section_2)     \n",
    "3. [Suggestion non-supervisée avec LDA.](#section_3)     \n",
    "    3.1 [Recherche du nombre de topics optimal.](#section_3_1)            \n",
    "    3.2 [Fonction \"score\" pour le système de suggestion.](#section_3_2)            \n",
    "    3.3 [Inférence sur le test set.](#section_3_3)            \n",
    "4. [Suggestion avec modèle Word2Vec.](#section_4) \n",
    "5. [Modélisation via Transfer Learning.](#section_5)               \n",
    "    5.1 [Suggestion avec le modèle BERT.](#section_5_1)            \n",
    "    5.2 [Suggestion avec le modèle USE.](#section_5_2)            "
   ]
  },
  {
   "cell_type": "code",
   "execution_count": 1,
   "metadata": {},
   "outputs": [],
   "source": [
    "# Importation des librairies python\n",
    "\n",
    "import sys, time\n",
    "from random import randint\n",
    "\n",
    "import re, numpy as np, pandas as pd, seaborn as sns\n",
    "pd.set_option('display.max_colwidth', None)\n",
    "import matplotlib.pyplot as plt\n",
    "%matplotlib inline\n",
    "\n",
    "\n",
    "from random import randint\n",
    "from tqdm import tqdm\n",
    "tqdm.pandas()\n",
    "\n",
    "import logging, warnings\n",
    "warnings.filterwarnings(\"ignore\",category=DeprecationWarning)\n",
    "logging.basicConfig(format='%(asctime)s : %(levelname)s : %(message)s', level=logging.ERROR)\n",
    "\n",
    "import gensim \n",
    "\n",
    "import tensorflow as tf\n",
    "import tensorflow.keras as keras "
   ]
  },
  {
   "cell_type": "code",
   "execution_count": 2,
   "metadata": {},
   "outputs": [
    {
     "name": "stdout",
     "output_type": "stream",
     "text": [
      "Le dataframe contient 3 colonnes et 37960 lignes.\n"
     ]
    }
   ],
   "source": [
    "df = pd.read_csv('df_cleaned.csv', index_col=0)\n",
    "\n",
    "print(\"Le dataframe contient {} colonnes et {} lignes.\"\\\n",
    "      .format(df.shape[1],df.shape[0]))"
   ]
  },
  {
   "cell_type": "markdown",
   "metadata": {},
   "source": [
    "# <font color=\"blue\" id=section_1> 1. Préparation du jeu de données. </font>"
   ]
  },
  {
   "cell_type": "code",
   "execution_count": 3,
   "metadata": {},
   "outputs": [
    {
     "name": "stdout",
     "output_type": "stream",
     "text": [
      "<class 'pandas.core.frame.DataFrame'>\n",
      "Int64Index: 37960 entries, 689677 to 665299\n",
      "Data columns (total 3 columns):\n",
      " #   Column     Non-Null Count  Dtype \n",
      "---  ------     --------------  ----- \n",
      " 0   Best_Tags  37960 non-null  object\n",
      " 1   Body_pc    37960 non-null  object\n",
      " 2   Body_lm    37960 non-null  object\n",
      "dtypes: object(3)\n",
      "memory usage: 1.2+ MB\n"
     ]
    }
   ],
   "source": [
    "df.info()"
   ]
  },
  {
   "cell_type": "markdown",
   "metadata": {},
   "source": [
    "Le dataframe contient deux colonnes de textes ( et ) qui seront utilisées selon le modèle. La colonne `Body_lm` contient du texte qui a été *tokenized* et *lemmatized* sera utilisée pour les modèles LDA et Word2Vec. La colonne\n",
    "`Body_pc` qui contient les textes pré-nettoyés sera utilisée pour le transfert learning.\n",
    "\n",
    "La colonne `Best_Tags` est la colonne cible."
   ]
  },
  {
   "cell_type": "code",
   "execution_count": 4,
   "metadata": {},
   "outputs": [
    {
     "name": "stderr",
     "output_type": "stream",
     "text": [
      "100%|██████████| 37960/37960 [00:00<00:00, 124273.35it/s]\n"
     ]
    }
   ],
   "source": [
    "from ast import literal_eval\n",
    "\n",
    "df[\"Best_Tags\"] = df[\"Best_Tags\"].progress_apply(lambda x: literal_eval(x))"
   ]
  },
  {
   "cell_type": "code",
   "execution_count": 5,
   "metadata": {
    "scrolled": true
   },
   "outputs": [
    {
     "data": {
      "text/html": [
       "<div>\n",
       "<style scoped>\n",
       "    .dataframe tbody tr th:only-of-type {\n",
       "        vertical-align: middle;\n",
       "    }\n",
       "\n",
       "    .dataframe tbody tr th {\n",
       "        vertical-align: top;\n",
       "    }\n",
       "\n",
       "    .dataframe thead th {\n",
       "        text-align: right;\n",
       "    }\n",
       "</style>\n",
       "<table border=\"1\" class=\"dataframe\">\n",
       "  <thead>\n",
       "    <tr style=\"text-align: right;\">\n",
       "      <th></th>\n",
       "      <th>tag_count</th>\n",
       "    </tr>\n",
       "    <tr>\n",
       "      <th>Tag</th>\n",
       "      <th></th>\n",
       "    </tr>\n",
       "  </thead>\n",
       "  <tbody>\n",
       "    <tr>\n",
       "      <th>python</th>\n",
       "      <td>4528</td>\n",
       "    </tr>\n",
       "    <tr>\n",
       "      <th>java</th>\n",
       "      <td>4293</td>\n",
       "    </tr>\n",
       "    <tr>\n",
       "      <th>c#</th>\n",
       "      <td>4088</td>\n",
       "    </tr>\n",
       "    <tr>\n",
       "      <th>javascript</th>\n",
       "      <td>4070</td>\n",
       "    </tr>\n",
       "    <tr>\n",
       "      <th>android</th>\n",
       "      <td>2776</td>\n",
       "    </tr>\n",
       "  </tbody>\n",
       "</table>\n",
       "</div>"
      ],
      "text/plain": [
       "            tag_count\n",
       "Tag                  \n",
       "python           4528\n",
       "java             4293\n",
       "c#               4088\n",
       "javascript       4070\n",
       "android          2776"
      ]
     },
     "execution_count": 5,
     "metadata": {},
     "output_type": "execute_result"
    }
   ],
   "source": [
    "def split_and_count_tags(df, column, separator):\n",
    "    list_words = []\n",
    "    for word in df[column]: #.str.split(separator):\n",
    "        list_words.extend(word)\n",
    "    df_list_words = pd.DataFrame(list_words, columns=[\"Tag\"])\n",
    "    df_list_words = df_list_words.groupby(\"Tag\")\\\n",
    "        .agg(tag_count=pd.NamedAgg(column=\"Tag\", aggfunc=\"count\"))\n",
    "    df_list_words.sort_values(\"tag_count\", ascending=False, inplace=True)\n",
    "    return df_list_words\n",
    "\n",
    "tags_list_df = split_and_count_tags(df=df, column='Best_Tags', separator=',')\n",
    "tags_list_df.head()"
   ]
  },
  {
   "cell_type": "code",
   "execution_count": 6,
   "metadata": {},
   "outputs": [
    {
     "name": "stdout",
     "output_type": "stream",
     "text": [
      "Le jeu de données compte 35 tags.\n"
     ]
    }
   ],
   "source": [
    "nbr_tags = tags_list_df.shape[0]\n",
    "\n",
    "print(\"Le jeu de données compte {} tags.\".format(nbr_tags))\n",
    "tags_list = tags_list_df.reset_index()['Tag'].values.tolist()"
   ]
  },
  {
   "cell_type": "markdown",
   "metadata": {},
   "source": [
    "Dans le but d'avoir une modélisation rapide et légère, la taille maximale du corps du texte sera encore réduite. Nous appliquerons cette fois-ci le filtre sur la colonne `Body_lm`."
   ]
  },
  {
   "cell_type": "code",
   "execution_count": 7,
   "metadata": {},
   "outputs": [
    {
     "name": "stdout",
     "output_type": "stream",
     "text": [
      "Le dataframe compte à présent 32644 lignes.\n"
     ]
    }
   ],
   "source": [
    "maxSeq_len = 64\n",
    "\n",
    "data_long=[]\n",
    "data_idx=[]\n",
    "\n",
    "for i,data in df['Body_lm'].apply(lambda x: x.split(\" \")).items():\n",
    "    if (len(data) < maxSeq_len):\n",
    "        data_idx.append(i)\n",
    "    else:\n",
    "        data_long.append(i)\n",
    "\n",
    "df = df.loc[data_idx]\n",
    "\n",
    "print(\"Le dataframe compte à présent {} lignes.\".format(df.shape[0]))"
   ]
  },
  {
   "cell_type": "code",
   "execution_count": 8,
   "metadata": {},
   "outputs": [],
   "source": [
    "def token_distribution(df,col):\n",
    "    tk = [len(body) for body in df[col].apply(lambda x: x.split(\" \"))]\n",
    "    print(f\"\\n Le corps de texte le plus long contient {max(tk)} tokens. \\n\")\n",
    "\n",
    "    plt.figure(figsize=(15,6))\n",
    "    plt.hist(tk, bins=100)\n",
    "    plt.title(f\"Distribution du nombre de token dans la colonne {col}\", fontsize=18)\n",
    "    plt.xlabel('Nombre de tokens', fontsize=18)\n",
    "    plt.xticks(fontsize=15)\n",
    "    plt.ylabel('Nombre de lignes', fontsize=18 )\n",
    "    plt.yticks(fontsize=15)\n",
    "    plt.show()"
   ]
  },
  {
   "cell_type": "code",
   "execution_count": 9,
   "metadata": {},
   "outputs": [
    {
     "name": "stdout",
     "output_type": "stream",
     "text": [
      "\n",
      " Le corps de texte le plus long contient 63 tokens. \n",
      "\n"
     ]
    },
    {
     "data": {
      "image/png": "[encoded data removed]",
      "text/plain": [
       "<Figure size 1080x432 with 1 Axes>"
      ]
     },
     "metadata": {
      "needs_background": "light"
     },
     "output_type": "display_data"
    }
   ],
   "source": [
    "token_distribution(df, 'Body_lm')"
   ]
  },
  {
   "cell_type": "code",
   "execution_count": null,
   "metadata": {},
   "outputs": [],
   "source": []
  },
  {
   "cell_type": "markdown",
   "metadata": {},
   "source": [
    "# <font color=\"blue\" id=section_2> 2. Train / val / test split. </font>"
   ]
  },
  {
   "cell_type": "code",
   "execution_count": 10,
   "metadata": {},
   "outputs": [],
   "source": [
    "def split_train_test_val(dataset, train_ratio = 0.9):\n",
    "      \n",
    "    # shuffle dataset\n",
    "    dataset = dataset.sample(frac=1)\n",
    "\n",
    "    # train set\n",
    "    np.random.seed(seed=0)\n",
    "    train_msk = np.random.rand(len(df)) < train_ratio\n",
    "    train_df = dataset[train_msk]\n",
    "    print('train_df shape = ', train_df.shape)\n",
    "\n",
    "    # eval_test set\n",
    "    np.random.seed(seed=42)\n",
    "    eval_test_df  = dataset[~train_msk]\n",
    "    eval_test_msk = np.random.rand((len(eval_test_df))) < 0.5 \n",
    "    test_df = eval_test_df[eval_test_msk]\n",
    "    eval_df = eval_test_df[~eval_test_msk]\n",
    "    print('test_df shape = ', test_df.shape)\n",
    "    print('eval_df shape = ', eval_df.shape)\n",
    "    \n",
    "    return train_df, test_df, eval_df\n",
    "\n",
    "# Target Labels Binarizer\n",
    "from sklearn.preprocessing import MultiLabelBinarizer\n",
    "mlb = MultiLabelBinarizer()\n",
    "\n",
    "def binarize_target(mlb, train_df, test_df, eval_df):\n",
    "    \n",
    "    train_label = train_df['Best_Tags'].values.tolist()\n",
    "    test_label  = test_df['Best_Tags'].values.tolist()\n",
    "    eval_label  = eval_df['Best_Tags'].values.tolist()\n",
    "\n",
    "    mlb.fit(train_label)\n",
    "\n",
    "    train_label_bin = mlb.transform(train_label)\n",
    "    test_label_bin = mlb.transform(test_label)\n",
    "    eval_label_bin = mlb.transform(eval_label)\n",
    "\n",
    "\n",
    "    print(\"Shape of y train: {}\".format(train_label_bin.shape))\n",
    "    print(\"Shape of y test: {}\".format(test_label_bin.shape))\n",
    "    print(\"Shape of y eval: {}\".format(eval_label_bin.shape))\n",
    "    \n",
    "    return train_label_bin, test_label_bin, eval_label_bin, mlb"
   ]
  },
  {
   "cell_type": "markdown",
   "metadata": {},
   "source": [
    "Tout au long de ce notebook, nous allons utilisé les mêmes jeux d'entraînements, de validations et de tests."
   ]
  },
  {
   "cell_type": "code",
   "execution_count": 11,
   "metadata": {},
   "outputs": [
    {
     "name": "stdout",
     "output_type": "stream",
     "text": [
      "train_df shape =  (31024, 3)\n",
      "test_df shape =  (800, 3)\n",
      "eval_df shape =  (820, 3)\n"
     ]
    }
   ],
   "source": [
    "train_df, test_df, eval_df = split_train_test_val(df,train_ratio = 0.95)"
   ]
  },
  {
   "cell_type": "code",
   "execution_count": 12,
   "metadata": {},
   "outputs": [
    {
     "name": "stdout",
     "output_type": "stream",
     "text": [
      "Shape of y train: (31024, 35)\n",
      "Shape of y test: (800, 35)\n",
      "Shape of y eval: (820, 35)\n"
     ]
    }
   ],
   "source": [
    "train_label_bin, test_label_bin, eval_label_bin, mlb = binarize_target(mlb, train_df, test_df, eval_df)"
   ]
  },
  {
   "cell_type": "markdown",
   "metadata": {},
   "source": [
    "# <font color=\"blue\" id=section_3> 3. Suggestion non-supervisée avec LDA. </font>"
   ]
  },
  {
   "cell_type": "code",
   "execution_count": 13,
   "metadata": {},
   "outputs": [],
   "source": [
    "body = 'Body_lm'"
   ]
  },
  {
   "cell_type": "code",
   "execution_count": 14,
   "metadata": {},
   "outputs": [
    {
     "name": "stdout",
     "output_type": "stream",
     "text": [
      "Shape of x train: (31024,)\n"
     ]
    }
   ],
   "source": [
    "# Training set\n",
    "train_feats = train_df[body].apply(lambda x: x.split(\" \")).copy()\n",
    "print(\"Shape of x train: {}\".format(train_feats.shape))"
   ]
  },
  {
   "cell_type": "markdown",
   "metadata": {},
   "source": [
    "Pour les besoins de cette section uniquement, les jeux de tests et de validations seront fusionnés."
   ]
  },
  {
   "cell_type": "code",
   "execution_count": 15,
   "metadata": {
    "scrolled": true
   },
   "outputs": [
    {
     "name": "stdout",
     "output_type": "stream",
     "text": [
      "Shape of x test: (1620,)\n",
      "Shape of y test: (1620, 35)\n"
     ]
    }
   ],
   "source": [
    "lda_test_df = pd.concat([test_df, eval_df]).copy()\n",
    "lda_test_feats = lda_test_df[body].apply(lambda x: x.split(\" \")) \n",
    "print(\"Shape of x test: {}\".format(lda_test_feats.shape))\n",
    "\n",
    "lda_test_label = np.concatenate((test_label_bin,eval_label_bin), axis=0)\n",
    "print(\"Shape of y test: {}\".format(lda_test_label.shape))"
   ]
  },
  {
   "cell_type": "markdown",
   "metadata": {},
   "source": [
    "On va maintenant créer le **Corpus** et le **Dictionnaire**."
   ]
  },
  {
   "cell_type": "code",
   "execution_count": 16,
   "metadata": {},
   "outputs": [],
   "source": [
    "import gensim.corpora as corpora\n",
    "\n",
    "data_ready = train_feats.copy()\n",
    "\n",
    "# Create Dictionary\n",
    "dictionnaire = corpora.Dictionary(data_ready)\n",
    "\n",
    "# Create Corpus: Term Document Frequency\n",
    "corpus = [dictionnaire.doc2bow(text) for text in data_ready]"
   ]
  },
  {
   "cell_type": "markdown",
   "metadata": {},
   "source": [
    "# <font color=\"blue\" id=section_3_1> 3.1 Recherche du nombre de topics optimal. </font>"
   ]
  },
  {
   "cell_type": "code",
   "execution_count": 17,
   "metadata": {},
   "outputs": [
    {
     "name": "stdout",
     "output_type": "stream",
     "text": [
      "Fitting LDA for K = 1 topics\n",
      "Fitting LDA for K = 6 topics\n",
      "Fitting LDA for K = 11 topics\n",
      "Fitting LDA for K = 16 topics\n",
      "Fitting LDA for K = 21 topics\n",
      "Fitting LDA for K = 26 topics\n",
      "Fitting LDA for K = 31 topics\n",
      "Fitting LDA for K = 36 topics\n",
      "Fitting LDA for K = 41 topics\n",
      "Fitting LDA for K = 46 topics\n"
     ]
    }
   ],
   "source": [
    "from gensim.models import CoherenceModel\n",
    "\n",
    "model_alpha = 'symmetric'\n",
    "\n",
    "# Iter LDA for best number of topics\n",
    "coherence_test = []\n",
    "for k in np.arange(1,50,5):\n",
    "    print(\"Fitting LDA for K = {} topics\".format(k))\n",
    "    start_time = time.time()\n",
    "\n",
    "    lda_model = gensim.models.ldamulticore.LdaMulticore(corpus=corpus,\n",
    "                                                        id2word=dictionnaire,\n",
    "                                                        num_topics=k,\n",
    "                                                        random_state=0,\n",
    "                                                        alpha=model_alpha,\n",
    "                                                        passes=10,\n",
    "                                                        iterations=150,\n",
    "                                                        per_word_topics=False,\n",
    "                                                        workers=4)\n",
    "\n",
    "    coherence_model_lda = CoherenceModel(model=lda_model,\n",
    "                                         texts=data_ready,\n",
    "                                         dictionary=dictionnaire,\n",
    "                                         coherence='c_v')\n",
    "    \n",
    "    coherence_lda = coherence_model_lda.get_coherence()\n",
    "    end_time = time.time()\n",
    "    coherence_test.append((k, coherence_lda,\n",
    "                           (end_time - start_time)))"
   ]
  },
  {
   "cell_type": "markdown",
   "metadata": {},
   "source": [
    "Regardons les valeur du paramètre $\\alpha$ du modèle LDA."
   ]
  },
  {
   "cell_type": "code",
   "execution_count": 18,
   "metadata": {},
   "outputs": [],
   "source": [
    "# lda_model.alpha"
   ]
  },
  {
   "cell_type": "code",
   "execution_count": 19,
   "metadata": {},
   "outputs": [
    {
     "data": {
      "image/png": "[encoded data removed]",
      "text/plain": [
       "<Figure size 864x576 with 2 Axes>"
      ]
     },
     "metadata": {
      "needs_background": "light"
     },
     "output_type": "display_data"
    }
   ],
   "source": [
    "# Create dataframe of results\n",
    "coherence_test = pd.DataFrame(coherence_test,\n",
    "                              columns=[\"k\",\"coherence\",\"time\"])\n",
    "\n",
    "# Select best number of topics\n",
    "best_nb_topics = coherence_test\\\n",
    "                    .loc[coherence_test.coherence.argmax(),\"k\"]\n",
    "\n",
    "# Plot results\n",
    "fig, ax1 = plt.subplots(figsize=(12,8))\n",
    "x = coherence_test[\"k\"]\n",
    "y1 = coherence_test[\"coherence\"]\n",
    "y2 = coherence_test[\"time\"]\n",
    "\n",
    "ax1.plot(x, y1, label=\"Coherence score\")\n",
    "ax1.axvline(x=best_nb_topics, color='r', alpha=.7,\n",
    "            linestyle='dashdot', label='Best param')\n",
    "ax1.set_xlabel(\"Number of components\")\n",
    "ax1.set_ylabel(\"Coherence score\")\n",
    "\n",
    "ax2 = ax1.twinx()\n",
    "ax2.plot(x, y2, label=\"Fit time\",\n",
    "         color='g', alpha=.5,\n",
    "         linestyle='--')\n",
    "ax2.set_ylabel(\"Fitting time (s)\")\n",
    "\n",
    "legend = fig.legend(loc='lower right', bbox_to_anchor=(.9, .1))\n",
    "\n",
    "fig.tight_layout()\n",
    "plt.show()"
   ]
  },
  {
   "cell_type": "code",
   "execution_count": 20,
   "metadata": {},
   "outputs": [
    {
     "name": "stdout",
     "output_type": "stream",
     "text": [
      "Le nombre optimal de topics obtenus est de 16\n"
     ]
    }
   ],
   "source": [
    "print(f\"Le nombre optimal de topics obtenus est de {best_nb_topics}\")"
   ]
  },
  {
   "cell_type": "markdown",
   "metadata": {},
   "source": [
    "On va maintenant ré-entrainer le modèle avec ce nombre de topic et obtenir toute les probabilités ayant été calculées. Il est à noter que ce nombre peut varier entre 12 et 18, en fonction des hyperparamètres du modèle **`gensim`** ou du *random_state* par exemple, mais l'ordre de grandeur de la Cohérence reste autour de 0.5."
   ]
  },
  {
   "cell_type": "code",
   "execution_count": 21,
   "metadata": {},
   "outputs": [],
   "source": [
    "num_topic = best_nb_topics\n",
    "\n",
    "lda_model = gensim.models.ldamulticore.LdaMulticore(corpus=corpus,\n",
    "                                                    id2word=dictionnaire,\n",
    "                                                    num_topics=num_topic,\n",
    "                                                    random_state=100,\n",
    "                                                    passes=10,\n",
    "                                                    iterations=150,\n",
    "                                                    alpha=model_alpha,\n",
    "                                                    workers=4)"
   ]
  },
  {
   "cell_type": "raw",
   "metadata": {},
   "source": [
    "# Print Perplexity score\n",
    "print('\\nPerplexity: ', lda_model.log_perplexity(corpus))"
   ]
  },
  {
   "cell_type": "code",
   "execution_count": 22,
   "metadata": {},
   "outputs": [
    {
     "name": "stdout",
     "output_type": "stream",
     "text": [
      "\n",
      "Coherence Score:  0.5117561539854789\n"
     ]
    }
   ],
   "source": [
    "#Print Coherence Score\n",
    "coherence_model_lda = CoherenceModel(model=lda_model, \n",
    "                                     texts=data_ready, \n",
    "                                     dictionary=dictionnaire, \n",
    "                                     coherence='c_v')\n",
    "\n",
    "# coherence_model_lda = CoherenceModel(model=lda_model, \n",
    "#                                      corpus=corpus, \n",
    "#                                      dictionary=dictionnaire, \n",
    "#                                      coherence='u_mass')\n",
    "\n",
    "coherence_lda = coherence_model_lda.get_coherence()\n",
    "\n",
    "print('\\nCoherence Score: ', coherence_lda)"
   ]
  },
  {
   "cell_type": "code",
   "execution_count": 23,
   "metadata": {},
   "outputs": [
    {
     "data": {
      "text/html": [
       "<style>.container { max-width:100% !important; }</style>"
      ],
      "text/plain": [
       "<IPython.core.display.HTML object>"
      ]
     },
     "metadata": {},
     "output_type": "display_data"
    },
    {
     "data": {
      "text/html": [
       "<style>.output_result { max-width:100% !important; }</style>"
      ],
      "text/plain": [
       "<IPython.core.display.HTML object>"
      ]
     },
     "metadata": {},
     "output_type": "display_data"
    },
    {
     "data": {
      "text/html": [
       "<style>.output_area { max-width:100% !important; }</style>"
      ],
      "text/plain": [
       "<IPython.core.display.HTML object>"
      ]
     },
     "metadata": {},
     "output_type": "display_data"
    },
    {
     "data": {
      "text/html": [
       "<style>.input_area { max-width:100% !important; }</style>"
      ],
      "text/plain": [
       "<IPython.core.display.HTML object>"
      ]
     },
     "metadata": {},
     "output_type": "display_data"
    },
    {
     "name": "stderr",
     "output_type": "stream",
     "text": [
      "/home/ahea/.local/lib/python3.8/site-packages/pyLDAvis/_prepare.py:246: FutureWarning: In a future version of pandas all arguments of DataFrame.drop except for the argument 'labels' will be keyword-only\n",
      "  default_term_info = default_term_info.sort_values(\n"
     ]
    },
    {
     "data": {
      "text/html": [
       "\n",
       "<link rel=\"stylesheet\" type=\"text/css\" href=\"https://cdn.jsdelivr.net/gh/bmabey/pyLDAvis@3.3.1/pyLDAvis/js/ldavis.v1.0.0.css\">\n",
       "\n",
       "\n",
       "<div id=\"ldavis_el26726140506119871504259624703\"></div>\n",
       "<script type=\"text/javascript\">\n",
       "\n",
       "var ldavis_el26726140506119871504259624703_data = {\"mdsDat\": {\"x\": [0.1730963295039427, -0.11647080798121554, -0.068766743473179, -0.15327943557443516, 0.0757441069667399, 0.0732041452069912, 0.06492176279926501, 0.12293861371302287, -0.08471223823668572, -0.17593384585906563, -0.05361909979845421, 0.01460938597830676, 0.07908753777998, -0.14867193340053958, 0.08403361789824067, 0.11381860447708593], \"y\": [-0.06781740937541232, 0.04912657256348111, 0.17621303686825185, -0.16829449012856273, -0.10024139606897375, 0.12215140284550605, 0.10561609358878657, 0.05737181414693979, -0.09611411659671344, 0.05601978573643246, 0.05556200467485014, 0.09753244084669248, -0.056742044420826185, -0.07984475889151303, -0.05177291938868118, -0.09876601640025706], \"topics\": [1, 2, 3, 4, 5, 6, 7, 8, 9, 10, 11, 12, 13, 14, 15, 16], \"cluster\": [1, 1, 1, 1, 1, 1, 1, 1, 1, 1, 1, 1, 1, 1, 1, 1], \"Freq\": [10.345882002168514, 8.760472270785309, 8.464583509261567, 7.570485943896131, 7.39401283461778, 6.491065611822753, 6.364273331588306, 6.289683338893122, 5.965366444256268, 5.838172072816094, 5.697179489914356, 5.446601593053724, 5.4006260800550185, 4.136424687621408, 2.968525902107062, 2.8666448871425887]}, \"tinfo\": {\"Term\": [\"class\", \"object\", \"table\", \"java\", \"string\", \"app\", \"image\", \"python\", \"array\", \"android\", \"method\", \"git\", \"column\", \"function\", \"list\", \"command\", \"value\", \"view\", \"net\", \"sql\", \"database\", \"query\", \"page\", \"form\", \"jquery\", \"row\", \"button\", \"php\", \"exception\", \"css\", \"regex\", \"decimal\", \"const\", \"digit\", \"dimensional\", \"char\", \"associative\", \"std\", \"operator\", \"typedef\", \"prime\", \"ptr\", \"phpunit\", \"arithmetic\", \"semicolon\", \"printf\", \"multidimensional\", \"literal\", \"llvm\", \"unsigned\", \"sizeof\", \"whitespace\", \"msi\", \"integer\", \"closure\", \"throttle\", \"hql\", \"divisor\", \"jslint\", \"vc++\", \"array\", \"vector\", \"newline\", \"str\", \"alphanumeric\", \"positive\", \"int\", \"expression\", \"stre\", \"variable\", \"assignment\", \"string\", \"split\", \"length\", \"function\", \"number\", \"overload\", \"random\", \"pointer\", \"zero\", \"regular\", \"float\", \"argument\", \"value\", \"c++\", \"return\", \"match\", \"character\", \"pass\", \"javascript\", \"example\", \"two\", \"remove\", \"check\", \"give\", \"element\", \"convert\", \"c\", \"python\", \"something\", \"loop\", \"list\", \"case\", \"follow\", \"write\", \"cookie\", \"curl\", \"nginx\", \"websocket\", \"selenium\", \"devise\", \"scrape\", \"middleware\", \"webdriver\", \"wsgi\", \"webserver\", \"mongo\", \"xampp\", \"subdomain\", \"logout\", \"scrapy\", \"cor\", \"cert\", \"celery\", \"cdn\", \"onload\", \"chromedriver\", \"rand\", \"entitlement\", \"localhost\", \"cgi\", \"wamp\", \"ping\", \"spider\", \"securely\", \"iframe\", \"url\", \"request\", \"authentication\", \"minify\", \"laravel\", \"login\", \"php\", \"token\", \"proxy\", \"config\", \"log\", \"flask\", \"redirect\", \"session\", \"browser\", \"domain\", \"chrome\", \"ajax\", \"response\", \"apache\", \"web\", \"site\", \"express\", \"console\", \"javascript\", \"page\", \"website\", \"rail\", \"server\", \"post\", \"user\", \"script\", \"load\", \"js\", \"send\", \"access\", \"header\", \"application\", \"set\", \"app\", \"content\", \"follow\", \"problem\", \"call\", \"install\", \"pip\", \"kernel\", \"anaconda\", \"installer\", \"powershell\", \"virtualenv\", \"registry\", \"uninstall\", \"jupyter\", \"vista\", \"usr\", \"bat\", \"gradle\", \"jre\", \"pid\", \"coroutine\", \"rvm\", \"reinstall\", \"nuget\", \"zsh\", \"brew\", \"arm\", \"nix\", \"tray\", \"operating\", \"pyinstaller\", \"bower\", \"notebook\", \"ndk\", \"windows\", \"eclipse\", \"npm\", \"instal\", \"installation\", \"studio\", \"exe\", \"visual\", \"kill\", \"mono\", \"jdk\", \"window\", \"linux\", \"package\", \"gui\", \"process\", \"environment\", \"version\", \"mac\", \"platform\", \"machine\", \"tool\", \"program\", \"system\", \"build\", \"executable\", \"ubuntu\", \"start\", \"project\", \"dependency\", \"command\", \"application\", \"open\", \"python\", \"computer\", \"service\", \"download\", \"java\", \"new\", \"library\", \"thread\", \"time\", \"problem\", \"create\", \"height\", \"width\", \"css\", \"resize\", \"div\", \"border\", \"bootstrap\", \"divs\", \"vertical\", \"vertically\", \"imageview\", \"hover\", \"horizontally\", \"drawable\", \"margin\", \"corner\", \"scroll\", \"tableview\", \"stretch\", \"crop\", \"scrollbar\", \"uitableviewcell\", \"color\", \"stylesheet\", \"viewport\", \"gallery\", \"opacity\", \"blur\", \"fade\", \"uiscrollview\", \"pixel\", \"shadow\", \"center\", \"white\", \"align\", \"image\", \"cell\", \"gradient\", \"horizontal\", \"bottom\", \"background\", \"animation\", \"text\", \"style\", \"size\", \"position\", \"layout\", \"event\", \"font\", \"html\", \"element\", \"screen\", \"display\", \"change\", \"content\", \"set\", \"show\", \"page\", \"add\", \"jquery\", \"browser\", \"view\", \"possible\", \"query\", \"varchar\", \"join\", \"column\", \"row\", \"composite\", \"decrypt\", \"subquery\", \"primary\", \"table\", \"guid\", \"innodb\", \"collation\", \"activerecord\", \"record\", \"iqueryable\", \"nvarchar\", \"groupby\", \"datagridview\", \"paginate\", \"sqlite\", \"relational\", \"salt\", \"sunday\", \"sql\", \"rectangular\", \"formset\", \"classloader\", \"descend\", \"csproj\", \"clause\", \"mysql\", \"encrypt\", \"database\", \"foreign\", \"insert\", \"dataframe\", \"distinct\", \"postgresql\", \"oracle\", \"procedure\", \"csv\", \"schema\", \"unique\", \"month\", \"group\", \"field\", \"panda\", \"datum\", \"frame\", \"data\", \"constraint\", \"delete\", \"store\", \"key\", \"value\", \"select\", \"name\", \"server\", \"create\", \"statement\", \"result\", \"sort\", \"update\", \"multiple\", \"return\", \"two\", \"follow\", \"add\", \"example\", \"javafx\", \"modifier\", \"pod\", \"appdomain\", \"accelerometer\", \"pylint\", \"preprocessor\", \"decompile\", \"importerror\", \"unused\", \"namespace\", \"intellij\", \"assembly\", \"nil\", \"spell\", \"appender\", \"argparse\", \"seal\", \"proximity\", \"upside\", \"classname\", \"statically\", \"objective\", \"linkage\", \"symbolic\", \"refactor\", \"encapsulation\", \"fxcop\", \"privacy\", \"manipulator\", \"private\", \"dll\", \"vim\", \"abstract\", \"constructor\", \"autocompletion\", \"import\", \"module\", \"classpath\", \"class\", \"static\", \"public\", \"wildcard\", \"path\", \"language\", \"maven\", \"member\", \"c\", \"compile\", \"inherit\", \"instantiate\", \"inheritance\", \"compiler\", \"c++\", \"definition\", \"relative\", \"project\", \"folder\", \"python\", \"name\", \"include\", \"define\", \"access\", \"c#\", \"library\", \"create\", \"header\", \"directory\", \"add\", \"reference\", \"source\", \"java\", \"method\", \"exception\", \"millisecond\", \"unit\", \"catch\", \"timer\", \"asynctask\", \"delphi\", \"suppress\", \"datepicker\", \"safety\", \"nunit\", \"exif\", \"handlebar\", \"mockito\", \"logg\", \"gwt\", \"doxygen\", \"tabbar\", \"volatile\", \"ilist\", \"unittest\", \"asterisk\", \"mixin\", \"integral\", \"accessor\", \"setinterval\", \"mock\", \"dbcontext\", \"slope\", \"fiddler\", \"throw\", \"sleep\", \"assert\", \"junit\", \"multiprocesse\", \"raise\", \"delegate\", \"test\", \"multiplication\", \"thread\", \"method\", \"block\", \"ienumerable\", \"call\", \"testing\", \"framework\", \"signal\", \"trace\", \"decorator\", \"foreach\", \"time\", \"task\", \"entity\", \"delay\", \"ruby\", \"extension\", \"second\", \"handle\", \"safe\", \"c#\", \"practice\", \"class\", \"library\", \"write\", \"stack\", \"every\", \"java\", \"performance\", \"example\", \"well\", \"something\", \"case\", \"function\", \"problem\", \"implement\", \"anyone\", \"check\", \"follow\", \"spring\", \"hibernate\", \"serialize\", \"bean\", \"annotation\", \"scala\", \"serialization\", \"deserialize\", \"persistence\", \"garbage\", \"jpa\", \"jersey\", \"jackson\", \"gson\", \"inputstream\", \"kotlin\", \"hashcode\", \"collector\", \"jaxb\", \"xsd\", \"hashmap\", \"stringbuilder\", \"hexadecimal\", \"fft\", \"gmt\", \"ast\", \"zone\", \"commons\", \"timezone\", \"xslt\", \"servlet\", \"json\", \"lambda\", \"arraylist\", \"object\", \"xml\", \"heap\", \"java\", \"utc\", \"byte\", \"convert\", \"parse\", \"cast\", \"generic\", \"collection\", \"memory\", \"stream\", \"allocate\", \"format\", \"string\", \"read\", \"class\", \"write\", \"c#\", \"property\", \"create\", \"method\", \"datum\", \"example\", \"follow\", \"list\", \"implement\", \"value\", \"time\", \"something\", \"asp\", \"mvc\", \"textbox\", \"comprehension\", \"checkboxe\", \"webform\", \"indentation\", \"xpath\", \"razor\", \"ioc\", \"routing\", \"dropdownlist\", \"gac\", \"postback\", \"paypal\", \"firestore\", \"membership\", \"ticket\", \"ascend\", \"actionlink\", \"vba\", \"unity\", \"sharepoint\", \"validation\", \"multipart\", \"playlist\", \"updatepanel\", \"clickonce\", \"dropdown\", \"cshtml\", \"pyspark\", \"form\", \"checkbox\", \"submit\", \"validate\", \"item\", \"net\", \"autocomplete\", \"list\", \"jquery\", \"select\", \"youtube\", \"radio\", \"menu\", \"indent\", \"click\", \"action\", \"partial\", \"page\", \"control\", \"input\", \"html\", \"button\", \"element\", \"tree\", \"controller\", \"link\", \"user\", \"upload\", \"field\", \"plugin\", \"attribute\", \"add\", \"web\", \"option\", \"javascript\", \"check\", \"example\", \"value\", \"something\", \"create\", \"certificate\", \"pdf\", \"card\", \"png\", \"simulator\", \"marker\", \"wifi\", \"bluetooth\", \"device\", \"longitude\", \"latitude\", \"keystore\", \"jpeg\", \"notification\", \"gps\", \"barcode\", \"keychain\", \"samsung\", \"bot\", \"sharedpreference\", \"fingerprint\", \"maps\", \"provision\", \"iphone\", \"sm\", \"dpi\", \"bom\", \"compression\", \"logcat\", \"emulator\", \"camera\", \"phone\", \"apk\", \"plist\", \"market\", \"sdk\", \"apple\", \"android\", \"app\", \"facebook\", \"io\", \"ssl\", \"xcode\", \"ios\", \"sign\", \"mobile\", \"google\", \"location\", \"api\", \"excel\", \"screenshot\", \"application\", \"map\", \"user\", \"video\", \"icon\", \"save\", \"programmatically\", \"library\", \"store\", \"open\", \"anyone\", \"image\", \"support\", \"help\", \"possible\", \"create\", \"message\", \"show\", \"git\", \"repository\", \"branch\", \"commit\", \"repo\", \"github\", \"checkout\", \"svn\", \"subversion\", \"bash\", \"ssh\", \"gitignore\", \"stash\", \"gulp\", \"bitbucket\", \"undo\", \"yyyy\", \"mercurial\", \"subdirectory\", \"clone\", \"redi\", \"untracked\", \"mamp\", \"commits\", \"tfs\", \"gitlab\", \"diff\", \"master\", \"commandline\", \"sock\", \"history\", \"merge\", \"locale\", \"remote\", \"submodule\", \"revert\", \"shell\", \"pipe\", \"command\", \"directory\", \"pull\", \"date\", \"push\", \"script\", \"local\", \"datetime\", \"change\", \"terminal\", \"folder\", \"copy\", \"current\", \"delete\", \"time\", \"server\", \"output\", \"check\", \"new\", \"add\", \"follow\", \"create\", \"without\", \"email\", \"mail\", \"smtp\", \"attachment\", \"tcp\", \"orm\", \"queryset\", \"packet\", \"wcf\", \"ldap\", \"webcam\", \"bold\", \"memcached\", \"udp\", \"tls\", \"shop\", \"uid\", \"vote\", \"notepad++\", \"contract\", \"socket\", \"pool\", \"soap\", \"fold\", \"memcache\", \"jit\", \"signalr\", \"consumption\", \"recipient\", \"repos\", \"concurrent\", \"clr\", \"pattern\", \"address\", \"concurrency\", \"delimiter\", \"model\", \"django\", \"parallel\", \"client\", \"gmail\", \"connection\", \"engine\", \"admin\", \"interface\", \"send\", \"design\", \"implementation\", \"service\", \"performance\", \"network\", \"comment\", \"choice\", \"limit\", \"user\", \"server\", \"implement\", \"password\", \"framework\", \"font\", \"memory\", \"net\", \"well\", \"c#\", \"example\", \"different\", \"application\", \"really\", \"anyone\", \"base\", \"optional\", \"promise\", \"nullable\", \"react\", \"rebase\", \"vue\", \"prop\", \"redux\", \"navbar\", \"coalesce\", \"star\", \"jsx\", \"synchronous\", \"ball\", \"attributeerror\", \"instagram\", \"xaml\", \"abc\", \"revision\", \"ambiguity\", \"parameterized\", \"mdn\", \"backslash\", \"downgrade\", \"dialogfragment\", \"upstream\", \"router\", \"qualifier\", \"unbox\", \"mass\", \"prototype\", \"component\", \"angular\", \"await\", \"thumbnail\", \"getter\", \"setter\", \"async\", \"asynchronous\", \"callback\", \"versione\", \"bind\", \"parameter\", \"difference\", \"property\", \"outer\", \"dom\", \"wpf\", \"js\", \"render\", \"document\", \"keyword\", \"template\", \"pass\", \"understand\", \"node\", \"return\", \"attribute\", \"reference\", \"method\", \"function\", \"null\", \"mean\", \"state\", \"call\", \"example\", \"value\", \"object\", \"two\", \"follow\", \"html\", \"explain\", \"element\", \"first\", \"something\", \"activity\", \"transparent\", \"gesture\", \"orientation\", \"recyclerview\", \"footer\", \"navigation\", \"rectangle\", \"music\", \"permutation\", \"firebase\", \"player\", \"dark\", \"drawer\", \"accordion\", \"progressbar\", \"segmentation\", \"caret\", \"oncreate\", \"alarm\", \"pthread\", \"elevation\", \"actionbar\", \"appcompat\", \"cmake\", \"recognizer\", \"semaphore\", \"nltk\", \"uml\", \"translucent\", \"bar\", \"keyboard\", \"fragment\", \"soft\", \"dismiss\", \"intent\", \"queue\", \"role\", \"swipe\", \"mutex\", \"multiline\", \"view\", \"progress\", \"listview\", \"landscape\", \"controller\", \"press\", \"button\", \"play\", \"status\", \"hide\", \"action\", \"back\", \"draw\", \"title\", \"android\", \"swift\", \"click\", \"show\", \"layout\", \"custom\", \"implement\", \"call\", \"user\", \"app\", \"problem\", \"set\", \"create\", \"start\", \"new\", \"screen\", \"plot\", \"axis\", \"matplotlib\", \"legend\", \"composer\", \"ggplot\", \"scipy\", \"clojure\", \"pycharm\", \"deadlock\", \"subplot\", \"heatmap\", \"urllib\", \"insecure\", \"seaborn\", \"regression\", \"sublime\", \"matrix\", \"asm\", \"histogram\", \"transpose\", \"egg\", \"band\", \"clockwise\", \"mysqldb\", \"lucene\", \"pydev\", \"cube\", \"paramiko\", \"incremente\", \"subprocess\", \"prediction\", \"increment\", \"tick\", \"angle\", \"cluster\", \"graph\", \"index\", \"counter\", \"chart\", \"continuous\", \"scikit\", \"label\", \"series\", \"triangle\", \"loop\", \"numpy\", \"r\", \"python\", \"reset\", \"perl\", \"distribution\", \"close\", \"point\", \"iteration\", \"panda\", \"datum\", \"figure\", \"follow\", \"value\", \"output\", \"create\", \"give\", \"first\", \"example\", \"time\", \"well\", \"result\", \"unicode\", \"ascii\", \"utf\", \"quote\", \"+\", \"encoding\", \"tkinter\", \"ansi\", \"backup\", \"shorthand\", \"disconnect\", \"pygame\", \"shuffle\", \"rspec\", \"median\", \"mocha\", \"viewcontroller\", \"timedelta\", \"cherry\", \"aggregation\", \"printable\", \"unwind\", \"charset\", \"exclusive\", \"apostrophe\", \"monkey\", \"neural\", \"i++\", \"cxf\", \"rsa\", \"escape\", \"encode\", \"ftp\", \"association\", \"spread\", \"dictionary\", \"pep\", \"synchronize\", \"sentence\", \"min\", \"word\", \"child\", \"decode\", \"colour\", \"parent\", \"character\", \"key\", \"enum\", \"weight\", \"human\", \"double\", \"value\", \"print\", \"special\", \"python\", \"text\", \"binary\", \"read\", \"search\", \"well\", \"string\", \"output\", \"difference\", \"set\", \"example\", \"problem\", \"write\"], \"Freq\": [4875.0, 4084.0, 2746.0, 4106.0, 4332.0, 3667.0, 2936.0, 4602.0, 2889.0, 2782.0, 5013.0, 1852.0, 2113.0, 4944.0, 3567.0, 2435.0, 4722.0, 2184.0, 2727.0, 1970.0, 2286.0, 1666.0, 2758.0, 1593.0, 2016.0, 1406.0, 1714.0, 2243.0, 1259.0, 1334.0, 276.5911737022266, 229.31843104184023, 196.77203907810582, 107.83195666861936, 76.02182789901873, 262.2041220671375, 56.34378224312802, 252.14947321517354, 538.2433008195046, 47.96935312692294, 48.838399416936504, 43.07675634143625, 41.04518935877779, 38.972616458570506, 35.78887482612538, 42.840651332480974, 33.388555590378935, 123.8141635356994, 30.104534058489676, 81.42449738346308, 25.411218467212592, 101.0633218408356, 24.683849566874827, 644.9423071924331, 81.00843409350458, 19.939931863559533, 19.70120171937336, 18.11259400884115, 18.219031188941006, 17.633187843973452, 2727.086991194784, 410.26477512057414, 84.05153986633506, 53.35433524664569, 28.949035036538472, 70.6239478545999, 406.9640997627452, 518.4916714643565, 190.64323934160618, 1950.015679655992, 96.47098938157592, 3232.2076116118, 278.2418736524667, 353.2095985443125, 3324.202706800187, 1743.3844690712126, 129.8331737504573, 352.73071847199486, 446.5796625839846, 180.15985303080643, 248.85685306682024, 234.07999748536076, 460.04729090472057, 1613.7702670270164, 929.2313203625883, 1052.2278055512397, 333.7268597530885, 517.86566661368, 585.9303966360918, 928.485126672117, 1076.557010136648, 763.6986409255252, 524.8242168564021, 650.8107617062776, 704.1483525591523, 641.7223544099841, 551.6935827367666, 592.6654041608266, 781.0881759972996, 688.5226526416022, 459.6103490658633, 627.2159450281412, 516.6636503552629, 635.1813964553154, 466.31087688442994, 256.13287248756177, 123.51279646445562, 76.7676963467161, 64.95968179067518, 134.04384181234082, 50.351633311497615, 50.394529617372655, 49.339607098435685, 55.255435784548, 38.704453963508314, 38.896388880541146, 34.34113637334226, 33.6160110656535, 38.225300106654494, 33.26291613943088, 31.1645180861145, 31.046694217674375, 28.04825867706616, 30.957141581637117, 23.54944713431732, 21.853367168602837, 24.419131504133063, 21.00499336235357, 20.098597441669064, 104.5738225419556, 19.51514407487899, 19.35012930773671, 23.407529337001538, 18.272796638046692, 18.39577785233724, 197.19023553768585, 1090.983132235795, 1239.9527411962354, 246.331132006456, 33.73288985300405, 188.6152328664901, 304.1046292149267, 1666.9670652955308, 154.33878830873317, 154.6962680503213, 360.74651925796036, 841.0272917052233, 147.9432824750444, 248.21346286928508, 408.7812874061333, 823.036340127055, 211.83331742851823, 378.8810329392065, 410.6035300583981, 389.94888434597334, 210.96907573333053, 1044.6258536993023, 531.871355189241, 217.67259229081105, 430.12613553720155, 1334.2921700965148, 1203.8204912019344, 387.2037733930784, 501.8131751911254, 1246.3289484289635, 588.0742223604943, 1002.3105448824474, 689.6017530719189, 546.4615666725798, 553.0576281868441, 483.0218414304382, 549.5233948242206, 350.61467255341245, 628.8021558370077, 630.3060572848357, 502.9190508886152, 377.156411073474, 430.1271099406161, 396.56273774480707, 399.545747486915, 981.279710128271, 173.42830876399034, 95.98128264601263, 85.14632525322087, 85.3833285589234, 79.15184240774107, 89.9150545838509, 70.31430061520122, 88.19160022929216, 66.41746745276909, 76.97451020305537, 62.020374857542144, 57.12285283781625, 213.84283391461184, 46.70453639441549, 43.21379597819269, 35.05125637280843, 35.02256700365895, 53.26384500894218, 31.553027604078977, 31.461066450886058, 39.30714688453529, 34.82569699580569, 29.227560705496316, 30.747589474687246, 60.39450881746043, 31.671771168201552, 24.58101618130783, 95.36074318561529, 29.486569219365226, 807.257790333328, 575.025864088517, 146.5738736569066, 875.1868240195537, 163.4114560619316, 743.186504793861, 274.3563587187977, 544.9366699191166, 160.73022485847727, 59.875602602346966, 124.41296180702457, 1575.3220143930746, 807.9881095645244, 793.7760359540799, 169.12315988690975, 974.3381904225896, 491.6073257989303, 1240.70009210257, 318.352269092818, 293.65479333848975, 440.1404630947417, 551.0144574171618, 845.3486945209237, 695.4243802676338, 868.5350050478668, 172.70365592293294, 178.0802930227122, 798.1280328013245, 850.9150074924606, 266.1899398155491, 800.4058170268881, 1035.483596184974, 486.60712878988727, 849.83368590349, 222.2541280470944, 378.3914908898069, 316.5062114906998, 571.7964401504543, 439.61392468798726, 389.1852492675271, 345.1982656373564, 372.66585646261035, 340.17958747893726, 341.5175180834909, 585.1786894661387, 597.2490540903082, 1331.2297904953352, 294.19265980442884, 759.5174506606444, 214.15316612881773, 337.6018929820386, 123.7133471290521, 118.76950124858807, 102.62203519957072, 96.84377781233775, 106.21200609366848, 81.8241523826677, 76.63903736738935, 87.00124458522274, 144.44689930671282, 598.1064424961011, 61.875915840328986, 59.32349578643109, 70.60376149480642, 56.868674925604964, 53.07171312423242, 930.4443099793112, 61.77257437167826, 44.6208377313528, 44.15999380225155, 49.990418963956735, 43.167921160900356, 73.52968675270651, 40.84925031677144, 207.83518161741213, 129.0530240874088, 307.052144857515, 174.0665313314849, 175.59476410301363, 2591.373062918406, 393.0808670471628, 97.02766317490347, 114.90392451682504, 254.32880814680144, 610.2667499459036, 242.57923128423494, 1518.3099945809915, 493.4122761619495, 784.9761354607367, 339.62763370291304, 400.8618258825807, 756.3632143969351, 262.33269046267213, 759.5612369738167, 804.504020277938, 410.5281223178605, 558.1415143135509, 1005.219232386521, 510.2022065589058, 851.2991143260454, 525.0599567332191, 570.2920290978719, 591.7708374241952, 432.7723178933824, 364.7991189602676, 401.16190558724173, 374.04617080297226, 1650.8892126214557, 77.80716555337405, 346.7901677612689, 2084.1709071496334, 1385.2148960354893, 60.58632948969575, 56.770799633018356, 41.241048570431296, 208.0191876450631, 2682.243174833133, 58.20319296324956, 34.984181035154194, 39.373117506663455, 63.89577280031182, 500.19813986959224, 21.54140921666627, 20.234531396137847, 45.40089653462845, 19.869011331548432, 20.50083041372055, 220.1426330844091, 51.919082902546684, 17.255942940783594, 17.2003346830836, 1867.2138257567167, 17.10790618189933, 15.957873727183546, 15.825756997570636, 27.962805614095526, 20.6884326097763, 209.96706438407415, 1230.4177112371658, 112.07722690421205, 1914.6108093527798, 186.52577553189332, 628.0294051103615, 414.99402898488717, 87.36933386011093, 154.07665712374987, 205.72655113075461, 267.8155524320665, 277.7891114288389, 150.49055844766036, 274.5545193840992, 221.60383762217307, 326.32970997065837, 801.5010955055405, 299.98081552846395, 1351.427006443543, 296.91140723258127, 627.4043690553096, 196.2188145701375, 489.747214154751, 683.2492083849148, 653.6770225011203, 1170.5893331512414, 530.3543019350365, 721.3044006653862, 734.2251021332373, 877.7563470975665, 398.3935952720757, 476.6172839996606, 367.8322867851771, 447.9709860771433, 407.4439163142371, 446.99892098821215, 434.177975518426, 430.0820703874924, 414.25434206671576, 411.5691238177321, 47.21253713919804, 38.73291103799906, 50.138325165064266, 30.680405031733144, 29.54255233908832, 27.269335457137732, 59.8257394261519, 24.71940502592331, 23.6927645335431, 57.98526308018826, 232.00846418823733, 126.80343410622862, 314.4021312135176, 51.94023221615974, 16.889335118993454, 24.206602869750068, 16.883377083799548, 15.417142225886737, 14.410655435162438, 15.460745350209047, 13.584290995090623, 36.10168225559036, 402.50460205194815, 13.4167164503949, 20.922162851566195, 29.474575586359858, 12.318292079291355, 13.77732465034073, 11.256240969887722, 11.190324042790815, 335.8972113757941, 319.8201628541079, 113.65920292205672, 186.80474254028803, 412.27533855781206, 23.003144939647516, 535.481048626435, 792.2629329029988, 71.69933980264798, 3360.9083130839235, 609.4671374880224, 241.14997869736484, 46.12803100570876, 764.1305513969664, 603.2049734266691, 196.93550815515957, 326.00921940030764, 1254.1591550571638, 658.2008103143394, 150.62704478041726, 117.84598528128514, 107.76821191884794, 331.39687425332863, 852.6701698790436, 191.752655957062, 132.69254661531176, 783.0768960775836, 423.7362651945549, 1013.519698919898, 621.3790096754415, 382.6226737063014, 366.83062148911625, 421.33406562476137, 467.86419130633067, 422.3109895306203, 590.5074762227138, 284.5199023467937, 322.8670669558513, 409.4763689405248, 301.1651518887787, 295.5405527446914, 339.2129072633178, 343.9253738363, 1252.7295336843795, 79.52619410037573, 377.11350582744296, 375.9713795669609, 111.63829972732604, 39.97420937443017, 38.51441507375037, 55.10354141731418, 59.23380928605614, 34.484767865246404, 28.1579951932835, 24.09038787965832, 23.88234631588383, 47.93755645502837, 21.727359046266287, 44.748747040787585, 19.873542262742976, 19.81978756842797, 38.09684736296562, 30.662401904157772, 20.30479730660541, 29.511348480906925, 21.04544211858262, 17.488007081952173, 21.738596653143663, 19.508854227015068, 143.42516036829258, 20.19995394107097, 15.822006463882058, 15.872398724643206, 602.3567028717644, 108.15262282431677, 54.59303814052517, 104.77436027039262, 32.20024661177592, 116.78246912435874, 177.99120015332667, 1418.5098564760945, 32.288689101364646, 831.8777019307611, 2586.7697108551747, 414.0483636650435, 60.14072905905232, 1735.4943460490867, 240.91274041483823, 524.3925000778613, 95.18273343937044, 126.23421085419866, 59.89886980342374, 72.88623335572795, 906.4174922786293, 265.12564409954285, 190.5414670069831, 83.18073333408307, 291.1188154303122, 198.90127646494807, 313.318689791828, 278.91820233954905, 147.61973395944568, 428.8866977303627, 198.3333594713656, 564.5441253420302, 361.3163341798096, 400.70237330591766, 184.0347975854373, 229.7236102598095, 349.3799441327564, 204.19541170937325, 344.9865740314891, 298.9397178964674, 309.4325031377297, 232.70575454506394, 265.81422854288473, 244.34609313254444, 224.5985798607832, 231.30635295932618, 228.7195731808337, 236.50914536943048, 507.67123058551465, 229.5171060944497, 193.95903655529537, 123.641745023905, 264.7705584889981, 80.56098065606487, 96.82433363652736, 55.75204342570562, 55.13983590318934, 100.0436003774907, 129.43855241214266, 47.96200374965507, 47.50598814010843, 48.08683096619758, 39.50363758217117, 46.78015646640913, 44.07868899350583, 37.16918952628823, 35.17041886271218, 34.86962352126445, 86.30884305334769, 27.559709202819548, 32.09061554886077, 25.55160427085203, 25.23403024189494, 21.1395090401954, 53.387688140701655, 20.71425732666415, 119.63407267956742, 19.356620053405976, 116.55021436778884, 1128.5071150170459, 247.47185960008193, 103.53836730510046, 3010.4986576490296, 810.5739790709965, 161.5501846395573, 2668.347415807981, 79.32316338944872, 342.5389929207938, 995.8941210806428, 383.27402519698563, 181.10186887839453, 285.83517152314965, 280.5541909638844, 466.64138830027883, 206.2136937254898, 119.12208060901811, 441.92839128445536, 774.3065439998854, 514.1400016558184, 692.231105827243, 458.05163307455877, 402.921228604248, 327.2487746665285, 528.7700714296457, 524.2543842810963, 372.5308717429617, 411.33502542151155, 398.3888291639221, 333.3632710616996, 257.9890991440289, 311.15779148613325, 283.8644684410727, 255.14562577326862, 1160.3577236191302, 783.5895439934562, 135.092191537565, 61.91156289877443, 68.27476647220149, 55.183127004490444, 50.739452765607915, 50.50617320741083, 57.84056398158513, 39.02862050504983, 35.70730963000097, 34.2428231881051, 32.225072660105674, 34.14011714891309, 31.695642764463944, 30.153187586609597, 30.48038472944123, 27.47467490636264, 23.937664454043755, 24.972743811578006, 36.11318816920958, 30.420551972408724, 22.154551225211137, 310.80084171071917, 19.780493526552863, 19.617715128980752, 19.235027235588806, 19.368205651295984, 103.48808570332035, 14.66142763006458, 30.645648223041643, 1430.3258756934883, 119.76497934238974, 352.2215007668397, 214.3232825549228, 853.4263822358937, 1916.6637270017404, 61.10003313445622, 2060.4373142997483, 1231.5341177033756, 822.597773809463, 87.90400857627026, 82.16956808793766, 192.64734730878948, 44.06287213220625, 580.5960384738567, 321.31174735068873, 74.85738344378636, 856.9217604181612, 359.7344160476604, 427.8783171787027, 596.6719864494062, 485.89251227018127, 579.7404527797016, 186.88957947899962, 307.3679073258106, 402.05762266206534, 607.7703700191915, 209.5330986902297, 311.8996166290629, 180.08026891446448, 238.72067134332983, 390.27793573219395, 291.1080683877908, 241.74906035550234, 308.4000607822732, 282.14941086280567, 331.53051136806766, 326.91306164412066, 288.86657935012823, 279.9091014010082, 238.3319828844958, 363.0529341131601, 125.90339486496923, 150.83559111819878, 170.99140292552408, 82.6153635237577, 66.18293240502275, 57.295232441816694, 834.4289128524688, 53.89064736006313, 54.52354872304862, 51.074939171117975, 51.088239106659046, 374.1139108852225, 40.429519245794026, 36.832638260571, 33.414215112973054, 35.72308873300575, 32.14842741857478, 28.893514712690926, 26.358292664352945, 57.08301068555198, 38.969265088825786, 1003.0565107786188, 26.365706236017562, 23.99119124108173, 21.623496070688148, 48.37438184813791, 56.50420494646477, 147.17684619229672, 207.8325851320281, 266.3576647778739, 102.38421454828368, 63.07792656754302, 59.77027709193462, 294.00029409735936, 248.71353256969527, 1983.169598576692, 2475.48463026401, 192.53509787980855, 523.2476994918151, 117.08469583316882, 420.1399131339097, 266.66029242509495, 213.63457979712462, 161.50890964248774, 577.1183067591303, 275.2534457145732, 491.6152097625909, 162.15811725555793, 113.93378958523678, 934.183047109619, 317.64274533559234, 663.9935338144202, 218.11071759692635, 198.95270158663553, 284.63189646388327, 214.37807745954157, 374.09851855475904, 295.42413276626047, 274.2821415612973, 299.73468276099845, 318.4514198973154, 246.23495850630312, 277.94313521047803, 260.8777786782412, 268.61297789799704, 239.547856738526, 242.4260782320916, 1850.822836545485, 761.7205397127299, 884.5048692514803, 883.2607877446349, 282.67630964901934, 332.0216920321482, 95.23777439243928, 207.48051512552107, 78.00234153019916, 708.9493565955667, 165.36850397787518, 51.37169703558245, 49.5529718211014, 40.37660334467446, 38.2047853943814, 62.74063360496468, 56.42764399776553, 35.59302510791261, 80.09884230071454, 201.975839360702, 31.467451995971174, 30.341299830952007, 30.039758276655732, 26.72413895191951, 25.426637489222834, 23.983896762737228, 137.74419373738627, 244.79526227145118, 31.88801716654759, 20.059263831261735, 159.16078181292207, 403.28509248994044, 53.909580594704956, 465.89411392183666, 78.89206587150147, 76.9152957417794, 391.33904202769395, 125.8268819146872, 1541.5900055609757, 940.7887613772749, 265.79915925854056, 841.6509928308449, 405.58347956293625, 1047.36876969545, 471.9289700601774, 209.4999648926601, 1087.7036908646762, 221.9612690034367, 405.3715012923011, 331.67955084201105, 400.52256876060267, 296.0056168998723, 454.4829612414818, 428.04698025120695, 311.4109124092239, 326.7159923278301, 347.04168558523133, 340.50258308455716, 327.2766128936695, 318.0596653173834, 266.18291221504575, 485.6668459859657, 188.28255449369607, 73.18780222175175, 62.2831548610489, 72.35918791003368, 89.43874518454922, 41.75306573716444, 43.82672185365042, 107.87363545390171, 34.034679363653325, 31.955921536386764, 53.20857165162307, 30.416360408326423, 28.476282730183918, 28.089169740200933, 28.435833652186364, 27.69129800224966, 34.356555524193574, 26.50042015492792, 29.247364665188357, 225.12452383718377, 144.29043792512445, 67.82592943346947, 32.95036809292257, 19.633555307428654, 19.49015488384406, 19.44606813741197, 19.307264582419666, 19.274061392163524, 18.160180392592924, 52.462224179166164, 53.32227894049957, 420.57092360733947, 543.1988861381291, 49.42032562039561, 49.002484569218524, 793.090743358656, 686.5570151660601, 96.00946259269881, 616.3875858571045, 86.33544659696695, 386.12103117656704, 177.854298659297, 144.38098417627359, 411.2926421842951, 531.2421588757392, 268.033215413533, 333.04580517494503, 379.793720624824, 273.702817562368, 151.90526433774374, 180.9458288145344, 102.54992873505438, 152.0583885828106, 461.08560865194266, 403.1652214511138, 288.0155872239444, 169.7527034087257, 217.2600249156654, 147.10624571454684, 200.51169460088886, 270.9622424777166, 275.9633438195294, 253.79902163388562, 281.92277025930576, 210.5833635696237, 226.0556323318406, 190.98101452112863, 198.49950582550636, 189.7564468717748, 143.7742210832524, 181.1230399961787, 81.37484546217672, 368.5749334875668, 90.98521154147127, 79.44591873970477, 39.57994623173529, 34.44760308355651, 44.9552239969334, 29.177925607723154, 30.115746949257396, 26.54771585120455, 39.866556518839765, 22.17307396814644, 20.701010606488797, 19.779599970409663, 82.56984850496119, 29.098875564923382, 94.2383300732438, 18.056463383104607, 17.915392776382262, 17.992555907870173, 19.700239845647808, 17.12669443906999, 16.418057039563916, 29.437206967102266, 86.33210771345128, 14.085986222829696, 14.119025942565235, 13.25029169648406, 144.59625253623742, 474.1208486592881, 208.4804452039762, 75.62432958880164, 47.59152971453616, 83.60826432840055, 70.31866870034608, 161.6615618708318, 109.08665627610675, 233.23554246983414, 34.073263239718116, 293.2625602576402, 745.9666290258054, 1338.933356068319, 870.0120952374172, 83.00089302330045, 167.67053314535517, 202.80728574187702, 645.9994971595447, 258.69405579991735, 319.0907914026741, 200.68486787506606, 319.75767619646075, 448.553898415613, 497.0488706984524, 324.83819255140764, 651.7588010060156, 313.17713070218184, 356.5023720171274, 761.1473964640699, 751.2371435838862, 230.8888866768655, 366.3392953800359, 224.35332670562366, 480.01275078335584, 479.3906512803079, 470.2086655173825, 428.26596147868344, 379.60555282131196, 433.1643109381666, 289.30592554549315, 240.69944612048667, 292.26360132099916, 255.4929642936751, 259.19416933718276, 741.7598083246448, 146.08475673002397, 83.54744161383832, 110.88095196342772, 87.89852535838679, 85.98128187698917, 215.50252276362835, 117.91265950127534, 56.24409227570153, 45.83562946412089, 138.13287422101988, 94.0990925492813, 46.590996659844116, 28.165438802067765, 27.913700857185084, 27.52401888520535, 29.595038794697718, 26.46651972129737, 26.829719217613942, 37.21338865537337, 35.387137281902596, 21.334003788289397, 50.10403880905624, 20.339448695669283, 83.41925731516471, 18.72378976861861, 18.25024484869309, 47.201109617219906, 17.064034207415553, 15.750399682795518, 682.4120712899316, 257.3540615361132, 271.37698928796016, 58.160594511902445, 45.72661529984512, 113.34643572842462, 173.62891703643666, 99.38863531317192, 83.89901335863513, 57.21381139420177, 41.170785999867896, 1429.7704449449604, 147.56818433002815, 148.2742075998113, 75.9419336131943, 547.5405822138088, 267.0736945584506, 874.8102879940475, 238.54161628594932, 180.78890259361495, 202.10322930395242, 254.0080807181335, 327.04269730872926, 168.581616610857, 171.87327352798303, 468.1211521406058, 161.29947043723587, 255.7954529290305, 289.9093801747208, 175.02043023204794, 212.13335034305712, 238.04811738613054, 275.77850326606455, 259.4454805986198, 243.03599891513662, 229.62240879522977, 232.77660306863365, 227.71001322781987, 191.31473774806884, 193.86242304936368, 174.72878858740867, 480.0750026946657, 236.38070973110823, 174.55844486573977, 88.2758433056559, 91.08071282913845, 57.0934488117898, 56.4994347918241, 34.15551265377709, 58.79736025637308, 36.12604528170353, 32.100184645261194, 26.38169069226393, 25.50886172000926, 25.936600546659104, 24.419589909580697, 40.13875982150127, 29.39220491128113, 206.53415431916727, 23.53074562865795, 35.859326266943484, 22.55565836789896, 22.271600263111043, 21.521615449536608, 21.34715757536743, 21.2743205568769, 28.119668870547397, 22.51404180032347, 20.59660411668232, 19.99580457078576, 45.52271312997946, 48.62233954085638, 29.295128630640203, 119.53826389853806, 51.44541487957581, 69.79046868054681, 63.29257322980897, 249.92253445702855, 795.463141813465, 85.18037778722858, 138.22553199579045, 46.83918159136038, 37.1339870837628, 250.83784519345184, 125.55618007462266, 35.15600398199382, 593.38770323477, 166.8023456768426, 270.6585880867923, 1012.7282285884677, 112.98461065463647, 74.93364970036326, 85.48901144966246, 213.90641194389633, 280.3950397320863, 73.8501361859882, 135.78863700354916, 193.50697176179702, 126.4749271395642, 183.473406103408, 165.0864315402996, 122.84519813903678, 146.92752646781616, 130.47343166605867, 119.58898948819555, 132.0537270009378, 112.67432608704257, 105.61291556055451, 102.09446368227597, 185.5739935687995, 117.59256989343724, 148.74776272420462, 265.36526849773514, 88.99137004150359, 120.71367730195652, 50.68374863488084, 38.44573029726208, 81.4095226037142, 32.891591805319, 28.07370832565275, 26.737361621859616, 26.298870322539234, 54.47828892904346, 22.74888137184004, 24.46120576433272, 52.56085452965205, 22.51122071137688, 22.10628237362375, 19.96962003841019, 18.54052515475643, 18.05920917580439, 18.13114507211303, 17.98869629115219, 21.674482476625595, 16.782555153923116, 17.32678330485205, 16.228889955774676, 16.035361846652307, 28.321279878503173, 186.97740191113203, 267.9445686465253, 52.03184847021812, 46.45760477209176, 32.62731610319031, 393.31113978827244, 23.665355496253294, 97.72338288829371, 56.005062344147575, 95.60329627703258, 508.19248867637134, 313.5397279764001, 87.09097635431334, 66.46971292721072, 282.46051570162876, 622.9938891087517, 663.9516837301903, 185.53678269967557, 51.13848057138394, 48.467363695383845, 171.02152057964318, 574.280551058248, 220.7287112276087, 97.2661237775626, 398.64676037406844, 248.4548592892487, 114.0029314685763, 202.65750240268068, 154.34631571274406, 191.3913478848948, 207.33773459919047, 154.87973842246436, 155.89882733453038, 128.664462653975, 131.00859388885385, 114.97329551678789, 102.20285825360482], \"Total\": [4875.0, 4084.0, 2746.0, 4106.0, 4332.0, 3667.0, 2936.0, 4602.0, 2889.0, 2782.0, 5013.0, 1852.0, 2113.0, 4944.0, 3567.0, 2435.0, 4722.0, 2184.0, 2727.0, 1970.0, 2286.0, 1666.0, 2758.0, 1593.0, 2016.0, 1406.0, 1714.0, 2243.0, 1259.0, 1334.0, 277.77900821759744, 230.48459304941719, 197.94240698256846, 108.84970835944925, 76.97229982525236, 265.9497038096203, 57.281227885054726, 257.02394784134975, 548.8526899363038, 48.939877432175024, 49.8789607677064, 44.035128028257645, 42.02357443258042, 39.98466001081856, 36.75194598639722, 44.002530174409415, 34.34544359404563, 127.4926188694611, 31.04975501309984, 84.43610855577866, 26.353115967254222, 104.83718320120042, 25.65872077890887, 674.3375247017187, 84.7073171613605, 20.872019303557526, 20.635214588640526, 19.045089225081426, 19.177709466977895, 18.56788547434884, 2889.610373124674, 432.71063870857, 89.42669590947587, 56.64784717022737, 30.531833940189696, 76.31110818208889, 467.2993794078336, 602.318286848166, 214.1239118274291, 2487.480097136704, 105.52389793282347, 4332.943391908093, 322.2492234111763, 428.50920200049615, 4944.822448626107, 2484.4142383166213, 150.0846108209663, 486.65433440714907, 643.1353349711721, 225.66300006540712, 345.29094395356293, 329.29947923806446, 807.218015269963, 4722.581489187121, 2308.2441998062413, 2907.59526773693, 569.2783404440543, 1147.6121121235026, 1473.9097834155352, 3094.2254329582347, 4901.930450526215, 2835.0332864405104, 1488.1528460470868, 2272.1076689577135, 2789.9772848643975, 2343.6948970444228, 1778.770123368553, 2183.153835939617, 4602.012138469792, 3729.7385982446644, 1177.1349864644105, 3567.9834779933553, 1810.0091021534047, 4663.86493699572, 2999.422655356774, 257.6636878039317, 124.53108241430382, 77.70409946445648, 65.89811833839433, 136.61557411842514, 51.414746423303654, 51.480936161789465, 50.43340002501229, 56.56846384913643, 39.646004014438404, 39.850172511289244, 35.294282206407594, 34.55731026127041, 39.32072748548773, 34.24554734339984, 32.097688341994775, 31.992302786770612, 29.009633438906857, 32.060739230010086, 24.487718681003546, 22.78654363247191, 25.502568335807272, 21.946475842453122, 21.04612882351723, 109.54825594413373, 20.45486351979723, 20.28473174937986, 24.580189428711474, 19.20454965236101, 19.339339361172105, 207.96579352923496, 1185.7885262221973, 1351.0180188806091, 270.5413903480532, 35.69526574638756, 213.81778066779736, 363.66537040284766, 2243.9271254453793, 178.69565052241728, 183.9969325638498, 469.2221662698515, 1203.2542764583397, 178.63833198342334, 321.2841475104615, 560.6364569771724, 1237.0205542833469, 273.12847505976964, 525.192718638087, 588.2374655979983, 556.7540213784116, 279.53937774396314, 1864.0219421375893, 839.4314268840948, 294.6839281898711, 681.6391234067853, 3094.2254329582347, 2758.743854508153, 634.4529917688014, 905.6111889110143, 3112.1671174901453, 1229.3096964740303, 3662.273367740815, 2079.462508501185, 1420.4287875741636, 1464.7740640291267, 1196.586904999569, 1693.1038291872114, 861.1634361017979, 3826.8904047176725, 3909.489993924321, 3667.939010785555, 1362.7096571440095, 4663.86493699572, 2979.506112792258, 4045.9049158345815, 987.4121843155515, 174.86112239250883, 97.03390640110858, 86.14790031227345, 86.39093771499464, 80.08697503054717, 91.1221578647679, 71.29511486385437, 89.42923242085739, 67.35372623687984, 78.20184182630108, 63.116005843415564, 58.180263386501586, 217.9208750560696, 47.64834098170494, 44.18268210807583, 35.98244836770236, 35.95993975148898, 54.74612686156792, 32.501483585022726, 32.415004548255254, 40.528677016125364, 35.98385925321622, 30.214673337020994, 31.799783772031226, 62.513607794101375, 32.81546862862514, 25.518203505039278, 99.10175847327835, 30.649419035918847, 854.4885665548616, 608.9733036442881, 153.69334276156815, 943.959209419538, 173.22060545516513, 816.5183508593074, 297.0004265928497, 604.9056487038323, 172.16636647403985, 62.59917448156976, 134.75048599975895, 1963.635311825531, 984.61663081747, 984.8591510721055, 191.72532872858943, 1300.0397541764944, 615.2959613973952, 1876.1814410953734, 408.02988846836394, 385.957828026055, 647.0946313807142, 902.8764054679701, 1567.0414476653814, 1298.2639741590206, 1763.3934288090913, 223.2158010360169, 234.17671742211692, 1985.350070042874, 2457.841506004763, 428.789933021398, 2435.404866331281, 3826.8904047176725, 1321.7378712154773, 4602.012138469792, 336.5820928267747, 1125.123250255926, 813.861816599512, 4106.866410777708, 3054.2397534849583, 2061.410213436134, 1273.0475370306126, 3511.9097798939847, 2979.506112792258, 4963.312637578653, 586.4121607089503, 598.6342189964175, 1334.8548910505042, 295.2912963254184, 762.9496161198408, 215.12523974510603, 339.19053829340817, 124.73518038632221, 119.7675463712742, 103.59121765305281, 97.80233379472624, 107.3410432094661, 82.77335832985715, 77.58098947784559, 88.1293847442896, 146.33207848644452, 606.1445172516188, 62.825675708365104, 60.26748559323112, 71.7377027639967, 57.84484332777883, 54.048055714481926, 947.6186446283115, 63.04234871446737, 45.5615639692612, 45.16151426284348, 51.13902807273652, 44.17419982784457, 75.24492458559345, 41.820635230571, 212.9735012249322, 132.61127554522963, 319.6106643428351, 180.26343935157047, 182.47200863606574, 2936.7057732185835, 421.68120932748445, 100.14542300943691, 122.96935796086908, 294.76629165557677, 831.7063475286865, 294.145785803804, 2457.462856974082, 695.4710508040001, 1280.9107639097047, 465.6638684159327, 577.4655710986173, 1313.60028510237, 410.4304287557918, 1967.5595087109766, 2343.6948970444228, 825.2097560700836, 1453.873003911532, 3885.108929889357, 1362.7096571440095, 3909.489993924321, 2159.238447925678, 2758.743854508153, 3698.6647284698815, 2016.7229024194737, 1237.0205542833469, 2184.1954449202203, 3121.4532986233753, 1666.5322552391108, 78.80114850551053, 351.4999540983096, 2113.239571587677, 1406.575684201366, 61.5620163923305, 57.820310230843646, 42.194523899020034, 212.90820387206838, 2746.2030542971893, 59.806759314047014, 35.980658809138966, 40.524319736058025, 65.85216465677483, 520.6186167503128, 22.485889024809477, 21.168050806162025, 47.56748678748858, 20.819807836868087, 21.50494165785258, 231.53767436738087, 54.62305433123292, 18.188180164586363, 18.134144866189658, 1970.2665447091426, 18.08611545703858, 16.891096420422077, 16.75925024817512, 29.629584079300336, 21.947921759940495, 228.96452258105722, 1397.9008964279149, 122.25324897575508, 2286.3087082409606, 209.3360422330242, 732.5690453993345, 491.92442275185687, 97.72182213127569, 180.4210360841651, 246.40678416368795, 332.6296228265651, 364.8578696742351, 187.00460878993408, 375.3837125468276, 297.3830462021905, 474.04689525916245, 1392.1163896930311, 436.8107264752438, 2840.1679620266873, 446.6342296266596, 1175.8627984082698, 270.0985027868533, 974.2603165951568, 1602.1318247564402, 1618.8261432168574, 4722.581489187121, 1427.6695984126795, 2720.5826732640953, 3112.1671174901453, 4963.312637578653, 1010.328202880887, 1924.47711385667, 955.9911778474642, 1848.862148558972, 1545.2508225979584, 2907.59526773693, 2835.0332864405104, 4663.86493699572, 3698.6647284698815, 4901.930450526215, 48.226425732235356, 39.71837618787528, 51.54815037737583, 31.618471016926932, 30.48126174235649, 28.2179979885479, 61.976694589223186, 25.65970272923322, 24.643527946446362, 60.35862747829817, 241.97055096009532, 133.02551100610353, 331.12172718021526, 54.72226962551031, 17.82473402893457, 25.56945971588356, 17.85771197099891, 16.349459552872904, 15.34961183713352, 16.515543952308384, 14.524347635759517, 38.61000255296982, 430.7247954061515, 14.36905150687969, 22.464228409949705, 31.700646861830755, 13.251725974750311, 14.873804992732719, 12.189230286934796, 12.122113916213493, 366.2244953299637, 353.02065958510974, 125.09198301490372, 211.53729514439482, 487.41983736530955, 24.959684199716236, 649.8012170729548, 1011.5705508197761, 82.20978149028728, 4875.644153028085, 799.220579185503, 298.6792054632825, 52.43719110057814, 1076.0081987039555, 844.0280078306065, 251.04246583803467, 445.16670759355634, 2183.153835939617, 1059.4524446596877, 204.07307265330118, 154.4251450398435, 141.7089617783539, 612.0126018924627, 2308.2441998062413, 313.3562691277994, 198.17303893255297, 2457.841506004763, 1115.2159107592822, 4602.012138469792, 2720.5826732640953, 1247.9051287062132, 1172.5870852195078, 1693.1038291872114, 2479.082908726231, 2061.410213436134, 4963.312637578653, 861.1634361017979, 1436.4366910804488, 3698.6647284698815, 1226.0554216916737, 1094.5547904060063, 4106.866410777708, 5013.57834096059, 1259.9472865174087, 80.91040258767183, 384.54058550337606, 383.7982350922257, 114.04608407611431, 40.93397672531213, 39.448175037424754, 56.789733353512034, 61.13531471769802, 35.724696488394436, 29.185779475099046, 25.024835318844975, 24.811978464460907, 49.8354355554597, 22.658647538676966, 46.76729356048519, 20.80312874358195, 20.750546265598068, 39.88818419313645, 32.11830699527001, 21.27381503646858, 31.04511167465326, 22.15230038938988, 18.418476112133746, 22.903312504208692, 20.602303543733957, 151.59112605337683, 21.355459883169964, 16.751593369970113, 16.809860536388435, 664.8326378158323, 116.88719127247639, 58.974099532397325, 115.8534091934473, 34.38990316946868, 133.3768565788244, 208.75193969710463, 2031.6262651276304, 34.88071939655999, 1273.0475370306126, 5013.57834096059, 678.1610006531039, 72.42723843860766, 4045.9049158345815, 387.48922517036146, 1021.406927466383, 127.52703931659352, 183.54181638225145, 75.75957141258385, 99.44990792777688, 3511.9097798939847, 623.729971751536, 394.9287383265449, 120.81338874231815, 864.5154775793201, 487.4132936700453, 1063.878229572911, 919.973394563015, 317.0774223858284, 2479.082908726231, 603.596786367862, 4875.644153028085, 2061.410213436134, 2999.422655356774, 523.1648427981752, 1127.724969172392, 4106.866410777708, 849.8531310942991, 4901.930450526215, 3060.0768303366267, 3729.7385982446644, 1810.0091021534047, 4944.822448626107, 2979.506112792258, 1663.48968511727, 2206.136127202073, 2272.1076689577135, 4663.86493699572, 509.1319270286359, 230.50804718790647, 195.04905401664513, 124.60026391697404, 267.6517705498693, 81.64814876078026, 98.17119775664167, 56.707209924559756, 56.09547309246143, 101.86037733967424, 131.81162617271218, 48.89774785956974, 48.44415371424673, 49.06991655725632, 40.44619553828326, 47.91320598919979, 45.17169359792116, 38.129987656219306, 36.10551311705009, 35.805236405310026, 89.00988417631407, 28.495042875942975, 33.196325906547905, 26.486269116406245, 26.172419455525038, 22.074110975554355, 55.76593653271702, 21.681936281452927, 125.38869238254244, 20.292023107429937, 125.01205735858888, 1284.5229632215526, 272.97101725183677, 114.27586933258135, 4084.5652867026874, 1046.6899782837795, 187.68379012846742, 4106.866410777708, 87.84575259231057, 500.6391272628147, 1778.770123368553, 606.322956992685, 250.71930241258713, 450.75694575174305, 492.1662858539987, 1042.2765631850193, 358.24487941385604, 170.73195539267573, 1168.3939816530421, 4332.943391908093, 2407.7201359017504, 4875.644153028085, 2999.422655356774, 2479.082908726231, 1553.5034305617385, 4963.312637578653, 5013.57834096059, 2840.1679620266873, 4901.930450526215, 4663.86493699572, 3567.9834779933553, 1663.48968511727, 4722.581489187121, 3511.9097798939847, 3729.7385982446644, 1163.6632780239445, 788.0243068855382, 136.56156864334486, 62.853801123624926, 69.33268057395388, 56.1234239788746, 51.682096611384694, 51.533365571502564, 59.271873154002726, 40.03569236504278, 36.66519766233745, 35.17975427863503, 33.157453121418435, 35.1632476000939, 32.64820860389118, 31.127960691965406, 31.497364721475737, 28.40822661477001, 24.875360034170097, 25.956745493892203, 37.60175403673094, 31.738136398351962, 23.14805705659454, 324.8826715154118, 20.71284233655452, 20.559028172695058, 20.173279548851493, 20.333888993854373, 109.84679560169666, 15.596397667517342, 32.73770684958665, 1593.989694646667, 131.61900694371388, 400.4899956448486, 255.06081687182282, 1138.329130961248, 2727.9372739455516, 70.13031882757609, 3567.9834779933553, 2016.7229024194737, 1427.6695984126795, 111.81473930284588, 103.64314730835142, 298.57634375100196, 48.93450761004555, 1302.4310959056154, 682.4380068856765, 100.21495482025998, 2758.743854508153, 867.4100904451391, 1117.9339488749424, 1967.5595087109766, 1714.7915209059054, 2343.6948970444228, 401.464541082061, 887.0852459485884, 1457.6435092458325, 3662.273367740815, 592.7455605322525, 1392.1163896930311, 474.7806572971493, 932.670809138728, 3698.6647284698815, 1864.0219421375893, 1140.7404391371213, 3094.2254329582347, 2272.1076689577135, 4901.930450526215, 4722.581489187121, 3729.7385982446644, 4963.312637578653, 239.31964433816395, 366.0972958767856, 127.04819257632234, 152.4208928548687, 172.90932017933207, 83.81271381850524, 67.14559533559914, 58.2325163122345, 848.5514606248188, 54.84428384879022, 55.489666845752275, 52.02114528461256, 52.03710885843673, 381.501159309269, 41.36806723528674, 37.84160685792679, 34.35326114291527, 36.74146409979066, 33.08173188967234, 29.845192263127288, 27.31086891484982, 59.23033872053741, 40.460033528575046, 1041.5689650450229, 27.390899560794292, 24.942065391212196, 22.565728976254945, 50.5388205295121, 59.137044766823294, 154.14139911381957, 221.21984671871513, 286.1595071748025, 109.03328048167728, 67.8140026066921, 64.30598538346258, 350.42588633220095, 293.66413319032876, 2782.037562120259, 3667.939010785555, 230.9626815430918, 708.9724050094636, 134.6785136314582, 564.7492936047034, 343.5957330618992, 324.77505479134913, 231.8655617215529, 1257.8797564127808, 476.7070167179243, 1156.630746738539, 253.36028306136222, 162.25171865430906, 3826.8904047176725, 759.7607856975642, 3662.273367740815, 485.7359787590018, 416.14346116330944, 934.0185350559385, 500.1561198047591, 2061.410213436134, 1602.1318247564402, 1321.7378712154773, 2206.136127202073, 2936.7057732185835, 1065.1256653505404, 2125.2459124674824, 3121.4532986233753, 4963.312637578653, 1279.9093110705394, 2159.238447925678, 1852.7626617988267, 762.9993026518379, 886.2258949817142, 885.0374641910299, 283.7109777043231, 333.5824065201475, 96.20582653844045, 209.72896711979456, 78.95254369104832, 719.6434135814914, 168.13748020985398, 52.32328203965319, 50.495201812128194, 41.34224003091742, 39.14243686255807, 64.29443443217372, 57.83583251368939, 36.54963582242477, 82.30232739814228, 207.74897427852275, 32.40887267607579, 31.274820132245857, 31.034269869850615, 27.67049618618477, 26.361114643577064, 24.924197777123, 143.20926263370814, 255.87047146317704, 33.34031455791135, 21.037012707597718, 169.5596146908521, 434.30480441316973, 56.87319601329097, 515.9167776469221, 84.94091096332912, 84.36221917113967, 509.742697668347, 147.3154081666523, 2435.404866331281, 1436.4366910804488, 355.0811702826594, 1353.576977021585, 597.463748952654, 2079.462508501185, 833.7182360241271, 331.0436692380943, 3885.108929889357, 392.68296753934493, 1115.2159107592822, 866.5003152845725, 1188.7332459014178, 974.2603165951568, 3511.9097798939847, 3112.1671174901453, 1731.0369040710048, 2272.1076689577135, 3054.2397534849583, 3698.6647284698815, 4663.86493699572, 4963.312637578653, 2390.664304058707, 487.7175832682912, 190.38585544016365, 74.14791522356244, 63.233307145009356, 73.5134643894562, 90.97261828055483, 42.746155090083725, 44.872675913497666, 110.66718821740143, 34.99101636114852, 32.90239627013014, 54.78707491805318, 31.36738948209416, 29.41323687045901, 29.018016677965065, 29.385856981209564, 28.6350861135574, 35.54603129429513, 27.43232585697596, 30.313561495399313, 234.20726759507247, 150.3268663621309, 70.88145793244975, 34.44832145302011, 20.561517462657168, 20.417417046995332, 20.374644820439755, 20.235104221698176, 20.227600439368167, 19.115430148239515, 55.62523249638688, 57.40228535302075, 492.48587376351514, 659.6611101457729, 54.215467387556316, 54.060919685894916, 1113.6039720700303, 996.1297044076371, 113.45265050957939, 928.4167857933878, 102.68624151216439, 689.594581804598, 276.22616850345906, 216.89201853947029, 808.9499493487917, 1196.586904999569, 507.1750017773172, 759.372040379658, 1125.123250255926, 849.8531310942991, 334.8270897190593, 465.5156072417905, 176.7082384617305, 384.7270142488817, 3662.273367740815, 3112.1671174901453, 1663.48968511727, 546.2700360441517, 1021.406927466383, 410.4304287557918, 1042.2765631850193, 2727.9372739455516, 3060.0768303366267, 2479.082908726231, 4901.930450526215, 2018.9860179986865, 3826.8904047176725, 1431.5021093419334, 2206.136127202073, 1484.7260224394008, 144.85753291352376, 182.5765330248729, 82.31808763165661, 373.2927078112259, 92.24832162448918, 80.81227420809233, 40.553433722511684, 35.396635382505856, 46.31147036520739, 30.122566675311614, 31.101498334889172, 27.586981574207687, 41.52920325821093, 23.1094661178471, 21.64689398983768, 20.70981368357161, 86.58052232086648, 30.529352656842555, 98.9412165481086, 18.984854349957324, 18.846822127295386, 18.93471498934988, 20.74302338297964, 18.055144302962415, 17.35511005427931, 31.149911731085783, 91.42036873262946, 15.014249165661234, 15.049857937504438, 14.178439791766664, 156.02375419037736, 537.9407994593353, 239.5684505233041, 85.56211609742232, 52.78380116739259, 96.4202277766155, 80.61381733552939, 197.63444220844545, 132.37066305967758, 307.78480179599336, 37.411418944940486, 410.78110495733677, 1238.9693720452458, 2445.6978300355468, 1553.5034305617385, 103.27563464608443, 246.92160244644577, 332.3279298611176, 1464.7740640291267, 469.4557242447763, 641.8387477940024, 348.48932537051246, 725.8848421963555, 1473.9097834155352, 1745.7487813391547, 925.5771946441571, 2907.59526773693, 932.670809138728, 1226.0554216916737, 5013.57834096059, 4944.822448626107, 605.4940682485108, 1564.5039585692225, 606.5681129482808, 4045.9049158345815, 4901.930450526215, 4722.581489187121, 4084.5652867026874, 2835.0332864405104, 4663.86493699572, 1967.5595087109766, 798.3225428772646, 2343.6948970444228, 2257.9823750191404, 3729.7385982446644, 743.4603707703023, 147.47789599082586, 84.49667238034716, 112.1499591996264, 88.92771417383254, 86.99349605175652, 218.716365845529, 119.7114123330401, 57.354055183231004, 46.76822287137111, 141.26768965449943, 96.2479949338655, 47.89639262189707, 29.109720547514396, 28.849837286131432, 28.462089954837626, 30.642949933259732, 27.40788556468261, 27.82620370368813, 38.63109475834753, 36.91380064843542, 22.27069985248912, 52.404923601130015, 21.284881353113565, 87.40303584755382, 19.665757819841122, 19.18377051337209, 49.77469236551346, 17.99512721811615, 16.682084259031416, 730.483656012709, 276.02776605079936, 295.9150944206877, 62.11322094026989, 48.81473750981269, 124.73304942654943, 195.5210573890945, 111.74872300170533, 93.69903101929059, 62.580743582638775, 44.05819500592573, 2184.1954449202203, 179.50572802287599, 184.6844003071834, 87.67098522801525, 887.0852459485884, 383.66639589049527, 1714.7915209059054, 481.93622293429905, 330.4053781532429, 459.28024435742736, 682.4380068856765, 1082.7445828723214, 357.8263936916876, 374.16843372673566, 2782.037562120259, 388.12702117556876, 1302.4310959056154, 2159.238447925678, 577.4655710986173, 1017.4857162391378, 1663.48968511727, 4045.9049158345815, 3662.273367740815, 3667.939010785555, 2979.506112792258, 3909.489993924321, 4963.312637578653, 1985.350070042874, 3054.2397534849583, 825.2097560700836, 481.14431172775755, 237.555646695845, 175.53081373053, 89.22195863341027, 92.44887131586877, 58.03977539397621, 57.63163905238064, 35.173180750671214, 60.592728297203614, 37.26483458706651, 33.14222622401904, 27.3166283286556, 26.443871112915367, 26.90249770680769, 25.352205635110135, 41.72840800188778, 30.560515810996243, 214.75464264213474, 24.479660925285323, 37.334947896332544, 23.48618140844246, 23.231427417764955, 22.450959191027344, 22.2758502373579, 22.213568553986573, 29.388376351285427, 23.53749136174987, 21.55017651078925, 20.928314419428705, 47.66834172408685, 51.14527033148965, 30.760029797761955, 127.81581193650976, 54.4599965499253, 74.43952598681025, 67.86816496451696, 291.9554734231827, 1007.2858294442439, 95.32818574536427, 168.12578563674398, 51.60251742177075, 40.07500005511012, 366.1534631546653, 173.21234369917136, 38.31720672196938, 1177.1349864644105, 261.06847901334896, 663.7666170669579, 4602.012138469792, 211.49318278740319, 116.33289346341226, 145.47269697191012, 643.8926410983453, 1378.4980094508358, 119.73478555500667, 436.8107264752438, 2840.1679620266873, 874.1180046171247, 4663.86493699572, 4722.581489187121, 1731.0369040710048, 4963.312637578653, 2789.9772848643975, 2257.9823750191404, 4901.930450526215, 3511.9097798939847, 3060.0768303366267, 1924.47711385667, 186.592732612816, 118.59436304516952, 150.7587547324066, 269.4045834610349, 90.48701843840549, 122.8656452705628, 51.63969982821328, 39.38236310278679, 83.41236905127958, 33.82472541911441, 29.04472849403752, 27.669782982874874, 27.257875854966784, 56.61289772975596, 23.679439582295025, 25.46895817028389, 54.727709239411666, 23.47705883667116, 23.072941132924843, 20.91505435297858, 19.47179991379226, 19.00212480342983, 19.081926327396936, 18.954857774875876, 22.873065436327998, 17.71276013421189, 18.29082552945885, 17.160236900677305, 16.970948930869003, 30.00723667293671, 198.38932068891225, 291.27214597955725, 56.19381828143743, 50.14390320200965, 34.930183278680865, 460.17576008485463, 25.150721227428978, 112.72121822327722, 62.47131714806015, 114.69810561707861, 707.5664341685675, 448.28801220028856, 110.02550212979311, 82.33083246992673, 447.7165576776506, 1147.6121121235026, 1618.8261432168574, 329.4490777180797, 63.85996140251577, 60.26835119981386, 376.5441175430859, 4722.581489187121, 989.9750646238406, 242.77681434702154, 4602.012138469792, 2457.462856974082, 390.0938750860598, 2407.7201359017504, 1248.3138183038218, 3060.0768303366267, 4332.943391908093, 1731.0369040710048, 2445.6978300355468, 3909.489993924321, 4901.930450526215, 2979.506112792258, 2999.422655356774], \"Category\": [\"Default\", \"Default\", \"Default\", \"Default\", \"Default\", \"Default\", \"Default\", \"Default\", \"Default\", \"Default\", \"Default\", \"Default\", \"Default\", \"Default\", \"Default\", \"Default\", \"Default\", \"Default\", \"Default\", \"Default\", \"Default\", \"Default\", \"Default\", \"Default\", \"Default\", \"Default\", \"Default\", \"Default\", \"Default\", \"Default\", \"Topic1\", \"Topic1\", \"Topic1\", \"Topic1\", \"Topic1\", \"Topic1\", \"Topic1\", \"Topic1\", \"Topic1\", \"Topic1\", \"Topic1\", \"Topic1\", \"Topic1\", \"Topic1\", \"Topic1\", \"Topic1\", \"Topic1\", \"Topic1\", \"Topic1\", \"Topic1\", \"Topic1\", \"Topic1\", \"Topic1\", \"Topic1\", \"Topic1\", \"Topic1\", \"Topic1\", \"Topic1\", \"Topic1\", \"Topic1\", \"Topic1\", \"Topic1\", \"Topic1\", \"Topic1\", \"Topic1\", \"Topic1\", \"Topic1\", \"Topic1\", \"Topic1\", \"Topic1\", \"Topic1\", \"Topic1\", \"Topic1\", \"Topic1\", \"Topic1\", \"Topic1\", \"Topic1\", \"Topic1\", \"Topic1\", \"Topic1\", \"Topic1\", \"Topic1\", \"Topic1\", \"Topic1\", \"Topic1\", \"Topic1\", \"Topic1\", \"Topic1\", \"Topic1\", \"Topic1\", \"Topic1\", \"Topic1\", \"Topic1\", \"Topic1\", \"Topic1\", \"Topic1\", \"Topic1\", \"Topic1\", \"Topic1\", \"Topic1\", \"Topic1\", \"Topic1\", \"Topic1\", \"Topic1\", \"Topic1\", \"Topic2\", \"Topic2\", \"Topic2\", \"Topic2\", \"Topic2\", \"Topic2\", \"Topic2\", \"Topic2\", \"Topic2\", \"Topic2\", \"Topic2\", \"Topic2\", \"Topic2\", \"Topic2\", \"Topic2\", \"Topic2\", \"Topic2\", \"Topic2\", \"Topic2\", \"Topic2\", \"Topic2\", \"Topic2\", \"Topic2\", \"Topic2\", \"Topic2\", \"Topic2\", \"Topic2\", \"Topic2\", \"Topic2\", \"Topic2\", \"Topic2\", \"Topic2\", \"Topic2\", \"Topic2\", \"Topic2\", \"Topic2\", \"Topic2\", \"Topic2\", \"Topic2\", \"Topic2\", \"Topic2\", \"Topic2\", \"Topic2\", \"Topic2\", \"Topic2\", \"Topic2\", \"Topic2\", \"Topic2\", \"Topic2\", \"Topic2\", \"Topic2\", \"Topic2\", \"Topic2\", \"Topic2\", \"Topic2\", \"Topic2\", \"Topic2\", \"Topic2\", \"Topic2\", \"Topic2\", \"Topic2\", \"Topic2\", \"Topic2\", \"Topic2\", \"Topic2\", \"Topic2\", \"Topic2\", \"Topic2\", \"Topic2\", \"Topic2\", \"Topic2\", \"Topic2\", \"Topic2\", \"Topic2\", \"Topic2\", \"Topic3\", \"Topic3\", \"Topic3\", \"Topic3\", \"Topic3\", \"Topic3\", \"Topic3\", \"Topic3\", \"Topic3\", \"Topic3\", \"Topic3\", \"Topic3\", \"Topic3\", \"Topic3\", \"Topic3\", \"Topic3\", \"Topic3\", \"Topic3\", \"Topic3\", \"Topic3\", \"Topic3\", \"Topic3\", \"Topic3\", \"Topic3\", \"Topic3\", \"Topic3\", \"Topic3\", \"Topic3\", \"Topic3\", \"Topic3\", \"Topic3\", \"Topic3\", \"Topic3\", \"Topic3\", \"Topic3\", \"Topic3\", \"Topic3\", \"Topic3\", \"Topic3\", \"Topic3\", \"Topic3\", \"Topic3\", \"Topic3\", \"Topic3\", \"Topic3\", \"Topic3\", \"Topic3\", \"Topic3\", \"Topic3\", \"Topic3\", \"Topic3\", \"Topic3\", \"Topic3\", \"Topic3\", \"Topic3\", \"Topic3\", \"Topic3\", \"Topic3\", \"Topic3\", \"Topic3\", \"Topic3\", \"Topic3\", \"Topic3\", \"Topic3\", \"Topic3\", \"Topic3\", \"Topic3\", \"Topic3\", \"Topic3\", \"Topic3\", \"Topic3\", \"Topic3\", \"Topic3\", \"Topic3\", \"Topic4\", \"Topic4\", \"Topic4\", \"Topic4\", \"Topic4\", \"Topic4\", \"Topic4\", \"Topic4\", \"Topic4\", \"Topic4\", \"Topic4\", \"Topic4\", \"Topic4\", \"Topic4\", \"Topic4\", \"Topic4\", \"Topic4\", \"Topic4\", \"Topic4\", \"Topic4\", \"Topic4\", \"Topic4\", \"Topic4\", \"Topic4\", \"Topic4\", \"Topic4\", \"Topic4\", \"Topic4\", \"Topic4\", \"Topic4\", \"Topic4\", \"Topic4\", \"Topic4\", \"Topic4\", \"Topic4\", \"Topic4\", \"Topic4\", \"Topic4\", \"Topic4\", \"Topic4\", \"Topic4\", \"Topic4\", \"Topic4\", \"Topic4\", \"Topic4\", \"Topic4\", \"Topic4\", \"Topic4\", \"Topic4\", \"Topic4\", \"Topic4\", \"Topic4\", \"Topic4\", \"Topic4\", \"Topic4\", \"Topic4\", \"Topic4\", \"Topic4\", \"Topic4\", \"Topic4\", \"Topic4\", \"Topic4\", \"Topic4\", \"Topic5\", \"Topic5\", \"Topic5\", \"Topic5\", \"Topic5\", \"Topic5\", \"Topic5\", \"Topic5\", \"Topic5\", \"Topic5\", \"Topic5\", \"Topic5\", \"Topic5\", \"Topic5\", \"Topic5\", \"Topic5\", \"Topic5\", \"Topic5\", \"Topic5\", \"Topic5\", \"Topic5\", \"Topic5\", \"Topic5\", \"Topic5\", \"Topic5\", \"Topic5\", \"Topic5\", \"Topic5\", \"Topic5\", \"Topic5\", \"Topic5\", \"Topic5\", \"Topic5\", \"Topic5\", \"Topic5\", \"Topic5\", \"Topic5\", \"Topic5\", \"Topic5\", \"Topic5\", \"Topic5\", \"Topic5\", \"Topic5\", \"Topic5\", \"Topic5\", \"Topic5\", \"Topic5\", \"Topic5\", \"Topic5\", \"Topic5\", \"Topic5\", \"Topic5\", \"Topic5\", \"Topic5\", \"Topic5\", \"Topic5\", \"Topic5\", \"Topic5\", \"Topic5\", \"Topic5\", \"Topic5\", \"Topic5\", \"Topic5\", \"Topic5\", \"Topic5\", \"Topic5\", \"Topic5\", \"Topic5\", \"Topic5\", \"Topic5\", \"Topic6\", \"Topic6\", \"Topic6\", \"Topic6\", \"Topic6\", \"Topic6\", \"Topic6\", \"Topic6\", \"Topic6\", \"Topic6\", \"Topic6\", \"Topic6\", \"Topic6\", \"Topic6\", \"Topic6\", \"Topic6\", \"Topic6\", \"Topic6\", \"Topic6\", \"Topic6\", \"Topic6\", \"Topic6\", \"Topic6\", \"Topic6\", \"Topic6\", \"Topic6\", \"Topic6\", \"Topic6\", \"Topic6\", \"Topic6\", \"Topic6\", \"Topic6\", \"Topic6\", \"Topic6\", \"Topic6\", \"Topic6\", \"Topic6\", \"Topic6\", \"Topic6\", \"Topic6\", \"Topic6\", \"Topic6\", \"Topic6\", \"Topic6\", \"Topic6\", \"Topic6\", \"Topic6\", \"Topic6\", \"Topic6\", \"Topic6\", \"Topic6\", \"Topic6\", \"Topic6\", \"Topic6\", \"Topic6\", \"Topic6\", \"Topic6\", \"Topic6\", \"Topic6\", \"Topic6\", \"Topic6\", \"Topic6\", \"Topic6\", \"Topic6\", \"Topic6\", \"Topic6\", \"Topic6\", \"Topic6\", \"Topic6\", \"Topic6\", \"Topic6\", \"Topic6\", \"Topic6\", \"Topic7\", \"Topic7\", \"Topic7\", \"Topic7\", \"Topic7\", \"Topic7\", \"Topic7\", \"Topic7\", \"Topic7\", \"Topic7\", \"Topic7\", \"Topic7\", \"Topic7\", \"Topic7\", \"Topic7\", \"Topic7\", \"Topic7\", \"Topic7\", \"Topic7\", \"Topic7\", \"Topic7\", \"Topic7\", \"Topic7\", \"Topic7\", \"Topic7\", \"Topic7\", \"Topic7\", \"Topic7\", \"Topic7\", \"Topic7\", \"Topic7\", \"Topic7\", \"Topic7\", \"Topic7\", \"Topic7\", \"Topic7\", \"Topic7\", \"Topic7\", \"Topic7\", \"Topic7\", \"Topic7\", \"Topic7\", \"Topic7\", \"Topic7\", \"Topic7\", \"Topic7\", \"Topic7\", \"Topic7\", \"Topic7\", \"Topic7\", \"Topic7\", \"Topic7\", \"Topic7\", \"Topic7\", \"Topic7\", \"Topic7\", \"Topic7\", \"Topic7\", \"Topic7\", \"Topic7\", \"Topic7\", \"Topic7\", \"Topic7\", \"Topic7\", \"Topic7\", \"Topic7\", \"Topic7\", \"Topic7\", \"Topic7\", \"Topic7\", \"Topic7\", \"Topic7\", \"Topic7\", \"Topic7\", \"Topic7\", \"Topic7\", \"Topic7\", \"Topic7\", \"Topic8\", \"Topic8\", \"Topic8\", \"Topic8\", \"Topic8\", \"Topic8\", \"Topic8\", \"Topic8\", \"Topic8\", \"Topic8\", \"Topic8\", \"Topic8\", \"Topic8\", \"Topic8\", \"Topic8\", \"Topic8\", \"Topic8\", \"Topic8\", \"Topic8\", \"Topic8\", \"Topic8\", \"Topic8\", \"Topic8\", \"Topic8\", \"Topic8\", \"Topic8\", \"Topic8\", \"Topic8\", \"Topic8\", \"Topic8\", \"Topic8\", \"Topic8\", \"Topic8\", \"Topic8\", \"Topic8\", \"Topic8\", \"Topic8\", \"Topic8\", \"Topic8\", \"Topic8\", \"Topic8\", \"Topic8\", \"Topic8\", \"Topic8\", \"Topic8\", \"Topic8\", \"Topic8\", \"Topic8\", \"Topic8\", \"Topic8\", \"Topic8\", \"Topic8\", \"Topic8\", \"Topic8\", \"Topic8\", \"Topic8\", \"Topic8\", \"Topic8\", \"Topic8\", \"Topic8\", \"Topic8\", \"Topic8\", \"Topic8\", \"Topic8\", \"Topic8\", \"Topic9\", \"Topic9\", \"Topic9\", \"Topic9\", \"Topic9\", \"Topic9\", \"Topic9\", \"Topic9\", \"Topic9\", \"Topic9\", \"Topic9\", \"Topic9\", \"Topic9\", \"Topic9\", \"Topic9\", \"Topic9\", \"Topic9\", \"Topic9\", \"Topic9\", \"Topic9\", \"Topic9\", \"Topic9\", \"Topic9\", \"Topic9\", \"Topic9\", \"Topic9\", \"Topic9\", \"Topic9\", \"Topic9\", \"Topic9\", \"Topic9\", \"Topic9\", \"Topic9\", \"Topic9\", \"Topic9\", \"Topic9\", \"Topic9\", \"Topic9\", \"Topic9\", \"Topic9\", \"Topic9\", \"Topic9\", \"Topic9\", \"Topic9\", \"Topic9\", \"Topic9\", \"Topic9\", \"Topic9\", \"Topic9\", \"Topic9\", \"Topic9\", \"Topic9\", \"Topic9\", \"Topic9\", \"Topic9\", \"Topic9\", \"Topic9\", \"Topic9\", \"Topic9\", \"Topic9\", \"Topic9\", \"Topic9\", \"Topic9\", \"Topic9\", \"Topic9\", \"Topic9\", \"Topic9\", \"Topic9\", \"Topic9\", \"Topic9\", \"Topic9\", \"Topic10\", \"Topic10\", \"Topic10\", \"Topic10\", \"Topic10\", \"Topic10\", \"Topic10\", \"Topic10\", \"Topic10\", \"Topic10\", \"Topic10\", \"Topic10\", \"Topic10\", \"Topic10\", \"Topic10\", \"Topic10\", \"Topic10\", \"Topic10\", \"Topic10\", \"Topic10\", \"Topic10\", \"Topic10\", \"Topic10\", \"Topic10\", \"Topic10\", \"Topic10\", \"Topic10\", \"Topic10\", \"Topic10\", \"Topic10\", \"Topic10\", \"Topic10\", \"Topic10\", \"Topic10\", \"Topic10\", \"Topic10\", \"Topic10\", \"Topic10\", \"Topic10\", \"Topic10\", \"Topic10\", \"Topic10\", \"Topic10\", \"Topic10\", \"Topic10\", \"Topic10\", \"Topic10\", \"Topic10\", \"Topic10\", \"Topic10\", \"Topic10\", \"Topic10\", \"Topic10\", \"Topic10\", \"Topic10\", \"Topic10\", \"Topic10\", \"Topic10\", \"Topic10\", \"Topic10\", \"Topic10\", \"Topic10\", \"Topic10\", \"Topic10\", \"Topic10\", \"Topic10\", \"Topic10\", \"Topic10\", \"Topic10\", \"Topic11\", \"Topic11\", \"Topic11\", \"Topic11\", \"Topic11\", \"Topic11\", \"Topic11\", \"Topic11\", \"Topic11\", \"Topic11\", \"Topic11\", \"Topic11\", \"Topic11\", \"Topic11\", \"Topic11\", \"Topic11\", \"Topic11\", \"Topic11\", \"Topic11\", \"Topic11\", \"Topic11\", \"Topic11\", \"Topic11\", \"Topic11\", \"Topic11\", \"Topic11\", \"Topic11\", \"Topic11\", \"Topic11\", \"Topic11\", \"Topic11\", \"Topic11\", \"Topic11\", \"Topic11\", \"Topic11\", \"Topic11\", \"Topic11\", \"Topic11\", \"Topic11\", \"Topic11\", \"Topic11\", \"Topic11\", \"Topic11\", \"Topic11\", \"Topic11\", \"Topic11\", \"Topic11\", \"Topic11\", \"Topic11\", \"Topic11\", \"Topic11\", \"Topic11\", \"Topic11\", \"Topic11\", \"Topic11\", \"Topic11\", \"Topic11\", \"Topic11\", \"Topic11\", \"Topic11\", \"Topic11\", \"Topic12\", \"Topic12\", \"Topic12\", \"Topic12\", \"Topic12\", \"Topic12\", \"Topic12\", \"Topic12\", \"Topic12\", \"Topic12\", \"Topic12\", \"Topic12\", \"Topic12\", \"Topic12\", \"Topic12\", \"Topic12\", \"Topic12\", \"Topic12\", \"Topic12\", \"Topic12\", \"Topic12\", \"Topic12\", \"Topic12\", \"Topic12\", \"Topic12\", \"Topic12\", \"Topic12\", \"Topic12\", \"Topic12\", \"Topic12\", \"Topic12\", \"Topic12\", \"Topic12\", \"Topic12\", \"Topic12\", \"Topic12\", \"Topic12\", \"Topic12\", \"Topic12\", \"Topic12\", \"Topic12\", \"Topic12\", \"Topic12\", \"Topic12\", \"Topic12\", \"Topic12\", \"Topic12\", \"Topic12\", \"Topic12\", \"Topic12\", \"Topic12\", \"Topic12\", \"Topic12\", \"Topic12\", \"Topic12\", \"Topic12\", \"Topic12\", \"Topic12\", \"Topic12\", \"Topic12\", \"Topic12\", \"Topic12\", \"Topic12\", \"Topic12\", \"Topic12\", \"Topic12\", \"Topic12\", \"Topic12\", \"Topic12\", \"Topic12\", \"Topic13\", \"Topic13\", \"Topic13\", \"Topic13\", \"Topic13\", \"Topic13\", \"Topic13\", \"Topic13\", \"Topic13\", \"Topic13\", \"Topic13\", \"Topic13\", \"Topic13\", \"Topic13\", \"Topic13\", \"Topic13\", \"Topic13\", \"Topic13\", \"Topic13\", \"Topic13\", \"Topic13\", \"Topic13\", \"Topic13\", \"Topic13\", \"Topic13\", \"Topic13\", \"Topic13\", \"Topic13\", \"Topic13\", \"Topic13\", \"Topic13\", \"Topic13\", \"Topic13\", \"Topic13\", \"Topic13\", \"Topic13\", \"Topic13\", \"Topic13\", \"Topic13\", \"Topic13\", \"Topic13\", \"Topic13\", \"Topic13\", \"Topic13\", \"Topic13\", \"Topic13\", \"Topic13\", \"Topic13\", \"Topic13\", \"Topic13\", \"Topic13\", \"Topic13\", \"Topic13\", \"Topic13\", \"Topic13\", \"Topic13\", \"Topic13\", \"Topic13\", \"Topic13\", \"Topic13\", \"Topic13\", \"Topic13\", \"Topic13\", \"Topic13\", \"Topic13\", \"Topic13\", \"Topic13\", \"Topic13\", \"Topic13\", \"Topic13\", \"Topic13\", \"Topic13\", \"Topic13\", \"Topic13\", \"Topic13\", \"Topic14\", \"Topic14\", \"Topic14\", \"Topic14\", \"Topic14\", \"Topic14\", \"Topic14\", \"Topic14\", \"Topic14\", \"Topic14\", \"Topic14\", \"Topic14\", \"Topic14\", \"Topic14\", \"Topic14\", \"Topic14\", \"Topic14\", \"Topic14\", \"Topic14\", \"Topic14\", \"Topic14\", \"Topic14\", \"Topic14\", \"Topic14\", \"Topic14\", \"Topic14\", \"Topic14\", \"Topic14\", \"Topic14\", \"Topic14\", \"Topic14\", \"Topic14\", \"Topic14\", \"Topic14\", \"Topic14\", \"Topic14\", \"Topic14\", \"Topic14\", \"Topic14\", \"Topic14\", \"Topic14\", \"Topic14\", \"Topic14\", \"Topic14\", \"Topic14\", \"Topic14\", \"Topic14\", \"Topic14\", \"Topic14\", \"Topic14\", \"Topic14\", \"Topic14\", \"Topic14\", \"Topic14\", \"Topic14\", \"Topic14\", \"Topic14\", \"Topic14\", \"Topic14\", \"Topic14\", \"Topic14\", \"Topic14\", \"Topic14\", \"Topic14\", \"Topic14\", \"Topic14\", \"Topic14\", \"Topic14\", \"Topic14\", \"Topic14\", \"Topic14\", \"Topic15\", \"Topic15\", \"Topic15\", \"Topic15\", \"Topic15\", \"Topic15\", \"Topic15\", \"Topic15\", \"Topic15\", \"Topic15\", \"Topic15\", \"Topic15\", \"Topic15\", \"Topic15\", \"Topic15\", \"Topic15\", \"Topic15\", \"Topic15\", \"Topic15\", \"Topic15\", \"Topic15\", \"Topic15\", \"Topic15\", \"Topic15\", \"Topic15\", \"Topic15\", \"Topic15\", \"Topic15\", \"Topic15\", \"Topic15\", \"Topic15\", \"Topic15\", \"Topic15\", \"Topic15\", \"Topic15\", \"Topic15\", \"Topic15\", \"Topic15\", \"Topic15\", \"Topic15\", \"Topic15\", \"Topic15\", \"Topic15\", \"Topic15\", \"Topic15\", \"Topic15\", \"Topic15\", \"Topic15\", \"Topic15\", \"Topic15\", \"Topic15\", \"Topic15\", \"Topic15\", \"Topic15\", \"Topic15\", \"Topic15\", \"Topic15\", \"Topic15\", \"Topic15\", \"Topic15\", \"Topic15\", \"Topic15\", \"Topic15\", \"Topic15\", \"Topic15\", \"Topic15\", \"Topic15\", \"Topic15\", \"Topic16\", \"Topic16\", \"Topic16\", \"Topic16\", \"Topic16\", \"Topic16\", \"Topic16\", \"Topic16\", \"Topic16\", \"Topic16\", \"Topic16\", \"Topic16\", \"Topic16\", \"Topic16\", \"Topic16\", \"Topic16\", \"Topic16\", \"Topic16\", \"Topic16\", \"Topic16\", \"Topic16\", \"Topic16\", \"Topic16\", \"Topic16\", \"Topic16\", \"Topic16\", \"Topic16\", \"Topic16\", \"Topic16\", \"Topic16\", \"Topic16\", \"Topic16\", \"Topic16\", \"Topic16\", \"Topic16\", \"Topic16\", \"Topic16\", \"Topic16\", \"Topic16\", \"Topic16\", \"Topic16\", \"Topic16\", \"Topic16\", \"Topic16\", \"Topic16\", \"Topic16\", \"Topic16\", \"Topic16\", \"Topic16\", \"Topic16\", \"Topic16\", \"Topic16\", \"Topic16\", \"Topic16\", \"Topic16\", \"Topic16\", \"Topic16\", \"Topic16\", \"Topic16\", \"Topic16\", \"Topic16\", \"Topic16\", \"Topic16\", \"Topic16\", \"Topic16\", \"Topic16\", \"Topic16\"], \"logprob\": [30.0, 29.0, 28.0, 27.0, 26.0, 25.0, 24.0, 23.0, 22.0, 21.0, 20.0, 19.0, 18.0, 17.0, 16.0, 15.0, 14.0, 13.0, 12.0, 11.0, 10.0, 9.0, 8.0, 7.0, 6.0, 5.0, 4.0, 3.0, 2.0, 1.0, -5.8018, -5.9893, -6.1423, -6.7438, -7.0934, -5.8553, -7.3929, -5.8944, -5.1361, -7.5538, -7.5359, -7.6614, -7.7097, -7.7615, -7.8467, -7.6669, -7.9162, -6.6056, -8.0197, -7.0247, -8.1892, -6.8086, -8.2182, -4.9552, -7.0298, -8.4317, -8.4437, -8.5278, -8.5219, -8.5546, -3.5134, -5.4076, -6.9929, -7.4474, -8.0588, -7.167, -5.4157, -5.1735, -6.174, -3.8488, -6.8551, -3.3435, -5.7959, -5.5573, -3.3154, -3.9608, -6.5581, -5.5587, -5.3228, -6.2305, -5.9075, -5.9687, -5.2931, -4.0381, -4.59, -4.4657, -5.6141, -5.1747, -5.0512, -4.5908, -4.4429, -4.7862, -5.1613, -4.9462, -4.8674, -4.9602, -5.1114, -5.0397, -4.7637, -4.8898, -5.294, -4.9831, -5.177, -4.9705, -5.2795, -5.7123, -6.4417, -6.9173, -7.0843, -6.3599, -7.339, -7.3382, -7.3593, -7.2461, -7.6021, -7.5971, -7.7217, -7.743, -7.6145, -7.7536, -7.8188, -7.8225, -7.9241, -7.8254, -8.0989, -8.1737, -8.0627, -8.2133, -8.2574, -6.6081, -8.2868, -8.2953, -8.105, -8.3526, -8.3459, -5.9739, -4.2632, -4.1352, -5.7514, -7.7396, -6.0183, -5.5407, -3.8393, -6.2189, -6.2166, -5.3699, -4.5234, -6.2612, -5.7438, -5.2449, -4.545, -5.9022, -5.3208, -5.2404, -5.292, -5.9063, -4.3066, -4.9816, -5.875, -5.194, -4.0619, -4.1648, -5.2991, -5.0398, -4.1301, -4.8812, -4.348, -4.7219, -4.9546, -4.9426, -5.078, -4.949, -5.3984, -4.8142, -4.8118, -5.0376, -5.3254, -5.194, -5.2752, -5.2677, -4.3348, -6.0679, -6.6595, -6.7793, -6.7765, -6.8523, -6.7248, -6.9707, -6.7442, -7.0277, -6.8802, -7.0962, -7.1785, -5.8584, -7.3798, -7.4575, -7.6669, -7.6677, -7.2484, -7.772, -7.7749, -7.5523, -7.6733, -7.8486, -7.7979, -7.1228, -7.7683, -8.0217, -6.666, -7.8397, -4.53, -4.8693, -6.2362, -4.4492, -6.1274, -4.6127, -5.6093, -4.923, -6.144, -7.1314, -6.4001, -3.8615, -4.5291, -4.5469, -6.0931, -4.3419, -5.026, -4.1003, -5.4605, -5.5413, -5.1366, -4.9119, -4.4839, -4.6792, -4.4569, -6.0721, -6.0414, -4.5414, -4.4774, -5.6395, -4.5386, -4.2811, -5.0362, -4.4786, -5.8199, -5.2878, -5.4663, -4.8749, -5.1378, -5.2596, -5.3796, -5.303, -5.3942, -5.3903, -4.7401, -4.7197, -3.9182, -5.4278, -4.4794, -5.7454, -5.2902, -6.2941, -6.3349, -6.481, -6.5389, -6.4466, -6.7075, -6.7729, -6.6461, -6.1391, -4.7183, -6.9869, -7.029, -6.855, -7.0713, -7.1404, -4.2764, -6.9886, -7.3138, -7.3242, -7.2002, -7.347, -6.8144, -7.4022, -5.7753, -6.2518, -5.385, -5.9526, -5.9439, -3.2521, -5.138, -6.5371, -6.368, -5.5734, -4.6982, -5.6207, -3.7867, -4.9107, -4.4464, -5.2842, -5.1184, -4.4835, -5.5424, -4.4793, -4.4218, -5.0946, -4.7874, -4.1991, -4.8772, -4.3653, -4.8485, -4.7659, -4.7289, -5.0418, -5.2127, -5.1177, -5.1877, -3.6794, -6.7342, -5.2397, -3.4463, -3.8549, -6.9844, -7.0494, -7.369, -5.7508, -3.1941, -7.0245, -7.5336, -7.4154, -6.9312, -4.8735, -8.0185, -8.0811, -7.2729, -8.0993, -8.068, -5.6942, -7.1388, -8.2403, -8.2435, -3.5563, -8.2489, -8.3185, -8.3268, -7.7576, -8.0589, -5.7415, -3.9734, -6.3693, -3.5312, -5.8599, -4.6459, -5.0602, -6.6183, -6.051, -5.7619, -5.4982, -5.4616, -6.0746, -5.4733, -5.6876, -5.3006, -4.402, -5.3847, -3.8795, -5.395, -4.6469, -5.8092, -4.8946, -4.5616, -4.6058, -4.0232, -4.8149, -4.5074, -4.4896, -4.3111, -5.101, -4.9217, -5.1808, -4.9837, -5.0786, -4.9859, -5.015, -5.0245, -5.062, -5.0685, -7.1036, -7.3015, -7.0434, -7.5346, -7.5724, -7.6525, -6.8668, -7.7506, -7.793, -6.898, -5.5114, -6.1156, -5.2075, -7.0081, -8.1315, -7.7716, -8.1319, -8.2227, -8.2902, -8.2199, -8.3493, -7.3719, -4.9605, -8.3617, -7.9174, -7.5747, -8.4471, -8.3352, -8.5373, -8.5432, -5.1414, -5.1905, -6.225, -5.7282, -4.9365, -7.8226, -4.6751, -4.2833, -6.6857, -2.8383, -4.5456, -5.4728, -7.1268, -4.3195, -4.556, -5.6753, -5.1713, -3.824, -4.4687, -5.9434, -6.1888, -6.2782, -5.1549, -4.2098, -5.702, -6.0702, -4.295, -4.9091, -4.037, -4.5263, -5.0112, -5.0533, -4.9148, -4.81, -4.9125, -4.5772, -5.3074, -5.181, -4.9433, -5.2506, -5.2694, -5.1316, -5.1178, -3.8054, -6.5624, -5.0059, -5.009, -6.2232, -7.2503, -7.2875, -6.9293, -6.857, -7.398, -7.6007, -7.7567, -7.7654, -7.0686, -7.8599, -7.1374, -7.9491, -7.9518, -7.2984, -7.5155, -7.9276, -7.5537, -7.8918, -8.077, -7.8594, -7.9676, -5.9727, -7.9328, -8.1771, -8.1739, -4.5376, -6.2549, -6.9386, -6.2867, -7.4665, -6.1782, -5.7568, -3.6811, -7.4638, -4.2148, -3.0803, -4.9125, -6.8418, -3.4794, -5.4541, -4.6763, -6.3827, -6.1004, -6.8458, -6.6496, -4.129, -5.3583, -5.6886, -6.5175, -5.2648, -5.6457, -5.1913, -5.3076, -5.9439, -4.8773, -5.6485, -4.6025, -5.0487, -4.9453, -5.7234, -5.5016, -5.0823, -5.6194, -5.095, -5.2382, -5.2038, -5.4887, -5.3557, -5.4399, -5.5242, -5.4947, -5.506, -5.4725, -4.6969, -5.4907, -5.6591, -6.1093, -5.3478, -6.5377, -6.3538, -6.9058, -6.9168, -6.3211, -6.0635, -7.0563, -7.0658, -7.0537, -7.2503, -7.0812, -7.1407, -7.3112, -7.3665, -7.3751, -6.4688, -7.6103, -7.4581, -7.686, -7.6985, -7.8756, -6.9491, -7.8959, -6.1423, -7.9637, -6.1684, -3.8981, -5.4154, -6.2868, -2.9168, -4.229, -5.8419, -3.0375, -6.5532, -5.0903, -4.0231, -4.978, -5.7276, -5.2713, -5.2899, -4.7811, -5.5978, -6.1466, -4.8356, -4.2747, -4.6842, -4.3868, -4.7997, -4.928, -5.136, -4.6561, -4.6647, -5.0064, -4.9073, -4.9393, -5.1175, -5.3738, -5.1864, -5.2782, -5.3849, -3.8173, -4.2099, -5.9678, -6.7481, -6.6502, -6.8631, -6.9471, -6.9517, -6.8161, -7.2095, -7.2984, -7.3403, -7.401, -7.3433, -7.4176, -7.4675, -7.4567, -7.5605, -7.6983, -7.656, -7.2871, -7.4586, -7.7757, -5.1346, -7.8891, -7.8973, -7.917, -7.9101, -6.2343, -8.1885, -7.4513, -3.6081, -6.0882, -5.0095, -5.5063, -4.1245, -3.3154, -6.7612, -3.2431, -3.7577, -4.1613, -6.3975, -6.465, -5.6129, -7.0881, -4.5097, -5.1013, -6.5582, -4.1204, -4.9884, -4.8149, -4.4824, -4.6878, -4.5112, -5.6432, -5.1457, -4.8772, -4.464, -5.5289, -5.1311, -5.6804, -5.3985, -4.9069, -5.2001, -5.3859, -5.1424, -5.2313, -5.07, -5.0841, -5.2078, -5.2393, -5.3785, -4.9577, -6.0167, -5.836, -5.7106, -6.438, -6.6598, -6.804, -4.1255, -6.8653, -6.8536, -6.9189, -6.9187, -4.9276, -7.1526, -7.2458, -7.3432, -7.2764, -7.3818, -7.4886, -7.5804, -6.8077, -7.1894, -3.9414, -7.5801, -7.6745, -7.7784, -6.9732, -6.8179, -5.8606, -5.5155, -5.2674, -6.2235, -6.7078, -6.7617, -5.1686, -5.3359, -3.2598, -3.038, -5.5919, -4.5922, -6.0893, -4.8116, -5.2662, -5.4879, -5.7676, -4.4942, -5.2345, -4.6545, -5.7636, -6.1166, -4.0125, -5.0913, -4.3539, -5.4672, -5.5591, -5.201, -5.4845, -4.9277, -5.1638, -5.2381, -5.1493, -5.0887, -5.3459, -5.2248, -5.2882, -5.2589, -5.3735, -5.3615, -3.3044, -4.1922, -4.0427, -4.0441, -5.1835, -5.0226, -6.2714, -5.4927, -6.471, -4.264, -5.7196, -6.8887, -6.9247, -7.1295, -7.1848, -6.6888, -6.7948, -7.2556, -6.4445, -5.5196, -7.3788, -7.4153, -7.4252, -7.5422, -7.592, -7.6504, -5.9024, -5.3273, -7.3655, -7.8291, -5.7578, -4.8281, -6.8405, -4.6838, -6.4597, -6.4851, -4.8582, -5.9929, -3.4872, -3.981, -5.245, -4.0924, -4.8224, -3.8737, -4.6709, -5.483, -3.8359, -5.4253, -4.823, -5.0236, -4.835, -5.1374, -4.7086, -4.7685, -5.0866, -5.0387, -4.9783, -4.9973, -5.037, -5.0655, -5.2436, -4.5973, -5.5448, -6.4898, -6.6511, -6.5011, -6.2892, -7.051, -7.0025, -6.1018, -7.2554, -7.3184, -6.8086, -7.3678, -7.4337, -7.4474, -7.4351, -7.4617, -7.246, -7.5056, -7.407, -5.3661, -5.811, -6.5658, -7.2878, -7.8055, -7.8129, -7.8151, -7.8223, -7.824, -7.8836, -6.8227, -6.8064, -4.7412, -4.4853, -6.8824, -6.8909, -4.1068, -4.2511, -6.2183, -4.3589, -6.3245, -4.8266, -5.6018, -5.8103, -4.7635, -4.5076, -5.1917, -4.9745, -4.8432, -5.1707, -5.7595, -5.5846, -6.1524, -5.7585, -4.6492, -4.7834, -5.1198, -5.6484, -5.4017, -5.7916, -5.4819, -5.1808, -5.1625, -5.2462, -5.1411, -5.4329, -5.362, -5.5306, -5.492, -5.537, -5.8061, -5.5751, -6.3752, -4.8647, -6.2636, -6.3992, -7.096, -7.2349, -6.9686, -7.4009, -7.3693, -7.4954, -7.0888, -7.6754, -7.7441, -7.7897, -6.3607, -7.4036, -6.2285, -7.8808, -7.8886, -7.8843, -7.7937, -7.9337, -7.9759, -7.392, -6.3161, -8.1291, -8.1268, -8.1903, -5.8004, -4.6128, -5.4345, -6.4485, -6.9117, -6.3482, -6.5213, -5.6888, -6.0822, -5.3223, -7.2458, -5.0932, -4.1596, -3.5747, -4.0058, -6.3555, -5.6523, -5.462, -4.3035, -5.2187, -5.0088, -5.4726, -5.0067, -4.6683, -4.5656, -4.991, -4.2946, -5.0275, -4.898, -4.1395, -4.1526, -5.3324, -4.8707, -5.3611, -4.6005, -4.6018, -4.6211, -4.7146, -4.8352, -4.7032, -5.1068, -5.2908, -5.0966, -5.2311, -5.2167, -3.8986, -5.5234, -6.0822, -5.7992, -6.0314, -6.0535, -5.1346, -5.7377, -6.4779, -6.6826, -5.5794, -5.9633, -6.6662, -7.1695, -7.1785, -7.1926, -7.12, -7.2317, -7.2181, -6.891, -6.9413, -7.4473, -6.5935, -7.4951, -6.0837, -7.5778, -7.6034, -6.6532, -7.6706, -7.7508, -3.982, -4.9572, -4.9041, -6.4444, -6.6849, -5.7772, -5.3507, -5.9086, -6.078, -6.4608, -6.7899, -3.2424, -5.5133, -5.5086, -6.1777, -4.2022, -4.9201, -3.7336, -5.0331, -5.3103, -5.1988, -4.9703, -4.7175, -5.3802, -5.3609, -4.3589, -5.4244, -4.9632, -4.8381, -5.3427, -5.1504, -5.0351, -4.888, -4.9491, -5.0144, -5.0712, -5.0575, -5.0795, -5.2537, -5.2405, -5.3444, -4.0019, -4.7104, -5.0136, -5.6954, -5.6641, -6.1312, -6.1416, -6.6449, -6.1018, -6.5888, -6.707, -6.9032, -6.9368, -6.9202, -6.9805, -6.4835, -6.7951, -4.8454, -7.0175, -6.5963, -7.0599, -7.0725, -7.1068, -7.1149, -7.1184, -6.8394, -7.0617, -7.1507, -7.1803, -6.3576, -6.2918, -6.7984, -5.3922, -6.2353, -5.9304, -6.0281, -4.6547, -3.4969, -5.7311, -5.247, -6.3291, -6.5613, -4.651, -5.3431, -6.6161, -3.79, -5.059, -4.575, -3.2555, -5.4486, -5.8593, -5.7275, -4.8103, -4.5397, -5.8738, -5.2648, -4.9105, -5.3358, -4.9638, -5.0694, -5.3649, -5.1859, -5.3047, -5.3918, -5.2926, -5.4514, -5.5161, -5.55, -4.9175, -5.3737, -5.1387, -4.5598, -5.6524, -5.3475, -6.2153, -6.4917, -5.7414, -6.6477, -6.8061, -6.8549, -6.8714, -6.1431, -7.0164, -6.9438, -6.179, -7.0269, -7.0451, -7.1467, -7.221, -7.2473, -7.2433, -7.2512, -7.0648, -7.3206, -7.2887, -7.3541, -7.3661, -6.7973, -4.9099, -4.5502, -6.1891, -6.3024, -6.6558, -4.1663, -6.9769, -5.5588, -6.1155, -5.5807, -3.9101, -4.393, -5.674, -5.9442, -4.4974, -3.7064, -3.6427, -4.9177, -6.2064, -6.26, -4.9991, -3.7878, -4.744, -5.5635, -4.1529, -4.6257, -5.4047, -4.8294, -5.1017, -4.8866, -4.8066, -5.0983, -5.0917, -5.2837, -5.2657, -5.3962, -5.514], \"loglift\": [30.0, 29.0, 28.0, 27.0, 26.0, 25.0, 24.0, 23.0, 22.0, 21.0, 20.0, 19.0, 18.0, 17.0, 16.0, 15.0, 14.0, 13.0, 12.0, 11.0, 10.0, 9.0, 8.0, 7.0, 6.0, 5.0, 4.0, 3.0, 2.0, 1.0, 2.2643, 2.2635, 2.2627, 2.2592, 2.2562, 2.2544, 2.2521, 2.2494, 2.2491, 2.2486, 2.2475, 2.2466, 2.245, 2.2429, 2.242, 2.2418, 2.2403, 2.2393, 2.2377, 2.2323, 2.2322, 2.2319, 2.2298, 2.224, 2.2239, 2.2229, 2.2223, 2.2184, 2.2173, 2.2169, 2.2107, 2.2153, 2.2066, 2.2087, 2.2153, 2.1911, 2.1303, 2.1187, 2.1524, 2.0251, 2.1789, 1.9755, 2.1217, 2.0753, 1.8715, 1.9144, 2.1236, 1.9467, 1.9038, 2.0434, 1.9411, 1.9273, 1.7063, 1.1948, 1.3587, 1.2522, 1.7345, 1.4729, 1.3461, 1.0648, 0.7527, 0.9569, 1.2264, 1.0183, 0.8918, 0.9733, 1.0979, 0.9647, 0.495, 0.579, 1.3281, 0.5301, 1.0149, 0.2749, 0.4073, 2.429, 2.4267, 2.4228, 2.4206, 2.4159, 2.414, 2.4136, 2.413, 2.4114, 2.4109, 2.4107, 2.4075, 2.4073, 2.4067, 2.4058, 2.4054, 2.4049, 2.4012, 2.3999, 2.3959, 2.3931, 2.3915, 2.3911, 2.3889, 2.3884, 2.3879, 2.3878, 2.386, 2.3852, 2.3849, 2.3817, 2.3516, 2.3491, 2.3412, 2.3784, 2.3095, 2.2561, 2.1377, 2.2884, 2.2615, 2.172, 2.0768, 2.2464, 2.1769, 2.119, 2.0275, 2.1808, 2.1084, 2.0754, 2.0788, 2.1535, 1.8558, 1.9786, 2.132, 1.9745, 1.5938, 1.6056, 1.9411, 1.8445, 1.5198, 1.6976, 1.1391, 1.3312, 1.4797, 1.4609, 1.5278, 1.3097, 1.5363, 0.6289, 0.61, 0.448, 1.1503, 0.0514, 0.4182, 0.1198, 2.463, 2.4611, 2.4584, 2.4576, 2.4575, 2.4575, 2.4559, 2.4554, 2.4553, 2.4553, 2.4535, 2.4518, 2.4509, 2.4504, 2.4493, 2.4471, 2.4431, 2.4429, 2.4418, 2.4397, 2.4394, 2.4387, 2.4366, 2.4361, 2.4356, 2.4348, 2.4338, 2.4319, 2.4308, 2.4306, 2.4124, 2.4119, 2.4218, 2.3936, 2.411, 2.3752, 2.39, 2.3649, 2.4005, 2.4248, 2.3895, 2.2489, 2.2716, 2.2536, 2.3438, 2.1809, 2.2449, 2.0557, 2.2211, 2.196, 2.0839, 1.9755, 1.8521, 1.845, 1.7611, 2.2127, 2.1954, 1.558, 1.4086, 1.9925, 1.3565, 1.1621, 1.47, 0.7801, 2.0543, 1.3796, 1.5248, 0.4976, 0.5309, 0.8022, 1.1642, 0.226, 0.2992, -0.2072, 2.5788, 2.5786, 2.5782, 2.5772, 2.5764, 2.5764, 2.5762, 2.5727, 2.5725, 2.5715, 2.5711, 2.5703, 2.5694, 2.5687, 2.568, 2.5679, 2.5676, 2.5657, 2.5651, 2.565, 2.5639, 2.5627, 2.5626, 2.5606, 2.56, 2.5585, 2.5582, 2.5579, 2.5579, 2.5574, 2.5565, 2.5537, 2.5408, 2.5459, 2.5425, 2.4558, 2.5107, 2.5493, 2.5131, 2.4334, 2.2713, 2.3882, 2.0994, 2.2377, 2.0912, 2.2653, 2.2159, 2.0289, 2.1333, 1.6291, 1.5117, 1.8827, 1.6235, 1.229, 1.5985, 1.0565, 1.1669, 1.0045, 0.7483, 1.0419, 1.3598, 0.8863, 0.4592, 2.5951, 2.5918, 2.591, 2.5906, 2.5892, 2.5885, 2.5862, 2.5816, 2.5813, 2.5809, 2.5773, 2.5764, 2.5757, 2.5743, 2.5645, 2.5616, 2.5594, 2.5579, 2.5578, 2.5567, 2.554, 2.5537, 2.5519, 2.5516, 2.5508, 2.5489, 2.5477, 2.5472, 2.5466, 2.5454, 2.5179, 2.4769, 2.5176, 2.4271, 2.4891, 2.4505, 2.4344, 2.4925, 2.4467, 2.4241, 2.3878, 2.3319, 2.3873, 2.2917, 2.3104, 2.2311, 2.0524, 2.2287, 1.8618, 2.1962, 1.9763, 2.2849, 1.9167, 1.7523, 1.6977, 1.2097, 1.6142, 1.277, 1.1602, 0.872, 1.6739, 1.2088, 1.6494, 1.1869, 1.2715, 0.732, 0.7281, 0.2209, 0.4153, 0.1271, 2.7135, 2.7096, 2.707, 2.7046, 2.7035, 2.7005, 2.6994, 2.6974, 2.6954, 2.6946, 2.6927, 2.6868, 2.6829, 2.6826, 2.6808, 2.68, 2.6786, 2.676, 2.6716, 2.6687, 2.6678, 2.6676, 2.667, 2.6662, 2.6636, 2.6619, 2.6617, 2.6582, 2.6551, 2.6548, 2.6483, 2.636, 2.6389, 2.6104, 2.5673, 2.6531, 2.5412, 2.4904, 2.598, 2.3627, 2.4637, 2.5208, 2.6065, 2.3925, 2.3988, 2.492, 2.4232, 2.1804, 2.2587, 2.4311, 2.4644, 2.461, 2.1213, 1.7389, 2.2436, 2.3336, 1.5909, 1.7671, 1.2217, 1.2581, 1.5526, 1.5727, 1.3439, 1.0673, 1.1493, 0.6059, 1.6273, 1.2421, 0.5339, 1.3308, 1.4254, 0.241, 0.0553, 2.7487, 2.7372, 2.735, 2.7339, 2.7331, 2.7307, 2.7305, 2.7243, 2.7229, 2.7191, 2.7186, 2.7164, 2.7163, 2.7156, 2.7125, 2.7103, 2.7088, 2.7086, 2.7085, 2.7081, 2.7079, 2.7038, 2.7032, 2.7026, 2.7023, 2.6999, 2.6991, 2.6988, 2.6974, 2.6971, 2.6558, 2.6768, 2.6773, 2.654, 2.6887, 2.6216, 2.5951, 2.3952, 2.6773, 2.329, 2.0927, 2.2611, 2.5686, 1.9081, 2.2792, 2.0878, 2.4619, 2.3802, 2.5196, 2.4437, 1.4001, 1.899, 2.0256, 2.3812, 1.666, 1.8582, 1.532, 1.561, 1.99, 1.0, 1.6415, 0.5985, 1.0131, 0.7415, 1.7097, 1.1634, 0.2902, 1.3285, 0.1006, 0.4285, 0.2651, 0.7032, -0.1688, 0.2535, 0.7521, 0.4992, 0.4585, -0.2271, 2.7634, 2.762, 2.7607, 2.7585, 2.7554, 2.7529, 2.7524, 2.7493, 2.7491, 2.7483, 2.7481, 2.7469, 2.7467, 2.746, 2.7427, 2.7423, 2.7418, 2.7407, 2.74, 2.7398, 2.7354, 2.7329, 2.7324, 2.7303, 2.7297, 2.723, 2.7227, 2.7206, 2.7193, 2.7191, 2.6962, 2.6368, 2.6682, 2.6676, 2.4611, 2.5106, 2.6163, 2.3351, 2.6642, 2.3868, 2.1862, 2.3076, 2.441, 2.3107, 2.2042, 1.9627, 2.214, 2.4063, 1.794, 1.0442, 1.2223, 0.8142, 0.8871, 0.9494, 1.2087, 0.527, 0.5083, 0.735, 0.2883, 0.3061, 0.3957, 0.9025, 0.0464, 0.2508, 0.084, 2.8164, 2.8136, 2.8084, 2.8041, 2.8038, 2.8023, 2.8008, 2.7991, 2.7948, 2.7937, 2.7927, 2.7922, 2.7907, 2.7897, 2.7896, 2.7874, 2.7864, 2.7858, 2.7808, 2.7806, 2.7788, 2.7768, 2.7753, 2.7749, 2.7731, 2.7723, 2.7716, 2.7705, 2.7596, 2.7574, 2.7532, 2.7109, 2.7248, 2.6908, 2.6452, 2.5311, 2.4662, 2.6814, 2.2701, 2.326, 2.2679, 2.5786, 2.587, 2.381, 2.7143, 2.0113, 2.0659, 2.5275, 1.65, 1.9391, 1.8588, 1.626, 1.5581, 1.4223, 2.0546, 1.7593, 1.5312, 1.0232, 1.7793, 1.3233, 1.8497, 1.4564, 0.5703, 0.9624, 1.2677, 0.5133, 0.7332, 0.1255, 0.1488, 0.2611, -0.0562, 2.8366, 2.8324, 2.8317, 2.8303, 2.8296, 2.8264, 2.8263, 2.8245, 2.824, 2.8232, 2.8232, 2.8224, 2.8223, 2.8212, 2.8178, 2.8137, 2.813, 2.8126, 2.8121, 2.8083, 2.8053, 2.8038, 2.8032, 2.8031, 2.8026, 2.8019, 2.7981, 2.797, 2.7952, 2.7945, 2.7783, 2.769, 2.7778, 2.7684, 2.7676, 2.6652, 2.6746, 2.5023, 2.4476, 2.6588, 2.537, 2.7008, 2.545, 2.5873, 2.4219, 2.4792, 2.0616, 2.2915, 1.9852, 2.3945, 2.4872, 1.4306, 1.9687, 1.1332, 2.0401, 2.1028, 1.6525, 1.9936, 1.1341, 1.1501, 1.2682, 0.8447, 0.6192, 1.3762, 0.8065, 0.3588, -0.0758, 1.165, 0.6539, 2.8642, 2.8635, 2.8633, 2.8632, 2.8615, 2.8605, 2.8551, 2.8544, 2.8531, 2.8502, 2.8486, 2.8468, 2.8464, 2.8416, 2.841, 2.8407, 2.8405, 2.8387, 2.8381, 2.837, 2.8357, 2.8349, 2.8326, 2.8304, 2.8291, 2.8267, 2.8263, 2.8209, 2.8207, 2.8176, 2.8019, 2.7911, 2.8117, 2.7632, 2.7913, 2.7728, 2.6009, 2.7075, 2.4079, 2.442, 2.5756, 2.3901, 2.4778, 2.1794, 2.2961, 2.4077, 1.5921, 2.2947, 1.8532, 1.9049, 1.7773, 1.6739, 0.8204, 0.8814, 1.1498, 0.9258, 0.6904, 0.4799, 0.2084, 0.1176, 0.6701, 2.906, 2.8991, 2.8971, 2.895, 2.8944, 2.8932, 2.8867, 2.8866, 2.8846, 2.8825, 2.881, 2.8809, 2.8794, 2.8778, 2.8776, 2.8773, 2.8767, 2.8761, 2.8756, 2.8744, 2.8706, 2.8692, 2.8661, 2.8657, 2.864, 2.8637, 2.8635, 2.8632, 2.8619, 2.8589, 2.8516, 2.8364, 2.7523, 2.7159, 2.8176, 2.8119, 2.5708, 2.538, 2.7432, 2.5006, 2.7367, 2.3302, 2.4699, 2.5032, 2.2337, 2.0982, 2.2724, 2.086, 1.8242, 1.7772, 2.1198, 1.9652, 2.366, 1.9819, 0.8379, 0.8665, 1.1565, 1.7414, 1.3623, 1.8841, 1.2619, 0.6009, 0.5043, 0.6311, 0.0544, 0.6497, 0.0812, 0.8959, 0.502, 0.8529, 2.9111, 2.9107, 2.9071, 2.9059, 2.9049, 2.9016, 2.8944, 2.8915, 2.8889, 2.8868, 2.8864, 2.8803, 2.8778, 2.8773, 2.874, 2.8727, 2.8712, 2.8707, 2.87, 2.8685, 2.868, 2.8676, 2.8671, 2.8659, 2.8632, 2.8621, 2.8614, 2.8548, 2.8548, 2.851, 2.8426, 2.7924, 2.7797, 2.7952, 2.8151, 2.7761, 2.782, 2.7177, 2.7252, 2.6413, 2.8252, 2.5817, 2.4113, 2.3162, 2.3389, 2.7001, 2.5316, 2.4248, 2.1, 2.3227, 2.2198, 2.3668, 2.0988, 1.729, 1.6624, 1.8716, 1.4232, 1.8274, 1.6834, 1.0336, 1.0343, 1.9545, 1.4669, 1.9241, 0.787, 0.5938, 0.6117, 0.6634, 0.908, 0.5422, 1.0016, 1.7197, 0.8368, 0.7396, 0.2521, 3.183, 3.1758, 3.174, 3.174, 3.1737, 3.1736, 3.1705, 3.1702, 3.1658, 3.1652, 3.1629, 3.1628, 3.1577, 3.1524, 3.1524, 3.1518, 3.1505, 3.1504, 3.1489, 3.1479, 3.1431, 3.1424, 3.1404, 3.1399, 3.1387, 3.1363, 3.1355, 3.1322, 3.1322, 3.1279, 3.1173, 3.1153, 3.0988, 3.1196, 3.12, 3.0896, 3.0666, 3.0681, 3.0749, 3.0957, 3.1176, 2.7616, 2.9894, 2.9658, 3.0417, 2.7028, 2.8231, 2.5123, 2.4821, 2.5823, 2.3645, 2.197, 1.9882, 2.4327, 2.4074, 1.4031, 2.3073, 1.5577, 1.1774, 1.9916, 1.6175, 1.2411, 0.4995, 0.538, 0.4712, 0.6223, 0.3643, 0.1036, 0.8457, 0.4282, 1.6329, 3.5149, 3.5121, 3.5115, 3.5064, 3.5022, 3.5007, 3.4973, 3.4877, 3.487, 3.4861, 3.4852, 3.4823, 3.4811, 3.4805, 3.4796, 3.4783, 3.4781, 3.4781, 3.4776, 3.4768, 3.4767, 3.4749, 3.4748, 3.4745, 3.4739, 3.473, 3.4726, 3.4718, 3.4715, 3.471, 3.4665, 3.4683, 3.4502, 3.4602, 3.4526, 3.4473, 3.3617, 3.281, 3.4046, 3.3213, 3.4203, 3.4409, 3.1389, 3.1953, 3.431, 2.8321, 3.0691, 2.62, 2.0033, 2.8902, 3.0773, 2.9855, 2.4151, 1.9246, 3.0339, 2.3487, 0.8308, 1.5839, 0.2816, 0.1635, 0.8716, -0.0028, 0.4545, 0.5789, -0.0971, 0.0777, 0.1507, 0.5806, 3.5466, 3.5435, 3.5386, 3.5369, 3.5354, 3.5344, 3.5333, 3.528, 3.5277, 3.5241, 3.518, 3.5177, 3.5162, 3.5136, 3.5119, 3.5117, 3.5116, 3.51, 3.5092, 3.5058, 3.503, 3.5011, 3.5009, 3.4997, 3.4982, 3.4981, 3.4979, 3.4962, 3.4953, 3.4942, 3.4928, 3.4685, 3.4751, 3.4757, 3.4838, 3.395, 3.4912, 3.4093, 3.4428, 3.3699, 3.2211, 3.1945, 3.3183, 3.338, 3.0914, 2.9411, 2.6608, 2.9779, 3.3299, 3.3341, 2.7628, 1.445, 2.0513, 2.6373, 1.1059, 1.2604, 2.3219, 1.0771, 1.4617, 0.7802, 0.5124, 1.1382, 0.7991, 0.1381, -0.0701, 0.2972, 0.1728]}, \"token.table\": {\"Topic\": [16, 13, 6, 7, 8, 12, 6, 1, 2, 3, 4, 5, 6, 7, 8, 9, 10, 11, 12, 13, 14, 15, 16, 7, 14, 2, 3, 5, 7, 9, 10, 11, 12, 13, 14, 16, 4, 14, 9, 2, 5, 14, 1, 2, 3, 4, 5, 6, 7, 8, 9, 10, 11, 12, 13, 14, 15, 16, 1, 2, 3, 8, 10, 11, 12, 2, 3, 6, 9, 10, 11, 12, 14, 16, 2, 4, 9, 13, 14, 1, 4, 15, 1, 3, 8, 12, 1, 2, 13, 3, 3, 4, 6, 7, 8, 10, 12, 14, 16, 14, 15, 2, 4, 9, 10, 11, 13, 14, 4, 13, 14, 15, 16, 6, 8, 16, 1, 2, 3, 4, 5, 6, 7, 8, 9, 10, 11, 12, 13, 14, 15, 16, 2, 3, 8, 10, 12, 15, 1, 2, 3, 4, 6, 7, 8, 9, 10, 11, 12, 13, 14, 15, 16, 3, 10, 16, 2, 3, 4, 5, 6, 7, 8, 9, 10, 11, 12, 13, 14, 15, 16, 14, 6, 6, 3, 4, 6, 7, 10, 13, 14, 16, 1, 2, 3, 4, 5, 6, 7, 8, 9, 10, 11, 12, 13, 14, 15, 16, 6, 1, 2, 3, 6, 7, 8, 11, 13, 14, 15, 1, 3, 1, 2, 5, 8, 13, 16, 1, 8, 9, 16, 15, 9, 12, 3, 6, 7, 9, 10, 12, 1, 7, 12, 1, 5, 13, 15, 14, 16, 1, 8, 7, 14, 2, 7, 13, 2, 3, 7, 12, 13, 7, 12, 1, 2, 4, 5, 6, 7, 8, 9, 12, 13, 14, 15, 16, 13, 2, 9, 11, 12, 3, 5, 6, 9, 6, 8, 7, 13, 15, 1, 2, 3, 4, 5, 6, 7, 8, 9, 10, 11, 12, 13, 14, 15, 16, 1, 2, 3, 4, 5, 6, 7, 8, 10, 11, 12, 13, 14, 15, 13, 10, 16, 13, 15, 2, 4, 14, 15, 10, 1, 2, 3, 4, 5, 6, 7, 8, 9, 10, 11, 12, 13, 14, 15, 16, 1, 2, 3, 11, 3, 8, 1, 2, 3, 5, 6, 8, 9, 10, 11, 15, 16, 1, 2, 3, 4, 8, 9, 10, 12, 13, 11, 1, 2, 3, 4, 6, 7, 8, 9, 12, 13, 14, 15, 16, 10, 4, 5, 12, 10, 4, 4, 10, 4, 11, 14, 3, 11, 13, 3, 2, 4, 9, 10, 12, 13, 16, 1, 2, 3, 4, 5, 6, 7, 8, 9, 10, 11, 12, 13, 14, 15, 16, 2, 4, 7, 9, 10, 13, 14, 1, 8, 10, 12, 16, 1, 3, 5, 6, 7, 8, 9, 10, 11, 12, 13, 14, 15, 16, 1, 2, 3, 4, 5, 6, 7, 8, 9, 10, 11, 12, 13, 15, 16, 1, 3, 6, 7, 8, 12, 14, 15, 16, 1, 2, 3, 4, 5, 6, 7, 8, 9, 10, 11, 12, 13, 14, 15, 16, 1, 2, 4, 7, 8, 10, 13, 14, 4, 10, 16, 10, 14, 1, 2, 3, 4, 5, 6, 7, 8, 9, 10, 11, 12, 13, 14, 15, 16, 1, 6, 7, 8, 9, 13, 14, 2, 7, 2, 2, 4, 5, 15, 4, 10, 14, 2, 10, 2, 1, 2, 3, 4, 5, 6, 7, 8, 9, 10, 11, 12, 13, 14, 15, 16, 1, 5, 8, 1, 2, 5, 10, 13, 16, 16, 5, 10, 15, 1, 2, 3, 4, 5, 6, 7, 8, 9, 10, 11, 12, 13, 14, 15, 16, 4, 9, 14, 9, 11, 16, 3, 4, 7, 9, 13, 16, 1, 2, 3, 5, 7, 8, 9, 10, 12, 13, 14, 16, 2, 4, 9, 10, 2, 1, 2, 3, 4, 5, 6, 7, 8, 9, 10, 12, 13, 14, 16, 5, 6, 6, 8, 1, 5, 13, 15, 2, 3, 4, 5, 7, 9, 10, 11, 13, 14, 9, 2, 3, 4, 8, 9, 10, 11, 12, 15, 15, 15, 8, 11, 13, 1, 2, 3, 4, 5, 6, 7, 8, 9, 10, 11, 12, 14, 15, 16, 1, 13, 6, 12, 12, 14, 15, 3, 14, 13, 5, 1, 3, 4, 5, 7, 8, 9, 12, 13, 14, 16, 8, 2, 4, 14, 15, 13, 14, 16, 4, 5, 11, 15, 2, 3, 5, 6, 10, 11, 13, 15, 16, 10, 11, 1, 2, 3, 4, 5, 6, 7, 8, 9, 10, 11, 12, 13, 14, 15, 16, 11, 13, 11, 8, 1, 2, 3, 6, 7, 8, 10, 12, 13, 14, 1, 3, 6, 7, 8, 14, 2, 3, 4, 6, 8, 9, 10, 12, 13, 14, 15, 16, 15, 5, 9, 9, 10, 1, 2, 3, 4, 6, 8, 11, 12, 16, 12, 16, 12, 15, 2, 3, 4, 6, 8, 9, 10, 11, 13, 15, 2, 3, 7, 10, 11, 12, 15, 1, 2, 3, 6, 7, 10, 11, 16, 1, 1, 4, 5, 16, 1, 6, 7, 8, 13, 12, 1, 2, 3, 4, 5, 6, 7, 8, 9, 10, 11, 13, 14, 15, 16, 7, 15, 12, 2, 3, 4, 6, 7, 8, 9, 10, 11, 12, 13, 14, 15, 16, 2, 6, 7, 8, 9, 12, 14, 1, 4, 5, 6, 8, 9, 10, 11, 13, 16, 2, 1, 2, 3, 4, 5, 6, 7, 8, 9, 10, 11, 13, 16, 2, 4, 14, 3, 1, 15, 16, 1, 2, 3, 4, 5, 6, 7, 8, 9, 10, 11, 12, 13, 14, 15, 16, 4, 9, 5, 2, 4, 9, 13, 2, 5, 8, 11, 15, 2, 1, 2, 3, 4, 5, 6, 7, 8, 9, 10, 11, 12, 13, 14, 15, 16, 1, 2, 3, 4, 5, 6, 7, 8, 9, 10, 11, 12, 13, 14, 15, 16, 14, 1, 2, 3, 4, 5, 6, 7, 8, 9, 10, 11, 12, 13, 14, 15, 16, 2, 3, 5, 7, 8, 10, 11, 12, 15, 16, 5, 15, 5, 2, 5, 7, 8, 9, 11, 16, 7, 10, 5, 7, 8, 11, 15, 16, 1, 2, 3, 4, 5, 6, 7, 8, 9, 10, 11, 12, 13, 14, 15, 16, 7, 15, 1, 2, 8, 10, 16, 6, 6, 7, 11, 5, 1, 2, 3, 4, 5, 6, 7, 8, 9, 11, 12, 13, 14, 15, 16, 1, 5, 6, 7, 8, 9, 12, 13, 14, 16, 2, 7, 13, 14, 4, 7, 8, 13, 16, 1, 2, 3, 4, 5, 6, 7, 8, 9, 10, 11, 12, 14, 16, 8, 12, 7, 3, 4, 6, 7, 8, 9, 11, 13, 5, 9, 8, 1, 2, 3, 4, 5, 6, 7, 8, 9, 10, 12, 13, 14, 15, 16, 3, 4, 10, 14, 16, 2, 13, 1, 5, 8, 9, 15, 16, 6, 11, 13, 1, 2, 3, 4, 5, 6, 7, 8, 9, 11, 12, 13, 14, 15, 16, 1, 2, 3, 4, 5, 6, 7, 8, 9, 10, 11, 12, 13, 14, 15, 16, 1, 1, 2, 3, 4, 5, 6, 8, 9, 10, 11, 12, 15, 16, 4, 7, 10, 14, 1, 2, 3, 4, 5, 7, 8, 9, 10, 11, 12, 13, 14, 15, 16, 5, 8, 9, 11, 1, 2, 3, 10, 14, 15, 4, 9, 13, 1, 4, 2, 3, 5, 9, 12, 13, 3, 6, 7, 9, 10, 1, 2, 3, 4, 5, 7, 8, 9, 10, 11, 12, 13, 14, 15, 16, 2, 4, 8, 9, 13, 2, 6, 7, 10, 12, 1, 3, 4, 6, 7, 8, 9, 10, 14, 16, 13, 2, 3, 4, 8, 9, 10, 11, 13, 16, 7, 10, 3, 4, 10, 13, 14, 15, 16, 4, 14, 4, 9, 9, 3, 4, 6, 7, 8, 10, 12, 15, 1, 2, 4, 5, 8, 9, 13, 15, 16, 14, 2, 12, 10, 14, 6, 1, 2, 8, 10, 16, 8, 16, 2, 5, 10, 12, 2, 4, 5, 7, 8, 9, 10, 11, 12, 13, 15, 16, 2, 5, 7, 8, 16, 5, 6, 8, 16, 1, 2, 3, 6, 7, 8, 10, 11, 12, 1, 15, 16, 2, 3, 4, 7, 9, 10, 12, 13, 14, 16, 1, 2, 3, 4, 5, 6, 7, 8, 9, 10, 11, 12, 13, 14, 15, 16, 1, 2, 3, 4, 5, 6, 7, 8, 9, 10, 11, 12, 13, 14, 15, 16, 5, 10, 11, 15, 2, 6, 7, 8, 9, 16, 3, 6, 2, 3, 6, 11, 15, 7, 1, 2, 3, 4, 5, 6, 7, 8, 9, 10, 11, 12, 13, 14, 15, 16, 1, 2, 3, 4, 8, 9, 10, 11, 12, 13, 1, 5, 6, 7, 8, 9, 11, 12, 13, 16, 1, 2, 3, 4, 6, 7, 9, 10, 11, 12, 13, 14, 2, 10, 4, 13, 8, 7, 1, 2, 4, 5, 6, 7, 8, 9, 10, 12, 13, 14, 16, 1, 2, 3, 4, 5, 6, 7, 8, 9, 10, 11, 12, 13, 14, 15, 16, 10, 10, 14, 9, 1, 2, 3, 4, 5, 6, 7, 8, 9, 10, 11, 12, 13, 14, 15, 16, 2, 11, 1, 4, 16, 12, 2, 3, 4, 5, 6, 9, 10, 11, 1, 2, 3, 4, 5, 6, 7, 8, 9, 10, 11, 12, 13, 14, 15, 16, 4, 12, 14, 7, 8, 9, 12, 16, 5, 16, 1, 2, 3, 4, 5, 6, 7, 8, 9, 10, 12, 13, 14, 15, 16, 1, 2, 3, 4, 5, 7, 8, 9, 10, 11, 12, 16, 5, 13, 14, 2, 4, 5, 9, 15, 16, 1, 2, 3, 4, 5, 6, 7, 8, 9, 10, 12, 13, 14, 2, 16, 1, 2, 3, 4, 5, 6, 7, 8, 9, 10, 11, 12, 13, 14, 15, 16, 6, 9, 4, 8, 12, 1, 6, 7, 8, 9, 12, 13, 14, 7, 13, 15, 11, 13, 11, 11, 11, 1, 2, 3, 4, 5, 6, 7, 8, 9, 10, 11, 12, 13, 14, 15, 16, 9, 12, 14, 8, 1, 2, 3, 4, 5, 6, 7, 8, 9, 10, 11, 12, 13, 14, 15, 16, 10, 4, 5, 3, 4, 6, 10, 10, 14, 15, 16, 1, 2, 4, 5, 8, 9, 10, 11, 12, 15, 5, 8, 8, 3, 5, 6, 7, 8, 9, 11, 5, 7, 11, 4, 7, 1, 2, 3, 4, 5, 6, 7, 8, 9, 10, 11, 12, 13, 14, 15, 16, 7, 8, 1, 5, 8, 1, 2, 3, 4, 5, 6, 7, 10, 12, 13, 14, 15, 3, 8, 15, 4, 1, 2, 3, 4, 5, 6, 7, 8, 9, 10, 11, 12, 13, 14, 15, 16, 8, 8, 2, 3, 4, 5, 6, 9, 10, 11, 12, 13, 14, 15, 5, 15, 10, 11, 14, 4, 14, 15, 4, 4, 1, 1, 2, 4, 5, 9, 10, 12, 13, 16, 2, 10, 11, 16, 16, 3, 4, 10, 14, 7, 8, 9, 2, 4, 9, 13, 7, 9, 2, 4, 5, 10, 12, 13, 14, 16, 4, 1, 2, 3, 4, 5, 6, 7, 8, 9, 10, 11, 12, 13, 14, 15, 16, 1, 2, 3, 5, 6, 7, 8, 9, 10, 12, 13, 14, 16, 2, 3, 4, 5, 6, 10, 11, 15, 6, 1, 2, 3, 4, 5, 6, 7, 8, 9, 10, 11, 12, 13, 14, 15, 16, 1, 5, 15, 13, 15, 6, 9, 9, 1, 2, 4, 5, 7, 9, 15, 1, 4, 6, 7, 8, 9, 12, 14, 6, 7, 12, 13, 5, 1, 2, 3, 4, 5, 6, 7, 8, 9, 10, 11, 12, 13, 14, 15, 16, 8, 15, 1, 2, 4, 5, 7, 9, 10, 11, 13, 15, 16, 13, 2, 3, 6, 10, 11, 12, 15, 2, 3, 10, 11, 15, 2, 3, 11, 3, 1, 6, 7, 8, 12, 14, 1, 5, 7, 8, 13, 15, 1, 5, 8, 7, 6, 11, 12, 3, 7, 8, 9, 14, 2, 3, 4, 6, 7, 8, 10, 12, 14, 2, 4, 7, 10, 13, 14, 9, 2, 4, 10, 14, 4, 6, 7, 10, 14, 15, 5, 1, 4, 5, 7, 8, 9, 10, 12, 13, 14, 1, 8, 12, 15, 8, 1, 2, 3, 4, 6, 7, 8, 10, 11, 12, 13, 14, 15, 16, 6, 1, 2, 4, 5, 6, 7, 8, 9, 10, 13, 16, 8, 3, 6, 8, 8, 12, 5, 11, 13, 7, 8, 10, 1, 2, 4, 5, 9, 13, 3, 1, 2, 3, 4, 5, 8, 9, 10, 11, 13, 1, 2, 3, 8, 9, 16, 13, 7, 8, 3, 3, 1, 2, 3, 5, 6, 8, 9, 10, 11, 13, 14, 15, 16, 2, 4, 7, 9, 10, 14, 10, 10, 1, 5, 6, 7, 8, 13, 14, 15, 2, 3, 11, 8, 4, 9, 10, 14, 15, 8, 13, 4, 14, 16, 1, 2, 3, 6, 7, 8, 9, 10, 12, 13, 14, 15, 16, 2, 5, 13, 10, 4, 14, 12, 15, 1, 2, 4, 5, 8, 9, 12, 15, 16, 1, 2, 3, 4, 6, 7, 8, 9, 10, 11, 12, 13, 14, 15, 16, 1, 2, 3, 4, 5, 6, 7, 8, 9, 10, 11, 12, 13, 14, 15, 16, 1, 2, 3, 4, 5, 6, 7, 8, 9, 10, 11, 12, 13, 14, 15, 16, 6, 2, 3, 10, 11, 1, 2, 3, 4, 5, 6, 7, 8, 9, 10, 11, 12, 13, 14, 15, 16, 4, 9, 14, 1, 8, 13, 1, 2, 3, 4, 5, 6, 7, 8, 9, 10, 11, 13, 14, 1, 2, 3, 4, 8, 10, 11, 12, 13, 15, 4, 10, 11, 2, 11, 12, 1, 2, 3, 4, 5, 6, 8, 9, 10, 11, 13, 14, 2, 3, 4, 5, 6, 7, 8, 10, 11, 12, 13, 14, 15, 3, 10, 7, 2, 9, 10, 11, 13, 14, 2, 10, 1, 2, 3, 4, 5, 7, 8, 9, 12, 13, 15, 16, 15, 2, 3, 6, 10, 11, 15, 1, 2, 3, 6, 8, 10, 11, 12, 14, 15, 2, 12, 11, 6, 1, 2, 3, 4, 5, 6, 7, 8, 9, 10, 13, 14, 16, 10, 14, 4, 10, 3, 10, 15, 13, 9, 11, 13, 1, 2, 3, 4, 5, 6, 9, 10, 11, 13, 15, 16, 15, 1, 15, 4, 6, 8, 13, 1, 2, 3, 4, 5, 6, 7, 8, 9, 10, 11, 12, 13, 14, 15, 16, 16, 1, 6, 8, 11, 12, 9, 12, 12, 1, 3, 5, 6, 7, 8, 10, 12, 3, 4, 9, 10, 14, 11, 5, 6, 11, 13, 1, 2, 3, 4, 5, 6, 7, 8, 9, 10, 11, 12, 13, 14, 15, 16, 1, 2, 3, 4, 5, 6, 7, 8, 9, 10, 11, 12, 13, 14, 15, 16, 2, 7, 3, 5, 7, 9, 15, 16, 2, 16, 7, 2, 4, 7, 10, 12, 14, 16, 1, 7, 8, 12, 7, 8, 2, 5, 7, 8, 9, 12, 13, 14, 15, 16, 6, 2, 3, 6, 7, 8, 13, 15, 2, 16, 3, 7, 2, 5, 7, 11, 1, 1, 9, 14, 9, 1, 2, 3, 4, 5, 6, 7, 8, 9, 10, 11, 12, 13, 14, 15, 16, 7, 12, 2, 7, 14, 3, 14, 8, 9, 12, 2, 5, 10, 11, 12, 15, 16, 15, 1, 2, 3, 4, 5, 6, 7, 8, 9, 10, 11, 12, 13, 14, 15, 16, 1, 6, 7, 9, 13, 13, 4, 14, 3, 1, 2, 3, 6, 7, 8, 9, 10, 12, 13, 15, 16, 2, 3, 5, 7, 10, 11, 12, 13, 15, 16, 16, 1, 2, 3, 4, 5, 6, 7, 8, 9, 10, 11, 12, 13, 14, 15, 16, 1, 8, 2, 5, 6, 3, 10, 14, 2, 3, 4, 8, 9, 10, 11, 13, 15, 16, 3, 15, 12, 9, 10, 14, 3, 13, 3, 1, 2, 4, 5, 6, 7, 8, 9, 11, 12, 13, 14, 16, 13, 1, 2, 3, 4, 5, 6, 7, 8, 9, 10, 11, 12, 13, 14, 15, 16, 1, 5, 15, 7, 5, 1, 2, 4, 5, 6, 7, 8, 9, 12, 13, 14, 16, 6, 7, 14, 14, 2, 4, 2, 3, 4, 5, 6, 7, 8, 9, 10, 11, 12, 13, 14, 15, 16, 3, 14, 1, 13, 1, 2, 3, 4, 5, 6, 7, 8, 9, 10, 11, 12, 13, 14, 15, 16, 13, 3, 5, 11, 12, 15, 14, 12, 4, 6, 13, 15, 1, 2, 3, 4, 5, 6, 7, 8, 9, 10, 11, 12, 13, 14, 15, 16, 1, 7, 8, 12, 13, 2, 3, 4, 5, 6, 8, 10, 13, 15, 12, 2, 3, 4, 5, 6, 9, 10, 11, 12, 13, 14, 16, 5, 5, 15, 3, 7, 12, 15, 1, 2, 3, 4, 5, 6, 7, 8, 9, 10, 11, 12, 13, 14, 15, 16, 13, 15, 2, 4, 6, 7, 9, 11, 13, 16, 1, 2, 3, 5, 6, 7, 8, 9, 10, 11, 13, 15, 16, 4, 9, 11, 13, 1, 2, 3, 5, 6, 7, 8, 9, 10, 11, 12, 13, 14, 15, 16, 2, 5, 10, 11, 12, 15, 2, 3, 4, 6, 10, 11, 13, 1, 6, 7, 8, 9, 11, 12, 13, 9, 9, 10, 1, 16, 1, 2, 3, 4, 5, 6, 7, 8, 9, 10, 12, 13, 14, 15, 16, 1, 3, 11, 15, 16, 14, 8, 5, 7, 10, 14, 1, 2, 5, 6, 7, 8, 10, 11, 12, 13, 15, 16, 1, 3, 2, 3, 15, 1, 2, 3, 8, 11, 15, 4, 16, 2, 3, 6, 8, 10, 12, 15, 1, 2, 3, 4, 6, 7, 8, 9, 10, 11, 13, 14, 15, 9, 14, 9, 10, 14, 15, 2, 3, 4, 5, 6, 8, 9, 10, 11, 12, 13, 16, 10, 6, 1, 2, 3, 4, 5, 6, 7, 8, 9, 10, 11, 12, 13, 14, 15, 16, 1, 6, 8, 10, 12, 13, 14, 8, 12, 13, 15, 1, 2, 4, 5, 9, 10, 13, 14, 15, 16, 1, 4, 10, 16, 1, 2, 3, 4, 5, 6, 7, 8, 9, 10, 11, 12, 13, 14, 15, 16, 1, 2, 3, 4, 5, 6, 7, 8, 9, 10, 11, 12, 13, 14, 15, 16, 9, 2, 3, 5, 11, 12, 3, 1, 2, 3, 4, 5, 6, 7, 8, 9, 12, 13, 14, 1, 15, 6, 14, 16, 2, 3, 4, 9, 10, 11, 14, 16, 5, 15, 16, 1, 1, 2, 3, 4, 5, 6, 7, 8, 9, 10, 11, 12, 14, 15, 16, 16, 1, 6, 6, 8, 10, 11, 14, 16, 1, 2, 3, 4, 5, 6, 7, 8, 9, 10, 11, 12, 13, 14, 15, 16, 3, 5, 6, 10, 11, 13, 15, 2, 3, 5, 6, 7, 8, 9, 10, 11, 12, 13, 14, 15, 16, 1, 2, 3, 4, 5, 6, 7, 8, 10, 11, 12, 13, 14, 15, 16, 2, 3, 4, 5, 6, 7, 8, 9, 10, 11, 12, 13, 14, 16, 2, 3, 4, 9, 11, 13, 14, 16, 14, 1, 2, 3, 4, 5, 6, 7, 8, 9, 10, 11, 12, 13, 14, 15, 16, 2, 13, 13, 1, 2, 3, 4, 5, 6, 7, 8, 9, 12, 13, 14, 16, 1, 2, 3, 6, 8, 13, 2, 10, 6, 2, 3, 7, 8, 10, 11, 14, 15, 1, 2, 6, 7, 8, 9, 11, 12, 13, 14, 2, 4, 5, 8, 9, 11, 12, 13, 16, 4, 9, 10, 11, 12, 13, 14, 2, 15, 15, 16, 3, 6, 9, 16, 1, 2, 3, 5, 6, 7, 8, 9, 10, 11, 12, 13, 15, 16, 13, 1, 2, 5, 9, 11, 12, 13, 16, 12, 2, 3, 7, 8, 12, 14, 1, 16, 1, 2, 3, 4, 5, 6, 8, 10, 11, 12, 15, 16, 9, 14, 2, 3, 5, 6, 7, 9, 11, 12, 13, 14, 15, 16, 1, 3, 4, 6, 7, 13, 2, 1, 4, 5, 9, 10, 11, 12, 14, 15, 16, 9, 12, 4, 9, 13, 1, 2, 3, 4, 5, 6, 7, 8, 9, 10, 11, 12, 13, 14, 15, 16, 1, 2, 3, 4, 5, 6, 7, 8, 9, 10, 11, 12, 13, 14, 15, 16, 13, 12, 14, 2, 5, 8, 10, 11, 14, 3, 14, 5, 14, 11, 2, 9, 10, 11, 13, 6, 14, 1, 2, 3, 4, 5, 6, 7, 8, 9, 10, 11, 12, 13, 14, 16, 1, 3, 5, 15, 1, 2, 4, 7, 9, 10, 11, 12, 13, 14, 15, 16, 3, 2, 5, 2, 3, 4, 6, 2, 10, 11, 1, 2, 3, 4, 5, 6, 7, 8, 9, 10, 11, 12, 13, 14, 15, 16, 2, 4, 9, 10, 13, 16, 11, 12, 11, 2, 7, 8, 9, 10, 11, 12, 13, 14, 15, 2, 3, 4, 7, 9, 11, 14, 15, 4, 2, 3, 4, 5, 7, 8, 9, 10, 12, 13, 15, 1, 2, 3, 4, 5, 6, 7, 8, 9, 10, 11, 12, 13, 14, 15, 16, 1, 2, 3, 4, 5, 6, 7, 8, 9, 10, 11, 12, 13, 14, 15, 16, 4, 11, 13, 3, 13, 2, 5, 6, 8, 10, 11, 14, 9, 13, 9, 4, 5, 15, 8, 16, 11, 16, 1, 2, 3, 5, 6, 7, 8, 9, 11, 12, 13, 15, 16, 3, 1, 2, 3, 5, 6, 7, 8, 10, 11, 12, 13, 14, 16, 7, 5, 10, 1, 2, 3, 4, 5, 6, 7, 8, 9, 10, 11, 12, 14, 15, 16, 8, 2, 5, 8, 12, 8, 15, 15, 2, 2, 2, 3, 4, 10, 11, 14, 16, 2, 3, 4, 10, 14, 1, 2, 3, 4, 5, 6, 7, 9, 10, 11, 13, 15, 16, 4, 10, 14, 4, 2, 3, 4, 6, 10, 15, 6, 1, 2, 3, 4, 5, 6, 7, 8, 9, 10, 11, 12, 13, 14, 15, 16, 1, 2, 3, 4, 5, 6, 7, 8, 9, 10, 11, 12, 13, 14, 15, 16, 2, 14, 2, 3, 4, 5, 9, 10, 11, 14, 15, 2, 4, 14, 1, 2, 3, 8, 9, 10, 11, 12, 13, 14, 15, 16, 1, 13, 14, 15, 16, 8, 8, 1, 2, 5, 8, 9, 10, 11, 15, 1, 2, 3, 4, 5, 7, 8, 9, 10, 11, 12, 13, 15, 16, 2, 3, 7, 8, 9, 10, 11, 12, 14, 2, 8, 2, 3, 8, 9, 11, 12, 13, 14, 1, 2, 3, 4, 5, 6, 7, 8, 9, 10, 11, 12, 13, 14, 15, 16, 7, 7, 13, 3, 4, 10, 9, 1, 2, 3, 6, 11, 16, 12, 16, 1, 2, 3, 4, 5, 6, 7, 8, 9, 10, 11, 12, 13, 14, 15, 16, 16, 1, 2, 3, 10, 11, 2, 3, 7, 10, 13, 15, 12, 10, 16, 2, 3, 4, 5, 6, 7, 8, 9, 10, 11, 12, 13, 14, 15, 16, 1, 2, 3, 4, 5, 8, 10, 12, 14, 15, 16, 1, 3, 7, 7, 10, 12, 8, 12, 11, 2, 3, 10, 11, 12, 3, 12, 14, 1, 2, 3, 4, 5, 6, 7, 8, 9, 10, 11, 12, 13, 14, 15, 16, 1, 2, 3, 4, 5, 6, 7, 8, 9, 10, 12, 13, 14, 15, 16, 1, 2, 3, 4, 5, 6, 7, 8, 9, 10, 11, 12, 13, 14, 15, 16, 1, 2, 3, 4, 6, 7, 10, 11, 13, 14, 16, 6, 2, 1, 5, 6, 10, 12, 15, 1, 12, 16, 8, 5, 11, 12, 15, 16, 3, 5, 7, 10, 11, 15, 2, 10, 1, 2, 3, 4, 5, 7, 8, 9, 10, 12, 13, 14, 16, 13, 1, 2, 3, 4, 5, 6, 7, 8, 9, 10, 11, 12, 13, 14, 15, 16, 11, 1, 2, 3, 4, 5, 7, 8, 9, 10, 11, 12, 13, 14, 15, 16, 1, 2, 5, 6, 7, 8, 9, 10, 11, 12, 13, 14, 15, 16, 1, 2, 4, 6, 7, 8, 12, 13, 6, 13, 2, 3, 4, 5, 7, 9, 10, 11, 12, 14, 1, 7, 1, 2, 3, 5, 6, 7, 8, 9, 10, 11, 12, 13, 14, 15, 16, 1, 5, 1, 5, 8, 1, 2, 6, 7, 8, 9, 10, 12, 15, 16, 4, 1, 2, 3, 5, 6, 8, 9, 10, 11, 12, 13, 15, 16, 8, 2, 3, 4, 5, 6, 9, 10, 11, 1, 2, 4, 6, 7, 8, 9, 10, 12, 13, 14, 16, 4, 7, 11, 2, 15, 2, 4, 9, 10, 11, 15, 6, 11, 15, 11, 15, 5, 11, 5, 1, 2, 3, 4, 5, 6, 7, 8, 9, 10, 11, 12, 13, 14, 15, 16, 7, 11, 3, 11, 1, 4, 6, 7, 8, 10, 13, 14, 15, 4, 10, 14, 6, 8, 11, 14, 16, 3, 13, 1, 2, 3, 4, 5, 6, 7, 8, 9, 10, 11, 12, 13, 14, 15, 16, 7, 4, 5, 11, 12, 14, 15, 4, 1, 2, 3, 4, 5, 6, 7, 8, 9, 10, 11, 12, 13, 14, 15, 16, 12, 1, 2, 4, 6, 7, 9, 11, 12, 13, 14, 2, 3, 11, 15, 16, 1, 2, 3, 4, 5, 6, 7, 8, 9, 10, 11, 12, 13, 14, 15, 16, 1, 2, 3, 4, 6, 7, 8, 10, 11, 12, 14, 16, 1, 2, 3, 4, 5, 6, 7, 8, 9, 10, 11, 12, 13, 14, 15, 16, 9, 11, 3, 7, 12, 13, 14, 15, 16, 1, 1, 2, 3, 5, 6, 7, 8, 9, 10, 11, 12, 13, 16, 13, 16, 14, 15, 9, 1, 2, 3, 4, 5, 6, 7, 8, 9, 10, 11, 12, 13, 14, 15, 16, 16, 3, 7, 8, 11, 1, 2, 4, 5, 7, 9, 10, 13, 14, 15, 16, 12, 1, 2, 10, 14, 2, 3, 4, 5, 6, 7, 8, 10, 11, 12, 13, 14, 15, 16, 2, 3, 7, 10, 11, 14, 14, 15, 3, 1, 3, 4, 6, 8, 9, 11, 13, 16, 9, 15, 1, 2, 3, 4, 5, 6, 7, 8, 9, 10, 11, 12, 13, 14, 15, 16, 1, 2, 3, 6, 11, 12, 12, 4, 4, 14, 13, 1, 2, 3, 4, 5, 6, 7, 8, 9, 10, 11, 12, 13, 14, 15, 16, 9, 11, 16, 3, 1, 2, 3, 5, 8, 9, 12, 15, 16, 1, 4, 7, 8, 12, 7, 9, 1, 10, 11, 4, 6, 16, 1, 2, 3, 4, 5, 6, 7, 8, 9, 10, 11, 12, 13, 14, 15, 16, 9, 2, 4, 9, 10, 16, 6, 6, 13, 1, 2, 4, 5, 6, 9, 10, 11, 13, 16, 15, 1, 2, 3, 4, 5, 6, 7, 8, 9, 10, 11, 12, 13, 14, 15, 16, 3, 8, 11, 2, 16, 1, 4, 5, 7, 8, 9, 10, 12, 16, 1, 7, 9, 12, 1, 2, 4, 5, 6, 7, 8, 9, 10, 11, 12, 13, 14, 15, 16, 5, 1, 2, 3, 4, 5, 6, 7, 8, 9, 11, 12, 13, 14, 15, 16, 1, 9, 1, 1, 10, 15, 1, 2, 3, 4, 5, 6, 7, 8, 9, 10, 11, 12, 13, 14, 15, 16, 4, 13, 4, 4, 4, 9, 10, 14, 16, 2, 3, 4, 5, 6, 7, 9, 10, 11, 12, 13, 14, 12, 16, 4, 6, 11, 3, 3, 2, 3, 4, 6, 9, 11, 7, 16, 12, 13, 2, 8, 12, 2, 3, 4, 5, 6, 7, 8, 9, 10, 11, 12, 13, 14, 15, 12, 2, 9, 2, 2, 3, 4, 5, 6, 7, 8, 9, 10, 11, 12, 13, 14, 16, 2, 3, 8, 12, 16, 1, 2, 3, 4, 5, 6, 7, 8, 9, 10, 11, 12, 13, 14, 15, 16, 4, 14, 1, 11, 4, 10, 1, 2, 6, 2, 3, 4, 5, 6, 7, 9, 10, 11, 12, 13, 14, 15, 16, 2, 3, 9, 10, 11, 12, 16, 1, 2, 3, 4, 5, 6, 7, 8, 9, 10, 11, 12, 13, 14, 15, 16, 1, 2, 3, 4, 5, 6, 8, 9, 10, 11, 12, 13, 15, 16, 3, 4, 9, 10, 13, 1, 2, 3, 4, 5, 6, 7, 8, 9, 10, 11, 12, 13, 14, 15, 16, 2, 4, 13, 2, 2, 3, 4, 6, 7, 10, 14, 15, 2, 3, 4, 5, 8, 9, 10, 12, 14, 9, 8, 8, 9, 14, 11, 1, 2, 5, 7, 11, 12, 15, 3, 8, 10, 3], \"Freq\": [0.9835664997690503, 0.949905499994289, 0.8840048742816451, 0.014181896378849921, 0.014181896378849921, 0.08036407948014955, 0.9842112263454064, 0.05433807331483348, 0.32484717742563496, 0.03425661143761241, 0.0023625249267318904, 0.026578405425733767, 0.24865574853853148, 0.02716903665741674, 0.06201627932671212, 0.021262724340587014, 0.08741342228907995, 0.028940930352465657, 0.02067209310890404, 0.02480651173068485, 0.028940930352465657, 0.0011812624633659452, 0.007087574780195671, 0.960559744183611, 0.9705427355550472, 0.04542537151684928, 0.0014653345650596542, 0.004396003695178962, 0.026376022171073776, 0.470372395384149, 0.02198001847589481, 0.0014653345650596542, 0.017584014780715848, 0.035168029561431696, 0.3721949795251521, 0.0029306691301193085, 0.019082176468976607, 0.9541088234488303, 0.9631407760993252, 0.015185529666519787, 0.9718738986572664, 0.998035711346942, 0.028388623383941575, 0.06813269612145978, 0.043258854680291926, 0.16005776231708013, 0.11193228648525536, 0.11058044727649624, 0.05001805072408754, 0.024873841441167856, 0.10544345828321157, 0.03758113000350361, 0.09219543403737217, 0.01973685244788319, 0.06164386791941599, 0.04569216525605835, 0.027307152016934278, 0.012977656404087578, 0.018191158786590014, 0.08337614443853757, 0.004547789696647504, 0.004547789696647504, 0.06215312585418255, 0.0015159298988825013, 0.8231499350931981, 0.23975063882093464, 0.01844235683237959, 0.004610589208094897, 0.023052946040474486, 0.004610589208094897, 0.03688471366475918, 0.6639248459656651, 0.004610589208094897, 0.9562490090852542, 0.698697420746875, 0.0016999937244449514, 0.2957989080534215, 0.005099981173334854, 0.9577776718845101, 0.005480292607478588, 0.9645314989162314, 0.027401463037392937, 0.17571403039929676, 0.1171426869328645, 0.6969989872505438, 0.005857134346643225, 0.9498283023813611, 0.0327527000821159, 0.9481242082871424, 0.9866752374914248, 0.02695865829462082, 0.0787192822202928, 0.0017972438863080547, 0.008986219431540274, 0.0003594487772616109, 0.7127869253097745, 0.0003594487772616109, 0.16822202775843392, 0.0010783463317848329, 0.05373489348533398, 0.9403606359933447, 0.02504503404723715, 0.07513510214171144, 0.004174172341206192, 0.004174172341206192, 0.004174172341206192, 0.8682278469708878, 0.020870861706030957, 0.8261209635758019, 0.04079609696670627, 0.10538991716399118, 0.027197397977804176, 0.003399674747225522, 0.007472395926584602, 0.9900924602724598, 0.964898929523887, 0.05620686705188165, 0.09654889259718381, 0.09972186089849971, 0.07388483330207024, 0.043514993846618055, 0.052580617564663486, 0.10470795394342469, 0.06708561551353617, 0.05937983535319755, 0.13598435577068144, 0.018584528621993127, 0.08974967480864975, 0.046687962147933956, 0.024023902852820384, 0.023117340481015842, 0.007705780160338614, 0.7548131562103568, 0.03219582182887778, 0.146669854998221, 0.014309254146167903, 0.03935044890196173, 0.010731940609625927, 0.000864580163392504, 0.24294702591329362, 0.019885343758027592, 0.000864580163392504, 0.0043229008169625195, 0.06311435192765279, 0.10029129895353046, 0.059656031274082776, 0.42537344038911196, 0.000864580163392504, 0.034583206535700156, 0.032854046208915154, 0.007781221470532536, 0.0043229008169625195, 0.003458320653570016, 0.05502906978028862, 0.9354941862649065, 0.9618299768888277, 0.13713423219986243, 0.07033922844446223, 0.005180020699398382, 0.001090530673557554, 0.0046347553626196044, 0.0019084286787257195, 0.000545265336778777, 0.009542143393628598, 0.6747658542637366, 0.0029989593522832736, 0.020992715465982914, 0.004089490025840828, 0.0662497384186214, 0.0002726326683893885, 0.0002726326683893885, 0.9396340843156444, 0.9804395659551078, 0.9386197544522764, 0.0034052507166473845, 0.006810501433294769, 0.05788926218300554, 0.017026253583236922, 0.8479074284451987, 0.023836755016531694, 0.034052507166473844, 0.0034052507166473845, 0.00026130876357661846, 0.164363212289693, 0.2704545703018001, 0.00679402785299208, 0.007316645380145316, 0.038151079482186295, 0.05879447180473915, 0.037889770718609675, 0.07029205740211036, 0.24406238518056164, 0.003919631453649277, 0.05905578056831577, 0.0007839262907298553, 0.03501537431926687, 0.0007839262907298553, 0.001829161345036329, 0.9519696603690415, 0.5698584413359002, 0.00495529079422522, 0.024776453971126097, 0.058224666832146325, 0.03716468095668914, 0.023537631272569793, 0.029731744765351314, 0.24157042621847943, 0.001238822698556305, 0.007432936191337829, 0.9753740556865522, 0.9726583175447397, 0.9437258480807447, 0.0003460674177047102, 0.002422471923932971, 0.051217977820297106, 0.0010382022531141306, 0.0006921348354094204, 0.07875678437244667, 0.910078397192717, 0.9648101561960246, 0.9949882690044624, 0.9804057365520993, 0.9968519432613142, 0.001718710247002266, 0.012080149599554887, 0.9482917435650586, 0.009060112199666166, 0.021140261799221054, 0.0030200373998887217, 0.0030200373998887217, 0.016956596335153055, 0.932612798433418, 0.050869789005459166, 0.9097465302230743, 0.047382631782451785, 0.02842957906947107, 0.009476526356490357, 0.05982781172646662, 0.9173597798058214, 0.9776326742222471, 0.9513406915121582, 0.966335708964238, 0.03221119029880793, 0.0050598468001103675, 0.17203479120375248, 0.8196951816178795, 0.08309998413349938, 0.007554544012136307, 0.022663632036408924, 0.05288180808495415, 0.8234452973228575, 0.9771833376566468, 0.9804959253169998, 0.003216568987261798, 0.0042887586496823974, 0.13295151814015432, 0.01608284493630899, 0.12437400084078952, 0.006433137974523596, 0.06862013839491836, 0.25625332931852324, 0.04610415548408577, 0.3355953643376476, 0.0042887586496823974, 0.0010721896624205994, 0.0010721896624205994, 0.9701160826979903, 0.9092878530842156, 0.029570336685665544, 0.003696292085708193, 0.05174808919991471, 0.014259168027720244, 0.014259168027720244, 0.0998141761940417, 0.8698092496909349, 0.9214860178503975, 0.04006460947175641, 0.10518673930121672, 0.8882435763213856, 0.9934514429882747, 0.06372694086074829, 0.10805872580735579, 0.01847157706108646, 0.04156104838744454, 0.01754799820803214, 0.006465051971380261, 0.0240130501794124, 0.10898230466041012, 0.06649767741991125, 0.01570084050192349, 0.17086208781504975, 0.026783786738575368, 0.016624419354977812, 0.30201028494876364, 0.001847157706108646, 0.011082946236651877, 0.0012023474426657648, 0.0036070423279972942, 0.07695023633060895, 0.7334319400261166, 0.0012023474426657648, 0.006011737213328824, 0.03967746560797024, 0.0012023474426657648, 0.06733145678928283, 0.0036070423279972942, 0.0036070423279972942, 0.008416432098660354, 0.04208216049330177, 0.012023474426657648, 0.9641796005692538, 0.01198862964058997, 0.9710790008877876, 0.9519908373395838, 0.9799135891170488, 0.0013689560221763564, 0.05886510895358332, 0.9336280071242751, 0.002737912044352713, 0.9777597483878913, 0.04916732036531642, 0.09025234149249864, 0.0457996956827605, 0.04714674555578287, 0.14346081147688217, 0.1717488588103519, 0.08688471680994272, 0.05118789517484997, 0.06802601858762958, 0.03637034657160393, 0.01549107353975723, 0.12796973793712493, 0.020205748095335516, 0.006061724428600655, 0.03300272188904801, 0.0074087743016230225, 0.002779154178659794, 0.001389577089329897, 0.009727039625309278, 0.985210156334897, 0.9797136809322967, 0.9951824827805018, 0.19995187051525015, 0.002563485519426284, 0.17175352980156103, 0.010253942077705136, 0.048706224869099396, 0.1922614139569713, 0.02563485519426284, 0.03845228279139426, 0.010253942077705136, 0.005126971038852568, 0.2922373492145964, 0.009737546230164202, 0.017040705902787355, 0.007303159672623152, 0.004868773115082101, 0.007303159672623152, 0.1387600337798399, 0.0024343865575410504, 0.09737546230164201, 0.7132752613595278, 0.9708133434162635, 0.017694913137799702, 0.0044237282844499255, 0.023593217517066268, 0.09732202225789836, 0.0014745760948166417, 0.6104745032540897, 0.0014745760948166417, 0.013271184853349776, 0.008847456568899851, 0.1341864246283144, 0.0014745760948166417, 0.02506779361188291, 0.058983043792665675, 0.9788345688923019, 0.9734188772536763, 0.018252480197121907, 0.967381450447461, 0.9749297274264775, 0.9964900604262188, 0.9947693736614109, 0.9673012315896907, 0.8616996148826589, 0.0033925181688293656, 0.1289156904155159, 0.9796927904843715, 0.9986167240331659, 0.0011283804791335208, 0.9622815959297871, 0.6653082660189064, 0.29506381178238256, 0.011317516068365358, 0.025868608156263677, 0.0008083940048832399, 0.0008083940048832399, 0.0008083940048832399, 0.06634934557911788, 0.07882529090168705, 0.4927998402414824, 0.022116448526372626, 0.017012652712594327, 0.07598984878292132, 0.013043033746322317, 0.05500757710405499, 0.04366580862899211, 0.08563035198672478, 0.006237972661284587, 0.005670884237531443, 0.0005670884237531442, 0.01587847586508804, 0.01984809483136005, 0.0005670884237531442, 0.0029158063467438627, 0.18019683222877073, 0.0005831612693487726, 0.28341637690350346, 0.021576966965904585, 0.0005831612693487726, 0.510266110680176, 0.20973190923784782, 0.6851242368436362, 0.021971914301107866, 0.003994893509292339, 0.07989787018584679, 0.27162538444972945, 0.08244952647715229, 0.001832211699492273, 0.5743983677908275, 0.05496635098476819, 0.0032063704741114776, 0.00045805292487306824, 0.0013741587746192046, 0.00045805292487306824, 0.00045805292487306824, 0.00045805292487306824, 0.005954688023349887, 0.00045805292487306824, 0.0022902646243653413, 0.11496186714724876, 0.0016134998897859476, 0.0649433705638844, 0.0004033749724464869, 0.006857374531590277, 0.18877948710495587, 0.17304786317954288, 0.16256011389593422, 0.08148174443419036, 0.05687587111495465, 0.0004033749724464869, 0.10245724300140767, 0.018151873760091912, 0.0004033749724464869, 0.027026123153914623, 0.40247041455924903, 0.10917389070929037, 0.36954495545644717, 0.09314439088292631, 0.017329189001474662, 0.0008664594500737331, 0.006065216150516132, 0.00043322972503686657, 0.00043322972503686657, 0.10726895689056877, 0.09886539805582376, 0.03114260038758448, 0.005931923883349425, 0.02002024310630431, 0.029906782911886684, 0.42882866406713555, 0.025952166989653736, 0.025457839999374617, 0.010628030291001053, 0.01977307961116475, 0.005190433397930747, 0.1186384776669885, 0.06821712465851838, 0.0029659619416747126, 0.0009886539805582376, 0.042237303220113806, 0.09422167641410004, 0.03898827989548967, 0.042237303220113806, 0.003249023324624139, 0.009747069973872417, 0.7570224346374244, 0.006498046649248278, 0.04520390077258833, 0.9402411360698374, 0.009040780154517668, 0.9917496459015531, 0.9486320985484269, 0.28563392271614246, 0.03812135525611959, 0.022099336380359186, 0.04033128889415551, 0.08452996165487388, 0.03977880548464653, 0.12872863441559226, 0.06629800914107756, 0.019889402742323266, 0.009392217961652653, 0.03149155434201184, 0.04585612298924531, 0.10994419849228694, 0.034253971389556735, 0.020441886151832248, 0.023756786608886124, 0.20740325734644907, 0.00797704835947881, 0.039885241797394055, 0.7219228765328324, 0.003988524179739405, 0.003988524179739405, 0.011965572539218216, 0.015633214151071374, 0.979681420133806, 0.980083131166404, 0.9669146983043612, 0.931983667535894, 0.045057734562804035, 0.01897167771065433, 0.96054366843871, 0.025030453900682995, 0.012515226950341497, 0.9651966150819139, 0.9944858503286956, 0.9777625737098178, 0.015958368508798976, 0.07515876781563388, 0.0700109070063439, 0.2586800056668221, 0.0635760809947314, 0.03783677694828144, 0.004375681687896493, 0.0074643981734704885, 0.054567324578473915, 0.016473154589727975, 0.2800436280253756, 0.013384438104153979, 0.053537752416615916, 0.03757938390781694, 0.009266149456721984, 0.002316537364180496, 0.9851486812993494, 0.0037601094706082036, 0.007520218941216407, 0.4513720224174964, 0.0017427491213030748, 0.0017427491213030748, 0.0008713745606515374, 0.0008713745606515374, 0.5428663512859079, 0.9433009902232168, 0.035687565576429325, 0.13680233470964573, 0.8208140082578744, 0.2865181121890381, 0.06689823817624238, 0.06161679832022325, 0.014523959604052623, 0.029928159184108436, 0.025967079292094082, 0.10078747725236517, 0.01232335966404465, 0.12411383661644969, 0.04401199880015946, 0.14391923607652143, 0.0246467193280893, 0.03520959904012757, 0.01804491950806538, 0.002200599940007973, 0.009242519748033487, 0.06078149490537604, 0.9117224235806407, 0.022793060589516016, 0.9807784646010856, 0.9874661797333175, 0.9534978602535519, 0.0066921263079853304, 0.10484331215843685, 0.0022307087693284435, 0.060229136771867975, 0.12491969108239284, 0.7004425535691313, 0.01131809143371172, 0.00565904571685586, 0.06790854860227033, 0.016977137150567582, 0.0565904571685586, 0.02263618286742344, 0.10752186862026135, 0.00565904571685586, 0.5828817088361536, 0.01131809143371172, 0.01131809143371172, 0.10186282290340548, 0.721639860093283, 0.2703769396655572, 0.005712188866173744, 0.001904062955391248, 0.9410816857336848, 0.0034867187732398226, 0.00020510110430822486, 0.00020510110430822486, 0.006768336442171421, 0.0004102022086164497, 0.6893448115799438, 0.11588212393414704, 0.1419299641812916, 0.002461213251698698, 0.001230606625849349, 0.013536672884342842, 0.023381525891137633, 0.0008204044172328994, 0.00020510110430822486, 0.9546966459160192, 0.9638987134631402, 0.8758081908842742, 0.12164002651170476, 0.06114484393556547, 0.9171726590334821, 0.008734977705080782, 0.008734977705080782, 0.04299651641921348, 0.03378297718652488, 0.23110627575327247, 0.001535589872114767, 0.0023033848081721506, 0.4460888578493399, 0.03685415693075441, 0.0007677949360573835, 0.009213539232688603, 0.1965555036306902, 0.9344006946109757, 0.24557935992632912, 0.002154204911634466, 0.001077102455817233, 0.004308409823268932, 0.058163532614130584, 0.01723363929307573, 0.006462614734903398, 0.6634951127834156, 0.001077102455817233, 0.942724958923533, 0.9666455883251666, 0.019254006013224984, 0.9723273036678618, 0.004813501503306246, 0.024848862960613075, 0.03882634837595793, 0.12890347660818033, 0.06056910346649437, 0.009318323610229903, 0.0046591618051149515, 0.11492599119283547, 0.012424431480306537, 0.07454658888183922, 0.02795497083068971, 0.05280383379130278, 0.0046591618051149515, 0.06678131920664764, 0.3323535420981999, 0.046591618051149516, 0.9562338026324412, 0.035416066764164485, 0.05226272754734716, 0.9233081866697999, 0.014734448773188769, 0.029468897546377538, 0.9282702727108925, 0.0343237505529273, 0.9496237652976552, 0.9627333657383298, 0.9623850629452589, 0.02641383689547653, 0.0020318336073443487, 0.004063667214688697, 0.04063667214688697, 0.05892317461298611, 0.5709452436637619, 0.08127334429377393, 0.15238752055082613, 0.056891341005641756, 0.0020318336073443487, 0.0020318336073443487, 0.970364856490191, 0.0010552768306835438, 0.9814074525356958, 0.004221107322734175, 0.011608045137518983, 0.012146117924475905, 0.1700456509426627, 0.8016437830154097, 0.000946414229077397, 0.9861636266986477, 0.0004732071145386985, 0.011830177863467463, 0.018888029927153292, 0.3284874769939703, 0.00862279627109172, 0.0012318280387273886, 0.00287426542369724, 0.6331596119058778, 0.00041060934624246285, 0.0049273121549095545, 0.0008212186924849257, 0.02999371821351665, 0.9597989828325328, 0.03222233533452498, 0.06444467066904996, 0.012888934133809992, 0.01933340120071499, 0.027926023956588317, 0.05155573653523997, 0.07088913773595495, 0.07733360480285996, 0.03222233533452498, 0.004296311377936664, 0.025777868267619984, 0.3888161797032681, 0.049407580846271636, 0.015037089822778325, 0.0472594251573033, 0.07948176049182828, 0.9976978780294998, 0.0011298956716075876, 0.9757685521187172, 0.9685481834924371, 0.08494954205227152, 0.0009438838005807947, 0.25012920715391057, 0.6210755407821629, 0.021709327413358275, 0.002831651401742384, 0.005663302803484768, 0.0009438838005807947, 0.008494954205227152, 0.002831651401742384, 0.3316925164159762, 0.10947486995010051, 0.5408385366191533, 0.0032679065656746422, 0.009803719697023927, 0.0016339532828373211, 0.0018589406139208323, 0.013012584297445826, 0.0018589406139208323, 0.035319871664495815, 0.0055768218417624965, 0.0055768218417624965, 0.00929470306960416, 0.014871524911366658, 0.8811378509984745, 0.013012584297445826, 0.0018589406139208323, 0.014871524911366658, 0.9843278636586223, 0.9908707280029815, 0.9864160781311282, 0.019786769646039738, 0.9497649430099074, 0.005942086767608637, 0.06833399782749933, 0.6595716312045586, 0.005942086767608637, 0.0029710433838043187, 0.0029710433838043187, 0.13369695227119432, 0.10101547504934683, 0.014855216919021592, 0.9038011173034103, 0.07377968304517635, 0.9348275533657796, 0.03595490589868383, 0.769358367849117, 0.04901729213443128, 0.0021311866145404903, 0.008524746458161961, 0.012787119687242943, 0.03196779921810736, 0.004262373229080981, 0.11508407718518648, 0.0021311866145404903, 0.0021311866145404903, 0.15081324990669548, 0.0029002548058979904, 0.010150891820642965, 0.10730942781822564, 0.03625318507372488, 0.5597491775383121, 0.13051146626540955, 0.001467051942385685, 0.6308323352258446, 0.24646472632079508, 0.03227514273248507, 0.010269363596699796, 0.00880231165431411, 0.013203467481471165, 0.05281386992588466, 0.9952389839199467, 0.02591647094587566, 0.23324823851288093, 0.7256611864845185, 0.007404705984535903, 0.02256781352900859, 0.8452671976319581, 0.05539372411665745, 0.024619432940736645, 0.04923886588147329, 0.9389622999631616, 0.03008711341044468, 0.2766546769692108, 0.018345800860027243, 0.3742543375445558, 0.010273648481615256, 0.0007338320344010897, 0.0007338320344010897, 0.044763754098466474, 0.07118170733690571, 0.038893097823257755, 0.09613199650654276, 0.014676640688021795, 0.003669160172005449, 0.0014676640688021795, 0.016878136791225063, 0.05813669855444534, 0.910808277352977, 0.9566675299568916, 0.11067429472803866, 0.051878575653768126, 0.1233557243322931, 0.027668573682009666, 0.011528572367504028, 0.0011528572367504029, 0.415028605230145, 0.0403500032862641, 0.054184290127268935, 0.013834286841004833, 0.061101433547771346, 0.05764286183752014, 0.02075143026150725, 0.011528572367504028, 0.023673034915087595, 0.0045091495076357326, 0.0022545747538178663, 0.0033818621307267994, 0.34607722471104246, 0.0022545747538178663, 0.6177534825460953, 0.3103267773323333, 0.0005621861908194444, 0.019676516678680554, 0.0005621861908194444, 0.5599374460561667, 0.0005621861908194444, 0.054532060509486106, 0.016865585724583333, 0.001124372381638889, 0.03485554383080555, 0.9935431809654232, 0.19272930090643364, 0.019619150391672887, 0.09809575195836444, 0.0069244060205904305, 0.0888632105975772, 0.12579337604072616, 0.001154067670098405, 0.021927285731869698, 0.04270050379364099, 0.013848812041180861, 0.3831504664726705, 0.0034622030102952153, 0.00230813534019681, 0.9689830771675196, 0.9840631083043042, 0.006833771585446557, 0.9726964558480629, 0.06294046144995238, 0.8916565372076588, 0.03147023072497619, 0.04351932182643553, 0.06769672284112194, 0.06890559289185626, 0.062256807612817495, 0.17689798409078888, 0.11907369999733056, 0.04069862504138878, 0.10658204280640925, 0.05641393570093495, 0.05419767394125536, 0.06407011268891898, 0.01732713739385859, 0.0445267135353808, 0.04593706192790417, 0.029617316242990847, 0.0030221751268358008, 0.9897166659152218, 0.9617605500814165, 0.956810409190056, 0.0007491450993695802, 0.9971121272609111, 0.0007491450993695802, 0.0007491450993695802, 0.008222379861721396, 0.7619405338528493, 0.20830028983027535, 0.019185553010683257, 0.9744699765909667, 0.9957353425023886, 0.018507095747387275, 0.12029612235801727, 0.059727445366568016, 0.047950202618230665, 0.03112557012060587, 0.02860187524596215, 0.05468005561728058, 0.005888621374168678, 0.09674163686134257, 0.08664685736276768, 0.33733388157737715, 0.019348327372268513, 0.008412316248812397, 0.0572037504919243, 0.02018955899714975, 0.007571084623931157, 0.011793777355769447, 0.06093451633814214, 0.0009828147796474538, 0.19951140026843314, 0.0255531842708338, 0.03931259118589816, 0.04226103552484052, 0.09238458928686066, 0.18575199335336878, 0.0511063685416676, 0.0029484443389423617, 0.05700325721955232, 0.014742221694711809, 0.20835673328526022, 0.0058968886778847235, 0.9427875874929472, 0.9812847571011588, 0.02466274129877774, 0.1207623884284979, 0.0008504393551302669, 0.0025513180653908007, 0.5332254756666773, 0.0025513180653908007, 0.0008504393551302669, 0.17348962844657445, 0.028064498719298808, 0.022961862588517207, 0.0008504393551302669, 0.02211142323338694, 0.009354832906432936, 0.0051026361307816015, 0.05017592195268575, 0.004252196775651335, 0.09053895445259516, 0.003936476280547615, 0.8375946752498538, 0.0004373862533941795, 0.0013121587601825386, 0.0013121587601825386, 0.00918511132127777, 0.04854987412675393, 0.005686021294124334, 0.0013121587601825386, 0.8436255262108421, 0.15449527708921446, 0.9606236597719044, 0.0007387832513230264, 0.23345550741807636, 0.0502372610899658, 0.08865399015876317, 0.0029551330052921057, 0.6220554976139883, 0.0007387832513230264, 0.9650723198603266, 0.01635715796373435, 0.01812449703028352, 0.0030207495050472532, 0.3353031950602451, 0.631336646554876, 0.0030207495050472532, 0.0030207495050472532, 0.03168826675158246, 0.12428842403676232, 0.0010562755583860821, 0.0007041837055907214, 0.4756760931265323, 0.006689745203111853, 0.0042251022335443285, 0.13133026109266954, 0.01936505190374484, 0.06337653350316493, 0.0021125511167721643, 0.02535061340126597, 0.02429433784287989, 0.02077341931492628, 0.06830581944229998, 0.0014083674111814428, 0.936528649320346, 0.9660582261780521, 0.9935588187055138, 0.1363320294808111, 0.018177603930774815, 0.04544400982693704, 0.7907257709887044, 0.9742903206559114, 0.18479513200723527, 0.7919791371738654, 0.01319965228623109, 0.9858127666979196, 0.24561075559354853, 0.023026008336895176, 0.002558445370766131, 0.04349357130302422, 0.03752386543790325, 0.31298315035705665, 0.0759005459993952, 0.04605201667379035, 0.013645041977419363, 0.0034112604943548406, 0.023026008336895176, 0.14497857101008074, 0.016203487348185493, 0.0017056302471774203, 0.008528151235887103, 0.1595627881936773, 0.04786883645810319, 0.6127211066637208, 0.0829726498607122, 0.022338790347114824, 0.003191255763873546, 0.003191255763873546, 0.02553004611098837, 0.012765023055494184, 0.028721301874861917, 0.2565940772187066, 0.6870099486823434, 0.03310891318951053, 0.008277228297377632, 0.009580749299393168, 0.852686687645992, 0.08143636904484193, 0.04311337184726925, 0.004790374649696584, 0.03387185071370693, 0.0451624676182759, 0.03387185071370693, 0.013343456341763335, 0.502945662112618, 0.008211357748777437, 0.011290616904568975, 0.009237777467374617, 0.009237777467374617, 0.004105678874388718, 0.30382023670476516, 0.0010264197185971796, 0.003079259155791539, 0.020528394371943592, 0.07399060214367097, 0.9063848762599692, 0.988638890468328, 0.6203503849208273, 0.01865715443370909, 0.20056441016237272, 0.05363931899691364, 0.013992865825281819, 0.0023321443042136365, 0.0023321443042136365, 0.08628933925590455, 0.9450014527730483, 0.033750051884751726, 0.9875287476583562, 0.0059151180351692395, 0.003943412023446159, 0.0019717060117230797, 0.09267018255098475, 0.05126435630480007, 0.05915118035169239, 0.11041553665649247, 0.029575590175846194, 0.01774535410550772, 0.011830236070338479, 0.5284172111417854, 0.0019717060117230797, 0.08281165249236935, 0.0019717060117230797, 0.0019717060117230797, 0.00117847890953327, 0.00824935236673289, 0.9828514105507472, 0.00235695781906654, 0.00353543672859981, 0.9724836448349685, 0.9219186712131983, 0.01521157915555836, 0.002173082736508337, 0.10430797135240019, 0.021730827365083374, 0.002173082736508337, 0.8540215154477766, 0.006982788554381001, 0.9636248205045782, 0.027931154217524005, 0.12266437673358842, 0.0012266437673358842, 0.0040888125577862805, 0.0032710500462290243, 0.011039793906022957, 0.06582988218035912, 0.05192791948388576, 0.08341177617884013, 0.0016355250231145121, 0.013493081440694726, 0.028212806648725337, 0.5474920014875829, 0.0008177625115572561, 0.0012266437673358842, 0.06378547590146598, 0.10450790551246764, 0.04754862051752082, 0.08221948964487974, 0.06835114199393617, 0.07181822890667207, 0.06339816069002775, 0.042595639213612396, 0.06587465134198196, 0.03268967660579556, 0.04358623547439408, 0.0544827943429926, 0.10450790551246764, 0.11689035877223868, 0.042100341083221554, 0.038633254170485666, 0.020802521476415356, 0.9921937470273847, 0.9873681853412235, 0.016011843851398717, 0.09189406036454915, 0.0006961671239738571, 0.0006961671239738571, 0.22486198104355587, 0.0013923342479477143, 0.003480835619869286, 0.0006961671239738571, 0.6550932636593996, 0.0013923342479477143, 0.004177002743843143, 0.9640303577204383, 0.02048561666031659, 0.02048561666031659, 0.02048561666031659, 0.9423383663745631, 0.015819813655058107, 0.09629451790035369, 0.002063453955007579, 0.3838024356314097, 0.048147258950176845, 0.004126907910015158, 0.0006878179850025263, 0.1279341452104699, 0.14031486894051537, 0.04126907910015158, 0.0013756359700050527, 0.008253815820030316, 0.08460161215531074, 0.011005087760040421, 0.03439089925012632, 0.8902822123305028, 0.061398773264172604, 0.0204662577547242, 0.0102331288773621, 0.006874142164237828, 0.006874142164237828, 0.1924759805986592, 0.1924759805986592, 0.013748284328475656, 0.5843020839602154, 0.9961339306586957, 0.0026214050806807783, 0.0013107025403403891, 0.9451255274926674, 0.9941060702838986, 0.2720529252374359, 0.0010038853329794682, 0.019073821326609897, 0.010038853329794682, 0.6896692237568947, 0.007027197330856278, 0.03399234485059059, 0.9064625293490824, 0.01982886782951118, 0.0028326954042158826, 0.03682504025480648, 0.0015580237301611917, 0.04362466444451337, 0.0015580237301611917, 0.06076292547628648, 0.015580237301611916, 0.012464189841289533, 0.11373573230176699, 0.0747851390477372, 0.12464189841289533, 0.0015580237301611917, 0.021812332222256686, 0.49700956992142015, 0.006232094920644767, 0.01713826103177311, 0.00934814238096715, 0.0404986842014719, 0.20654328942750672, 0.02024934210073595, 0.052648289461913474, 0.680377894584728, 0.7761914972564004, 0.018306403237179254, 0.003661280647435851, 0.018306403237179254, 0.17940275172435668, 0.41163835199806087, 0.05311462606426592, 0.015934387819279774, 0.021245850425706366, 0.0053114626064265915, 0.0026557313032132958, 0.0053114626064265915, 0.021245850425706366, 0.010622925212853183, 0.4541300528494736, 0.9415599075112742, 0.3501822965362728, 0.389501010533328, 0.0036861294372239244, 0.0012287098124079748, 0.061435490620398735, 0.1806203424239723, 0.004914839249631899, 0.0012287098124079748, 0.006143549062039874, 0.9613938483253521, 0.9622298564118065, 0.0027946513103268332, 0.21239349958483933, 0.08663419062013182, 0.013973256551634165, 0.4722960714452348, 0.20400954565385881, 0.008383953930980499, 0.9925111875762876, 0.9618780075300601, 0.04551794135288159, 0.9376695918693608, 0.9664649653522024, 0.9442121626005916, 0.0032842162177411883, 0.018063189197576535, 0.004926324326611782, 0.022989513524188317, 0.0016421081088705942, 0.004926324326611782, 0.9469930368194557, 0.27392644017342477, 0.0008533533961788933, 0.34347474196200456, 0.0004266766980894467, 0.007680180565610041, 0.24747248489187906, 0.12458959584211843, 0.0004266766980894467, 0.0008533533961788933, 0.9429429761567597, 0.002050366921977272, 0.996478324080954, 0.9536698177460664, 0.03892529868351292, 0.9055424193697232, 0.003433215341058339, 0.04119858409270007, 0.024032507387408374, 0.006866430682116678, 0.920101711403635, 0.008138971620568931, 0.9848155660888408, 0.03271896684556227, 0.9161310716757435, 0.04089870855695284, 0.008179741711390567, 0.22083353047427193, 0.003620221811053638, 0.05792354897685821, 0.007240443622107276, 0.003620221811053638, 0.032581996299482746, 0.003620221811053638, 0.003620221811053638, 0.6443994823675476, 0.003620221811053638, 0.014480887244214553, 0.003620221811053638, 0.9502935275038196, 0.3950079719724326, 0.4836315554277861, 0.11647670968417884, 0.0025321023844386706, 0.0030353704643111263, 0.4249518650035577, 0.00910611139293338, 0.5645789063618696, 0.008126170678326132, 0.09913928227557879, 0.7996151947472913, 0.009751404813991357, 0.0032504682713304523, 0.0016252341356652262, 0.01787757549231749, 0.04225608752729588, 0.01787757549231749, 0.045365345114078005, 0.010081187803128446, 0.9425910595925097, 0.034256996218977764, 0.0015225331652879005, 0.5755175364788264, 0.15225331652879007, 0.07917172459497084, 0.004567599495863702, 0.0015225331652879005, 0.1149512539792365, 0.031211929888401962, 0.004567599495863702, 0.08867410293609743, 0.11704981587564861, 0.10463544146459497, 0.04256356940932677, 0.10552218249395594, 0.025715489851468255, 0.2039504367530241, 0.015074597499136564, 0.03990334632124384, 0.014187856469775589, 0.10906914661139984, 0.029262453968912153, 0.00798066926424877, 0.04433705146804871, 0.03192267705699508, 0.019508302645941434, 0.21970935958187363, 0.04855230044613363, 0.008976055544663361, 0.06324039133740095, 0.08404852010002965, 0.06201638376312867, 0.0703804355206559, 0.08384451883765094, 0.06772841910973262, 0.022236137599279688, 0.02896817925777721, 0.057528355990796996, 0.09771660467940341, 0.031620195668700474, 0.026928166633990083, 0.026724165371611368, 0.3394375746697889, 0.6394056639128582, 0.007893897085343929, 0.011840845628015894, 0.0007936839982917675, 0.0007936839982917675, 0.9944860498595847, 0.0023810519948753023, 0.0007936839982917675, 0.9496246404897053, 0.9225575974529479, 0.07407396767870383, 0.008959939174186377, 0.7750347385671217, 0.165758874722448, 0.04479969587093189, 0.004479969587093189, 0.959047270210277, 0.14154679835637912, 0.02129465108016323, 0.017536771477781484, 0.02129465108016323, 0.028810410284926726, 0.10647325540081616, 0.1177468942079614, 0.08768385738890742, 0.008768385738890742, 0.008768385738890742, 0.026305157216672228, 0.04759980829683546, 0.301882994724667, 0.026305157216672228, 0.02129465108016323, 0.018789398011908733, 0.06447586102407966, 0.7397756685920719, 0.05768892828470286, 0.003393466369688403, 0.006786932739376806, 0.003393466369688403, 0.016967331848442017, 0.03393466369688403, 0.003393466369688403, 0.06447586102407966, 0.8600104152749704, 0.003320503533880194, 0.003320503533880194, 0.003320503533880194, 0.07305107774536428, 0.021583272970221265, 0.001660251766940097, 0.001660251766940097, 0.03154478357186185, 0.003320503533880194, 0.05334282084148635, 0.19695810772241115, 0.06975599648502062, 0.008206587821767131, 0.05539446779692814, 0.4082777441329148, 0.06565270257413705, 0.05129117388604457, 0.0718076434404624, 0.0061549408663253485, 0.01436152868809248, 0.002051646955441783, 0.16019904061036255, 0.8356328334540534, 0.9834550357721827, 0.013289932915840307, 0.9816407092192143, 0.9518222929550592, 0.00287332297041774, 0.003591653713022175, 0.00718330742604435, 0.5761012555687568, 0.04597316752668384, 0.00143666148520887, 0.02585990673375966, 0.2241191916925837, 0.000718330742604435, 0.09122800431076324, 0.00287332297041774, 0.012211622624275394, 0.00574664594083548, 0.08580077244015927, 0.09838488573138263, 0.030888278078457333, 0.08694478273936139, 0.09495285483377625, 0.02974426777925521, 0.04004036047207432, 0.08122473124335076, 0.09495285483377625, 0.02974426777925521, 0.018304164787233977, 0.0388963501728722, 0.0583445252593083, 0.04919244286569131, 0.14414529769946757, 0.018304164787233977, 0.9520019330422308, 0.01415751899738313, 0.976868810819436, 0.9637637459412319, 0.1886640058456563, 0.03985859278429359, 0.04340157880956413, 0.0403014660374524, 0.140833694504504, 0.02037216964530561, 0.07218834026488727, 0.024358028923734967, 0.07351696002436373, 0.022586535911099697, 0.06997397399909318, 0.015500563860558616, 0.11293267955549849, 0.04074433929061122, 0.053144790379058116, 0.04118721254377004, 0.8284895988266034, 0.16793708084323042, 0.7105993624448812, 0.2733074470941851, 0.012146997648630448, 0.9579566901395966, 0.04752442956441999, 0.18023415740468715, 0.016140372304897357, 0.0008966873502720753, 0.3801954365153599, 0.002690062050816226, 0.008070186152448679, 0.36315837686019053, 0.13615317093831672, 0.09219821024169478, 0.07311532486608818, 0.05253153839352377, 0.09219821024169478, 0.0671117204782569, 0.0508162228541434, 0.08533694808417332, 0.051888295066256133, 0.03173333747853681, 0.07011352267217254, 0.02294234533921242, 0.09284145356896242, 0.024014417551325152, 0.03923784296332592, 0.01715315539380368, 0.6383542292277051, 0.3581605789941704, 0.988579651389508, 0.7340378842081433, 0.15082970223455, 0.02011062696460667, 0.04022125392921334, 0.04022125392921334, 0.8933005420626008, 0.1050941814191295, 0.006273566280625583, 0.014429202445438842, 0.0006273566280625584, 0.006273566280625583, 0.014429202445438842, 0.001882069884187675, 0.0012547132561251167, 0.001882069884187675, 0.8971199781294584, 0.0043914963964379085, 0.025094265122502332, 0.001882069884187675, 0.0006273566280625584, 0.013801845817376283, 0.010665062677063492, 0.13694010968255094, 0.018829265081350754, 0.00256762705654783, 0.00513525411309566, 0.11725496891568424, 0.0017117513710318867, 0.37829705299804695, 0.014549886653771037, 0.15063412065080603, 0.14293123948116254, 0.0017117513710318867, 0.027388021936510187, 0.9472446075587667, 0.07772499758765955, 0.9158032324459017, 0.002238968564581128, 0.1029925539707319, 0.6649736636805951, 0.004477937129162256, 0.15001089382693558, 0.07388596263117723, 0.0009790417248104208, 0.10279938110509419, 0.0420987941668481, 0.0019580834496208416, 0.0009790417248104208, 0.003916166899241683, 0.5130178638006605, 0.025455084845070943, 0.07734429626002325, 0.015664667596966733, 0.21245205428386132, 0.0029371251744312625, 0.0009790417248104208, 0.05338665518287077, 0.9253686898364267, 0.672218271643617, 0.03296377204509915, 0.003437939415746537, 0.005864720179802917, 0.01395398939332418, 0.01779639226974678, 0.053793640269916405, 0.007078110561831106, 0.015369611505690403, 0.0016178538427042528, 0.0012133903820281896, 0.0012133903820281896, 0.15187602948386172, 0.012336135550619928, 0.008695964404535359, 0.0006066951910140948, 0.9412520876023548, 0.9650922187183681, 0.9742808831412654, 0.9817360058124424, 0.009817360058124423, 0.004436980991306813, 0.09095811032178966, 0.1442018822174714, 0.6344882817568742, 0.0354958479304545, 0.015529433469573844, 0.0732101863565624, 0.9941219888741716, 0.124455213150931, 0.871186492056517, 0.98208512374629, 0.9990486305476842, 0.0005397345383834058, 0.9952563250063011, 0.9747094985622204, 0.9629196580211987, 0.2523318034950298, 0.05483915615730052, 0.06236609915928294, 0.046953787298080835, 0.09175701945273812, 0.07957054030667134, 0.04444480629742003, 0.06487508015994375, 0.026881939292794373, 0.048387490727029865, 0.06845933873231633, 0.037993140867149375, 0.026881939292794373, 0.017562867004625657, 0.04659536144084358, 0.030107772007929696, 0.019476805953240355, 0.8375026559893352, 0.1265992386960623, 0.9552040094146689, 0.004769931282709239, 0.26552617473748097, 0.03656947316743749, 0.026234622054900812, 0.007949885471182064, 0.03179954188472826, 0.026234622054900812, 0.026234622054900812, 0.032594530431846465, 0.4587083916872051, 0.00874487401830027, 0.01748974803660054, 0.005564919829827445, 0.03497949607320108, 0.0023849656413546193, 0.013514805301009509, 0.966929389581929, 0.9685914451712835, 0.019970957632397597, 0.9820078041855294, 0.004588821514885651, 0.009177643029771303, 0.004588821514885651, 0.010275539502051293, 0.01370071933606839, 0.8562949585042744, 0.1164561143565813, 0.0653943740799151, 0.004218991876123555, 0.01476647156643244, 0.6876956758081394, 0.004218991876123555, 0.11813177253145953, 0.02953294313286488, 0.0021094959380617774, 0.04851840657542088, 0.02320445531867955, 0.9460243338278722, 0.021022762973952714, 0.9781960795468664, 0.8814693453426808, 0.0104315898857122, 0.0052157949428561, 0.0730211291999854, 0.0052157949428561, 0.0052157949428561, 0.015647384828568298, 0.9697900482358579, 0.016720518073032032, 0.9675334469077236, 0.021382464621491886, 0.9622109079671349, 0.036957590513962545, 0.16848313322541747, 0.03260963868879048, 0.01304385547551619, 0.028261686863618414, 0.009782891606637143, 0.30326963980575145, 0.033696626645083494, 0.09348096424119937, 0.02173975912586032, 0.01630481934439524, 0.06521927737758096, 0.036957590513962545, 0.08913301241602731, 0.009782891606637143, 0.042392530295427625, 0.9672747392706336, 0.9740613312321085, 0.011234707350243968, 0.011234707350243968, 0.9661848321209813, 0.008128538331453883, 0.4075881363343304, 0.0011612197616362688, 0.16140954686744138, 0.03483659284908807, 0.33094763206633665, 0.027869274279270453, 0.0011612197616362688, 0.0011612197616362688, 0.0011612197616362688, 0.02322439523272538, 0.0023224395232725376, 0.13320276611468568, 0.8631539244231632, 0.9518012137949531, 0.9975918631918494, 0.0512881823983594, 0.10775223641490186, 0.11481024316696967, 0.08657821615869844, 0.09034248642646794, 0.03952483781157972, 0.055052452666128904, 0.06963899995373571, 0.05034711483141703, 0.13080839180499004, 0.039054304028108534, 0.030584695925627167, 0.048935513481003466, 0.04752391213058991, 0.020703486472732235, 0.016939216204962738, 0.9639620990010845, 0.9977959676718257, 0.013063919194683667, 0.008709279463122443, 0.3331299394644335, 0.008709279463122443, 0.11539795288637239, 0.05443299664451528, 0.002177319865780611, 0.002177319865780611, 0.008709279463122443, 0.010886599328903056, 0.4398186128876834, 0.002177319865780611, 0.026784555928045937, 0.9642440134096537, 0.017692892293189745, 0.9377232915390565, 0.03538578458637949, 0.9351923268282407, 0.03252842875924316, 0.024396321569432368, 0.9906569173286982, 0.9875067060150592, 0.969216962299476, 0.0005082438399309906, 0.14129178750081536, 0.3862653183475528, 0.0015247315197929716, 0.30342157243880136, 0.0005082438399309906, 0.0010164876798619811, 0.14688246974005628, 0.017788534397584668, 0.033184913145693905, 0.11614719600992868, 0.033184913145693905, 0.7964379154966538, 0.9323880604100803, 0.012015087263470958, 0.4253340891268719, 0.4782004730861441, 0.0841056108442967, 0.8284176132279086, 0.09664872154325602, 0.05522784088186058, 0.9472711673244791, 0.028850898497192256, 0.004808483082865376, 0.014425449248596128, 0.9651816331590983, 0.031134891392228976, 0.0013620703975448186, 0.8822811000096562, 0.0013620703975448186, 0.10828459660481309, 0.00034051759938620466, 0.0037456935932482513, 0.00034051759938620466, 0.0017025879969310232, 0.9917963737306082, 0.033664170268691625, 0.03065844078041559, 0.016230939236690608, 0.037872191552278084, 0.009618334362483322, 0.07574438310455617, 0.13525782697242172, 0.15509564159504358, 0.06372146515145201, 0.057710006174899936, 0.0006011458976552076, 0.1731300185246998, 0.06191802745848639, 0.14307272364193943, 0.0006011458976552076, 0.004809167181241661, 0.10666708239547902, 0.0210700409670082, 0.00526751024175205, 0.0013168775604380126, 0.09744893947241294, 0.13827214384599132, 0.13695526628555332, 0.01448565316481814, 0.006584387802190063, 0.4385202276258582, 0.006584387802190063, 0.02502067364832224, 0.0013168775604380126, 0.016928253919790675, 0.004616796523579276, 0.0030778643490528505, 0.09079699829705909, 0.8233287133716375, 0.007694660872632125, 0.036934372188634206, 0.013850389570737826, 0.9738865332981206, 0.05208729293980052, 0.09856518510146868, 0.08093563979876696, 0.0753262390206346, 0.04727923512997278, 0.30691435686067076, 0.048881921066582026, 0.014424173429483222, 0.05849803668623751, 0.03525909060540343, 0.05449132184471439, 0.004808057809827741, 0.061703408559456004, 0.009616115619655481, 0.036060433573708056, 0.015225516397787844, 0.007823758147362333, 0.05476630703153633, 0.93885097768348, 0.020978283779792137, 0.9650010538704383, 0.08174190760997578, 0.8991609837097335, 0.9868020715855703, 0.05956601219447729, 0.0009927668699079549, 0.0019855337398159098, 0.10721882195005912, 0.0009927668699079549, 0.038717907926410236, 0.7892496615768241, 0.009800411068430331, 0.02940123320529099, 0.73993103566649, 0.13720575495802464, 0.02940123320529099, 0.02940123320529099, 0.009800411068430331, 0.014700616602645496, 0.7621254057941805, 0.11996418424538027, 0.02822686688126595, 0.08468060064379784, 0.9727448345417766, 0.23346638704608902, 0.0429363470429589, 0.00983957953067808, 0.13417608450924656, 0.03309676751228082, 0.0026835216901849313, 0.0017890144601232876, 0.01878465183129452, 0.38284909446638354, 0.022362680751541093, 0.008050565070554794, 0.004472536150308219, 0.0053670433803698625, 0.0017890144601232876, 0.017890144601232876, 0.0796111434754863, 0.9889681703718974, 0.9664530142649427, 0.005460236171758444, 0.01501564947233572, 0.020475885644094163, 0.8572570789660757, 0.001365059042939611, 0.031396357987611055, 0.010920472343516887, 0.01365059042939611, 0.036856594159369496, 0.005460236171758444, 0.001365059042939611, 0.9657257330067299, 0.04661218362079078, 0.9269468333679984, 0.0010593678095634268, 0.018009252762578254, 0.004237471238253707, 0.0010593678095634268, 0.0010593678095634268, 0.0010127482887940806, 0.993506071306993, 0.0020254965775881612, 0.0010127482887940806, 0.0010127482887940806, 0.04618388198666497, 0.9409965954782987, 0.005772985248333121, 0.9838994951115896, 0.006475629339651831, 0.764124262078916, 0.012951258679303662, 0.1618907334912958, 0.04532940537756282, 0.006475629339651831, 0.8709619955321884, 0.029959380681696898, 0.00213995576297835, 0.07917836323019894, 0.0128397345778701, 0.00213995576297835, 0.9564943019970664, 0.034107548753383767, 0.007414684511605166, 0.9229862392796285, 0.9547040942708571, 0.007517355072998875, 0.0300694202919955, 0.032068485604975515, 0.024051364203731638, 0.016034242802487757, 0.016034242802487757, 0.9059347183405584, 0.0012361704216744243, 0.004944681686697697, 0.006180852108372121, 0.19037024493786134, 0.12114470132409358, 0.1421595984925588, 0.004944681686697697, 0.5080660433081884, 0.018542556325116363, 0.0014104921333103954, 0.05924066959903661, 0.004231476399931186, 0.7376873857213369, 0.004231476399931186, 0.19182693013021376, 0.9741307742201782, 0.0058207940540393665, 0.09022230783761018, 0.7770760062142553, 0.1222366751348267, 0.00864081045234577, 0.0009600900502606412, 0.0009600900502606412, 0.962970320411423, 0.02496234130677667, 0.0009600900502606412, 0.9783913802886166, 0.0404101052576559, 0.05095187184660961, 0.060615157886483854, 0.0070278443926358085, 0.0035139221963179043, 0.7493439083647931, 0.0008784805490794761, 0.009663286039874238, 0.0008784805490794761, 0.07642780776991442, 0.258905545755193, 0.10022150158265536, 0.016703583597109224, 0.6180325930930414, 0.9908316343625978, 0.009252796706578052, 0.0004869893003462133, 0.139278939899017, 0.0004869893003462133, 0.08254468640868315, 0.08497963291041422, 0.6496437266618486, 0.0017044625512117465, 0.00024349465017310665, 0.02897586337059969, 0.0007304839505193199, 0.00024349465017310665, 0.00024349465017310665, 0.0007304839505193199, 0.9745694250897886, 0.2999135066615962, 0.43112566582604456, 0.0859665870387765, 0.0006463653160810264, 0.0016159132902025658, 0.0016159132902025658, 0.0019390959482430792, 0.09954025867647806, 0.0009695479741215396, 0.07142336742695342, 0.004524557212567185, 0.9693810440121392, 0.9202193155742816, 0.00742112351269582, 0.05936898810156656, 0.9816403024910677, 0.9305780430632913, 0.9871978529560461, 0.002844950584887741, 0.008534851754663222, 0.007586584196220328, 0.9786693613124223, 0.9800698216870942, 0.0014875618243839464, 0.10264176588249231, 0.2147047566527496, 0.000991707882922631, 0.6108920558803407, 0.06892369786312286, 0.9863932097456682, 0.0013653982884559255, 0.3775326267580634, 0.0020480974326838883, 0.14063602371096035, 0.0006826991442279627, 0.0006826991442279627, 0.027990664913346473, 0.003413495721139814, 0.003413495721139814, 0.44102364717126397, 0.9385896700017385, 0.11677486841014008, 0.0007784991227342672, 0.8789255095669877, 0.0023354973682028013, 0.0007784991227342672, 0.9787225154506761, 0.9063177400733653, 0.0863159752450824, 0.9799012421062073, 0.9893448956199421, 0.03953481988672491, 0.03335750427942414, 0.0006177315607300767, 0.40399644071747015, 0.0006177315607300767, 0.03953481988672491, 0.008648241850221073, 0.032122041157963986, 0.02594472555066322, 0.0006177315607300767, 0.0024709262429203067, 0.0018531946821902302, 0.41017375632477093, 0.007245647887582171, 0.010868471831373256, 0.0036228239437910855, 0.0036228239437910855, 0.03985106338170194, 0.931065753554309, 0.9606074911698926, 0.9803705727925486, 0.06599915212767705, 0.04591245365403621, 0.16356311614250402, 0.1176506624884678, 0.022956226827018106, 0.5767751990288299, 0.0028695283533772633, 0.0028695283533772633, 0.023233341574895473, 0.9351419983895428, 0.040658347756067074, 0.9809404115139856, 0.2894961011340346, 0.0027310952937173076, 0.016386571762303844, 0.0027310952937173076, 0.6855049187230442, 0.9048579680242151, 0.09158481457734971, 0.11406282219815297, 0.8668774487059626, 0.011406282219815298, 0.11847948062414257, 0.010663153256172831, 0.0035543844187242773, 0.7144312681635797, 0.052130971474622735, 0.03080466496227707, 0.00829356364368998, 0.007108768837448555, 0.035543844187242775, 0.007108768837448555, 0.0023695896124828514, 0.0023695896124828514, 0.007108768837448555, 0.8839302297952665, 0.10756822902270438, 0.004676879522726277, 0.9911755309846528, 0.6944136933343145, 0.30304836990899015, 0.9716779772579321, 0.9863042836973466, 0.8237862765887377, 0.007001016514918451, 0.049007115604429156, 0.06534282080590555, 0.0023336721716394836, 0.016335705201476387, 0.0023336721716394836, 0.01866937737311587, 0.011668360858197419, 0.01697866818155471, 0.03686796519423309, 0.18870576921785095, 0.01697866818155471, 0.2047142277890311, 0.17512283467260717, 0.08343802649221173, 0.01697866818155471, 0.18142919714004177, 0.0004851048051872775, 0.013097829740056492, 0.012127620129681937, 0.006791467272621885, 0.0431743276616677, 0.0024255240259363877, 0.18714568338947696, 0.028591701628947867, 0.05198491205263249, 0.020793964821052995, 0.19494342019737182, 0.0025992456026316243, 0.0025992456026316243, 0.0025992456026316243, 0.028591701628947867, 0.044187175244737614, 0.005198491205263249, 0.3950853316000069, 0.0025992456026316243, 0.007797736807894873, 0.007797736807894873, 0.015595473615789746, 0.007546426770487435, 0.17905612609974733, 0.05762725897463132, 0.1296613326929205, 0.013720775946340791, 0.13103341028755455, 0.009604543162438554, 0.008232465567804475, 0.2757875965214499, 0.10496393598950705, 0.005488310378536317, 0.008232465567804475, 0.03155778467658382, 0.03087174587926678, 0.0020581163919511187, 0.004802271581219277, 0.9047222075706105, 0.0020312474291029558, 0.8206239613575941, 0.0030468711436544334, 0.17265603147375125, 0.17572951328592662, 0.0011210814244716212, 0.005605407122358106, 0.0016816221367074319, 0.08744435110878646, 0.02690595418731891, 0.0005605407122358106, 0.09333002858726246, 0.5773569336028849, 0.0022421628489432423, 0.009809462464126685, 0.003082973917296958, 0.002802703561179053, 0.0014013517805895265, 0.005325136766240201, 0.005325136766240201, 0.1678539169980684, 0.021658569935234632, 0.8013670876036814, 0.9726053249165965, 0.007843591329972551, 0.007843591329972551, 0.9661911982024672, 0.38439097037203085, 0.02816051064996563, 0.20838777880974566, 0.023936434052470784, 0.14221057878232643, 0.004224076597494845, 0.06969726385866493, 0.03872070214370274, 0.02112038298747422, 0.0007040127662491407, 0.06195312342992439, 0.016192293623730238, 0.085160665716739, 0.15232964149332187, 0.0983545716728535, 0.0011994459960104084, 0.017991689940156128, 0.020390581932176945, 0.5661385101169129, 0.05157617782844757, 0.004797783984041634, 0.0011994459960104084, 0.01758297528709843, 0.01758297528709843, 0.9494806655033151, 0.9584817128768056, 0.009128397265493388, 0.02738519179648016, 0.002097724524562048, 0.12376574694916083, 0.09439760360529216, 0.004195449049124096, 0.016781796196496383, 0.08181125645791987, 0.025172694294744575, 0.023074969770182526, 0.5768742442545631, 0.025172694294744575, 0.023074969770182526, 0.002097724524562048, 0.6989378857438184, 0.05152693093474048, 0.002493238593616475, 0.0016621590624109831, 0.0008310795312054916, 0.11635113436876883, 0.0016621590624109831, 0.027425624529781225, 0.07562823733969974, 0.002493238593616475, 0.004155397656027458, 0.007479715780849425, 0.009141874843260407, 0.01690987441024469, 0.9638628413839474, 0.9709317364351648, 0.8359333187629227, 0.10724144549919074, 0.016498683922952423, 0.010999122615301614, 0.0027497806538254034, 0.021998245230603227, 0.9636289258013598, 0.9846058004674111, 0.39077931187963005, 0.0016990404864331743, 0.0025485607296497612, 0.0008495202432165872, 0.005946641702516109, 0.016990404864331742, 0.028034168026147374, 0.022937046566847853, 0.0008495202432165872, 0.009344722675382458, 0.5037655042274362, 0.016140884621115154, 0.9527576367374001, 0.02205720770550318, 0.7793546722611123, 0.00245080085616702, 0.10048283510284782, 0.07842562739734464, 0.0122540042808351, 0.004636107076949257, 0.09735824861593441, 0.6799623712858911, 0.003090738051299505, 0.0015453690256497525, 0.010817583179548267, 0.1329017362058787, 0.055633284923391084, 0.003090738051299505, 0.00618147610259901, 0.00525249104082887, 0.9874683156758276, 0.966673297803104, 0.9074324887581983, 0.1447824131894422, 0.00789722253760594, 0.002632407512535313, 0.0013162037562676565, 0.0908180591824683, 0.0013162037562676565, 0.03290509390669141, 0.2000629709526838, 0.0013162037562676565, 0.4185527944931148, 0.04211852020056501, 0.055280557763241575, 0.002632407512535313, 0.9623446569998414, 0.016883239596488447, 0.9871849242160655, 0.9903032155686408, 0.031101303993303478, 0.9330391197991044, 0.015550651996651739, 0.9168850868590649, 0.0351740470423732, 0.9575157250423817, 0.003908227449152578, 0.5867077249759229, 0.010539659730106399, 0.005269829865053199, 0.015809489595159598, 0.18971387514191518, 0.010539659730106399, 0.07904744797579799, 0.040402028965407864, 0.017566099550177332, 0.012296269685124133, 0.0017566099550177332, 0.029862369235301466, 0.9969759512916923, 0.03259533723638627, 0.9638906868474224, 0.04381728789700816, 0.7847277923373279, 0.1712857617792137, 0.9506348529737244, 0.1923932492157271, 0.015979505748814543, 0.04793851724644363, 0.021092947588435197, 0.031959011497629086, 0.1502073540388567, 0.041546714946917813, 0.02940229057781876, 0.009587703449288726, 0.013422784829004216, 0.027484749887961013, 0.07222736598464173, 0.2339399641626449, 0.03387655218748683, 0.043464255636775556, 0.03579409287734458, 0.9713067710097735, 0.2268812969998971, 0.732309928930361, 0.024709844227711563, 0.0022463494752465057, 0.01123174737623253, 0.9524606348906772, 0.9726908549586883, 0.956407290990067, 0.03549921518616356, 0.30606080119962636, 0.0009594382482746908, 0.0028783147448240725, 0.01247269722757098, 0.4480576619442806, 0.0009594382482746908, 0.19284708790321284, 0.010047681481764855, 0.09712758765706027, 0.646400841993539, 0.02009536296352971, 0.2210489925988268, 0.9849619343652244, 0.03914301621178312, 0.002302530365399007, 0.9279197372557998, 0.025327834019389078, 0.015626107121036285, 0.2711129585499795, 0.0992257802185804, 0.007813053560518143, 0.014063496408932655, 0.04140918387074615, 0.05078484814336792, 0.017188717833139914, 0.04062787851469434, 0.1875132854524354, 0.14532279622563743, 0.07422400882492235, 0.0015626107121036283, 0.02968960352996894, 0.0031252214242072566, 0.0007813053560518142, 0.03989166746752788, 0.01695395867369935, 0.0019945833733763943, 0.007379958481492659, 0.0029918750600645915, 0.06861366804414797, 0.5159987186924732, 0.10451616876492306, 0.02792416722726952, 0.008776166842856134, 0.0009972916866881972, 0.02134204209512742, 0.1517877947139436, 0.012166958577596004, 0.0017951250360387547, 0.01675450033636171, 0.9715783583041913, 0.9887480156005237, 0.008718539810400317, 0.10462247772480379, 0.026155619431200948, 0.008718539810400317, 0.008718539810400317, 0.8369798217984303, 0.9525072664136385, 0.02801491960040113, 0.9479828113046992, 0.012938532042989191, 0.2673963288884433, 0.00431284401432973, 0.6986807303214163, 0.00862568802865946, 0.00862568802865946, 0.9423235862078643, 0.026386768830990528, 0.9433269857079114, 0.013193384415495264, 0.013193384415495264, 0.9631700709544893, 0.020066043144885193, 0.003591941210989552, 0.13110585420111864, 0.023347617871432087, 0.009877838330221269, 0.09967636860496007, 0.7121023450786788, 0.0053879118164843285, 0.006285897119231716, 0.00448992651373694, 0.001795970605494776, 0.9819132538430769, 0.08897056159559416, 0.08402775261806114, 0.7829409420412285, 0.0019771235910132036, 0.0019771235910132036, 0.01779411231911883, 0.020759797705638634, 0.9633288417982724, 0.9597600752897225, 0.9584790933251843, 0.031949303110839475, 0.003362666476017267, 0.7465119576758333, 0.04371466418822447, 0.20175998856103602, 0.9743276064077859, 0.9608261401439901, 0.04539450605570665, 0.9305873741419862, 0.9655845236027082, 0.09707161957552753, 0.03494578304718991, 0.03688721543870046, 0.03882864783021101, 0.2633876611149314, 0.05694868348430949, 0.06600870131135872, 0.009707161957552753, 0.09771876370603105, 0.02329718869812661, 0.06018440413682707, 0.054360106962295415, 0.09642447544502401, 0.03171006239467233, 0.02912148587265826, 0.0025885765220140674, 0.9174122711229376, 0.0286691334725918, 0.029078302287509752, 0.9305056732003121, 0.9763912912712944, 0.06391742524947698, 0.910823309805047, 0.002537992778299545, 0.9948931690934215, 0.0012689963891497724, 0.045782930795409404, 0.8798907012242746, 0.0007153582936782719, 0.06581296301840102, 0.0007153582936782719, 0.005007508055747904, 0.0007153582936782719, 0.9453681406012192, 0.1323245948516168, 0.029773033841613783, 0.05109199634548538, 0.00330811487129042, 0.2650167580222659, 0.228259926119039, 0.03161087543677513, 0.022789235780000673, 0.05991363600225983, 0.012129754528064874, 0.07351366380645379, 0.03124330711774286, 0.04778388147419496, 0.0051459564664517645, 0.004043251509354958, 0.0011027049570968067, 0.004132734318420903, 0.9587943618736495, 0.02479640591052542, 0.004132734318420903, 0.004132734318420903, 0.971681521772786, 0.009144263129410826, 0.9875804179763692, 0.9461843294978659, 0.0007331546876469415, 0.002932618750587766, 0.03445827031940625, 0.023094372660878656, 0.0714825820455768, 0.044355858602639964, 0.7027287681095934, 0.018328867191173537, 0.09934246017616058, 0.0007331546876469415, 0.0007331546876469415, 0.00036657734382347076, 0.09855833357954713, 0.15530404079201365, 0.0029866161690771855, 0.03285277785984904, 0.17919697014463112, 0.0029866161690771855, 0.4539656576997322, 0.0029866161690771855, 0.0029866161690771855, 0.06869217188877527, 0.9294277053061454, 0.04485567966420443, 0.07530515564063518, 0.14406203687773686, 0.054350677549328, 0.11066583741971604, 0.04943947174667788, 0.03732516410014091, 0.0749777419204585, 0.05500550498968135, 0.05598774615021137, 0.11361256090130611, 0.031104303416784093, 0.06777464007657166, 0.06351826171427488, 0.013751376247420337, 0.008185343004416867, 0.9393168241956612, 0.044729372580745774, 0.9909387089058468, 0.03654819169027383, 0.9502529839471197, 0.9597985613323611, 0.04018106200061029, 0.9442549570143418, 0.380303233524815, 0.136131271091269, 0.08859336690066713, 0.004321627653691079, 0.0064824414805366186, 0.0010804069134227698, 0.0064824414805366186, 0.3511322468624002, 0.004321627653691079, 0.020527731355032625, 0.9586106388376111, 0.030271914910661404, 0.9842402769918241, 0.0052424480272120835, 0.9803377810886597, 0.010484896054424167, 0.9564500150670036, 0.03903877612518382, 0.9845704401858807, 0.10404726206854124, 0.008257719211788988, 0.003303087684715595, 0.2262615064030183, 0.003303087684715595, 0.03963705221658714, 0.16019975270870637, 0.05615249064016512, 0.0016515438423577976, 0.0016515438423577976, 0.38150662758465126, 0.009909263054146786, 0.003303087684715595, 0.9839878735089842, 0.7015738249757474, 0.005635131124303192, 0.008452696686454788, 0.01529535590882295, 0.14570839049983966, 0.00040250936602165656, 0.012075280980649696, 0.002817565562151596, 0.01167277161462804, 0.029785693085602586, 0.008452696686454788, 0.04065344596818731, 0.00040250936602165656, 0.0012075280980649696, 0.013282809078714666, 0.002012546830108283, 0.3294154864080801, 0.02681288842856466, 0.6396789096528998, 0.9593713275291914, 0.9448201056933402, 0.059981903287872056, 0.006610250566418553, 0.000244824095052539, 0.006610250566418553, 0.020810048079465817, 0.03525466968756562, 0.7369205261081424, 0.008324019231786326, 0.001958592760420312, 0.1047847126824867, 0.000734472285157617, 0.01738251074873027, 0.9356322280448043, 0.0603633695512777, 0.0023216680596645266, 0.9703084289727016, 0.9654821000868666, 0.9777268337771995, 0.1271053842510439, 0.3684542983943951, 0.03858556307620975, 0.006052637345287804, 0.017401332367702436, 0.00832237634977073, 0.003026318672643902, 0.04690793942598048, 0.20730282907610728, 0.03782898340804878, 0.05144741743494634, 0.0007565796681609755, 0.0400987224125317, 0.04539478008965853, 0.001513159336321951, 0.9597910297805824, 0.015996517163009705, 0.98022658878184, 0.016397842563264983, 0.014025977734341317, 0.10344158579076722, 0.1648052383785105, 0.028928579077078968, 0.06574677062972492, 0.057857158154157935, 0.01051948330075599, 0.016655848559530315, 0.21214291323191242, 0.0867857372312369, 0.07714287753887725, 0.06311689980453593, 0.057857158154157935, 0.020162342993115645, 0.012272730517548652, 0.007889612475566991, 0.9940801634801023, 0.11363323495752296, 0.836015942901776, 0.004058329819911534, 0.03246663855929227, 0.012174989459734603, 0.9897462361303273, 0.9783163514710397, 0.13555956395694532, 0.029048477990773997, 0.8036745577447473, 0.01936565199384933, 0.2588044188696417, 0.11727075230030637, 0.07509949654699423, 0.004621507479815029, 0.04563738636317342, 0.029462110183820812, 0.003466130609861272, 0.09300783803127746, 0.008087638089676302, 0.007509949654699422, 0.17966110327780926, 0.0005776884349768787, 0.015019899309398845, 0.0011553768699537573, 0.07105567750215608, 0.08954170742141619, 0.866178079743799, 0.07995489966865837, 0.033314541528607654, 0.006662908305721531, 0.006662908305721531, 0.0010153736185640478, 0.806206653139854, 0.0010153736185640478, 0.005076868092820239, 0.1360600648875824, 0.005076868092820239, 0.0020307472371280957, 0.0010153736185640478, 0.04163031836112596, 0.9805521757788649, 0.43643051457369064, 0.00036248381609110515, 0.20661577517192994, 0.003624838160911052, 0.0007249676321822103, 0.3106486303900771, 0.006162224873548788, 0.0014499352643644206, 0.00036248381609110515, 0.02863622147119731, 0.004349805793093262, 0.0007249676321822103, 0.976519738305442, 0.6867963211910787, 0.31134766560662236, 0.017628499563623064, 0.008814249781811532, 0.846167979053907, 0.12339949694536144, 0.1920951440527688, 0.06053418405024227, 0.0016142449080064605, 0.0008071224540032303, 0.013721081718054915, 0.02179230625808722, 0.005649857178022612, 0.04035612270016151, 0.025020796074100137, 0.0024213673620096907, 0.011299714356045223, 0.004035612270016151, 0.6021133506864098, 0.010492591902041994, 0.006456979632025842, 0.0008071224540032303, 0.9550681742749111, 0.9556431349021157, 0.0022335559917352563, 0.18538514731402628, 0.05807245578511667, 0.0022335559917352563, 0.02456911590908782, 0.008934223966941025, 0.08487512768593974, 0.6298627896693423, 0.16987646403967951, 0.11545002410463656, 0.028037862996840305, 0.00659714423455066, 0.00659714423455066, 0.001649286058637665, 0.6316765604582257, 0.01979143270365198, 0.00329857211727533, 0.00329857211727533, 0.00659714423455066, 0.001649286058637665, 0.00329857211727533, 0.019957101248881365, 0.7483912968330512, 0.019957101248881365, 0.20954956311325434, 0.39758200033250657, 0.07938070655102947, 0.003392337886796131, 0.012890883969825299, 0.009498546083029167, 0.01831862458869911, 0.045457327683068156, 0.04613579526042738, 0.0006784675773592262, 0.01967555974341756, 0.003392337886796131, 0.3046319422342926, 0.05766974407553423, 0.0006784675773592262, 0.0006784675773592262, 0.40639241648256375, 0.010983578823853075, 0.01830596470642179, 0.23980813765412548, 0.31120140000917046, 0.012814175294495253, 0.06133782259233391, 0.14683902984225392, 0.0018587218967373914, 0.7100317645536834, 0.0009293609483686957, 0.07527823681786434, 0.0009293609483686957, 0.056854422617297666, 0.004061030186949833, 0.004061030186949833, 0.022335666028224083, 0.022335666028224083, 0.030457726402123752, 0.8548468543529399, 0.0020305150934749167, 0.9801456609226051, 0.005463028606125306, 0.9915396920117431, 0.039760291204270354, 0.9542469889024884, 0.12237408582125966, 0.008236717314892478, 0.03177019535744241, 0.008236717314892478, 0.08707386875743477, 0.009413391217019975, 0.24004147603400935, 0.08354384705105228, 0.005883369510637484, 0.0011766739021274969, 0.3224086491829341, 0.01882678243403995, 0.0011766739021274969, 0.03177019535744241, 0.02824017365105992, 0.214900526031038, 0.051576126247449124, 0.025788063123724562, 0.6447015780931141, 0.042980105206207604, 0.9835738280352454, 0.9804712745597889, 0.003494554522660479, 0.003494554522660479, 0.9295515030276875, 0.05940742688522815, 0.19875868291020235, 0.7428940009222137, 0.012923770861874144, 0.002228236355495542, 0.02540189445264918, 0.0013369418132973252, 0.0013369418132973252, 0.0026738836265946505, 0.0017825890843964336, 0.003119530897693759, 0.0026738836265946505, 0.004456472710991084, 0.9756428517468793, 0.9732319983385604, 0.9357128864570223, 0.9893565684181577, 0.005718824094902646, 0.006788156191161879, 0.013576312382323758, 0.07466971810278067, 0.033940780955809394, 0.8553076800863967, 0.013576312382323758, 0.9766473237453169, 0.018781679302794556, 0.012954783235184087, 0.7617412542288243, 0.01036382658814727, 0.023318609823331355, 0.13732070229295132, 0.03886434970555226, 0.01036382658814727, 0.004149926701551658, 0.03527437696318909, 0.03942430366474075, 0.03527437696318909, 0.004149926701551658, 0.024899560209309946, 0.043574230366292405, 0.014524743455430802, 0.25522049214542697, 0.002074963350775829, 0.012449780104654973, 0.49591624083542307, 0.03319941361241326, 0.010389826828986162, 0.9766437219246993, 0.9728086285013454, 0.9290116727866312, 0.05898486811343691, 0.9976216870908264, 0.10741802391515881, 0.32225407174547643, 0.11794920273037046, 0.0021062357630423295, 0.05054965831301591, 0.0021062357630423295, 0.37912243734761936, 0.004212471526084659, 0.0021062357630423295, 0.004212471526084659, 0.004212471526084659, 0.0021062357630423295, 0.9906778340668714, 0.9699669073275748, 0.2248824429739274, 0.052230760948783136, 0.042800206888586184, 0.0275662349451911, 0.016684826414194612, 0.06238674224437986, 0.060935887773580326, 0.038447643476187586, 0.010881408530996487, 0.05803417883198126, 0.033369652828389225, 0.039173070711587356, 0.052230760948783136, 0.07254272353997658, 0.20311962591193441, 0.004352563412398595, 0.6950325626565617, 0.03420741919115069, 0.17103709595575345, 0.017103709595575344, 0.017103709595575344, 0.03731718457216439, 0.02487812304810959, 0.01330434172147304, 0.9579126039460588, 0.01330434172147304, 0.00665217086073652, 0.07945645455780018, 0.008589886979221641, 0.7301403932338395, 0.025769660937664925, 0.0021474717448054102, 0.05368679362013526, 0.0021474717448054102, 0.05368679362013526, 0.034359547916886564, 0.012884830468832462, 0.9304018994270684, 0.026208504209213192, 0.013104252104606596, 0.026208504209213192, 0.1412803453425012, 0.07528544479702445, 0.053500720345119504, 0.11981598448547721, 0.08938144297178648, 0.1005941687926199, 0.032677086677857424, 0.047413812042381355, 0.057024719888810006, 0.08361489826392929, 0.058626537863214784, 0.04581199406797658, 0.03652144981642888, 0.02306617883142877, 0.012494180200357249, 0.023386542426309723, 0.02033661661638747, 0.4783172228174333, 0.018709687287076473, 0.016269293293109974, 0.03416551591553095, 0.012201969969832482, 0.03253858658621995, 0.03497898058018645, 0.18058915555352073, 0.037419374574152946, 0.014642363963798978, 0.05206173853795192, 0.01382889929914348, 0.008948111311210486, 0.03660590990949744, 0.009761575975865985, 0.9669186528695151, 0.033255545640481984, 0.027712954700401655, 0.853559004772371, 0.011085181880160663, 0.06651109128096397, 0.9864275679018646, 0.05135878901301349, 0.024851026941780718, 0.043075113365753245, 0.009940410776712287, 0.013253881035616383, 0.09940410776712287, 0.3280335556315055, 0.06792614030753397, 0.046388583624657344, 0.23028618299383466, 0.07289634569589011, 0.011597145906164336, 0.03250972143312937, 0.9427819215607518, 0.9681058403917059, 0.016135097339861765, 0.016135097339861765, 0.04952218959885899, 0.033883603409745625, 0.06255434475645347, 0.12510868951290693, 0.028670741346707836, 0.002606431031518894, 0.6959170854155448, 0.002606431031518894, 0.976946854170929, 0.004696859875821774, 0.014090579627465322, 0.9823781258835794, 0.36364552286656704, 0.1444480826942197, 0.006060758714442784, 0.009091138071664177, 0.0020202529048142614, 0.009091138071664177, 0.035354425834249574, 0.10303289814552732, 0.003030379357221392, 0.01515189678610696, 0.052526575525170795, 0.0010101264524071307, 0.004040505809628523, 0.026263287762585397, 0.22323794598197588, 0.9757700923447722, 0.9772165334485139, 0.9024359816870889, 0.917470033502997, 0.002730565575901777, 0.03003622133491955, 0.03276678691082133, 0.002730565575901777, 0.008191696727705332, 0.0862559062713757, 0.1332435594931368, 0.11411287210999121, 0.09867407176569828, 0.041953261805143825, 0.03188447897190931, 0.08189276704364075, 0.04900140978840799, 0.03826137476629117, 0.050008288071731445, 0.05806331433831906, 0.030877600688585857, 0.04665202712731994, 0.07719400172146464, 0.02315820051643939, 0.03859700086073232, 0.033069814728243434, 0.8057009406517491, 0.012025387173906704, 0.02104442755433673, 0.0992094441847303, 0.02104442755433673, 0.006012693586953352, 0.06230578698826727, 0.7492078583527446, 0.016153352182143366, 0.0007692072467687317, 0.06461340872857346, 0.009999694207993511, 0.011538108701530976, 0.009999694207993511, 0.01923018116921829, 0.03692194784489912, 0.0015384144935374634, 0.0007692072467687317, 0.013076523195068438, 0.002307621740306195, 0.09635992731715148, 0.00893403299629219, 0.5392327058476358, 0.0006381452140208708, 0.0012762904280417416, 0.10337952467138106, 0.08678774910683842, 0.05041347190764879, 0.026163953774855704, 0.012762904280417415, 0.020420646848667866, 0.0012762904280417416, 0.01722992077856351, 0.01659177556454264, 0.01722992077856351, 0.0059981271471217425, 0.11596379151102035, 0.18394256584506677, 0.02999063573560871, 0.03998751431414495, 0.021993132872779722, 0.007997502862828989, 0.02999063573560871, 0.42786640316135094, 0.015995005725657978, 0.0019993757157072472, 0.0059981271471217425, 0.10796628864819136, 0.0039987514314144944, 0.011141705738466031, 0.011141705738466031, 0.027854264346165076, 0.016712558607699046, 0.005570852869233016, 0.016712558607699046, 0.8244862246464862, 0.08356279303849523, 0.9837647215797979, 0.0004068610598189085, 0.058994853673741736, 0.34623876190589115, 0.02156363617040215, 0.001627444239275634, 0.3185722098382054, 0.03132830160605596, 0.01668130345257525, 0.025632246768591237, 0.029700857366780322, 0.0907300163396166, 0.03946552280243413, 0.001627444239275634, 0.0044754716580079935, 0.012612692854386164, 0.0004068610598189085, 0.005477155160262394, 0.9913650840074933, 0.9863529750329263, 0.005149650681561252, 0.006437063351951565, 0.014161539374293444, 0.07531364121783331, 0.002574825340780626, 0.06565804618990596, 0.017380071050269227, 0.2104919716088162, 0.02446084073741595, 0.009011888692732192, 0.5600245116197862, 0.0006437063351951565, 0.008368182357537035, 0.038455682797370126, 0.006409280466228354, 0.006409280466228354, 0.006409280466228354, 0.006409280466228354, 0.9293456676031114, 0.02471574817884781, 0.9639141789750646, 0.9120751813496312, 0.8424053479598774, 0.08695797140230993, 0.043478985701154965, 0.010869746425288741, 0.005434873212644371, 0.010869746425288741, 0.9481548739274417, 0.027090139255069763, 0.9764931300394223, 0.05356917959917007, 0.8068857677124992, 0.03348073724948129, 0.010044221174844388, 0.0033480737249481293, 0.07365762194885885, 0.0033480737249481293, 0.010044221174844388, 0.0033480737249481293, 0.056325149497730806, 0.019713802324205783, 0.053508892022844264, 0.05914140697261735, 0.03661134717352502, 0.7491244883198197, 0.00281625747488654, 0.01126502989954616, 0.01126502989954616, 0.013389933722378795, 0.003347483430594699, 0.17741662182151904, 0.6795391364107238, 0.0016737417152973494, 0.006694966861189398, 0.11716192007081445, 0.016503630519739288, 0.973714200664618, 0.9771644584595225, 0.9757937030699009, 0.9751498709997455, 0.9568361302937857, 0.9469203247017104, 0.030545816925861627, 0.16970837461973515, 0.032377141892881614, 0.18470181616744544, 0.0019556662888317753, 0.22033840187504666, 0.01151670147867601, 0.03476740069034267, 0.004128628831978192, 0.00043459250862928336, 0.004128628831978192, 0.013906960276137068, 0.01542803405633956, 0.22012110562073203, 0.08670120547154203, 0.9324475600164608, 0.0006000483920165842, 0.0012000967840331684, 0.9906798952193804, 0.0006000483920165842, 0.0024001935680663367, 0.0018001451760497524, 0.0012000967840331684, 0.0012000967840331684, 0.9825445098275793, 0.005114538624911184, 0.025572693124555918, 0.010229077249822367, 0.005114538624911184, 0.05625992487402302, 0.889929720734546, 0.007423778668892871, 0.9836506736283053, 0.28925829510439494, 0.004519660861006171, 0.10395219980314192, 0.006026214481341561, 0.1702405590978991, 0.004519660861006171, 0.0015065536203353901, 0.0015065536203353901, 0.006026214481341561, 0.0015065536203353901, 0.4082760311108907, 0.0015065536203353901, 0.7911762825576849, 0.20261831626477297, 0.5543217731261122, 0.027605665992336263, 0.14244523652045513, 0.012146493036627955, 0.12146493036627956, 0.029814119271723165, 0.0011042266396934506, 0.0894423578151695, 0.009938039757241056, 0.006625359838160703, 0.002208453279386901, 0.004416906558773802, 0.02249265784898019, 0.00749755261632673, 0.02249265784898019, 0.00749755261632673, 0.8772136561102275, 0.05998042093061384, 0.9568734475071271, 0.7253608465853507, 0.0020548465908933446, 0.12329079545360068, 0.004109693181786689, 0.004109693181786689, 0.0020548465908933446, 0.012329079545360068, 0.03082269886340017, 0.03904208522697355, 0.05753570454501365, 0.9785417081269207, 0.016871408760808976, 0.00803658881415144, 0.00267886293805048, 0.9885004241406271, 0.1005100204095627, 0.09635671378106837, 0.05814629279892057, 0.0058146292798920566, 0.046932364901985886, 0.05233166351902851, 0.05399298617042624, 0.21347996070460837, 0.024089178445267093, 0.08680410853553142, 0.038625751644997236, 0.04776302622768475, 0.059392284787468864, 0.0037379759656448936, 0.02824248507376142, 0.08431212455843483, 0.09779936689325487, 0.0691581237316588, 0.0950050992677333, 0.04400971510196469, 0.04610541582110587, 0.1131678388336235, 0.11177070502086271, 0.059378187042333316, 0.03353121150625881, 0.020957007191411758, 0.03911974675730195, 0.13342627911865487, 0.048899683446627436, 0.03562691222539999, 0.016067038846749013, 0.03562691222539999, 0.9864678120695717, 0.9393106244585029, 0.9661463430018736, 0.009603959288297955, 0.9603959288297956, 0.0038415837153191823, 0.011524751145957548, 0.0019207918576595912, 0.007683167430638365, 0.008353422455813782, 0.9857038497860262, 0.9399475548180305, 0.9895677721793334, 0.9565281801018701, 0.7719023858527746, 0.12138787519458956, 0.02178756734261864, 0.08403775975010046, 0.9605432729011267, 0.9148078310956337, 0.03154509762398737, 0.16312476292796466, 0.013049981034237173, 0.026915585883114167, 0.02528433825383452, 0.05056867650766904, 0.24550276820658679, 0.0073406143317584095, 0.08237800527862214, 0.026099962068474345, 0.005709366702478763, 0.0008156238146398233, 0.022837466809915052, 0.2911777018264169, 0.022837466809915052, 0.016312476292796464, 0.9971955828390487, 0.9818344515423318, 0.023964489609926178, 0.958579584397047, 0.7211309892723026, 0.02316886712521454, 0.04344162585977726, 0.03185719229716999, 0.04054551746912544, 0.017376650343910904, 0.02027275873456272, 0.07529881815694725, 0.0028961083906518174, 0.02027275873456272, 0.0028961083906518174, 0.005792216781303635, 0.9681050156117307, 0.03661457647300436, 0.9519789882981134, 0.010092190192837929, 0.010092190192837929, 0.30276570578513784, 0.6711306478237222, 0.06590210179841946, 0.02907445667577329, 0.9032464540606903, 0.35278634274331017, 0.02620698546093161, 0.035614621267419884, 0.13909861513879085, 0.06450950267306242, 0.021503167557687476, 0.006719739861777336, 0.004703817903244135, 0.12431518744288071, 0.01276750573737694, 0.10214004589901551, 0.007391713847955069, 0.02284711553004294, 0.05577384085275189, 0.020159219585332008, 0.004703817903244135, 0.08520505328665205, 0.21727288588096275, 0.1256774535978118, 0.010650631660831507, 0.551702720031072, 0.008520505328665206, 0.9974940070698848, 0.9416476563912299, 0.9986902967691258, 0.9178263965919614, 0.004441095467380459, 0.0037009128894837156, 0.007401825778967431, 0.0007401825778967431, 0.010362556090554403, 0.05033241529697853, 0.0007401825778967431, 0.0014803651557934862, 0.0022205477336902295, 0.07092427189522356, 0.05201113272316395, 0.014184854379044712, 0.023641423965074522, 0.028369708758089425, 0.2600556636158197, 0.00945656958602981, 0.5342961816106842, 0.9956270423765036, 0.700488878435827, 0.0017961253293226334, 0.0035922506586452668, 0.0017961253293226334, 0.03951475724509793, 0.1293210237112296, 0.04131088257442057, 0.0053883759879679, 0.06645663718493744, 0.008980626646613166, 0.0017961253293226334, 0.22343731546813567, 0.06962930295983762, 0.031177299832763114, 0.03429502981603943, 0.24785953367046676, 0.006755081630432008, 0.021824109882934182, 0.08313946622070163, 0.03481465147991881, 0.024422218202331106, 0.05248178805181791, 0.016108271580260944, 0.07846287124578717, 0.011431676605346476, 0.05300140971569729, 0.011431676605346476, 0.3618110167096274, 0.09114060782134151, 0.005158902329509897, 0.0013757072878693058, 0.15373528941939493, 0.0010317804659019793, 0.022011316605908892, 0.06706573028362865, 0.03198519444296136, 0.006534609617379203, 0.014100999700660383, 0.005846755973444549, 0.22424028792269685, 0.006878536439346529, 0.0027514145757386115, 0.004471048685575243, 0.011853647400756145, 0.9127308498582232, 0.05926823700378073, 0.04042804545520282, 0.9500590681972663, 0.008948648119985582, 0.017897296239971165, 0.02684594435995675, 0.008948648119985582, 0.02684594435995675, 0.017897296239971165, 0.8859161638785726, 0.04375392547035673, 0.9407093976126697, 0.9818575187167001, 0.002843785830316798, 0.9846608437471914, 0.012086089778846393, 0.033325294524766826, 0.9331082466934711, 0.01766381937864304, 0.9538462464467243, 0.10526127334909474, 0.09253738316403934, 0.1804478971698767, 0.03238808410741377, 0.15962698595796784, 0.3366047312591931, 0.013880607474605901, 0.0011567172895504917, 0.010410455605954425, 0.04742540887157016, 0.010410455605954425, 0.0023134345791009834, 0.005783586447752459, 0.9733053014514789, 0.2239200743646934, 0.018922823185748738, 0.10407552752161806, 0.018922823185748738, 0.0063076077285829125, 0.46676297191513555, 0.009461411592874369, 0.0063076077285829125, 0.0031538038642914563, 0.09776791979303515, 0.012615215457165825, 0.018922823185748738, 0.012615215457165825, 0.9517225712762956, 0.9346729494740859, 0.9798194187967897, 0.0010706425648609958, 0.11241746931040457, 0.014988995908053943, 0.009635783083748963, 0.10278168622665561, 0.004282570259443983, 0.004282570259443983, 0.16702024011831534, 0.02890734925124689, 0.3051331309853838, 0.07387433697540871, 0.09635783083748962, 0.011777068213470954, 0.026766064121524897, 0.041755060029578836, 0.992061684549894, 0.016042385369068407, 0.8021192684534204, 0.13368654474223673, 0.04277969431751576, 0.04990642538364694, 0.9232688695974683, 0.9716884843254646, 0.9712333094111708, 0.9658016387255333, 0.008482691762317826, 0.012118131089025465, 0.4980551877589466, 0.248421687325022, 0.014541757306830558, 0.21206729405794564, 0.006059065544512732, 0.024653051648237615, 0.06779589203265345, 0.1479183098894257, 0.7026119719747721, 0.04930610329647523, 0.004808934981572572, 0.33181651372850746, 0.11445265256142721, 0.00048089349815725723, 0.003847147985258058, 0.0072134024723588585, 0.00048089349815725723, 0.005770721977887087, 0.0009617869963145145, 0.5034954925706483, 0.008175189468673372, 0.01779305943181852, 0.0014426804944717717, 0.9865634068777068, 0.0016497715834075364, 0.009898629500445219, 0.9853946647760542, 0.002853670459299368, 0.13982985250566904, 0.005707340918598736, 0.011414681837197472, 0.8389791150340142, 0.9466631955194671, 0.9174615192319443, 0.09292535122107193, 0.10173723797479425, 0.040855111312712654, 0.030441063331040803, 0.12496857578006224, 0.0400540306987379, 0.016822692893469916, 0.023231337805267982, 0.13057614007788554, 0.06729077157387967, 0.02643566026116701, 0.03684970824283887, 0.021629176577318464, 0.10894696350056708, 0.013618370437570885, 0.12336641455211272, 0.1795318248749916, 0.04699785991491927, 0.03759828793193542, 0.05733738909620151, 0.08553610504515308, 0.01221944357787901, 0.29420660306739466, 0.007519657586387084, 0.027258758750653176, 0.001879914396596771, 0.04417798832002411, 0.013159400776177397, 0.06297713228599182, 0.06955683267408053, 0.04135811672512896, 0.017859186767669323, 0.9307453405641603, 0.9790180144320284, 0.00070044217591509, 0.00280176870366036, 0.02521591833294324, 0.3712343532349977, 0.5764639107781191, 0.01751105439787725, 0.00210132652774527, 0.00210132652774527, 0.00140088435183018, 0.9808544952850117, 0.014639619332612114, 0.9382931258197162, 0.9795399681237144, 0.40364807435375866, 0.0008357102988690656, 0.012535654483035983, 0.0016714205977381312, 0.12034228303714545, 0.0025071308966071967, 0.4437621686994738, 0.0008357102988690656, 0.0075213926898215905, 0.0008357102988690656, 0.005014261793214393, 0.032014692362895114, 0.016007346181447557, 0.016007346181447557, 0.016007346181447557, 0.8964113861610632, 0.9880698434632021, 0.9946215888001405, 0.10969195147545882, 0.023093042415886066, 0.06350586664368668, 0.04041282422780062, 0.005773260603971517, 0.017319781811914552, 0.005773260603971517, 0.7274308361004111, 0.0003213195057489282, 0.40036410416316454, 0.041771535747360665, 0.0003213195057489282, 0.23584851721971328, 0.0006426390114978563, 0.0022492365402424974, 0.009639585172467845, 0.03630910414962889, 0.13752474846054127, 0.12949176081681807, 0.0003213195057489282, 0.003213195057489282, 0.0012852780229957127, 0.1137653141297049, 0.33596319328928476, 0.005332749099829917, 0.05599386554821413, 0.005332749099829917, 0.08799036014719364, 0.0017775830332766392, 0.33774077632256144, 0.05599386554821413, 0.06399382722782111, 0.9359097232068838, 0.7295280121546811, 0.005351061213848517, 0.012485809498979872, 0.14447865277390995, 0.09988647599183897, 0.003567374142565678, 0.001783687071282839, 0.001783687071282839, 0.04169341787632551, 0.16114633903119677, 0.07724792759908163, 0.21767545161198165, 0.07827107895800986, 0.02992717724865083, 0.013556755505799092, 0.03146190428704318, 0.050645992266947555, 0.030438752928114945, 0.06676062617006723, 0.04118184219686139, 0.056784900420516954, 0.059598566657569595, 0.010487301429014393, 0.032996631325435524, 0.9707652330014745, 0.11164339188330905, 0.868337492425737, 0.022622510700281984, 0.9727679601121253, 0.9716807901361221, 0.9504037399861396, 0.0019617740569392683, 0.007847096227757073, 0.21187159814944098, 0.003923548113878537, 0.767053656263254, 0.005885322170817805, 0.9528393205583308, 0.9756176758600277, 0.014820039922289053, 0.08753086079101972, 0.06530080090758614, 0.24314127997505477, 0.048165129747439424, 0.018061923655289785, 0.015283166169860586, 0.015283166169860586, 0.09447775450459271, 0.11207655191231096, 0.07826833583958906, 0.00787314620871606, 0.02686132235914891, 0.13430661179574455, 0.027787574854291973, 0.010651903694145258, 0.9538527557444436, 0.24324528264879622, 0.09237162632232768, 0.003079054210744256, 0.6589176010992708, 0.003079054210744256, 0.0313658971574629, 0.007841474289365725, 0.7449400574897439, 0.01568294857873145, 0.04704884573619435, 0.13330506291921732, 0.9325315934312279, 0.988957679219652, 0.005783378241050597, 0.6337623097752526, 0.06432925700726248, 0.07743336491614929, 0.0011912825371715274, 0.0011912825371715274, 0.00953026029737222, 0.0011912825371715274, 0.1346149267003826, 0.030973345966459714, 0.008338977760200693, 0.0035738476115145827, 0.007147695223029165, 0.020251803131915967, 0.0059564126858576375, 0.002382565074343055, 0.16394584690585326, 0.0007806945090754918, 0.060894171707888356, 0.612845189624261, 0.0093683341089059, 0.0757273673803227, 0.023420835272264753, 0.03200847487209516, 0.0015613890181509836, 0.0070262505816794255, 0.011710417636132377, 0.9486544221588228, 0.06844205864568305, 0.923967791716721, 0.9551330220731442, 0.949220376727417, 0.9845185772236297, 0.028216123910797745, 0.9593482129671234, 0.9507053248476106, 0.01707888931489399, 0.004269722328723497, 0.008539444657446995, 0.004269722328723497, 0.9606875239627868, 0.016099632008483876, 0.03219926401696775, 0.9337786564920647, 0.18473144480534526, 0.09089108822788394, 0.06300709655915258, 0.06542013429971588, 0.06756505673577214, 0.06783317204027917, 0.08284762909267299, 0.06836940264929324, 0.07748532300253233, 0.01876807131549226, 0.05040567724732207, 0.031101375322815747, 0.06944186386732136, 0.021717339665069616, 0.027079645755210262, 0.013673880529858648, 0.28033731504032927, 0.012552417091358027, 0.020920695152263375, 0.0010460347576131688, 0.3849407908016461, 0.03765725127407408, 0.007322243303292182, 0.021966729909876546, 0.10041933673086421, 0.004184139030452675, 0.034519147001234575, 0.0010460347576131688, 0.004184139030452675, 0.013598451848971195, 0.07426846779053499, 0.025581177155703537, 0.07217546411787783, 0.24119395603949048, 0.03014924450493631, 0.009136134698465548, 0.27042958707458026, 0.06121210247971917, 0.03014924450493631, 0.01918588286677765, 0.11876975108005212, 0.047507900432020855, 0.03197647144462942, 0.027408404095396646, 0.011876975108005214, 0.0009136134698465549, 0.0018272269396931097, 0.2759736352097907, 0.04942811376891773, 0.03295207584594516, 0.012357028442229433, 0.041190094807431445, 0.05354712324966088, 0.041190094807431445, 0.03295207584594516, 0.024714056884458865, 0.024714056884458865, 0.399543919632085, 0.9537309208880315, 0.9372779016344743, 0.862686330341544, 0.027928694147747825, 0.0031031882386386473, 0.0031031882386386473, 0.049651011818218356, 0.046547823579579706, 0.028628535728592516, 0.028628535728592516, 0.944741679043553, 0.9977767510373157, 0.9475875256642562, 0.04821682642640832, 0.0015226366239918417, 0.0015226366239918417, 0.0005075455413306139, 0.00863790312079666, 0.9501693432876326, 0.00431895156039833, 0.03023266092278831, 0.9813397928532172, 0.011895027792160208, 0.11880142992803806, 0.8687354563487782, 0.03631742511285254, 0.043963198820821496, 0.08219206736066628, 0.04014031196683702, 0.009557217134961195, 0.35170559056657197, 0.16247269129434033, 0.005734330280976717, 0.0344059816858603, 0.015291547415937912, 0.011468660561953434, 0.19305578612621616, 0.013380103988945673, 0.9645837533925647, 0.02719923343233562, 0.08663459537706901, 0.4019442273889597, 0.03122874949638534, 0.012592237700155379, 0.007051653112087012, 0.0664870150568204, 0.021154959336261037, 0.03878409211647857, 0.04281360818052829, 0.079582942264982, 0.013095927208161594, 0.019140201304236177, 0.09620469602918709, 0.038280402608472354, 0.017125443272211317, 0.9901930917323465, 0.01483757521682876, 0.024729292028047935, 0.05605306193024198, 0.04945858405609587, 0.0741878760841438, 0.006594477874146115, 0.04780996458755934, 0.04286410618194975, 0.04451272565048628, 0.054404442461705456, 0.0857282123638995, 0.3692907609521825, 0.10386302651780133, 0.0016486194685365288, 0.021432053090974876, 0.32662653488146315, 0.014846660676430142, 0.3939313966146131, 0.04849909154300513, 0.10887551162715438, 0.013856883298001466, 0.007918219027429408, 0.003959109513714704, 0.008907996405858085, 0.005938664270572057, 0.014846660676430142, 0.000989777378428676, 0.04453998202929042, 0.005938664270572057, 0.010009752261575789, 0.003753657098090921, 0.0012512190326969736, 0.761992390912457, 0.16766335038139446, 0.030029256784727367, 0.0012512190326969736, 0.022521942588545524, 0.9324008707487366, 0.05180004837492981, 0.13922291536872344, 0.009079755350134137, 0.003026585116711379, 0.03026585116711379, 0.02723926605040241, 0.003026585116711379, 0.006053170233422758, 0.21488754328650791, 0.018159510700268274, 0.5478119061247596, 0.9804533862173387, 0.011672064121634984, 0.08925607605462753, 0.06990685677005792, 0.013731704008404235, 0.42630699262454963, 0.00436917854812862, 0.003120841820091871, 0.11235030552330737, 0.0037450101841102457, 0.18412966738542041, 0.05992016294576393, 0.009986693824293989, 0.011235030552330737, 0.0012483367280367486, 0.00873835709625724, 0.0006241683640183743, 0.9356048402110401, 0.0353058430268317, 0.8920068682190638, 0.009340386054649883, 0.09340386054649882, 0.011165546892239236, 0.07536744152261483, 0.002791386723059809, 0.030705253953657898, 0.5750256649503206, 0.002791386723059809, 0.23726787146008377, 0.011165546892239236, 0.011165546892239236, 0.04187080084589714, 0.9789689982790077, 0.7459132759582922, 0.0009231599949978864, 0.0002307899987494716, 0.01430897992246724, 0.0009231599949978864, 0.17863145903209102, 0.0004615799974989432, 0.0030002699837431306, 0.0002307899987494716, 0.0013847399924968296, 0.0018463199899957728, 0.003923429978741017, 0.04777352974114062, 0.9826270527790321, 0.0012247122173648587, 0.90996117750209, 0.003674136652094576, 0.0012247122173648587, 0.060010898650878074, 0.0012247122173648587, 0.014696546608378304, 0.007348273304189152, 0.07476946731267295, 0.0028757487427951136, 0.7088720650989955, 0.05607710048450472, 0.025881738685156024, 0.017254492456770684, 0.02731961305655358, 0.0028757487427951136, 0.0028757487427951136, 0.04601197988472182, 0.005751497485590227, 0.028757487427951138, 0.9834658965644126, 0.012150324682343939, 0.9720259745875152, 0.9664114178463464, 0.9489368628249808, 0.03495717783775825, 0.0024969412741255893, 0.8789233284922074, 0.06492047312726533, 0.012484706370627947, 0.0024969412741255893, 0.0588644499251793, 0.9300583088178329, 0.9655356216477926, 0.0391043001051188, 0.9580553525754105, 0.971690072818957, 0.9879352374664995, 0.937458045330595, 0.025349121590375074, 0.1333176024382689, 0.1258067515966763, 0.0647810885087363, 0.024410265235175997, 0.05727023766714368, 0.07229193935032892, 0.048820530470351994, 0.030982259721569535, 0.2309586633789729, 0.005633138131194461, 0.09388563551990768, 0.015960558038384306, 0.025349121590375074, 0.011266276262388922, 0.033798828787166765, 0.9684849135957185, 0.017608816610831246, 0.004768058574516378, 0.9869881249248903, 0.030917713390977267, 0.02318828504323295, 0.4019302740827045, 0.0025764761159147724, 0.005152952231829545, 0.10821199686842044, 0.005152952231829545, 0.41481265466227835, 0.0025764761159147724, 0.08537975166843481, 0.010672468958554351, 0.8964873925185655, 0.9348195547503791, 0.044515216892875194, 0.07984299798972078, 0.044357221105400434, 0.8694015336658485, 0.0240794410088348, 0.963177640353392, 0.003851296885318613, 0.04929660013207825, 0.5353302670592872, 0.0023107781311911676, 0.020026743803656787, 0.05545867514858802, 0.03697245009905868, 0.061620750165097805, 0.00924311252476467, 0.037742709476122405, 0.023107781311911678, 0.12863331596964167, 0.0023107781311911676, 0.01848622504952934, 0.007702593770637226, 0.006932334393573503, 0.9638300478459025, 0.021120069730183665, 0.9766211554543551, 0.00036413913327902874, 0.00036413913327902874, 0.00036413913327902874, 0.0007282782665580575, 0.9868576708637744, 0.006413031570003513, 0.06252705780753426, 0.14429321032507905, 0.006413031570003513, 0.016032578925008784, 0.0016032578925008782, 0.42486334151273275, 0.0032065157850017564, 0.014429321032507905, 0.0016032578925008782, 0.07855963673254304, 0.2052170102401124, 0.008016289462504392, 0.022445610495012296, 0.0016032578925008782, 0.0032065157850017564, 0.979412419180271, 0.1942456871993186, 0.012398660885062888, 0.03719598265518866, 0.09643402910604468, 0.04408412759133471, 0.07025907834868969, 0.022042063795667356, 0.07301433632314812, 0.4408412759133471, 0.008265773923375259, 0.05347825532538766, 0.37434778727771356, 0.5653415562969551, 0.0025465835869232217, 0.0025465835869232217, 0.03396293953487813, 0.06448036346476863, 0.03297850650488166, 0.013289845904952313, 0.006891031209975273, 0.014766495449947015, 0.6984552347824937, 0.029040774384895794, 0.0009844330299964676, 0.019196444084931118, 0.014766495449947015, 0.03691623862486754, 0.00787546423997174, 0.007383247724973507, 0.012797629389954079, 0.007383247724973507, 0.015484301524415477, 0.13419727987826746, 0.025807169207359128, 0.005161433841471825, 0.0025807169207359127, 0.621952777897355, 0.015484301524415477, 0.08000222454281329, 0.01032286768294365, 0.06709863993913373, 0.01806501844515139, 0.005161433841471825, 0.05493470618157294, 0.013835407482766517, 0.0008138474989862657, 0.6177102517305757, 0.036623137454381956, 0.0004069237494931329, 0.0008138474989862657, 0.00569693249290386, 0.0842332161450785, 0.034995442456409426, 0.006510779991890126, 0.008952322488848924, 0.0004069237494931329, 0.028484662464519302, 0.003662313745438196, 0.10091708987429696, 0.9885650944196227, 0.9483665747074659, 0.27100323433696244, 0.6535498288937761, 0.060484779837524955, 0.0023565498637996736, 0.0023565498637996736, 0.006284132970132463, 0.003927583106332789, 0.9582206546058103, 0.0030082758971800468, 0.02707448307462042, 0.0015041379485900234, 0.0015041379485900234, 0.0015041379485900234, 0.905491045051194, 0.024066207177440374, 0.0015041379485900234, 0.0030082758971800468, 0.01353724153731021, 0.0015041379485900234, 0.012033103588720187, 0.0015041379485900234, 0.9093699002043869, 0.07578082501703225, 0.03672420357512386, 0.9364671911656586, 0.9504289150510421, 0.08314564390911396, 0.06321346899939485, 0.10621001773321748, 0.015945739927775277, 0.0626439782876886, 0.025057591315075435, 0.25797929240293577, 0.08086768106228891, 0.04157282195455698, 0.027905044873606736, 0.129274391557321, 0.031037243787991164, 0.00541016176120947, 0.03160673449969743, 0.03217622521140369, 0.005694907117062599, 0.979679786978853, 0.008768385237432619, 0.9820591465924533, 0.9570240961912073, 0.03987600400796697, 0.056124456547119665, 0.037416304364746446, 0.15233781062789623, 0.06414223605385105, 0.008017779506731382, 0.061469642884940584, 0.0026725931689104603, 0.07750520189840335, 0.45968602505259915, 0.07750520189840335, 0.9876122473534639, 0.9649177719737786, 0.005596107107679996, 0.8618004945827195, 0.011192214215359993, 0.11192214215359993, 0.054270994017838796, 0.6102717898740648, 0.025474140049189638, 0.01661356959729759, 0.059808850550271325, 0.09968141758378554, 0.017721140903784096, 0.0376574244205412, 0.02215142612973012, 0.04984070879189277, 0.001107571306486506, 0.001107571306486506, 0.001107571306486506, 0.002215142612973012, 0.2015889388549056, 0.016345049096343697, 0.6864920620464353, 0.054483496987812324, 0.032690098192687395, 0.9591127674192063, 0.9899788644196701, 0.9792992568699272, 0.9748493959026646, 0.007472640029214405, 0.01494528005842881, 0.017436160068166947, 0.03238144012659576, 0.14696192057455, 0.4657945618210313, 0.1992704007790508, 0.034872320136333894, 0.07970816031162033, 0.052195871544396505, 0.9134277520269389, 0.2694853720603861, 0.009523697703704743, 0.011992804515776343, 0.060669481668045026, 0.1530846223484392, 0.03280384764609411, 0.03774206127023731, 0.037036602181074, 0.041622086260635544, 0.010229156792868057, 0.0641967771138616, 0.04832394760768703, 0.1340372269410297, 0.031745659012349145, 0.023985609031552686, 0.03315657719067577, 0.9807952638729514, 0.03843251412469407, 0.7601097237995049, 0.00854055869437646, 0.1878922912762821, 0.9519523513619684, 0.9778214002556564, 0.9803772652890955, 0.9806088174564788, 0.9447001843302153, 0.9302413390303055, 0.1334670844342603, 0.03035946555800771, 0.04697124859918174, 0.00687384125841684, 0.01088358199249333, 0.09336967709349542, 0.07389379352798103, 0.11800094160282242, 0.01202922220222947, 0.01432050262170175, 0.01489332272656982, 0.09852505803730804, 0.2846915921194308, 0.02405844440445894, 0.00687384125841684, 0.02978664545313964, 0.015553445781608553, 0.9798670842413388, 0.9968233885397566, 0.9840182859433326, 0.1971316216623778, 0.0026639408332753754, 0.0026639408332753754, 0.7325837291507283, 0.0026639408332753754, 0.015983644999652255, 0.007991822499826128, 0.010655763333101502, 0.02397546749947838, 0.002600505740352394, 0.002600505740352394, 0.9803906641128525, 0.007801517221057182, 0.005201011480704788, 0.9401228677468078, 0.9452350832280683, 0.9593052236235075, 0.02368654873144463, 0.9592381306477458, 0.01656763981850893, 0.960923109473518, 0.947262487022033, 0.006490478486648105, 0.07355875618201185, 0.1579349765084372, 0.05949605279427429, 0.24231119683486257, 0.017307942631061612, 0.0638230384520397, 0.023798421117709717, 0.053546447514846864, 0.09303019164195617, 0.0681500241098051, 0.027584533568254445, 0.0703135169386878, 0.021634928288827016, 0.018389689045502963, 0.0032452392433240523, 0.9418399201770695, 0.3913989668546432, 0.0016870645123044964, 0.35428354758394426, 0.24968554782106547, 0.0016870645123044964, 0.908235299019833, 0.0321028197008359, 0.9309817713242411, 0.0008433206915788764, 0.9200628745125541, 0.010119848298946516, 0.0008433206915788764, 0.0008433206915788764, 0.047225958728417075, 0.010963168990525393, 0.006746565532631011, 0.0008433206915788764, 0.002529962074736629, 0.9832145939972239, 0.004095816585437806, 0.2736005479072455, 0.015017994146605288, 0.03740845814699863, 0.0655330653670049, 0.011468286439225856, 0.0046419254634961805, 0.0010922177561167484, 0.16601709892974575, 0.1813081475153802, 0.03577013151282351, 0.12587809639245523, 0.003549707707379432, 0.07072109970855946, 0.0002730544390291871, 0.003276653268350245, 0.9823181801747046, 0.8993035823443458, 0.09106871719942743, 0.006633113955968776, 0.9883339794393476, 0.01960316783001867, 0.003920633566003734, 0.003920633566003734, 0.027444434962026136, 0.007841267132007468, 0.839015583124799, 0.04312696922604107, 0.050968236358048535, 0.003920633566003734, 0.0030780342803003635, 0.006156068560600727, 0.957268661173413, 0.030780342803003635, 0.34176223400177075, 0.00359972613260849, 0.00423497192071587, 0.24795760595791422, 0.00423497192071587, 0.00042349719207158704, 0.0658538133671318, 0.06924179090370448, 0.0016939887682863482, 0.002117485960357935, 0.0010587429801789676, 0.09952184013682296, 0.0016939887682863482, 0.03493851834590593, 0.12154369412454549, 0.9898332889722476, 0.7839258702992686, 0.017688583740086063, 0.020904689874647164, 0.00040201326682013776, 0.001608053067280551, 0.07316641456126508, 0.00361811940138124, 0.023316769475567992, 0.001608053067280551, 0.032965087879251294, 0.002010066334100689, 0.016884557206445786, 0.00040201326682013776, 0.020502676607827026, 0.00040201326682013776, 0.026594504049549363, 0.957402145783777, 0.9694157164458299, 0.9475154140504838, 0.00924405282000472, 0.03928722448502006, 0.028781864491993433, 0.06182770890872664, 0.6614498858252565, 0.014923929736589188, 0.0042639799247397685, 0.007461964868294594, 0.0042639799247397685, 0.0021319899623698842, 0.014923929736589188, 0.057030731493394396, 0.07248765872057605, 0.0042639799247397685, 0.0607617139275417, 0.0010659949811849421, 0.003197984943554826, 0.0010659949811849421, 0.053459613572622314, 0.9088134307345793, 0.9935913659874535, 0.9942927820866735, 0.024704778984374568, 0.3252795899609318, 0.4488034848828047, 0.19352076871093413, 0.004117463164062429, 0.014192869082341806, 0.00045783448652715505, 0.18359162909738916, 0.009614524217070255, 0.00045783448652715505, 0.002289172432635775, 0.08927772487279523, 0.007325351784434481, 0.002289172432635775, 0.026096565732047838, 0.009614524217070255, 0.6547033157338317, 0.018272279506993488, 0.9684308138706549, 0.9876746116608274, 0.9113293854044812, 0.07994117415828782, 0.9876851263066744, 0.9846315406615286, 0.003306300750018652, 0.9009669543800827, 0.004959451125027978, 0.07935121800044764, 0.00826575187504663, 0.001653150375009326, 0.9526630697453169, 0.0250700807827715, 0.9565062191754932, 0.977574270420534, 0.9366650855799887, 0.0180722039858018, 0.9758990152332971, 0.5606157182901151, 0.013411859289237204, 0.013948333660806691, 0.0005364743715694882, 0.012875384917667715, 0.0016094231147084643, 0.06544987333147755, 0.15611404212672103, 0.0767158351344368, 0.0026823718578474405, 0.0858358994511181, 0.0010729487431389764, 0.009120064316681298, 0.0005364743715694882, 0.9725735395464383, 0.9722731758578526, 0.9799829750355669, 0.9786657758872086, 0.6099742692064177, 0.022066252632790304, 0.12294055038268883, 0.003152321804684329, 0.006304643609368658, 0.004728482707026494, 0.0015761609023421646, 0.07880804511710823, 0.06304643609368658, 0.0015761609023421646, 0.06935107970305524, 0.0015761609023421646, 0.007880804511710823, 0.003152321804684329, 0.9863711079915456, 0.015659264084061986, 0.015659264084061986, 0.1409333767565579, 0.7986224682871613, 0.14672834209545232, 0.06797214956760375, 0.07287398727680594, 0.045423696105273664, 0.06829893874821723, 0.06927930629005767, 0.09770996500343039, 0.07646866826355422, 0.06797214956760375, 0.026469923629691847, 0.03071818297766708, 0.09019381384932036, 0.029737815435826643, 0.013725145585766142, 0.034639653145028836, 0.0624167334971746, 0.9652539673374655, 0.0277371829694674, 0.9633986426949662, 0.019077200845444876, 0.9972700875684033, 0.9829386375997806, 0.01907043415201114, 0.0953521707600557, 0.8772399709925125, 0.06467596056924238, 0.8020837629650137, 0.06976855588965516, 0.0005092595320412785, 0.002037038128165114, 0.0015277785961238357, 0.008148152512660456, 0.023425938473898813, 0.016805564557362193, 0.0005092595320412785, 0.002037038128165114, 0.0015277785961238357, 0.002037038128165114, 0.004583335788371507, 0.00234058134687937, 0.9444245734658258, 0.00234058134687937, 0.015213778754715905, 0.026916685489112753, 0.008192034714077794, 0.001170290673439685, 0.10791979432745333, 0.09160633704539643, 0.07989411130443251, 0.07738434864565452, 0.0656721229046906, 0.0819855801867475, 0.0489403718461707, 0.0489403718461707, 0.08533193039845147, 0.07110994199870956, 0.11126614453915731, 0.018404926164371886, 0.0481037842932447, 0.014221988399741911, 0.013803694623278915, 0.03513667722289178, 0.13002312653243006, 0.007066474268066851, 0.0014132948536133701, 0.05935838385176155, 0.007066474268066851, 0.025439307365040666, 0.0028265897072267403, 0.012719653682520333, 0.014132948536133703, 0.004239884560840111, 0.008479769121680221, 0.004239884560840111, 0.004239884560840111, 0.7179537856355921, 0.18054456038369832, 0.04513614009592458, 0.13239934428137876, 0.027081684057554747, 0.6108424292981793, 0.15536323271005315, 0.07268065392873731, 0.10001924852578528, 0.004000769941031411, 0.055010586689181906, 0.10235303099138693, 0.13369239552946632, 0.1526960527493655, 0.020337247200243005, 0.03834071193488436, 0.02933897956756368, 0.04167468688574387, 0.03900750692505626, 0.010335322347664478, 0.011668912328008282, 0.03400654449876699, 0.9837056966900588, 0.034649825614149476, 0.9586451753248022, 0.983872869240781, 0.005312091637780518, 0.08145207177930128, 0.005312091637780518, 0.13103159373191944, 0.014165577700748049, 0.7436928292892726, 0.010624183275561036, 0.007082788850374024, 0.01910785467994381, 0.0019107854679943808, 0.100316237069705, 0.0009553927339971904, 0.7748235072717214, 0.0028661782019915715, 0.022929425615932572, 0.0009553927339971904, 0.07643141871977524, 0.9896500924093048, 0.9775106524589067, 0.9363285217748021, 0.7870160995649725, 0.20569738965902692, 0.9682578700106917, 0.7976495923028056, 0.013294159871713429, 0.08862773247808953, 0.004431386623904476, 0.013294159871713429, 0.031019706367331333, 0.044313866239044764, 0.017932093714831013, 0.9504009668860436, 0.017932093714831013, 0.9563472358565065], \"Term\": [\"+\", \"abc\", \"abstract\", \"abstract\", \"abstract\", \"abstract\", \"accelerometer\", \"access\", \"access\", \"access\", \"access\", \"access\", \"access\", \"access\", \"access\", \"access\", \"access\", \"access\", \"access\", \"access\", \"access\", \"access\", \"access\", \"accessor\", \"accordion\", \"action\", \"action\", \"action\", \"action\", \"action\", \"action\", \"action\", \"action\", \"action\", \"action\", \"action\", \"actionbar\", \"actionbar\", \"actionlink\", \"activerecord\", \"activerecord\", \"activity\", \"add\", \"add\", \"add\", \"add\", \"add\", \"add\", \"add\", \"add\", \"add\", \"add\", \"add\", \"add\", \"add\", \"add\", \"add\", \"add\", \"address\", \"address\", \"address\", \"address\", \"address\", \"address\", \"address\", \"admin\", \"admin\", \"admin\", \"admin\", \"admin\", \"admin\", \"admin\", \"admin\", \"aggregation\", \"ajax\", \"ajax\", \"ajax\", \"ajax\", \"alarm\", \"align\", \"align\", \"align\", \"allocate\", \"allocate\", \"allocate\", \"allocate\", \"alphanumeric\", \"alphanumeric\", \"ambiguity\", \"anaconda\", \"android\", \"android\", \"android\", \"android\", \"android\", \"android\", \"android\", \"android\", \"android\", \"angle\", \"angle\", \"angular\", \"angular\", \"angular\", \"angular\", \"angular\", \"angular\", \"angular\", \"animation\", \"animation\", \"animation\", \"animation\", \"animation\", \"annotation\", \"annotation\", \"ansi\", \"anyone\", \"anyone\", \"anyone\", \"anyone\", \"anyone\", \"anyone\", \"anyone\", \"anyone\", \"anyone\", \"anyone\", \"anyone\", \"anyone\", \"anyone\", \"anyone\", \"anyone\", \"anyone\", \"apache\", \"apache\", \"apache\", \"apache\", \"apache\", \"apache\", \"api\", \"api\", \"api\", \"api\", \"api\", \"api\", \"api\", \"api\", \"api\", \"api\", \"api\", \"api\", \"api\", \"api\", \"api\", \"apk\", \"apk\", \"apostrophe\", \"app\", \"app\", \"app\", \"app\", \"app\", \"app\", \"app\", \"app\", \"app\", \"app\", \"app\", \"app\", \"app\", \"app\", \"app\", \"appcompat\", \"appdomain\", \"appender\", \"apple\", \"apple\", \"apple\", \"apple\", \"apple\", \"apple\", \"apple\", \"apple\", \"application\", \"application\", \"application\", \"application\", \"application\", \"application\", \"application\", \"application\", \"application\", \"application\", \"application\", \"application\", \"application\", \"application\", \"application\", \"application\", \"argparse\", \"argument\", \"argument\", \"argument\", \"argument\", \"argument\", \"argument\", \"argument\", \"argument\", \"argument\", \"argument\", \"arithmetic\", \"arm\", \"array\", \"array\", \"array\", \"array\", \"array\", \"array\", \"arraylist\", \"arraylist\", \"ascend\", \"ascii\", \"asm\", \"asp\", \"asp\", \"assembly\", \"assembly\", \"assembly\", \"assembly\", \"assembly\", \"assembly\", \"assert\", \"assert\", \"assert\", \"assignment\", \"assignment\", \"assignment\", \"assignment\", \"association\", \"association\", \"associative\", \"ast\", \"asterisk\", \"asterisk\", \"async\", \"async\", \"async\", \"asynchronous\", \"asynchronous\", \"asynchronous\", \"asynchronous\", \"asynchronous\", \"asynctask\", \"attachment\", \"attribute\", \"attribute\", \"attribute\", \"attribute\", \"attribute\", \"attribute\", \"attribute\", \"attribute\", \"attribute\", \"attribute\", \"attribute\", \"attribute\", \"attribute\", \"attributeerror\", \"authentication\", \"authentication\", \"authentication\", \"authentication\", \"autocomplete\", \"autocomplete\", \"autocomplete\", \"autocomplete\", \"autocompletion\", \"autocompletion\", \"await\", \"await\", \"axis\", \"back\", \"back\", \"back\", \"back\", \"back\", \"back\", \"back\", \"back\", \"back\", \"back\", \"back\", \"back\", \"back\", \"back\", \"back\", \"back\", \"background\", \"background\", \"background\", \"background\", \"background\", \"background\", \"background\", \"background\", \"background\", \"background\", \"background\", \"background\", \"background\", \"background\", \"backslash\", \"backup\", \"backup\", \"ball\", \"band\", \"bar\", \"bar\", \"bar\", \"bar\", \"barcode\", \"base\", \"base\", \"base\", \"base\", \"base\", \"base\", \"base\", \"base\", \"base\", \"base\", \"base\", \"base\", \"base\", \"base\", \"base\", \"base\", \"bash\", \"bash\", \"bash\", \"bash\", \"bat\", \"bean\", \"binary\", \"binary\", \"binary\", \"binary\", \"binary\", \"binary\", \"binary\", \"binary\", \"binary\", \"binary\", \"binary\", \"bind\", \"bind\", \"bind\", \"bind\", \"bind\", \"bind\", \"bind\", \"bind\", \"bind\", \"bitbucket\", \"block\", \"block\", \"block\", \"block\", \"block\", \"block\", \"block\", \"block\", \"block\", \"block\", \"block\", \"block\", \"block\", \"bluetooth\", \"blur\", \"bold\", \"bold\", \"bom\", \"bootstrap\", \"border\", \"bot\", \"bottom\", \"bottom\", \"bottom\", \"bower\", \"branch\", \"branch\", \"brew\", \"browser\", \"browser\", \"browser\", \"browser\", \"browser\", \"browser\", \"browser\", \"build\", \"build\", \"build\", \"build\", \"build\", \"build\", \"build\", \"build\", \"build\", \"build\", \"build\", \"build\", \"build\", \"build\", \"build\", \"build\", \"button\", \"button\", \"button\", \"button\", \"button\", \"button\", \"button\", \"byte\", \"byte\", \"byte\", \"byte\", \"byte\", \"c\", \"c\", \"c\", \"c\", \"c\", \"c\", \"c\", \"c\", \"c\", \"c\", \"c\", \"c\", \"c\", \"c\", \"c#\", \"c#\", \"c#\", \"c#\", \"c#\", \"c#\", \"c#\", \"c#\", \"c#\", \"c#\", \"c#\", \"c#\", \"c#\", \"c#\", \"c#\", \"c++\", \"c++\", \"c++\", \"c++\", \"c++\", \"c++\", \"c++\", \"c++\", \"c++\", \"call\", \"call\", \"call\", \"call\", \"call\", \"call\", \"call\", \"call\", \"call\", \"call\", \"call\", \"call\", \"call\", \"call\", \"call\", \"call\", \"callback\", \"callback\", \"callback\", \"callback\", \"callback\", \"callback\", \"callback\", \"callback\", \"camera\", \"camera\", \"camera\", \"card\", \"caret\", \"case\", \"case\", \"case\", \"case\", \"case\", \"case\", \"case\", \"case\", \"case\", \"case\", \"case\", \"case\", \"case\", \"case\", \"case\", \"case\", \"cast\", \"cast\", \"cast\", \"cast\", \"cast\", \"cast\", \"cast\", \"catch\", \"catch\", \"cdn\", \"celery\", \"cell\", \"cell\", \"cell\", \"center\", \"center\", \"center\", \"cert\", \"certificate\", \"cgi\", \"change\", \"change\", \"change\", \"change\", \"change\", \"change\", \"change\", \"change\", \"change\", \"change\", \"change\", \"change\", \"change\", \"change\", \"change\", \"change\", \"char\", \"char\", \"char\", \"character\", \"character\", \"character\", \"character\", \"character\", \"character\", \"charset\", \"chart\", \"chart\", \"chart\", \"check\", \"check\", \"check\", \"check\", \"check\", \"check\", \"check\", \"check\", \"check\", \"check\", \"check\", \"check\", \"check\", \"check\", \"check\", \"check\", \"checkbox\", \"checkbox\", \"checkbox\", \"checkboxe\", \"checkout\", \"cherry\", \"child\", \"child\", \"child\", \"child\", \"child\", \"child\", \"choice\", \"choice\", \"choice\", \"choice\", \"choice\", \"choice\", \"choice\", \"choice\", \"choice\", \"choice\", \"choice\", \"choice\", \"chrome\", \"chrome\", \"chrome\", \"chrome\", \"chromedriver\", \"class\", \"class\", \"class\", \"class\", \"class\", \"class\", \"class\", \"class\", \"class\", \"class\", \"class\", \"class\", \"class\", \"class\", \"classloader\", \"classname\", \"classpath\", \"classpath\", \"clause\", \"clause\", \"clause\", \"clause\", \"click\", \"click\", \"click\", \"click\", \"click\", \"click\", \"click\", \"click\", \"click\", \"click\", \"clickonce\", \"client\", \"client\", \"client\", \"client\", \"client\", \"client\", \"client\", \"client\", \"client\", \"clockwise\", \"clojure\", \"clone\", \"clone\", \"clone\", \"close\", \"close\", \"close\", \"close\", \"close\", \"close\", \"close\", \"close\", \"close\", \"close\", \"close\", \"close\", \"close\", \"close\", \"close\", \"closure\", \"closure\", \"clr\", \"clr\", \"cluster\", \"cluster\", \"cluster\", \"cmake\", \"cmake\", \"coalesce\", \"collation\", \"collection\", \"collection\", \"collection\", \"collection\", \"collection\", \"collection\", \"collection\", \"collection\", \"collection\", \"collection\", \"collection\", \"collector\", \"color\", \"color\", \"color\", \"color\", \"colour\", \"colour\", \"colour\", \"column\", \"column\", \"column\", \"column\", \"command\", \"command\", \"command\", \"command\", \"command\", \"command\", \"command\", \"command\", \"command\", \"commandline\", \"commandline\", \"comment\", \"comment\", \"comment\", \"comment\", \"comment\", \"comment\", \"comment\", \"comment\", \"comment\", \"comment\", \"comment\", \"comment\", \"comment\", \"comment\", \"comment\", \"comment\", \"commit\", \"commit\", \"commits\", \"commons\", \"compile\", \"compile\", \"compile\", \"compile\", \"compile\", \"compile\", \"compile\", \"compile\", \"compile\", \"compile\", \"compiler\", \"compiler\", \"compiler\", \"compiler\", \"compiler\", \"compiler\", \"component\", \"component\", \"component\", \"component\", \"component\", \"component\", \"component\", \"component\", \"component\", \"component\", \"component\", \"component\", \"composer\", \"composite\", \"comprehension\", \"compression\", \"compression\", \"computer\", \"computer\", \"computer\", \"computer\", \"computer\", \"computer\", \"computer\", \"computer\", \"computer\", \"concurrency\", \"concurrency\", \"concurrent\", \"concurrent\", \"config\", \"config\", \"config\", \"config\", \"config\", \"config\", \"config\", \"config\", \"config\", \"config\", \"connection\", \"connection\", \"connection\", \"connection\", \"connection\", \"connection\", \"connection\", \"console\", \"console\", \"console\", \"console\", \"console\", \"console\", \"console\", \"console\", \"const\", \"constraint\", \"constraint\", \"constraint\", \"constraint\", \"constructor\", \"constructor\", \"constructor\", \"constructor\", \"constructor\", \"consumption\", \"content\", \"content\", \"content\", \"content\", \"content\", \"content\", \"content\", \"content\", \"content\", \"content\", \"content\", \"content\", \"content\", \"content\", \"content\", \"continuous\", \"continuous\", \"contract\", \"control\", \"control\", \"control\", \"control\", \"control\", \"control\", \"control\", \"control\", \"control\", \"control\", \"control\", \"control\", \"control\", \"control\", \"controller\", \"controller\", \"controller\", \"controller\", \"controller\", \"controller\", \"controller\", \"convert\", \"convert\", \"convert\", \"convert\", \"convert\", \"convert\", \"convert\", \"convert\", \"convert\", \"convert\", \"cookie\", \"copy\", \"copy\", \"copy\", \"copy\", \"copy\", \"copy\", \"copy\", \"copy\", \"copy\", \"copy\", \"copy\", \"copy\", \"copy\", \"cor\", \"corner\", \"corner\", \"coroutine\", \"counter\", \"counter\", \"counter\", \"create\", \"create\", \"create\", \"create\", \"create\", \"create\", \"create\", \"create\", \"create\", \"create\", \"create\", \"create\", \"create\", \"create\", \"create\", \"create\", \"crop\", \"cshtml\", \"csproj\", \"css\", \"css\", \"css\", \"css\", \"csv\", \"csv\", \"csv\", \"csv\", \"cube\", \"curl\", \"current\", \"current\", \"current\", \"current\", \"current\", \"current\", \"current\", \"current\", \"current\", \"current\", \"current\", \"current\", \"current\", \"current\", \"current\", \"current\", \"custom\", \"custom\", \"custom\", \"custom\", \"custom\", \"custom\", \"custom\", \"custom\", \"custom\", \"custom\", \"custom\", \"custom\", \"custom\", \"custom\", \"custom\", \"cxf\", \"dark\", \"data\", \"data\", \"data\", \"data\", \"data\", \"data\", \"data\", \"data\", \"data\", \"data\", \"data\", \"data\", \"data\", \"data\", \"data\", \"data\", \"database\", \"database\", \"database\", \"database\", \"database\", \"database\", \"database\", \"database\", \"database\", \"database\", \"dataframe\", \"dataframe\", \"datagridview\", \"date\", \"date\", \"date\", \"date\", \"date\", \"date\", \"date\", \"datepicker\", \"datepicker\", \"datetime\", \"datetime\", \"datetime\", \"datetime\", \"datetime\", \"datetime\", \"datum\", \"datum\", \"datum\", \"datum\", \"datum\", \"datum\", \"datum\", \"datum\", \"datum\", \"datum\", \"datum\", \"datum\", \"datum\", \"datum\", \"datum\", \"datum\", \"dbcontext\", \"deadlock\", \"decimal\", \"decode\", \"decode\", \"decode\", \"decode\", \"decompile\", \"decorator\", \"decorator\", \"decorator\", \"decrypt\", \"define\", \"define\", \"define\", \"define\", \"define\", \"define\", \"define\", \"define\", \"define\", \"define\", \"define\", \"define\", \"define\", \"define\", \"define\", \"definition\", \"definition\", \"definition\", \"definition\", \"definition\", \"definition\", \"definition\", \"definition\", \"definition\", \"definition\", \"delay\", \"delay\", \"delay\", \"delay\", \"delegate\", \"delegate\", \"delegate\", \"delegate\", \"delegate\", \"delete\", \"delete\", \"delete\", \"delete\", \"delete\", \"delete\", \"delete\", \"delete\", \"delete\", \"delete\", \"delete\", \"delete\", \"delete\", \"delete\", \"delimiter\", \"delimiter\", \"delphi\", \"dependency\", \"dependency\", \"dependency\", \"dependency\", \"dependency\", \"dependency\", \"dependency\", \"dependency\", \"descend\", \"descend\", \"deserialize\", \"design\", \"design\", \"design\", \"design\", \"design\", \"design\", \"design\", \"design\", \"design\", \"design\", \"design\", \"design\", \"design\", \"design\", \"design\", \"device\", \"device\", \"device\", \"device\", \"device\", \"devise\", \"dialogfragment\", \"dictionary\", \"dictionary\", \"dictionary\", \"dictionary\", \"dictionary\", \"dictionary\", \"diff\", \"diff\", \"diff\", \"difference\", \"difference\", \"difference\", \"difference\", \"difference\", \"difference\", \"difference\", \"difference\", \"difference\", \"difference\", \"difference\", \"difference\", \"difference\", \"difference\", \"difference\", \"different\", \"different\", \"different\", \"different\", \"different\", \"different\", \"different\", \"different\", \"different\", \"different\", \"different\", \"different\", \"different\", \"different\", \"different\", \"different\", \"digit\", \"dimensional\", \"directory\", \"directory\", \"directory\", \"directory\", \"directory\", \"directory\", \"directory\", \"directory\", \"directory\", \"directory\", \"directory\", \"disconnect\", \"dismiss\", \"dismiss\", \"dismiss\", \"dismiss\", \"display\", \"display\", \"display\", \"display\", \"display\", \"display\", \"display\", \"display\", \"display\", \"display\", \"display\", \"display\", \"display\", \"display\", \"display\", \"distinct\", \"distinct\", \"distinct\", \"distinct\", \"distribution\", \"distribution\", \"distribution\", \"distribution\", \"distribution\", \"distribution\", \"div\", \"div\", \"div\", \"divisor\", \"divs\", \"django\", \"django\", \"django\", \"django\", \"django\", \"django\", \"dll\", \"dll\", \"dll\", \"dll\", \"dll\", \"document\", \"document\", \"document\", \"document\", \"document\", \"document\", \"document\", \"document\", \"document\", \"document\", \"document\", \"document\", \"document\", \"document\", \"document\", \"dom\", \"dom\", \"dom\", \"dom\", \"dom\", \"domain\", \"domain\", \"domain\", \"domain\", \"domain\", \"double\", \"double\", \"double\", \"double\", \"double\", \"double\", \"double\", \"double\", \"double\", \"double\", \"downgrade\", \"download\", \"download\", \"download\", \"download\", \"download\", \"download\", \"download\", \"download\", \"download\", \"doxygen\", \"dpi\", \"draw\", \"draw\", \"draw\", \"draw\", \"draw\", \"draw\", \"draw\", \"drawable\", \"drawer\", \"dropdown\", \"dropdown\", \"dropdownlist\", \"eclipse\", \"eclipse\", \"eclipse\", \"eclipse\", \"eclipse\", \"eclipse\", \"eclipse\", \"egg\", \"element\", \"element\", \"element\", \"element\", \"element\", \"element\", \"element\", \"element\", \"element\", \"elevation\", \"email\", \"email\", \"emulator\", \"emulator\", \"encapsulation\", \"encode\", \"encode\", \"encode\", \"encode\", \"encode\", \"encoding\", \"encoding\", \"encrypt\", \"encrypt\", \"encrypt\", \"encrypt\", \"engine\", \"engine\", \"engine\", \"engine\", \"engine\", \"engine\", \"engine\", \"engine\", \"engine\", \"engine\", \"engine\", \"engine\", \"entitlement\", \"entity\", \"entity\", \"entity\", \"entity\", \"enum\", \"enum\", \"enum\", \"enum\", \"environment\", \"environment\", \"environment\", \"environment\", \"environment\", \"environment\", \"environment\", \"environment\", \"environment\", \"escape\", \"escape\", \"escape\", \"event\", \"event\", \"event\", \"event\", \"event\", \"event\", \"event\", \"event\", \"event\", \"event\", \"every\", \"every\", \"every\", \"every\", \"every\", \"every\", \"every\", \"every\", \"every\", \"every\", \"every\", \"every\", \"every\", \"every\", \"every\", \"every\", \"example\", \"example\", \"example\", \"example\", \"example\", \"example\", \"example\", \"example\", \"example\", \"example\", \"example\", \"example\", \"example\", \"example\", \"example\", \"example\", \"excel\", \"excel\", \"excel\", \"excel\", \"exception\", \"exception\", \"exception\", \"exception\", \"exception\", \"exclusive\", \"exe\", \"exe\", \"executable\", \"executable\", \"executable\", \"executable\", \"executable\", \"exif\", \"explain\", \"explain\", \"explain\", \"explain\", \"explain\", \"explain\", \"explain\", \"explain\", \"explain\", \"explain\", \"explain\", \"explain\", \"explain\", \"explain\", \"explain\", \"explain\", \"express\", \"express\", \"express\", \"express\", \"express\", \"express\", \"express\", \"express\", \"express\", \"express\", \"expression\", \"expression\", \"expression\", \"expression\", \"expression\", \"expression\", \"expression\", \"expression\", \"expression\", \"expression\", \"extension\", \"extension\", \"extension\", \"extension\", \"extension\", \"extension\", \"extension\", \"extension\", \"extension\", \"extension\", \"extension\", \"extension\", \"facebook\", \"facebook\", \"fade\", \"fade\", \"fft\", \"fiddler\", \"field\", \"field\", \"field\", \"field\", \"field\", \"field\", \"field\", \"field\", \"field\", \"field\", \"field\", \"field\", \"field\", \"figure\", \"figure\", \"figure\", \"figure\", \"figure\", \"figure\", \"figure\", \"figure\", \"figure\", \"figure\", \"figure\", \"figure\", \"figure\", \"figure\", \"figure\", \"figure\", \"fingerprint\", \"firebase\", \"firebase\", \"firestore\", \"first\", \"first\", \"first\", \"first\", \"first\", \"first\", \"first\", \"first\", \"first\", \"first\", \"first\", \"first\", \"first\", \"first\", \"first\", \"first\", \"flask\", \"flask\", \"float\", \"float\", \"float\", \"fold\", \"folder\", \"folder\", \"folder\", \"folder\", \"folder\", \"folder\", \"folder\", \"folder\", \"follow\", \"follow\", \"follow\", \"follow\", \"follow\", \"follow\", \"follow\", \"follow\", \"follow\", \"follow\", \"follow\", \"follow\", \"follow\", \"follow\", \"follow\", \"follow\", \"font\", \"font\", \"footer\", \"foreach\", \"foreach\", \"foreach\", \"foreach\", \"foreach\", \"foreign\", \"foreign\", \"form\", \"form\", \"form\", \"form\", \"form\", \"form\", \"form\", \"form\", \"form\", \"form\", \"form\", \"form\", \"form\", \"form\", \"form\", \"format\", \"format\", \"format\", \"format\", \"format\", \"format\", \"format\", \"format\", \"format\", \"format\", \"format\", \"format\", \"formset\", \"fragment\", \"fragment\", \"frame\", \"frame\", \"frame\", \"frame\", \"frame\", \"frame\", \"framework\", \"framework\", \"framework\", \"framework\", \"framework\", \"framework\", \"framework\", \"framework\", \"framework\", \"framework\", \"framework\", \"framework\", \"framework\", \"ftp\", \"ftp\", \"function\", \"function\", \"function\", \"function\", \"function\", \"function\", \"function\", \"function\", \"function\", \"function\", \"function\", \"function\", \"function\", \"function\", \"function\", \"function\", \"fxcop\", \"gac\", \"gallery\", \"garbage\", \"garbage\", \"generic\", \"generic\", \"generic\", \"generic\", \"generic\", \"generic\", \"generic\", \"gesture\", \"getter\", \"getter\", \"ggplot\", \"git\", \"git\", \"github\", \"gitignore\", \"gitlab\", \"give\", \"give\", \"give\", \"give\", \"give\", \"give\", \"give\", \"give\", \"give\", \"give\", \"give\", \"give\", \"give\", \"give\", \"give\", \"give\", \"gmail\", \"gmail\", \"gmail\", \"gmt\", \"google\", \"google\", \"google\", \"google\", \"google\", \"google\", \"google\", \"google\", \"google\", \"google\", \"google\", \"google\", \"google\", \"google\", \"google\", \"google\", \"gps\", \"gradient\", \"gradient\", \"gradle\", \"gradle\", \"gradle\", \"gradle\", \"graph\", \"graph\", \"graph\", \"graph\", \"group\", \"group\", \"group\", \"group\", \"group\", \"group\", \"group\", \"group\", \"group\", \"group\", \"groupby\", \"groupby\", \"gson\", \"gui\", \"gui\", \"gui\", \"gui\", \"gui\", \"gui\", \"gui\", \"guid\", \"guid\", \"gulp\", \"gwt\", \"gwt\", \"handle\", \"handle\", \"handle\", \"handle\", \"handle\", \"handle\", \"handle\", \"handle\", \"handle\", \"handle\", \"handle\", \"handle\", \"handle\", \"handle\", \"handle\", \"handle\", \"handlebar\", \"hashcode\", \"hashmap\", \"hashmap\", \"hashmap\", \"header\", \"header\", \"header\", \"header\", \"header\", \"header\", \"header\", \"header\", \"header\", \"header\", \"header\", \"header\", \"heap\", \"heap\", \"heatmap\", \"height\", \"help\", \"help\", \"help\", \"help\", \"help\", \"help\", \"help\", \"help\", \"help\", \"help\", \"help\", \"help\", \"help\", \"help\", \"help\", \"help\", \"hexadecimal\", \"hibernate\", \"hide\", \"hide\", \"hide\", \"hide\", \"hide\", \"hide\", \"hide\", \"hide\", \"hide\", \"hide\", \"hide\", \"hide\", \"histogram\", \"histogram\", \"history\", \"history\", \"history\", \"horizontal\", \"horizontal\", \"horizontal\", \"horizontally\", \"hover\", \"hql\", \"html\", \"html\", \"html\", \"html\", \"html\", \"html\", \"html\", \"html\", \"html\", \"human\", \"human\", \"human\", \"human\", \"i++\", \"icon\", \"icon\", \"icon\", \"icon\", \"ienumerable\", \"ienumerable\", \"ienumerable\", \"iframe\", \"iframe\", \"iframe\", \"iframe\", \"ilist\", \"ilist\", \"image\", \"image\", \"image\", \"image\", \"image\", \"image\", \"image\", \"image\", \"imageview\", \"implement\", \"implement\", \"implement\", \"implement\", \"implement\", \"implement\", \"implement\", \"implement\", \"implement\", \"implement\", \"implement\", \"implement\", \"implement\", \"implement\", \"implement\", \"implement\", \"implementation\", \"implementation\", \"implementation\", \"implementation\", \"implementation\", \"implementation\", \"implementation\", \"implementation\", \"implementation\", \"implementation\", \"implementation\", \"implementation\", \"implementation\", \"import\", \"import\", \"import\", \"import\", \"import\", \"import\", \"import\", \"import\", \"importerror\", \"include\", \"include\", \"include\", \"include\", \"include\", \"include\", \"include\", \"include\", \"include\", \"include\", \"include\", \"include\", \"include\", \"include\", \"include\", \"include\", \"increment\", \"increment\", \"increment\", \"incremente\", \"incremente\", \"indent\", \"indent\", \"indentation\", \"index\", \"index\", \"index\", \"index\", \"index\", \"index\", \"index\", \"inherit\", \"inherit\", \"inherit\", \"inherit\", \"inherit\", \"inherit\", \"inherit\", \"inherit\", \"inheritance\", \"inheritance\", \"inheritance\", \"inheritance\", \"innodb\", \"input\", \"input\", \"input\", \"input\", \"input\", \"input\", \"input\", \"input\", \"input\", \"input\", \"input\", \"input\", \"input\", \"input\", \"input\", \"input\", \"inputstream\", \"insecure\", \"insert\", \"insert\", \"insert\", \"insert\", \"insert\", \"insert\", \"insert\", \"insert\", \"insert\", \"insert\", \"insert\", \"instagram\", \"instal\", \"instal\", \"instal\", \"instal\", \"instal\", \"instal\", \"instal\", \"install\", \"install\", \"install\", \"install\", \"install\", \"installation\", \"installation\", \"installation\", \"installer\", \"instantiate\", \"instantiate\", \"instantiate\", \"instantiate\", \"instantiate\", \"instantiate\", \"int\", \"int\", \"int\", \"int\", \"int\", \"int\", \"integer\", \"integer\", \"integer\", \"integral\", \"intellij\", \"intellij\", \"intellij\", \"intent\", \"intent\", \"intent\", \"intent\", \"intent\", \"interface\", \"interface\", \"interface\", \"interface\", \"interface\", \"interface\", \"interface\", \"interface\", \"interface\", \"io\", \"io\", \"io\", \"io\", \"io\", \"io\", \"ioc\", \"ios\", \"ios\", \"ios\", \"ios\", \"iphone\", \"iphone\", \"iphone\", \"iphone\", \"iphone\", \"iphone\", \"iqueryable\", \"item\", \"item\", \"item\", \"item\", \"item\", \"item\", \"item\", \"item\", \"item\", \"item\", \"iteration\", \"iteration\", \"iteration\", \"iteration\", \"jackson\", \"java\", \"java\", \"java\", \"java\", \"java\", \"java\", \"java\", \"java\", \"java\", \"java\", \"java\", \"java\", \"java\", \"java\", \"javafx\", \"javascript\", \"javascript\", \"javascript\", \"javascript\", \"javascript\", \"javascript\", \"javascript\", \"javascript\", \"javascript\", \"javascript\", \"javascript\", \"jaxb\", \"jdk\", \"jdk\", \"jdk\", \"jersey\", \"jit\", \"join\", \"join\", \"join\", \"jpa\", \"jpa\", \"jpeg\", \"jquery\", \"jquery\", \"jquery\", \"jquery\", \"jquery\", \"jquery\", \"jre\", \"js\", \"js\", \"js\", \"js\", \"js\", \"js\", \"js\", \"js\", \"js\", \"js\", \"jslint\", \"json\", \"json\", \"json\", \"json\", \"json\", \"jsx\", \"junit\", \"junit\", \"jupyter\", \"kernel\", \"key\", \"key\", \"key\", \"key\", \"key\", \"key\", \"key\", \"key\", \"key\", \"key\", \"key\", \"key\", \"key\", \"keyboard\", \"keyboard\", \"keyboard\", \"keyboard\", \"keyboard\", \"keyboard\", \"keychain\", \"keystore\", \"keyword\", \"keyword\", \"keyword\", \"keyword\", \"keyword\", \"keyword\", \"keyword\", \"keyword\", \"kill\", \"kill\", \"kill\", \"kotlin\", \"label\", \"label\", \"label\", \"label\", \"label\", \"lambda\", \"lambda\", \"landscape\", \"landscape\", \"landscape\", \"language\", \"language\", \"language\", \"language\", \"language\", \"language\", \"language\", \"language\", \"language\", \"language\", \"language\", \"language\", \"language\", \"laravel\", \"laravel\", \"laravel\", \"latitude\", \"layout\", \"layout\", \"ldap\", \"legend\", \"length\", \"length\", \"length\", \"length\", \"length\", \"length\", \"length\", \"length\", \"length\", \"library\", \"library\", \"library\", \"library\", \"library\", \"library\", \"library\", \"library\", \"library\", \"library\", \"library\", \"library\", \"library\", \"library\", \"library\", \"limit\", \"limit\", \"limit\", \"limit\", \"limit\", \"limit\", \"limit\", \"limit\", \"limit\", \"limit\", \"limit\", \"limit\", \"limit\", \"limit\", \"limit\", \"limit\", \"link\", \"link\", \"link\", \"link\", \"link\", \"link\", \"link\", \"link\", \"link\", \"link\", \"link\", \"link\", \"link\", \"link\", \"link\", \"link\", \"linkage\", \"linux\", \"linux\", \"linux\", \"linux\", \"list\", \"list\", \"list\", \"list\", \"list\", \"list\", \"list\", \"list\", \"list\", \"list\", \"list\", \"list\", \"list\", \"list\", \"list\", \"list\", \"listview\", \"listview\", \"listview\", \"literal\", \"literal\", \"literal\", \"llvm\", \"load\", \"load\", \"load\", \"load\", \"load\", \"load\", \"load\", \"load\", \"load\", \"load\", \"load\", \"load\", \"local\", \"local\", \"local\", \"local\", \"local\", \"local\", \"local\", \"local\", \"local\", \"local\", \"locale\", \"locale\", \"locale\", \"localhost\", \"localhost\", \"localhost\", \"location\", \"location\", \"location\", \"location\", \"location\", \"location\", \"location\", \"location\", \"location\", \"location\", \"location\", \"location\", \"log\", \"log\", \"log\", \"log\", \"log\", \"log\", \"log\", \"log\", \"log\", \"log\", \"log\", \"log\", \"log\", \"logcat\", \"logcat\", \"logg\", \"login\", \"login\", \"login\", \"login\", \"login\", \"login\", \"logout\", \"longitude\", \"loop\", \"loop\", \"loop\", \"loop\", \"loop\", \"loop\", \"loop\", \"loop\", \"loop\", \"loop\", \"loop\", \"loop\", \"lucene\", \"mac\", \"mac\", \"mac\", \"mac\", \"mac\", \"mac\", \"machine\", \"machine\", \"machine\", \"machine\", \"machine\", \"machine\", \"machine\", \"machine\", \"machine\", \"machine\", \"mail\", \"mail\", \"mamp\", \"manipulator\", \"map\", \"map\", \"map\", \"map\", \"map\", \"map\", \"map\", \"map\", \"map\", \"map\", \"map\", \"map\", \"map\", \"maps\", \"maps\", \"margin\", \"marker\", \"market\", \"market\", \"market\", \"mass\", \"master\", \"master\", \"master\", \"match\", \"match\", \"match\", \"match\", \"match\", \"match\", \"match\", \"match\", \"match\", \"match\", \"match\", \"match\", \"matplotlib\", \"matrix\", \"matrix\", \"maven\", \"maven\", \"maven\", \"mdn\", \"mean\", \"mean\", \"mean\", \"mean\", \"mean\", \"mean\", \"mean\", \"mean\", \"mean\", \"mean\", \"mean\", \"mean\", \"mean\", \"mean\", \"mean\", \"mean\", \"median\", \"member\", \"member\", \"member\", \"member\", \"member\", \"membership\", \"memcache\", \"memcached\", \"memory\", \"memory\", \"memory\", \"memory\", \"memory\", \"memory\", \"memory\", \"memory\", \"menu\", \"menu\", \"menu\", \"menu\", \"menu\", \"mercurial\", \"merge\", \"merge\", \"merge\", \"merge\", \"message\", \"message\", \"message\", \"message\", \"message\", \"message\", \"message\", \"message\", \"message\", \"message\", \"message\", \"message\", \"message\", \"message\", \"message\", \"message\", \"method\", \"method\", \"method\", \"method\", \"method\", \"method\", \"method\", \"method\", \"method\", \"method\", \"method\", \"method\", \"method\", \"method\", \"method\", \"method\", \"middleware\", \"millisecond\", \"min\", \"min\", \"min\", \"min\", \"min\", \"min\", \"minify\", \"minify\", \"mixin\", \"mobile\", \"mobile\", \"mobile\", \"mobile\", \"mobile\", \"mobile\", \"mocha\", \"mock\", \"mock\", \"mock\", \"mock\", \"mockito\", \"mockito\", \"model\", \"model\", \"model\", \"model\", \"model\", \"model\", \"model\", \"model\", \"model\", \"model\", \"modifier\", \"module\", \"module\", \"module\", \"module\", \"module\", \"module\", \"module\", \"mongo\", \"monkey\", \"mono\", \"mono\", \"month\", \"month\", \"month\", \"month\", \"msi\", \"multidimensional\", \"multiline\", \"multiline\", \"multipart\", \"multiple\", \"multiple\", \"multiple\", \"multiple\", \"multiple\", \"multiple\", \"multiple\", \"multiple\", \"multiple\", \"multiple\", \"multiple\", \"multiple\", \"multiple\", \"multiple\", \"multiple\", \"multiple\", \"multiplication\", \"multiplication\", \"multiprocesse\", \"multiprocesse\", \"music\", \"mutex\", \"mutex\", \"mvc\", \"mvc\", \"mvc\", \"mysql\", \"mysql\", \"mysql\", \"mysql\", \"mysql\", \"mysql\", \"mysql\", \"mysqldb\", \"name\", \"name\", \"name\", \"name\", \"name\", \"name\", \"name\", \"name\", \"name\", \"name\", \"name\", \"name\", \"name\", \"name\", \"name\", \"name\", \"namespace\", \"namespace\", \"namespace\", \"namespace\", \"namespace\", \"navbar\", \"navigation\", \"navigation\", \"ndk\", \"net\", \"net\", \"net\", \"net\", \"net\", \"net\", \"net\", \"net\", \"net\", \"net\", \"net\", \"net\", \"network\", \"network\", \"network\", \"network\", \"network\", \"network\", \"network\", \"network\", \"network\", \"network\", \"neural\", \"new\", \"new\", \"new\", \"new\", \"new\", \"new\", \"new\", \"new\", \"new\", \"new\", \"new\", \"new\", \"new\", \"new\", \"new\", \"new\", \"newline\", \"newline\", \"nginx\", \"nil\", \"nil\", \"nix\", \"nltk\", \"nltk\", \"node\", \"node\", \"node\", \"node\", \"node\", \"node\", \"node\", \"node\", \"node\", \"node\", \"notebook\", \"notebook\", \"notepad++\", \"notification\", \"notification\", \"notification\", \"npm\", \"npm\", \"nuget\", \"null\", \"null\", \"null\", \"null\", \"null\", \"null\", \"null\", \"null\", \"null\", \"null\", \"null\", \"null\", \"null\", \"nullable\", \"number\", \"number\", \"number\", \"number\", \"number\", \"number\", \"number\", \"number\", \"number\", \"number\", \"number\", \"number\", \"number\", \"number\", \"number\", \"number\", \"numpy\", \"numpy\", \"numpy\", \"nunit\", \"nvarchar\", \"object\", \"object\", \"object\", \"object\", \"object\", \"object\", \"object\", \"object\", \"object\", \"object\", \"object\", \"object\", \"objective\", \"objective\", \"objective\", \"oncreate\", \"onload\", \"opacity\", \"open\", \"open\", \"open\", \"open\", \"open\", \"open\", \"open\", \"open\", \"open\", \"open\", \"open\", \"open\", \"open\", \"open\", \"open\", \"operating\", \"operating\", \"operator\", \"operator\", \"option\", \"option\", \"option\", \"option\", \"option\", \"option\", \"option\", \"option\", \"option\", \"option\", \"option\", \"option\", \"option\", \"option\", \"option\", \"option\", \"optional\", \"oracle\", \"oracle\", \"oracle\", \"oracle\", \"oracle\", \"orientation\", \"orm\", \"outer\", \"outer\", \"outer\", \"outer\", \"output\", \"output\", \"output\", \"output\", \"output\", \"output\", \"output\", \"output\", \"output\", \"output\", \"output\", \"output\", \"output\", \"output\", \"output\", \"output\", \"overload\", \"overload\", \"overload\", \"overload\", \"overload\", \"package\", \"package\", \"package\", \"package\", \"package\", \"package\", \"package\", \"package\", \"package\", \"packet\", \"page\", \"page\", \"page\", \"page\", \"page\", \"page\", \"page\", \"page\", \"page\", \"page\", \"page\", \"page\", \"paginate\", \"panda\", \"panda\", \"parallel\", \"parallel\", \"parallel\", \"parallel\", \"parameter\", \"parameter\", \"parameter\", \"parameter\", \"parameter\", \"parameter\", \"parameter\", \"parameter\", \"parameter\", \"parameter\", \"parameter\", \"parameter\", \"parameter\", \"parameter\", \"parameter\", \"parameter\", \"parameterized\", \"paramiko\", \"parent\", \"parent\", \"parent\", \"parent\", \"parent\", \"parent\", \"parent\", \"parent\", \"parse\", \"parse\", \"parse\", \"parse\", \"parse\", \"parse\", \"parse\", \"parse\", \"parse\", \"parse\", \"parse\", \"parse\", \"parse\", \"partial\", \"partial\", \"partial\", \"partial\", \"pass\", \"pass\", \"pass\", \"pass\", \"pass\", \"pass\", \"pass\", \"pass\", \"pass\", \"pass\", \"pass\", \"pass\", \"pass\", \"pass\", \"pass\", \"password\", \"password\", \"password\", \"password\", \"password\", \"password\", \"path\", \"path\", \"path\", \"path\", \"path\", \"path\", \"path\", \"pattern\", \"pattern\", \"pattern\", \"pattern\", \"pattern\", \"pattern\", \"pattern\", \"pattern\", \"paypal\", \"pdf\", \"pdf\", \"pep\", \"pep\", \"performance\", \"performance\", \"performance\", \"performance\", \"performance\", \"performance\", \"performance\", \"performance\", \"performance\", \"performance\", \"performance\", \"performance\", \"performance\", \"performance\", \"performance\", \"perl\", \"perl\", \"perl\", \"perl\", \"perl\", \"permutation\", \"persistence\", \"phone\", \"phone\", \"phone\", \"phone\", \"php\", \"php\", \"php\", \"php\", \"php\", \"php\", \"php\", \"php\", \"php\", \"php\", \"php\", \"php\", \"phpunit\", \"pid\", \"ping\", \"pip\", \"pip\", \"pipe\", \"pipe\", \"pipe\", \"pipe\", \"pipe\", \"pipe\", \"pixel\", \"pixel\", \"platform\", \"platform\", \"platform\", \"platform\", \"platform\", \"platform\", \"platform\", \"play\", \"play\", \"play\", \"play\", \"play\", \"play\", \"play\", \"play\", \"play\", \"play\", \"play\", \"play\", \"play\", \"player\", \"player\", \"playlist\", \"plist\", \"plist\", \"plot\", \"plugin\", \"plugin\", \"plugin\", \"plugin\", \"plugin\", \"plugin\", \"plugin\", \"plugin\", \"plugin\", \"plugin\", \"plugin\", \"plugin\", \"png\", \"pod\", \"point\", \"point\", \"point\", \"point\", \"point\", \"point\", \"point\", \"point\", \"point\", \"point\", \"point\", \"point\", \"point\", \"point\", \"point\", \"point\", \"pointer\", \"pointer\", \"pointer\", \"pointer\", \"pointer\", \"pointer\", \"pointer\", \"pool\", \"pool\", \"pool\", \"pool\", \"position\", \"position\", \"position\", \"position\", \"position\", \"position\", \"position\", \"position\", \"position\", \"position\", \"positive\", \"positive\", \"positive\", \"positive\", \"possible\", \"possible\", \"possible\", \"possible\", \"possible\", \"possible\", \"possible\", \"possible\", \"possible\", \"possible\", \"possible\", \"possible\", \"possible\", \"possible\", \"possible\", \"possible\", \"post\", \"post\", \"post\", \"post\", \"post\", \"post\", \"post\", \"post\", \"post\", \"post\", \"post\", \"post\", \"post\", \"post\", \"post\", \"post\", \"postback\", \"postgresql\", \"postgresql\", \"postgresql\", \"postgresql\", \"postgresql\", \"powershell\", \"practice\", \"practice\", \"practice\", \"practice\", \"practice\", \"practice\", \"practice\", \"practice\", \"practice\", \"practice\", \"practice\", \"practice\", \"prediction\", \"prediction\", \"preprocessor\", \"preprocessor\", \"preprocessor\", \"press\", \"press\", \"press\", \"press\", \"press\", \"press\", \"press\", \"press\", \"primary\", \"primary\", \"primary\", \"prime\", \"print\", \"print\", \"print\", \"print\", \"print\", \"print\", \"print\", \"print\", \"print\", \"print\", \"print\", \"print\", \"print\", \"print\", \"print\", \"printable\", \"printf\", \"privacy\", \"private\", \"private\", \"private\", \"private\", \"private\", \"private\", \"problem\", \"problem\", \"problem\", \"problem\", \"problem\", \"problem\", \"problem\", \"problem\", \"problem\", \"problem\", \"problem\", \"problem\", \"problem\", \"problem\", \"problem\", \"problem\", \"procedure\", \"procedure\", \"procedure\", \"procedure\", \"procedure\", \"procedure\", \"procedure\", \"process\", \"process\", \"process\", \"process\", \"process\", \"process\", \"process\", \"process\", \"process\", \"process\", \"process\", \"process\", \"process\", \"process\", \"program\", \"program\", \"program\", \"program\", \"program\", \"program\", \"program\", \"program\", \"program\", \"program\", \"program\", \"program\", \"program\", \"program\", \"program\", \"programmatically\", \"programmatically\", \"programmatically\", \"programmatically\", \"programmatically\", \"programmatically\", \"programmatically\", \"programmatically\", \"programmatically\", \"programmatically\", \"programmatically\", \"programmatically\", \"programmatically\", \"programmatically\", \"progress\", \"progress\", \"progress\", \"progress\", \"progress\", \"progress\", \"progress\", \"progress\", \"progressbar\", \"project\", \"project\", \"project\", \"project\", \"project\", \"project\", \"project\", \"project\", \"project\", \"project\", \"project\", \"project\", \"project\", \"project\", \"project\", \"project\", \"promise\", \"promise\", \"prop\", \"property\", \"property\", \"property\", \"property\", \"property\", \"property\", \"property\", \"property\", \"property\", \"property\", \"property\", \"property\", \"property\", \"prototype\", \"prototype\", \"prototype\", \"prototype\", \"prototype\", \"prototype\", \"provision\", \"provision\", \"proximity\", \"proxy\", \"proxy\", \"proxy\", \"proxy\", \"proxy\", \"proxy\", \"pthread\", \"pthread\", \"ptr\", \"public\", \"public\", \"public\", \"public\", \"public\", \"public\", \"public\", \"public\", \"public\", \"pull\", \"pull\", \"pull\", \"pull\", \"pull\", \"pull\", \"pull\", \"pull\", \"pull\", \"push\", \"push\", \"push\", \"push\", \"push\", \"push\", \"push\", \"pycharm\", \"pycharm\", \"pydev\", \"pygame\", \"pyinstaller\", \"pylint\", \"pyspark\", \"pyspark\", \"python\", \"python\", \"python\", \"python\", \"python\", \"python\", \"python\", \"python\", \"python\", \"python\", \"python\", \"python\", \"python\", \"python\", \"qualifier\", \"query\", \"query\", \"query\", \"query\", \"query\", \"query\", \"query\", \"query\", \"queryset\", \"queue\", \"queue\", \"queue\", \"queue\", \"queue\", \"queue\", \"quote\", \"quote\", \"r\", \"r\", \"r\", \"r\", \"r\", \"r\", \"r\", \"r\", \"r\", \"r\", \"r\", \"r\", \"radio\", \"radio\", \"rail\", \"rail\", \"rail\", \"rail\", \"rail\", \"rail\", \"rail\", \"rail\", \"rail\", \"rail\", \"rail\", \"rail\", \"raise\", \"raise\", \"raise\", \"raise\", \"raise\", \"raise\", \"rand\", \"random\", \"random\", \"random\", \"random\", \"random\", \"random\", \"random\", \"random\", \"random\", \"random\", \"razor\", \"razor\", \"react\", \"react\", \"react\", \"read\", \"read\", \"read\", \"read\", \"read\", \"read\", \"read\", \"read\", \"read\", \"read\", \"read\", \"read\", \"read\", \"read\", \"read\", \"read\", \"really\", \"really\", \"really\", \"really\", \"really\", \"really\", \"really\", \"really\", \"really\", \"really\", \"really\", \"really\", \"really\", \"really\", \"really\", \"really\", \"rebase\", \"recipient\", \"recognizer\", \"record\", \"record\", \"record\", \"record\", \"record\", \"record\", \"rectangle\", \"rectangle\", \"rectangular\", \"recyclerview\", \"redi\", \"redirect\", \"redirect\", \"redirect\", \"redirect\", \"redux\", \"refactor\", \"refactor\", \"reference\", \"reference\", \"reference\", \"reference\", \"reference\", \"reference\", \"reference\", \"reference\", \"reference\", \"reference\", \"reference\", \"reference\", \"reference\", \"reference\", \"reference\", \"regex\", \"registry\", \"regression\", \"regression\", \"regular\", \"regular\", \"regular\", \"regular\", \"regular\", \"regular\", \"regular\", \"regular\", \"regular\", \"regular\", \"regular\", \"regular\", \"reinstall\", \"relational\", \"relational\", \"relative\", \"relative\", \"relative\", \"relative\", \"remote\", \"remote\", \"remote\", \"remove\", \"remove\", \"remove\", \"remove\", \"remove\", \"remove\", \"remove\", \"remove\", \"remove\", \"remove\", \"remove\", \"remove\", \"remove\", \"remove\", \"remove\", \"remove\", \"render\", \"render\", \"render\", \"render\", \"render\", \"render\", \"repo\", \"repos\", \"repository\", \"request\", \"request\", \"request\", \"request\", \"request\", \"request\", \"request\", \"request\", \"request\", \"request\", \"reset\", \"reset\", \"reset\", \"reset\", \"reset\", \"reset\", \"reset\", \"reset\", \"resize\", \"response\", \"response\", \"response\", \"response\", \"response\", \"response\", \"response\", \"response\", \"response\", \"response\", \"response\", \"result\", \"result\", \"result\", \"result\", \"result\", \"result\", \"result\", \"result\", \"result\", \"result\", \"result\", \"result\", \"result\", \"result\", \"result\", \"result\", \"return\", \"return\", \"return\", \"return\", \"return\", \"return\", \"return\", \"return\", \"return\", \"return\", \"return\", \"return\", \"return\", \"return\", \"return\", \"return\", \"revert\", \"revert\", \"revert\", \"revision\", \"revision\", \"role\", \"role\", \"role\", \"role\", \"role\", \"role\", \"role\", \"router\", \"router\", \"routing\", \"row\", \"row\", \"row\", \"rsa\", \"rsa\", \"rspec\", \"rspec\", \"ruby\", \"ruby\", \"ruby\", \"ruby\", \"ruby\", \"ruby\", \"ruby\", \"ruby\", \"ruby\", \"ruby\", \"ruby\", \"ruby\", \"ruby\", \"rvm\", \"safe\", \"safe\", \"safe\", \"safe\", \"safe\", \"safe\", \"safe\", \"safe\", \"safe\", \"safe\", \"safe\", \"safe\", \"safe\", \"safety\", \"salt\", \"samsung\", \"save\", \"save\", \"save\", \"save\", \"save\", \"save\", \"save\", \"save\", \"save\", \"save\", \"save\", \"save\", \"save\", \"save\", \"save\", \"scala\", \"schema\", \"schema\", \"schema\", \"schema\", \"scikit\", \"scikit\", \"scipy\", \"scrape\", \"scrapy\", \"screen\", \"screen\", \"screen\", \"screen\", \"screen\", \"screen\", \"screen\", \"screenshot\", \"screenshot\", \"screenshot\", \"screenshot\", \"screenshot\", \"script\", \"script\", \"script\", \"script\", \"script\", \"script\", \"script\", \"script\", \"script\", \"script\", \"script\", \"script\", \"script\", \"scroll\", \"scroll\", \"scroll\", \"scrollbar\", \"sdk\", \"sdk\", \"sdk\", \"sdk\", \"sdk\", \"seaborn\", \"seal\", \"search\", \"search\", \"search\", \"search\", \"search\", \"search\", \"search\", \"search\", \"search\", \"search\", \"search\", \"search\", \"search\", \"search\", \"search\", \"search\", \"second\", \"second\", \"second\", \"second\", \"second\", \"second\", \"second\", \"second\", \"second\", \"second\", \"second\", \"second\", \"second\", \"second\", \"second\", \"second\", \"securely\", \"segmentation\", \"select\", \"select\", \"select\", \"select\", \"select\", \"select\", \"select\", \"select\", \"select\", \"selenium\", \"selenium\", \"semaphore\", \"semicolon\", \"send\", \"send\", \"send\", \"send\", \"send\", \"send\", \"send\", \"send\", \"send\", \"send\", \"send\", \"sentence\", \"sentence\", \"sentence\", \"sentence\", \"sentence\", \"serialization\", \"serialize\", \"series\", \"series\", \"series\", \"series\", \"series\", \"series\", \"series\", \"series\", \"server\", \"server\", \"server\", \"server\", \"server\", \"server\", \"server\", \"server\", \"server\", \"server\", \"server\", \"server\", \"server\", \"server\", \"service\", \"service\", \"service\", \"service\", \"service\", \"service\", \"service\", \"service\", \"service\", \"servlet\", \"servlet\", \"session\", \"session\", \"session\", \"session\", \"session\", \"session\", \"session\", \"session\", \"set\", \"set\", \"set\", \"set\", \"set\", \"set\", \"set\", \"set\", \"set\", \"set\", \"set\", \"set\", \"set\", \"set\", \"set\", \"set\", \"setinterval\", \"setter\", \"setter\", \"shadow\", \"shadow\", \"sharedpreference\", \"sharepoint\", \"shell\", \"shell\", \"shell\", \"shell\", \"shell\", \"shell\", \"shop\", \"shorthand\", \"show\", \"show\", \"show\", \"show\", \"show\", \"show\", \"show\", \"show\", \"show\", \"show\", \"show\", \"show\", \"show\", \"show\", \"show\", \"show\", \"shuffle\", \"sign\", \"sign\", \"sign\", \"sign\", \"sign\", \"signal\", \"signal\", \"signal\", \"signal\", \"signal\", \"signal\", \"signalr\", \"simulator\", \"simulator\", \"site\", \"site\", \"site\", \"site\", \"site\", \"site\", \"site\", \"site\", \"site\", \"site\", \"site\", \"site\", \"site\", \"site\", \"site\", \"size\", \"size\", \"size\", \"size\", \"size\", \"size\", \"size\", \"size\", \"size\", \"size\", \"size\", \"sizeof\", \"sleep\", \"sleep\", \"slope\", \"sm\", \"smtp\", \"soap\", \"soap\", \"sock\", \"socket\", \"socket\", \"socket\", \"socket\", \"socket\", \"soft\", \"soft\", \"soft\", \"something\", \"something\", \"something\", \"something\", \"something\", \"something\", \"something\", \"something\", \"something\", \"something\", \"something\", \"something\", \"something\", \"something\", \"something\", \"something\", \"sort\", \"sort\", \"sort\", \"sort\", \"sort\", \"sort\", \"sort\", \"sort\", \"sort\", \"sort\", \"sort\", \"sort\", \"sort\", \"sort\", \"sort\", \"source\", \"source\", \"source\", \"source\", \"source\", \"source\", \"source\", \"source\", \"source\", \"source\", \"source\", \"source\", \"source\", \"source\", \"source\", \"source\", \"special\", \"special\", \"special\", \"special\", \"special\", \"special\", \"special\", \"special\", \"special\", \"special\", \"special\", \"spell\", \"spider\", \"split\", \"split\", \"split\", \"split\", \"split\", \"split\", \"spread\", \"spread\", \"spread\", \"spring\", \"sql\", \"sql\", \"sql\", \"sql\", \"sql\", \"sqlite\", \"sqlite\", \"sqlite\", \"sqlite\", \"ssh\", \"ssh\", \"ssl\", \"ssl\", \"stack\", \"stack\", \"stack\", \"stack\", \"stack\", \"stack\", \"stack\", \"stack\", \"stack\", \"stack\", \"stack\", \"stack\", \"stack\", \"star\", \"start\", \"start\", \"start\", \"start\", \"start\", \"start\", \"start\", \"start\", \"start\", \"start\", \"start\", \"start\", \"start\", \"start\", \"start\", \"start\", \"stash\", \"state\", \"state\", \"state\", \"state\", \"state\", \"state\", \"state\", \"state\", \"state\", \"state\", \"state\", \"state\", \"state\", \"state\", \"state\", \"statement\", \"statement\", \"statement\", \"statement\", \"statement\", \"statement\", \"statement\", \"statement\", \"statement\", \"statement\", \"statement\", \"statement\", \"statement\", \"statement\", \"static\", \"static\", \"static\", \"static\", \"static\", \"static\", \"static\", \"static\", \"statically\", \"statically\", \"status\", \"status\", \"status\", \"status\", \"status\", \"status\", \"status\", \"status\", \"status\", \"status\", \"std\", \"std\", \"store\", \"store\", \"store\", \"store\", \"store\", \"store\", \"store\", \"store\", \"store\", \"store\", \"store\", \"store\", \"store\", \"store\", \"store\", \"str\", \"str\", \"stre\", \"stre\", \"stre\", \"stream\", \"stream\", \"stream\", \"stream\", \"stream\", \"stream\", \"stream\", \"stream\", \"stream\", \"stream\", \"stretch\", \"string\", \"string\", \"string\", \"string\", \"string\", \"string\", \"string\", \"string\", \"string\", \"string\", \"string\", \"string\", \"string\", \"stringbuilder\", \"studio\", \"studio\", \"studio\", \"studio\", \"studio\", \"studio\", \"studio\", \"studio\", \"style\", \"style\", \"style\", \"style\", \"style\", \"style\", \"style\", \"style\", \"style\", \"style\", \"style\", \"style\", \"stylesheet\", \"subdirectory\", \"subdirectory\", \"subdomain\", \"sublime\", \"submit\", \"submit\", \"submit\", \"submit\", \"submit\", \"submit\", \"submodule\", \"submodule\", \"subplot\", \"subprocess\", \"subprocess\", \"subquery\", \"subversion\", \"sunday\", \"support\", \"support\", \"support\", \"support\", \"support\", \"support\", \"support\", \"support\", \"support\", \"support\", \"support\", \"support\", \"support\", \"support\", \"support\", \"support\", \"suppress\", \"suppress\", \"svn\", \"svn\", \"swift\", \"swift\", \"swift\", \"swift\", \"swift\", \"swift\", \"swift\", \"swift\", \"swift\", \"swipe\", \"swipe\", \"swipe\", \"symbolic\", \"symbolic\", \"synchronize\", \"synchronize\", \"synchronize\", \"synchronous\", \"synchronous\", \"system\", \"system\", \"system\", \"system\", \"system\", \"system\", \"system\", \"system\", \"system\", \"system\", \"system\", \"system\", \"system\", \"system\", \"system\", \"system\", \"tabbar\", \"table\", \"table\", \"table\", \"table\", \"table\", \"table\", \"tableview\", \"task\", \"task\", \"task\", \"task\", \"task\", \"task\", \"task\", \"task\", \"task\", \"task\", \"task\", \"task\", \"task\", \"task\", \"task\", \"task\", \"tcp\", \"template\", \"template\", \"template\", \"template\", \"template\", \"template\", \"template\", \"template\", \"template\", \"template\", \"terminal\", \"terminal\", \"terminal\", \"terminal\", \"terminal\", \"test\", \"test\", \"test\", \"test\", \"test\", \"test\", \"test\", \"test\", \"test\", \"test\", \"test\", \"test\", \"test\", \"test\", \"test\", \"test\", \"testing\", \"testing\", \"testing\", \"testing\", \"testing\", \"testing\", \"testing\", \"testing\", \"testing\", \"testing\", \"testing\", \"testing\", \"text\", \"text\", \"text\", \"text\", \"text\", \"text\", \"text\", \"text\", \"text\", \"text\", \"text\", \"text\", \"text\", \"text\", \"text\", \"text\", \"textbox\", \"tfs\", \"thread\", \"thread\", \"thread\", \"thread\", \"thread\", \"thread\", \"thread\", \"throttle\", \"throw\", \"throw\", \"throw\", \"throw\", \"throw\", \"throw\", \"throw\", \"throw\", \"throw\", \"throw\", \"throw\", \"throw\", \"throw\", \"thumbnail\", \"thumbnail\", \"tick\", \"tick\", \"ticket\", \"time\", \"time\", \"time\", \"time\", \"time\", \"time\", \"time\", \"time\", \"time\", \"time\", \"time\", \"time\", \"time\", \"time\", \"time\", \"time\", \"timedelta\", \"timer\", \"timer\", \"timezone\", \"timezone\", \"title\", \"title\", \"title\", \"title\", \"title\", \"title\", \"title\", \"title\", \"title\", \"title\", \"tkinter\", \"tls\", \"token\", \"token\", \"token\", \"token\", \"tool\", \"tool\", \"tool\", \"tool\", \"tool\", \"tool\", \"tool\", \"tool\", \"tool\", \"tool\", \"tool\", \"tool\", \"tool\", \"tool\", \"trace\", \"trace\", \"trace\", \"trace\", \"trace\", \"translucent\", \"transparent\", \"transpose\", \"tray\", \"tree\", \"tree\", \"tree\", \"tree\", \"tree\", \"tree\", \"tree\", \"tree\", \"tree\", \"triangle\", \"triangle\", \"two\", \"two\", \"two\", \"two\", \"two\", \"two\", \"two\", \"two\", \"two\", \"two\", \"two\", \"two\", \"two\", \"two\", \"two\", \"two\", \"typedef\", \"ubuntu\", \"ubuntu\", \"ubuntu\", \"ubuntu\", \"udp\", \"uid\", \"uiscrollview\", \"uitableviewcell\", \"uml\", \"unbox\", \"understand\", \"understand\", \"understand\", \"understand\", \"understand\", \"understand\", \"understand\", \"understand\", \"understand\", \"understand\", \"understand\", \"understand\", \"understand\", \"understand\", \"understand\", \"understand\", \"undo\", \"undo\", \"unicode\", \"uninstall\", \"unique\", \"unique\", \"unique\", \"unique\", \"unique\", \"unique\", \"unique\", \"unique\", \"unique\", \"unit\", \"unit\", \"unit\", \"unit\", \"unit\", \"unittest\", \"unity\", \"unsigned\", \"unsigned\", \"untracked\", \"unused\", \"unused\", \"unwind\", \"update\", \"update\", \"update\", \"update\", \"update\", \"update\", \"update\", \"update\", \"update\", \"update\", \"update\", \"update\", \"update\", \"update\", \"update\", \"update\", \"updatepanel\", \"upload\", \"upload\", \"upload\", \"upload\", \"upload\", \"upside\", \"upstream\", \"upstream\", \"url\", \"url\", \"url\", \"url\", \"url\", \"url\", \"url\", \"url\", \"url\", \"url\", \"urllib\", \"user\", \"user\", \"user\", \"user\", \"user\", \"user\", \"user\", \"user\", \"user\", \"user\", \"user\", \"user\", \"user\", \"user\", \"user\", \"user\", \"usr\", \"utc\", \"utc\", \"utf\", \"utf\", \"validate\", \"validate\", \"validate\", \"validate\", \"validate\", \"validate\", \"validate\", \"validate\", \"validate\", \"validation\", \"validation\", \"validation\", \"validation\", \"value\", \"value\", \"value\", \"value\", \"value\", \"value\", \"value\", \"value\", \"value\", \"value\", \"value\", \"value\", \"value\", \"value\", \"value\", \"varchar\", \"variable\", \"variable\", \"variable\", \"variable\", \"variable\", \"variable\", \"variable\", \"variable\", \"variable\", \"variable\", \"variable\", \"variable\", \"variable\", \"variable\", \"variable\", \"vba\", \"vba\", \"vc++\", \"vector\", \"vector\", \"vector\", \"version\", \"version\", \"version\", \"version\", \"version\", \"version\", \"version\", \"version\", \"version\", \"version\", \"version\", \"version\", \"version\", \"version\", \"version\", \"version\", \"versione\", \"versione\", \"vertical\", \"vertically\", \"video\", \"video\", \"video\", \"video\", \"video\", \"view\", \"view\", \"view\", \"view\", \"view\", \"view\", \"view\", \"view\", \"view\", \"view\", \"view\", \"view\", \"viewcontroller\", \"viewcontroller\", \"viewport\", \"vim\", \"vim\", \"virtualenv\", \"vista\", \"visual\", \"visual\", \"visual\", \"visual\", \"visual\", \"visual\", \"volatile\", \"volatile\", \"vote\", \"vue\", \"wamp\", \"wcf\", \"wcf\", \"web\", \"web\", \"web\", \"web\", \"web\", \"web\", \"web\", \"web\", \"web\", \"web\", \"web\", \"web\", \"web\", \"web\", \"webcam\", \"webdriver\", \"webform\", \"webserver\", \"website\", \"website\", \"website\", \"website\", \"website\", \"website\", \"website\", \"website\", \"website\", \"website\", \"website\", \"website\", \"website\", \"website\", \"websocket\", \"weight\", \"weight\", \"weight\", \"weight\", \"well\", \"well\", \"well\", \"well\", \"well\", \"well\", \"well\", \"well\", \"well\", \"well\", \"well\", \"well\", \"well\", \"well\", \"well\", \"well\", \"white\", \"white\", \"whitespace\", \"whitespace\", \"width\", \"wifi\", \"wildcard\", \"wildcard\", \"wildcard\", \"window\", \"window\", \"window\", \"window\", \"window\", \"window\", \"window\", \"window\", \"window\", \"window\", \"window\", \"window\", \"window\", \"window\", \"windows\", \"windows\", \"windows\", \"windows\", \"windows\", \"windows\", \"windows\", \"without\", \"without\", \"without\", \"without\", \"without\", \"without\", \"without\", \"without\", \"without\", \"without\", \"without\", \"without\", \"without\", \"without\", \"without\", \"without\", \"word\", \"word\", \"word\", \"word\", \"word\", \"word\", \"word\", \"word\", \"word\", \"word\", \"word\", \"word\", \"word\", \"word\", \"wpf\", \"wpf\", \"wpf\", \"wpf\", \"wpf\", \"write\", \"write\", \"write\", \"write\", \"write\", \"write\", \"write\", \"write\", \"write\", \"write\", \"write\", \"write\", \"write\", \"write\", \"write\", \"write\", \"wsgi\", \"xaml\", \"xaml\", \"xampp\", \"xcode\", \"xcode\", \"xcode\", \"xcode\", \"xcode\", \"xcode\", \"xcode\", \"xcode\", \"xml\", \"xml\", \"xml\", \"xml\", \"xml\", \"xml\", \"xml\", \"xml\", \"xml\", \"xpath\", \"xsd\", \"xslt\", \"youtube\", \"youtube\", \"yyyy\", \"zero\", \"zero\", \"zero\", \"zero\", \"zero\", \"zero\", \"zero\", \"zone\", \"zone\", \"zone\", \"zsh\"]}, \"R\": 30, \"lambda.step\": 0.01, \"plot.opts\": {\"xlab\": \"PC1\", \"ylab\": \"PC2\"}, \"topic.order\": [4, 6, 13, 11, 14, 8, 1, 15, 2, 10, 9, 3, 5, 12, 7, 16]};\n",
       "\n",
       "function LDAvis_load_lib(url, callback){\n",
       "  var s = document.createElement('script');\n",
       "  s.src = url;\n",
       "  s.async = true;\n",
       "  s.onreadystatechange = s.onload = callback;\n",
       "  s.onerror = function(){console.warn(\"failed to load library \" + url);};\n",
       "  document.getElementsByTagName(\"head\")[0].appendChild(s);\n",
       "}\n",
       "\n",
       "if(typeof(LDAvis) !== \"undefined\"){\n",
       "   // already loaded: just create the visualization\n",
       "   !function(LDAvis){\n",
       "       new LDAvis(\"#\" + \"ldavis_el26726140506119871504259624703\", ldavis_el26726140506119871504259624703_data);\n",
       "   }(LDAvis);\n",
       "}else if(typeof define === \"function\" && define.amd){\n",
       "   // require.js is available: use it to load d3/LDAvis\n",
       "   require.config({paths: {d3: \"https://d3js.org/d3.v5\"}});\n",
       "   require([\"d3\"], function(d3){\n",
       "      window.d3 = d3;\n",
       "      LDAvis_load_lib(\"https://cdn.jsdelivr.net/gh/bmabey/pyLDAvis@3.3.1/pyLDAvis/js/ldavis.v3.0.0.js\", function(){\n",
       "        new LDAvis(\"#\" + \"ldavis_el26726140506119871504259624703\", ldavis_el26726140506119871504259624703_data);\n",
       "      });\n",
       "    });\n",
       "}else{\n",
       "    // require.js not available: dynamically load d3 & LDAvis\n",
       "    LDAvis_load_lib(\"https://d3js.org/d3.v5.js\", function(){\n",
       "         LDAvis_load_lib(\"https://cdn.jsdelivr.net/gh/bmabey/pyLDAvis@3.3.1/pyLDAvis/js/ldavis.v3.0.0.js\", function(){\n",
       "                 new LDAvis(\"#\" + \"ldavis_el26726140506119871504259624703\", ldavis_el26726140506119871504259624703_data);\n",
       "            })\n",
       "         });\n",
       "}\n",
       "</script>"
      ],
      "text/plain": [
       "PreparedData(topic_coordinates=              x         y  topics  cluster       Freq\n",
       "topic                                                \n",
       "3      0.173096 -0.067817       1        1  10.345882\n",
       "5     -0.116471  0.049127       2        1   8.760472\n",
       "12    -0.068767  0.176213       3        1   8.464584\n",
       "10    -0.153279 -0.168294       4        1   7.570486\n",
       "13     0.075744 -0.100241       5        1   7.394013\n",
       "7      0.073204  0.122151       6        1   6.491066\n",
       "0      0.064922  0.105616       7        1   6.364273\n",
       "14     0.122939  0.057372       8        1   6.289683\n",
       "1     -0.084712 -0.096114       9        1   5.965366\n",
       "9     -0.175934  0.056020      10        1   5.838172\n",
       "8     -0.053619  0.055562      11        1   5.697179\n",
       "2      0.014609  0.097532      12        1   5.446602\n",
       "4      0.079088 -0.056742      13        1   5.400626\n",
       "11    -0.148672 -0.079845      14        1   4.136425\n",
       "6      0.084034 -0.051773      15        1   2.968526\n",
       "15     0.113819 -0.098766      16        1   2.866645, topic_info=           Term         Freq        Total Category  logprob  loglift\n",
       "371       class  4875.000000  4875.000000  Default  30.0000  30.0000\n",
       "32       object  4084.000000  4084.000000  Default  29.0000  29.0000\n",
       "225       table  2746.000000  2746.000000  Default  28.0000  28.0000\n",
       "310        java  4106.000000  4106.000000  Default  27.0000  27.0000\n",
       "290      string  4332.000000  4332.000000  Default  26.0000  26.0000\n",
       "..          ...          ...          ...      ...      ...      ...\n",
       "253  difference   155.898827  2445.697830  Topic16  -5.0917   0.7991\n",
       "379         set   128.664463  3909.489994  Topic16  -5.2837   0.1381\n",
       "82      example   131.008594  4901.930451  Topic16  -5.2657  -0.0701\n",
       "286     problem   114.973296  2979.506113  Topic16  -5.3962   0.2972\n",
       "271       write   102.202858  2999.422655  Topic16  -5.5140   0.1728\n",
       "\n",
       "[1155 rows x 6 columns], token_table=      Topic      Freq      Term\n",
       "term                           \n",
       "2867     16  0.983566         +\n",
       "2277     13  0.949905       abc\n",
       "2990      6  0.884005  abstract\n",
       "2990      7  0.014182  abstract\n",
       "2990      8  0.014182  abstract\n",
       "...     ...       ...       ...\n",
       "1261     15  0.044314      zero\n",
       "247       3  0.017932      zone\n",
       "247       8  0.950401      zone\n",
       "247      10  0.017932      zone\n",
       "4327      3  0.956347       zsh\n",
       "\n",
       "[4698 rows x 3 columns], R=30, lambda_step=0.01, plot_opts={'xlab': 'PC1', 'ylab': 'PC2'}, topic_order=[4, 6, 13, 11, 14, 8, 1, 15, 2, 10, 9, 3, 5, 12, 7, 16])"
      ]
     },
     "execution_count": 23,
     "metadata": {},
     "output_type": "execute_result"
    }
   ],
   "source": [
    "import pyLDAvis\n",
    "import pyLDAvis.sklearn\n",
    "import pyLDAvis.gensim_models as gensimvis\n",
    "from IPython.core.display import display, HTML\n",
    "pyLDAvis.enable_notebook()\n",
    "\n",
    "display(HTML(\"<style>.container { max-width:100% !important; }</style>\"))\n",
    "display(HTML(\"<style>.output_result { max-width:100% !important; }</style>\"))\n",
    "display(HTML(\"<style>.output_area { max-width:100% !important; }</style>\"))\n",
    "display(HTML(\"<style>.input_area { max-width:100% !important; }</style>\"))\n",
    "\n",
    "gensimvis.prepare(lda_model, corpus, dictionnaire)"
   ]
  },
  {
   "cell_type": "markdown",
   "metadata": {},
   "source": [
    "On va construire maintenant un dataframe qui contiendra pour chaque ligne : le topic dominant, la probabilité ainsi que les *keywords* associés."
   ]
  },
  {
   "cell_type": "code",
   "execution_count": 24,
   "metadata": {
    "scrolled": true
   },
   "outputs": [
    {
     "name": "stderr",
     "output_type": "stream",
     "text": [
      "100%|██████████| 31024/31024 [02:01<00:00, 254.58it/s]\n"
     ]
    }
   ],
   "source": [
    "def format_topics_sentences(ldamodel, corpus=corpus, texts=data_ready):\n",
    "    # Init output\n",
    "    sent_topics_df = pd.DataFrame()\n",
    "\n",
    "    # Get main topic in each document\n",
    "    for i, row_list in tqdm(enumerate(ldamodel[corpus]), total=len(ldamodel[corpus])):\n",
    "        row = row_list[0] if ldamodel.per_word_topics else row_list            \n",
    "        row = sorted(row, key=lambda x: (x[1]), reverse=True)\n",
    "        # Get the Dominant topic, Perc Contribution and Keywords for each document\n",
    "        for j, (topic_num, prop_topic) in enumerate(row):\n",
    "            if j == 0:  # => dominant topic\n",
    "                wp = ldamodel.show_topic(topic_num)\n",
    "                topic_keywords = \", \".join([word for word, prop in wp])\n",
    "                sent_topics_df = sent_topics_df.append(pd.Series([int(topic_num), \n",
    "                                                                  round(prop_topic,4), \n",
    "                                                                  topic_keywords]), ignore_index=True)\n",
    "            else:\n",
    "                break\n",
    "                \n",
    "    sent_topics_df.columns = ['Dominant_Topic', 'Perc_Contribution', 'Topic_Keywords']\n",
    "\n",
    "#     # Add original text to the end of the output\n",
    "#     contents = pd.Series(texts)\n",
    "#     sent_topics_df = pd.concat([sent_topics_df, contents], axis=1)\n",
    "    return (sent_topics_df)\n",
    "\n",
    "###\n",
    "# Format\n",
    "df_dominant_topic = format_topics_sentences(lda_model)\n",
    "\n",
    "# df_dominant_topic = df_topic_sents_keywords.reset_index()\n",
    "# df_dominant_topic.columns = ['Document_No', 'Dominant_Topic', 'Topic_Perc_Contrib', 'Keywords', 'Text']"
   ]
  },
  {
   "cell_type": "code",
   "execution_count": 25,
   "metadata": {},
   "outputs": [
    {
     "data": {
      "text/html": [
       "<div>\n",
       "<style scoped>\n",
       "    .dataframe tbody tr th:only-of-type {\n",
       "        vertical-align: middle;\n",
       "    }\n",
       "\n",
       "    .dataframe tbody tr th {\n",
       "        vertical-align: top;\n",
       "    }\n",
       "\n",
       "    .dataframe thead th {\n",
       "        text-align: right;\n",
       "    }\n",
       "</style>\n",
       "<table border=\"1\" class=\"dataframe\">\n",
       "  <thead>\n",
       "    <tr style=\"text-align: right;\">\n",
       "      <th></th>\n",
       "      <th>Dominant_Topic</th>\n",
       "      <th>Perc_Contribution</th>\n",
       "      <th>Topic_Keywords</th>\n",
       "    </tr>\n",
       "  </thead>\n",
       "  <tbody>\n",
       "    <tr>\n",
       "      <th>16141</th>\n",
       "      <td>12.0</td>\n",
       "      <td>0.6578</td>\n",
       "      <td>window, version, application, install, process, instal, build, project, python, program</td>\n",
       "    </tr>\n",
       "    <tr>\n",
       "      <th>11361</th>\n",
       "      <td>15.0</td>\n",
       "      <td>0.4912</td>\n",
       "      <td>key, character, value, word, python, dictionary, child, parent, encode, quote</td>\n",
       "    </tr>\n",
       "    <tr>\n",
       "      <th>10023</th>\n",
       "      <td>9.0</td>\n",
       "      <td>0.3291</td>\n",
       "      <td>app, android, iphone, application, device, user, google, io, api, xcode</td>\n",
       "    </tr>\n",
       "    <tr>\n",
       "      <th>16895</th>\n",
       "      <td>0.0</td>\n",
       "      <td>0.4100</td>\n",
       "      <td>method, call, test, exception, time, thread, throw, class, framework, c#</td>\n",
       "    </tr>\n",
       "    <tr>\n",
       "      <th>23069</th>\n",
       "      <td>3.0</td>\n",
       "      <td>0.9100</td>\n",
       "      <td>function, string, array, variable, number, value, example, return, c++, javascript</td>\n",
       "    </tr>\n",
       "  </tbody>\n",
       "</table>\n",
       "</div>"
      ],
      "text/plain": [
       "       Dominant_Topic  Perc_Contribution  \\\n",
       "16141            12.0             0.6578   \n",
       "11361            15.0             0.4912   \n",
       "10023             9.0             0.3291   \n",
       "16895             0.0             0.4100   \n",
       "23069             3.0             0.9100   \n",
       "\n",
       "                                                                                Topic_Keywords  \n",
       "16141  window, version, application, install, process, instal, build, project, python, program  \n",
       "11361            key, character, value, word, python, dictionary, child, parent, encode, quote  \n",
       "10023                  app, android, iphone, application, device, user, google, io, api, xcode  \n",
       "16895                 method, call, test, exception, time, thread, throw, class, framework, c#  \n",
       "23069       function, string, array, variable, number, value, example, return, c++, javascript  "
      ]
     },
     "execution_count": 25,
     "metadata": {},
     "output_type": "execute_result"
    }
   ],
   "source": [
    "df_dominant_topic.sample(5)"
   ]
  },
  {
   "cell_type": "code",
   "execution_count": 26,
   "metadata": {},
   "outputs": [
    {
     "data": {
      "text/plain": [
       "Dominant_Topic\n",
       "0.0                     [method, call, test, exception, time, thread, throw, class, framework, c#]\n",
       "1.0                                  [list, net, form, jquery, asp, page, item, select, mvc, user]\n",
       "2.0                [model, django, client, address, send, email, user, pattern, interface, server]\n",
       "3.0           [function, string, array, variable, number, value, example, return, c++, javascript]\n",
       "4.0     [difference, property, method, function, parameter, return, js, understand, call, example]\n",
       "5.0                         [php, javascript, server, request, page, url, web, user, log, browser]\n",
       "6.0                               [python, index, loop, plot, point, r, label, graph, axis, close]\n",
       "7.0                          [class, c, python, c++, module, project, path, compile, name, static]\n",
       "8.0              [git, command, change, script, directory, branch, commit, date, repository, bash]\n",
       "9.0                      [app, android, iphone, application, device, user, google, io, api, xcode]\n",
       "10.0                              [image, text, css, change, color, set, element, size, html, div]\n",
       "11.0                [view, button, activity, bar, controller, android, back, show, call, fragment]\n",
       "12.0     [window, version, application, install, process, instal, build, project, python, program]\n",
       "13.0                       [table, column, database, sql, query, row, datum, mysql, value, create]\n",
       "14.0                       [object, java, json, convert, xml, string, class, create, method, read]\n",
       "15.0               [key, character, value, word, python, dictionary, child, parent, encode, quote]\n",
       "Name: Topic_Keywords, dtype: object"
      ]
     },
     "execution_count": 26,
     "metadata": {},
     "output_type": "execute_result"
    }
   ],
   "source": [
    "df_dominant_topic.groupby('Dominant_Topic')['Topic_Keywords'].unique()"
   ]
  },
  {
   "cell_type": "code",
   "execution_count": 27,
   "metadata": {},
   "outputs": [
    {
     "data": {
      "image/png": "[encoded data removed]",
      "text/plain": [
       "<Figure size 1080x360 with 1 Axes>"
      ]
     },
     "metadata": {
      "needs_background": "light"
     },
     "output_type": "display_data"
    }
   ],
   "source": [
    "df_dominant_topic.Dominant_Topic.value_counts().plot(kind='bar', figsize=(15,5), rot=0)\n",
    "plt.title(\"Nombre de lignes ayant été associées à chque topic dominant\")\n",
    "plt.show()"
   ]
  },
  {
   "cell_type": "code",
   "execution_count": null,
   "metadata": {},
   "outputs": [],
   "source": []
  },
  {
   "cell_type": "markdown",
   "metadata": {},
   "source": [
    "# <font color=\"blue\" id=section_3_2> 3.2 Fonction \"score\" pour le système de suggestion.  </font>"
   ]
  },
  {
   "cell_type": "markdown",
   "metadata": {},
   "source": [
    "Nous allons définir ici la fonction qui permettra d'établir le système de suggestions de tags. Cette dernière calculera un score entre deux textes basé sur les résultats de la modélisation LDA.\n",
    "\n",
    "Soit $D$ le nombre le total de questions (ou de documents) que nous avons dans le train set. Soit $K$ le nombre total de topic identifés. La modélisation LDA permet de détermier une distribution de probabilités des topics pour chaque commentaire. Avec un paramètre $\\alpha$ suffisament petit, on suppose que pour chaque commentaire il n'y a qu'un seul topic qui soit dominant (la probabilité des autres topic étant très petite relativement). De plus, on a également la distribution de probabilité des mots pour chaque topic . La fonction score se calculera comme :         \n",
    "\n",
    " - Soit $N$ le nombre total de mots dans le document de test $T$, on a alors une somme sur l'ensemble des mots du document test :          \n",
    " \n",
    "    $$\\large s = \\Pi_{i=1}^{N} p(w_i/t) p(t/d) $$,\n",
    "Où\n",
    " - $p(w_i/t)$ est la probabilité du mot $w_i$ pour le topic dominant $t$\n",
    " - $p(t/d)$ est la probabilité du toopic dominant $t$ pour le document $d$ \n",
    " \n",
    " \n",
    "Le système de suggestion sélectionnera donc parmi tout les documents du train set ceux avec le score le plus petit (on passera au logarithme dans la pratique). Les tags associés aux documents ainsi sélectionner seront donc suggérés au document test."
   ]
  },
  {
   "cell_type": "code",
   "execution_count": 28,
   "metadata": {},
   "outputs": [
    {
     "name": "stdout",
     "output_type": "stream",
     "text": [
      "(31024, 16)\n"
     ]
    },
    {
     "data": {
      "text/plain": [
       "array([[0.        , 0.        , 0.        , ..., 0.        , 0.48853981,\n",
       "        0.        ],\n",
       "       [0.        , 0.        , 0.        , ..., 0.        , 0.        ,\n",
       "        0.        ],\n",
       "       [0.        , 0.        , 0.        , ..., 0.47009963, 0.11327162,\n",
       "        0.        ],\n",
       "       ...,\n",
       "       [0.        , 0.        , 0.        , ..., 0.49880517, 0.        ,\n",
       "        0.        ],\n",
       "       [0.        , 0.        , 0.        , ..., 0.        , 0.        ,\n",
       "        0.        ],\n",
       "       [0.        , 0.        , 0.20329443, ..., 0.36618936, 0.        ,\n",
       "        0.        ]])"
      ]
     },
     "execution_count": 28,
     "metadata": {},
     "output_type": "execute_result"
    }
   ],
   "source": [
    "# On récupère d'abord la matrice des Documents/Topics\n",
    "\n",
    "doc_all_topics = lda_model.get_document_topics(corpus)\n",
    "\n",
    "mat_sparse = gensim.matutils.corpus2csc(doc_all_topics).T.toarray()\n",
    "\n",
    "print(mat_sparse.shape)\n",
    "\n",
    "mat_sparse"
   ]
  },
  {
   "cell_type": "markdown",
   "metadata": {},
   "source": [
    "#### On montre en premier comment ce système de suggestion fonctionne pour un seul commentaire."
   ]
  },
  {
   "cell_type": "code",
   "execution_count": 29,
   "metadata": {},
   "outputs": [],
   "source": [
    "def calcul_score_comm(phrase_test, mat_doc_topic=mat_sparse, dictionnaire=dictionnaire, lda_model=lda_model):\n",
    "    \n",
    "    # phrase test dominant topic\n",
    "    test_topic_dist = np.array([tup[1] for tup in lda_model.get_document_topics(\n",
    "        bow=dictionnaire.doc2bow(phrase_test),\n",
    "        minimum_probability=0.0)\n",
    "                             ])\n",
    "    test_dom_topic_idx = np.argsort(test_topic_dist)[-1]\n",
    "    \n",
    "    # distribution des mots pour le topic dominant\n",
    "    mots_dist = []\n",
    "    for word in phrase_test:\n",
    "        if word in dictionnaire.values():\n",
    "            all_dist  = lda_model.get_term_topics(word, minimum_probability=0.0)\n",
    "            if len(all_dist)==lda_model.num_topics:\n",
    "                term_dist = all_dist[test_dom_topic_idx][1]\n",
    "                if term_dist > 1e-3:\n",
    "                    mots_dist.append(term_dist)\n",
    "                \n",
    "    # boucle sur les commentaires du train set\n",
    "    score_comm = []\n",
    "    for pos, i in enumerate(range(mat_doc_topic.shape[0])):\n",
    "        \n",
    "        train_dom_topic_idx = np.argsort(mat_doc_topic[i])[-1]\n",
    "        \n",
    "        # uniquement si test & train ont le même topic dominant\n",
    "        if int(train_dom_topic_idx) == int(test_dom_topic_idx):\n",
    "            train_test_top = mat_doc_topic[i][train_dom_topic_idx]\n",
    "\n",
    "            # calcul score en appliquant le logarithme sur la formule précédente\n",
    "            calcul_score = 0\n",
    "            for i in range(len(mots_dist)):\n",
    "                calcul_score += np.log(mots_dist[i]*train_test_top)\n",
    "            \n",
    "            # Append resultat pour chaque commentaire\n",
    "            score_comm.append((pos,calcul_score))\n",
    "                        \n",
    "    return score_comm #, test_dom_topic_idx"
   ]
  },
  {
   "cell_type": "code",
   "execution_count": 30,
   "metadata": {},
   "outputs": [
    {
     "data": {
      "text/plain": [
       "Index(['Best_Tags', 'Body_pc', 'Body_lm'], dtype='object')"
      ]
     },
     "execution_count": 30,
     "metadata": {},
     "output_type": "execute_result"
    }
   ],
   "source": [
    "df.columns"
   ]
  },
  {
   "cell_type": "code",
   "execution_count": 31,
   "metadata": {},
   "outputs": [
    {
     "data": {
      "text/plain": [
       "800"
      ]
     },
     "execution_count": 31,
     "metadata": {},
     "output_type": "execute_result"
    }
   ],
   "source": [
    "test_df.shape[0]"
   ]
  },
  {
   "cell_type": "code",
   "execution_count": 32,
   "metadata": {},
   "outputs": [
    {
     "name": "stdout",
     "output_type": "stream",
     "text": [
      "123\n"
     ]
    },
    {
     "data": {
      "text/html": [
       "<div>\n",
       "<style scoped>\n",
       "    .dataframe tbody tr th:only-of-type {\n",
       "        vertical-align: middle;\n",
       "    }\n",
       "\n",
       "    .dataframe tbody tr th {\n",
       "        vertical-align: top;\n",
       "    }\n",
       "\n",
       "    .dataframe thead th {\n",
       "        text-align: right;\n",
       "    }\n",
       "</style>\n",
       "<table border=\"1\" class=\"dataframe\">\n",
       "  <thead>\n",
       "    <tr style=\"text-align: right;\">\n",
       "      <th></th>\n",
       "      <th>Body_lm</th>\n",
       "      <th>Best_Tags</th>\n",
       "    </tr>\n",
       "  </thead>\n",
       "  <tbody>\n",
       "    <tr>\n",
       "      <th>25577352</th>\n",
       "      <td>plot cdf pandas series python interface panda series plot cdf</td>\n",
       "      <td>[python]</td>\n",
       "    </tr>\n",
       "  </tbody>\n",
       "</table>\n",
       "</div>"
      ],
      "text/plain": [
       "                                                                Body_lm  \\\n",
       "25577352  plot cdf pandas series python interface panda series plot cdf   \n",
       "\n",
       "         Best_Tags  \n",
       "25577352  [python]  "
      ]
     },
     "execution_count": 32,
     "metadata": {},
     "output_type": "execute_result"
    }
   ],
   "source": [
    "# Document test que l'on choisi aléatoirement\n",
    "iloc = randint(0,lda_test_df.shape[0])\n",
    "print(iloc)\n",
    "\n",
    "# print du Body original\n",
    "lda_test_df[['Body_lm', 'Best_Tags']].iloc[iloc].to_frame().T"
   ]
  },
  {
   "cell_type": "code",
   "execution_count": 33,
   "metadata": {},
   "outputs": [],
   "source": [
    "phr_test = lda_test_feats.iloc[iloc]\n",
    "\n",
    "score_phr_test = calcul_score_comm(phr_test)"
   ]
  },
  {
   "cell_type": "code",
   "execution_count": 37,
   "metadata": {},
   "outputs": [
    {
     "data": {
      "text/plain": [
       "[(1476, -3.271172774580274),\n",
       " (4873, -3.2714268091508605),\n",
       " (11928, -3.2752617424023596),\n",
       " (10646, -3.2765411178914654),\n",
       " (2019, -3.2774762671698485),\n",
       " (2626, -3.2856844610816416),\n",
       " (851, -3.2887981580317915),\n",
       " (12539, -3.29001128984548),\n",
       " (4974, -3.291303080405052),\n",
       " (14558, -3.2926598583054063)]"
      ]
     },
     "execution_count": 37,
     "metadata": {},
     "output_type": "execute_result"
    }
   ],
   "source": [
    "score_phr_test_sorted = sorted(score_phr_test, key=lambda x: (x[1]), reverse=True)\n",
    "score_phr_test_sorted[:10]"
   ]
  },
  {
   "cell_type": "code",
   "execution_count": 38,
   "metadata": {
    "scrolled": true
   },
   "outputs": [
    {
     "data": {
      "text/html": [
       "<div>\n",
       "<style scoped>\n",
       "    .dataframe tbody tr th:only-of-type {\n",
       "        vertical-align: middle;\n",
       "    }\n",
       "\n",
       "    .dataframe tbody tr th {\n",
       "        vertical-align: top;\n",
       "    }\n",
       "\n",
       "    .dataframe thead th {\n",
       "        text-align: right;\n",
       "    }\n",
       "</style>\n",
       "<table border=\"1\" class=\"dataframe\">\n",
       "  <thead>\n",
       "    <tr style=\"text-align: right;\">\n",
       "      <th></th>\n",
       "      <th>Topic_Keywords</th>\n",
       "      <th>Dominant_Topic</th>\n",
       "    </tr>\n",
       "  </thead>\n",
       "  <tbody>\n",
       "    <tr>\n",
       "      <th>1476</th>\n",
       "      <td>python, index, loop, plot, point, r, label, graph, axis, close</td>\n",
       "      <td>6.0</td>\n",
       "    </tr>\n",
       "  </tbody>\n",
       "</table>\n",
       "</div>"
      ],
      "text/plain": [
       "                                                      Topic_Keywords  \\\n",
       "1476  python, index, loop, plot, point, r, label, graph, axis, close   \n",
       "\n",
       "     Dominant_Topic  \n",
       "1476            6.0  "
      ]
     },
     "execution_count": 38,
     "metadata": {},
     "output_type": "execute_result"
    }
   ],
   "source": [
    "## Parmi la sélection précédente, on peut choisir un \"top_N\" des suggestions\n",
    "top_pos = [tup[0] for tup in score_phr_test_sorted]\n",
    "pos     = top_pos[0]\n",
    "# print(pos)\n",
    "\n",
    "# On regarde le Topic Dominant & Keywords pour la \"top_N\" suggestion\n",
    "df_dominant_topic[['Topic_Keywords', 'Dominant_Topic']].iloc[pos].to_frame().T"
   ]
  },
  {
   "cell_type": "code",
   "execution_count": 40,
   "metadata": {
    "scrolled": false
   },
   "outputs": [
    {
     "data": {
      "text/html": [
       "<div>\n",
       "<style scoped>\n",
       "    .dataframe tbody tr th:only-of-type {\n",
       "        vertical-align: middle;\n",
       "    }\n",
       "\n",
       "    .dataframe tbody tr th {\n",
       "        vertical-align: top;\n",
       "    }\n",
       "\n",
       "    .dataframe thead th {\n",
       "        text-align: right;\n",
       "    }\n",
       "</style>\n",
       "<table border=\"1\" class=\"dataframe\">\n",
       "  <thead>\n",
       "    <tr style=\"text-align: right;\">\n",
       "      <th></th>\n",
       "      <th>Body_lm</th>\n",
       "      <th>Best_Tags</th>\n",
       "    </tr>\n",
       "    <tr>\n",
       "      <th>Id</th>\n",
       "      <th></th>\n",
       "      <th></th>\n",
       "    </tr>\n",
       "  </thead>\n",
       "  <tbody>\n",
       "    <tr>\n",
       "      <th>18379933</th>\n",
       "      <td>plot cumulative count post plot cumulative density ggplot currently accept answer plot cumulative frequency distribution ggplot plot cumulative count solution involve pre calculate value beforehand pure ggplot solution let show far ggplot ggplot plot cumulative density something follow idea next color start last color end ask well bad ideally simple fix complicated count last resort approach since give bad bin result</td>\n",
       "      <td>[r]</td>\n",
       "    </tr>\n",
       "    <tr>\n",
       "      <th>14423325</th>\n",
       "      <td>confidence interval prediction logistic regression r predict compute prediction base result linear regression offer compute confidence interval prediction accord manual interval base variance fitting interval coefficient hand predict glm compute prediction base logistic poisson regression amongst option confidence interval hard time imagine confidence interval compute provide meaningful insight poisson logistic regression case meaningful provide confidence interval prediction interpret assumption case</td>\n",
       "      <td>[r]</td>\n",
       "    </tr>\n",
       "    <tr>\n",
       "      <th>6189229</th>\n",
       "      <td>create oobb point create minimal oobb give point create aabb sphere problem create minimal oobb edit first answer result huge cloud point little amount point collision geometry generation example cube point side triangle point triangle algorithm first post give bad result cube example point cube return identity axis</td>\n",
       "      <td>[c++]</td>\n",
       "    </tr>\n",
       "  </tbody>\n",
       "</table>\n",
       "</div>"
      ],
      "text/plain": [
       "                                                                                                                                                                                                                                                                                                                                                                                                                                                                                                                             Body_lm  \\\n",
       "Id                                                                                                                                                                                                                                                                                                                                                                                                                                                                                                                                     \n",
       "18379933                                                                                        plot cumulative count post plot cumulative density ggplot currently accept answer plot cumulative frequency distribution ggplot plot cumulative count solution involve pre calculate value beforehand pure ggplot solution let show far ggplot ggplot plot cumulative density something follow idea next color start last color end ask well bad ideally simple fix complicated count last resort approach since give bad bin result   \n",
       "14423325  confidence interval prediction logistic regression r predict compute prediction base result linear regression offer compute confidence interval prediction accord manual interval base variance fitting interval coefficient hand predict glm compute prediction base logistic poisson regression amongst option confidence interval hard time imagine confidence interval compute provide meaningful insight poisson logistic regression case meaningful provide confidence interval prediction interpret assumption case   \n",
       "6189229                                                                                                                                                                                                create oobb point create minimal oobb give point create aabb sphere problem create minimal oobb edit first answer result huge cloud point little amount point collision geometry generation example cube point side triangle point triangle algorithm first post give bad result cube example point cube return identity axis   \n",
       "\n",
       "         Best_Tags  \n",
       "Id                  \n",
       "18379933       [r]  \n",
       "14423325       [r]  \n",
       "6189229      [c++]  "
      ]
     },
     "execution_count": 40,
     "metadata": {},
     "output_type": "execute_result"
    }
   ],
   "source": [
    "# On recherche dans le train set\n",
    "loc_train = train_feats.iloc[top_pos[:3]].index\n",
    "\n",
    "df_sugg = train_df[['Body_lm','Best_Tags']].loc[loc_train] #.to_frame().T\n",
    "df_sugg"
   ]
  },
  {
   "cell_type": "code",
   "execution_count": 41,
   "metadata": {},
   "outputs": [
    {
     "data": {
      "text/plain": [
       "['r', 'r', 'c++']"
      ]
     },
     "execution_count": 41,
     "metadata": {},
     "output_type": "execute_result"
    }
   ],
   "source": [
    "sugg_tags = [tag for tag_list in df_sugg['Best_Tags'].values.tolist() for tag in tag_list]\n",
    "\n",
    "sugg_tags"
   ]
  },
  {
   "cell_type": "markdown",
   "metadata": {},
   "source": [
    "Il est possible que des mêmes tags puissent être associés aux meilleurs documents sugérés, la fonction ci-dessous permet d'en garder les éléments uniques."
   ]
  },
  {
   "cell_type": "code",
   "execution_count": 48,
   "metadata": {},
   "outputs": [
    {
     "data": {
      "text/plain": [
       "['r', 'c++']"
      ]
     },
     "execution_count": 48,
     "metadata": {},
     "output_type": "execute_result"
    }
   ],
   "source": [
    "def list_unique(list1, tag_max=3):\n",
    "    # initialize a null list\n",
    "    unique_list = []\n",
    " \n",
    "    # traverse for all elements\n",
    "    for x in list1:\n",
    "        # check if exists in unique_list or not\n",
    "        if x not in unique_list:\n",
    "            unique_list.append(x)\n",
    "            \n",
    "    if len(unique_list) <= tag_max:\n",
    "        final_sugg = unique_list\n",
    "    else:\n",
    "        final_sugg = unique_list[:tag_max]\n",
    "            \n",
    "    return final_sugg\n",
    "\n",
    "sugg_unq = list_unique(sugg_tags)\n",
    "sugg_unq"
   ]
  },
  {
   "cell_type": "code",
   "execution_count": 49,
   "metadata": {},
   "outputs": [
    {
     "data": {
      "text/plain": [
       "[['python']]"
      ]
     },
     "execution_count": 49,
     "metadata": {},
     "output_type": "execute_result"
    }
   ],
   "source": [
    "# Regardons les vrais tags associés au document test (voir plus haut)\n",
    "df[['Best_Tags']].loc[lda_test_df.iloc[iloc].name].tolist()"
   ]
  },
  {
   "cell_type": "markdown",
   "metadata": {},
   "source": [
    "# <font color=\"blue\" id=section_3_3> 3.3 Inférence sur le test set. </font>"
   ]
  },
  {
   "cell_type": "code",
   "execution_count": 50,
   "metadata": {},
   "outputs": [],
   "source": [
    "def suggestion_tags_LDA(test_set, mat_sparse=mat_sparse):\n",
    "    all_tags = []\n",
    "    test_dom_topic = []\n",
    "    \n",
    "    for i in tqdm(range(len(test_set)), total=len(test_set)):\n",
    "        test_sent   = test_set[i]\n",
    "#         scores_test, test_dom_topic_idx = calcul_score_comm(test_sent,mat_sparse)\n",
    "        scores_test = calcul_score_comm(test_sent,mat_sparse)\n",
    "\n",
    "        scores_sorted = sorted(scores_test, key=lambda x: (x[1]), reverse=True)[:3]\n",
    "\n",
    "        ## Resultat\n",
    "        top_pos = [tup[0] for tup in scores_sorted]\n",
    "        pos     = top_pos\n",
    "\n",
    "        # suggestions parmi le train set\n",
    "        loc_train = train_feats.iloc[top_pos].index\n",
    "        suggestions_list = train_df['Best_Tags'].loc[loc_train].values.tolist()\n",
    "\n",
    "        sugg_tags = [tag for tag_list in suggestions_list for tag in tag_list]\n",
    "        final_sugg = list_unique(sugg_tags)\n",
    "\n",
    "#         if len(sugg_unq) <= 3:\n",
    "#             final_sugg = sugg_unq\n",
    "#         else:\n",
    "#             final_sugg = sugg_unq[:3]\n",
    "        \n",
    "        all_tags.append(final_sugg)\n",
    "#         test_dom_topic.append(test_dom_topic_idx)\n",
    "\n",
    "    return all_tags #, test_dom_topic"
   ]
  },
  {
   "cell_type": "code",
   "execution_count": 51,
   "metadata": {},
   "outputs": [
    {
     "name": "stderr",
     "output_type": "stream",
     "text": [
      "100%|██████████| 1620/1620 [04:17<00:00,  6.30it/s]\n"
     ]
    }
   ],
   "source": [
    "pred_tags = suggestion_tags_LDA(lda_test_feats.tolist())"
   ]
  },
  {
   "cell_type": "code",
   "execution_count": 52,
   "metadata": {},
   "outputs": [
    {
     "data": {
      "text/plain": [
       "[['ios', 'iphone', 'android'],\n",
       " ['java', 'ruby', 'html'],\n",
       " ['c++', 'java', 'c#'],\n",
       " ['javascript', 'jquery', 'asp.net'],\n",
       " ['mysql', 'performance', 'sql'],\n",
       " ['c#', 'json', 'java'],\n",
       " ['java', 'c#'],\n",
       " ['c++', 'javascript', 'algorithm'],\n",
       " ['c++', 'ruby', 'windows'],\n",
       " ['ios', 'iphone', 'android']]"
      ]
     },
     "execution_count": 52,
     "metadata": {},
     "output_type": "execute_result"
    }
   ],
   "source": [
    "pred_tags[:10]"
   ]
  },
  {
   "cell_type": "code",
   "execution_count": 53,
   "metadata": {},
   "outputs": [
    {
     "data": {
      "text/plain": [
       "[('.net', 'c#'),\n",
       " ('ruby-on-rails',),\n",
       " ('linux',),\n",
       " ('jquery',),\n",
       " ('mysql', 'sql'),\n",
       " ('c#',),\n",
       " ('c',),\n",
       " ('php',),\n",
       " ('c#',),\n",
       " ('android',)]"
      ]
     },
     "execution_count": 53,
     "metadata": {},
     "output_type": "execute_result"
    }
   ],
   "source": [
    "lda_test_tags = mlb.inverse_transform(lda_test_label)\n",
    "lda_test_tags[:10]"
   ]
  },
  {
   "cell_type": "markdown",
   "metadata": {},
   "source": [
    "## Évaluation des suggestions "
   ]
  },
  {
   "cell_type": "code",
   "execution_count": 54,
   "metadata": {},
   "outputs": [],
   "source": [
    "from sklearn.metrics import classification_report\n",
    "lda_pred_label  = mlb.transform(pred_tags)\n",
    "\n",
    "report = pd.DataFrame(classification_report(\n",
    "    lda_test_label,\n",
    "    lda_pred_label,\n",
    "    output_dict=True,\n",
    "    target_names=tags_list,\n",
    "    zero_division=0\n",
    ")).T"
   ]
  },
  {
   "cell_type": "code",
   "execution_count": 55,
   "metadata": {},
   "outputs": [
    {
     "data": {
      "text/html": [
       "<div>\n",
       "<style scoped>\n",
       "    .dataframe tbody tr th:only-of-type {\n",
       "        vertical-align: middle;\n",
       "    }\n",
       "\n",
       "    .dataframe tbody tr th {\n",
       "        vertical-align: top;\n",
       "    }\n",
       "\n",
       "    .dataframe thead th {\n",
       "        text-align: right;\n",
       "    }\n",
       "</style>\n",
       "<table border=\"1\" class=\"dataframe\">\n",
       "  <thead>\n",
       "    <tr style=\"text-align: right;\">\n",
       "      <th></th>\n",
       "      <th>precision</th>\n",
       "      <th>recall</th>\n",
       "      <th>f1-score</th>\n",
       "      <th>support</th>\n",
       "    </tr>\n",
       "  </thead>\n",
       "  <tbody>\n",
       "    <tr>\n",
       "      <th>samples avg</th>\n",
       "      <td>0.182407</td>\n",
       "      <td>0.363889</td>\n",
       "      <td>0.233272</td>\n",
       "      <td>2089.0</td>\n",
       "    </tr>\n",
       "    <tr>\n",
       "      <th>weighted avg</th>\n",
       "      <td>0.179563</td>\n",
       "      <td>0.358545</td>\n",
       "      <td>0.195016</td>\n",
       "      <td>2089.0</td>\n",
       "    </tr>\n",
       "    <tr>\n",
       "      <th>macro avg</th>\n",
       "      <td>0.130706</td>\n",
       "      <td>0.280396</td>\n",
       "      <td>0.143512</td>\n",
       "      <td>2089.0</td>\n",
       "    </tr>\n",
       "    <tr>\n",
       "      <th>micro avg</th>\n",
       "      <td>0.170732</td>\n",
       "      <td>0.358545</td>\n",
       "      <td>0.231316</td>\n",
       "      <td>2089.0</td>\n",
       "    </tr>\n",
       "  </tbody>\n",
       "</table>\n",
       "</div>"
      ],
      "text/plain": [
       "              precision    recall  f1-score  support\n",
       "samples avg    0.182407  0.363889  0.233272   2089.0\n",
       "weighted avg   0.179563  0.358545  0.195016   2089.0\n",
       "macro avg      0.130706  0.280396  0.143512   2089.0\n",
       "micro avg      0.170732  0.358545  0.231316   2089.0"
      ]
     },
     "execution_count": 55,
     "metadata": {},
     "output_type": "execute_result"
    }
   ],
   "source": [
    "avg_index = ['samples avg', 'weighted avg','macro avg', 'micro avg' ]\n",
    "avg_report = report.loc[avg_index]\n",
    "avg_report"
   ]
  },
  {
   "cell_type": "code",
   "execution_count": 89,
   "metadata": {
    "scrolled": true
   },
   "outputs": [
    {
     "data": {
      "text/html": [
       "<div>\n",
       "<style scoped>\n",
       "    .dataframe tbody tr th:only-of-type {\n",
       "        vertical-align: middle;\n",
       "    }\n",
       "\n",
       "    .dataframe tbody tr th {\n",
       "        vertical-align: top;\n",
       "    }\n",
       "\n",
       "    .dataframe thead th {\n",
       "        text-align: right;\n",
       "    }\n",
       "</style>\n",
       "<table border=\"1\" class=\"dataframe\">\n",
       "  <thead>\n",
       "    <tr style=\"text-align: right;\">\n",
       "      <th></th>\n",
       "      <th>precision</th>\n",
       "      <th>recall</th>\n",
       "      <th>f1-score</th>\n",
       "      <th>support</th>\n",
       "    </tr>\n",
       "  </thead>\n",
       "  <tbody>\n",
       "    <tr>\n",
       "      <th>django</th>\n",
       "      <td>0.120915</td>\n",
       "      <td>0.196809</td>\n",
       "      <td>0.149798</td>\n",
       "      <td>188.0</td>\n",
       "    </tr>\n",
       "    <tr>\n",
       "      <th>mysql</th>\n",
       "      <td>0.207229</td>\n",
       "      <td>0.464865</td>\n",
       "      <td>0.286667</td>\n",
       "      <td>185.0</td>\n",
       "    </tr>\n",
       "    <tr>\n",
       "      <th>linux</th>\n",
       "      <td>0.216906</td>\n",
       "      <td>0.755556</td>\n",
       "      <td>0.337051</td>\n",
       "      <td>180.0</td>\n",
       "    </tr>\n",
       "    <tr>\n",
       "      <th>php</th>\n",
       "      <td>0.176638</td>\n",
       "      <td>0.366864</td>\n",
       "      <td>0.238462</td>\n",
       "      <td>169.0</td>\n",
       "    </tr>\n",
       "    <tr>\n",
       "      <th>c#</th>\n",
       "      <td>0.397260</td>\n",
       "      <td>0.491525</td>\n",
       "      <td>0.439394</td>\n",
       "      <td>118.0</td>\n",
       "    </tr>\n",
       "    <tr>\n",
       "      <th>ios</th>\n",
       "      <td>0.123967</td>\n",
       "      <td>0.833333</td>\n",
       "      <td>0.215827</td>\n",
       "      <td>90.0</td>\n",
       "    </tr>\n",
       "    <tr>\n",
       "      <th>python</th>\n",
       "      <td>1.000000</td>\n",
       "      <td>0.012500</td>\n",
       "      <td>0.024691</td>\n",
       "      <td>80.0</td>\n",
       "    </tr>\n",
       "    <tr>\n",
       "      <th>sql</th>\n",
       "      <td>0.000000</td>\n",
       "      <td>0.000000</td>\n",
       "      <td>0.000000</td>\n",
       "      <td>74.0</td>\n",
       "    </tr>\n",
       "    <tr>\n",
       "      <th>ruby</th>\n",
       "      <td>0.000000</td>\n",
       "      <td>0.000000</td>\n",
       "      <td>0.000000</td>\n",
       "      <td>68.0</td>\n",
       "    </tr>\n",
       "    <tr>\n",
       "      <th>html</th>\n",
       "      <td>0.000000</td>\n",
       "      <td>0.000000</td>\n",
       "      <td>0.000000</td>\n",
       "      <td>64.0</td>\n",
       "    </tr>\n",
       "    <tr>\n",
       "      <th>asp.net</th>\n",
       "      <td>0.131737</td>\n",
       "      <td>0.721311</td>\n",
       "      <td>0.222785</td>\n",
       "      <td>61.0</td>\n",
       "    </tr>\n",
       "    <tr>\n",
       "      <th>jquery</th>\n",
       "      <td>0.336364</td>\n",
       "      <td>0.698113</td>\n",
       "      <td>0.453988</td>\n",
       "      <td>53.0</td>\n",
       "    </tr>\n",
       "    <tr>\n",
       "      <th>objective-c</th>\n",
       "      <td>0.247191</td>\n",
       "      <td>0.415094</td>\n",
       "      <td>0.309859</td>\n",
       "      <td>53.0</td>\n",
       "    </tr>\n",
       "    <tr>\n",
       "      <th>asp.net-mvc</th>\n",
       "      <td>0.284722</td>\n",
       "      <td>0.788462</td>\n",
       "      <td>0.418367</td>\n",
       "      <td>52.0</td>\n",
       "    </tr>\n",
       "    <tr>\n",
       "      <th>iphone</th>\n",
       "      <td>0.213483</td>\n",
       "      <td>0.380000</td>\n",
       "      <td>0.273381</td>\n",
       "      <td>50.0</td>\n",
       "    </tr>\n",
       "    <tr>\n",
       "      <th>string</th>\n",
       "      <td>0.239437</td>\n",
       "      <td>0.723404</td>\n",
       "      <td>0.359788</td>\n",
       "      <td>47.0</td>\n",
       "    </tr>\n",
       "    <tr>\n",
       "      <th>git</th>\n",
       "      <td>0.410000</td>\n",
       "      <td>0.931818</td>\n",
       "      <td>0.569444</td>\n",
       "      <td>44.0</td>\n",
       "    </tr>\n",
       "    <tr>\n",
       "      <th>node.js</th>\n",
       "      <td>0.000000</td>\n",
       "      <td>0.000000</td>\n",
       "      <td>0.000000</td>\n",
       "      <td>44.0</td>\n",
       "    </tr>\n",
       "    <tr>\n",
       "      <th>ruby-on-rails</th>\n",
       "      <td>0.000000</td>\n",
       "      <td>0.000000</td>\n",
       "      <td>0.000000</td>\n",
       "      <td>38.0</td>\n",
       "    </tr>\n",
       "    <tr>\n",
       "      <th>.net</th>\n",
       "      <td>0.000000</td>\n",
       "      <td>0.000000</td>\n",
       "      <td>0.000000</td>\n",
       "      <td>34.0</td>\n",
       "    </tr>\n",
       "    <tr>\n",
       "      <th>database</th>\n",
       "      <td>0.000000</td>\n",
       "      <td>0.000000</td>\n",
       "      <td>0.000000</td>\n",
       "      <td>31.0</td>\n",
       "    </tr>\n",
       "    <tr>\n",
       "      <th>r</th>\n",
       "      <td>0.033058</td>\n",
       "      <td>0.129032</td>\n",
       "      <td>0.052632</td>\n",
       "      <td>31.0</td>\n",
       "    </tr>\n",
       "    <tr>\n",
       "      <th>windows</th>\n",
       "      <td>0.000000</td>\n",
       "      <td>0.000000</td>\n",
       "      <td>0.000000</td>\n",
       "      <td>31.0</td>\n",
       "    </tr>\n",
       "    <tr>\n",
       "      <th>sql-server</th>\n",
       "      <td>0.173469</td>\n",
       "      <td>0.548387</td>\n",
       "      <td>0.263566</td>\n",
       "      <td>31.0</td>\n",
       "    </tr>\n",
       "    <tr>\n",
       "      <th>arrays</th>\n",
       "      <td>0.086957</td>\n",
       "      <td>0.137931</td>\n",
       "      <td>0.106667</td>\n",
       "      <td>29.0</td>\n",
       "    </tr>\n",
       "    <tr>\n",
       "      <th>bash</th>\n",
       "      <td>0.000000</td>\n",
       "      <td>0.000000</td>\n",
       "      <td>0.000000</td>\n",
       "      <td>29.0</td>\n",
       "    </tr>\n",
       "    <tr>\n",
       "      <th>css</th>\n",
       "      <td>0.000000</td>\n",
       "      <td>0.000000</td>\n",
       "      <td>0.000000</td>\n",
       "      <td>28.0</td>\n",
       "    </tr>\n",
       "    <tr>\n",
       "      <th>json</th>\n",
       "      <td>0.016949</td>\n",
       "      <td>0.071429</td>\n",
       "      <td>0.027397</td>\n",
       "      <td>28.0</td>\n",
       "    </tr>\n",
       "    <tr>\n",
       "      <th>java</th>\n",
       "      <td>0.064982</td>\n",
       "      <td>0.666667</td>\n",
       "      <td>0.118421</td>\n",
       "      <td>27.0</td>\n",
       "    </tr>\n",
       "    <tr>\n",
       "      <th>android</th>\n",
       "      <td>0.058252</td>\n",
       "      <td>0.230769</td>\n",
       "      <td>0.093023</td>\n",
       "      <td>26.0</td>\n",
       "    </tr>\n",
       "    <tr>\n",
       "      <th>javascript</th>\n",
       "      <td>0.000000</td>\n",
       "      <td>0.000000</td>\n",
       "      <td>0.000000</td>\n",
       "      <td>24.0</td>\n",
       "    </tr>\n",
       "    <tr>\n",
       "      <th>performance</th>\n",
       "      <td>0.000000</td>\n",
       "      <td>0.000000</td>\n",
       "      <td>0.000000</td>\n",
       "      <td>24.0</td>\n",
       "    </tr>\n",
       "    <tr>\n",
       "      <th>algorithm</th>\n",
       "      <td>0.035211</td>\n",
       "      <td>0.250000</td>\n",
       "      <td>0.061728</td>\n",
       "      <td>20.0</td>\n",
       "    </tr>\n",
       "    <tr>\n",
       "      <th>c</th>\n",
       "      <td>0.000000</td>\n",
       "      <td>0.000000</td>\n",
       "      <td>0.000000</td>\n",
       "      <td>19.0</td>\n",
       "    </tr>\n",
       "    <tr>\n",
       "      <th>c++</th>\n",
       "      <td>0.000000</td>\n",
       "      <td>0.000000</td>\n",
       "      <td>0.000000</td>\n",
       "      <td>19.0</td>\n",
       "    </tr>\n",
       "  </tbody>\n",
       "</table>\n",
       "</div>"
      ],
      "text/plain": [
       "               precision    recall  f1-score  support\n",
       "django          0.120915  0.196809  0.149798    188.0\n",
       "mysql           0.207229  0.464865  0.286667    185.0\n",
       "linux           0.216906  0.755556  0.337051    180.0\n",
       "php             0.176638  0.366864  0.238462    169.0\n",
       "c#              0.397260  0.491525  0.439394    118.0\n",
       "ios             0.123967  0.833333  0.215827     90.0\n",
       "python          1.000000  0.012500  0.024691     80.0\n",
       "sql             0.000000  0.000000  0.000000     74.0\n",
       "ruby            0.000000  0.000000  0.000000     68.0\n",
       "html            0.000000  0.000000  0.000000     64.0\n",
       "asp.net         0.131737  0.721311  0.222785     61.0\n",
       "jquery          0.336364  0.698113  0.453988     53.0\n",
       "objective-c     0.247191  0.415094  0.309859     53.0\n",
       "asp.net-mvc     0.284722  0.788462  0.418367     52.0\n",
       "iphone          0.213483  0.380000  0.273381     50.0\n",
       "string          0.239437  0.723404  0.359788     47.0\n",
       "git             0.410000  0.931818  0.569444     44.0\n",
       "node.js         0.000000  0.000000  0.000000     44.0\n",
       "ruby-on-rails   0.000000  0.000000  0.000000     38.0\n",
       ".net            0.000000  0.000000  0.000000     34.0\n",
       "database        0.000000  0.000000  0.000000     31.0\n",
       "r               0.033058  0.129032  0.052632     31.0\n",
       "windows         0.000000  0.000000  0.000000     31.0\n",
       "sql-server      0.173469  0.548387  0.263566     31.0\n",
       "arrays          0.086957  0.137931  0.106667     29.0\n",
       "bash            0.000000  0.000000  0.000000     29.0\n",
       "css             0.000000  0.000000  0.000000     28.0\n",
       "json            0.016949  0.071429  0.027397     28.0\n",
       "java            0.064982  0.666667  0.118421     27.0\n",
       "android         0.058252  0.230769  0.093023     26.0\n",
       "javascript      0.000000  0.000000  0.000000     24.0\n",
       "performance     0.000000  0.000000  0.000000     24.0\n",
       "algorithm       0.035211  0.250000  0.061728     20.0\n",
       "c               0.000000  0.000000  0.000000     19.0\n",
       "c++             0.000000  0.000000  0.000000     19.0"
      ]
     },
     "execution_count": 89,
     "metadata": {},
     "output_type": "execute_result"
    }
   ],
   "source": [
    "clf_report = report[~report.index.isin(avg_report.index)]\n",
    "clf_report.sort_values(by='support', ascending=False)"
   ]
  },
  {
   "cell_type": "markdown",
   "metadata": {},
   "source": [
    "# <font color=\"blue\" id=section_4> 4. Suggestion avec modèle Word2Vec </font>"
   ]
  },
  {
   "cell_type": "code",
   "execution_count": 58,
   "metadata": {},
   "outputs": [],
   "source": [
    "# On utilisera la fonction ci-dessous pour afficher l'historique de l'entraînement des modèles\n",
    "\n",
    "def plot_model_history(model):\n",
    "            \n",
    "    acc      = model.history.history[list(model.history.history.keys())[1]]\n",
    "    val_acc  = model.history.history[list(model.history.history.keys())[3]]\n",
    "    loss     = model.history.history[list(model.history.history.keys())[0]]\n",
    "    val_loss = model.history.history[list(model.history.history.keys())[2]]\n",
    "    epochs   = model.history.epoch\n",
    "\n",
    "    plt.figure(figsize=(20, 8))\n",
    "    plt.subplot(1, 2, 1)\n",
    "    plt.plot(epochs, acc, label='Training Accuracy')\n",
    "    plt.plot(epochs, val_acc, label='Validation Accuracy')\n",
    "    plt.legend(loc='lower right')\n",
    "    plt.title('Training and Validation Accuracy')\n",
    "\n",
    "    plt.subplot(1, 2, 2)\n",
    "    plt.plot(epochs, loss, label='Training Loss')\n",
    "    plt.plot(epochs, val_loss, label='Validation Loss')\n",
    "    plt.legend(loc='upper right')\n",
    "    plt.title('Training and Validation Loss')\n",
    "    plt.show()  "
   ]
  },
  {
   "cell_type": "code",
   "execution_count": 59,
   "metadata": {},
   "outputs": [],
   "source": [
    "body = 'Body_lm'"
   ]
  },
  {
   "cell_type": "code",
   "execution_count": 60,
   "metadata": {},
   "outputs": [
    {
     "name": "stdout",
     "output_type": "stream",
     "text": [
      "Shape of x train: (31024,)\n",
      "Shape of y train: (31024, 35)\n"
     ]
    }
   ],
   "source": [
    "w2v_train_feats = train_df[body].apply(lambda x: x.split(\" \")).copy()\n",
    "print(\"Shape of x train: {}\".format(w2v_train_feats.shape))\n",
    "\n",
    "w2v_train_label = train_label_bin.copy()\n",
    "print(\"Shape of y train: {}\".format(w2v_train_label.shape))"
   ]
  },
  {
   "cell_type": "code",
   "execution_count": 61,
   "metadata": {
    "scrolled": true
   },
   "outputs": [
    {
     "name": "stdout",
     "output_type": "stream",
     "text": [
      "Shape of x test: (800,)\n",
      "Shape of y test: (800, 35)\n"
     ]
    }
   ],
   "source": [
    "w2v_test_feats = test_df[body].apply(lambda x: x.split(\" \")) \n",
    "print(\"Shape of x test: {}\".format(w2v_test_feats.shape))\n",
    "\n",
    "w2v_test_label = test_label_bin.copy()\n",
    "print(\"Shape of y test: {}\".format(w2v_test_label.shape))"
   ]
  },
  {
   "cell_type": "code",
   "execution_count": 62,
   "metadata": {},
   "outputs": [
    {
     "name": "stdout",
     "output_type": "stream",
     "text": [
      "Shape of x eval: (820,)\n",
      "Shape of y eval: (820, 35)\n"
     ]
    }
   ],
   "source": [
    "w2v_eval_feats = eval_df[body].apply(lambda x: x.split(\" \")) \n",
    "print(\"Shape of x eval: {}\".format(w2v_eval_feats.shape))\n",
    "\n",
    "w2v_eval_label = eval_label_bin.copy()\n",
    "print(\"Shape of y eval: {}\".format(w2v_eval_label.shape))"
   ]
  },
  {
   "cell_type": "markdown",
   "metadata": {},
   "source": [
    "## Tokenization"
   ]
  },
  {
   "cell_type": "code",
   "execution_count": 63,
   "metadata": {},
   "outputs": [
    {
     "name": "stdout",
     "output_type": "stream",
     "text": [
      "Number of unique words: 23832\n"
     ]
    }
   ],
   "source": [
    "from tensorflow.keras.preprocessing.text import Tokenizer\n",
    "from tensorflow.keras.preprocessing.sequence import pad_sequences\n",
    "\n",
    "tokenizer = Tokenizer()\n",
    "tokenizer.fit_on_texts(w2v_train_feats) \n",
    "\n",
    "num_words = len(tokenizer.word_index) + 1\n",
    "print(\"Number of unique words: %i\" % num_words)\n",
    "\n",
    "\n",
    "train_sequences = tokenizer.texts_to_sequences(w2v_train_feats) \n",
    "train_padded = pad_sequences(\n",
    "    train_sequences, \n",
    "    maxlen=maxSeq_len, \n",
    "    truncating=\"post\", \n",
    "    padding=\"post\"\n",
    ")\n",
    "\n",
    "test_sequences = tokenizer.texts_to_sequences(w2v_test_feats) \n",
    "test_padded = pad_sequences(\n",
    "    test_sequences, \n",
    "    maxlen=maxSeq_len, \n",
    "    truncating=\"post\", \n",
    "    padding=\"post\"\n",
    ")\n",
    "\n",
    "eval_sequences = tokenizer.texts_to_sequences(w2v_eval_feats) \n",
    "eval_padded = pad_sequences(\n",
    "    eval_sequences, \n",
    "    maxlen=maxSeq_len, \n",
    "    truncating=\"post\", \n",
    "    padding=\"post\"\n",
    ")"
   ]
  },
  {
   "cell_type": "markdown",
   "metadata": {},
   "source": [
    "## Création du modèle Word2Vec"
   ]
  },
  {
   "cell_type": "code",
   "execution_count": 64,
   "metadata": {},
   "outputs": [],
   "source": [
    "w2v_size=300\n",
    "w2v_window=5\n",
    "w2v_min_count=1\n",
    "w2v_epochs=10"
   ]
  },
  {
   "cell_type": "code",
   "execution_count": 65,
   "metadata": {},
   "outputs": [
    {
     "name": "stdout",
     "output_type": "stream",
     "text": [
      "Build & train Word2Vec model ...\n",
      "Vocabulary size: 23831\n",
      "Word2Vec trained\n"
     ]
    }
   ],
   "source": [
    "# Création et entraînement du modèle Word2Vec\n",
    "\n",
    "print(\"Build & train Word2Vec model ...\")\n",
    "w2v_model = gensim.models.Word2Vec(min_count=w2v_min_count, \n",
    "                                   window=w2v_window,\n",
    "                                   vector_size=w2v_size,\n",
    "                                   seed=42,\n",
    "                                   workers=8)\n",
    "#                                                workers=multiprocessing.cpu_count())\n",
    "w2v_model.build_vocab(w2v_train_feats)\n",
    "w2v_model.train(w2v_train_feats, \n",
    "                total_examples=w2v_model.corpus_count, \n",
    "                epochs=w2v_epochs)\n",
    "model_vectors = w2v_model.wv\n",
    "w2v_words = model_vectors.index_to_key\n",
    "print(\"Vocabulary size: %i\" % len(w2v_words))\n",
    "print(\"Word2Vec trained\")"
   ]
  },
  {
   "cell_type": "markdown",
   "metadata": {},
   "source": [
    "## Création de la matrice d'embedding"
   ]
  },
  {
   "cell_type": "code",
   "execution_count": 67,
   "metadata": {},
   "outputs": [
    {
     "name": "stdout",
     "output_type": "stream",
     "text": [
      "Create Embedding matrix ...\n",
      "Embedding matrix shape: (23832, 300)\n"
     ]
    }
   ],
   "source": [
    "print(\"Create Embedding matrix ...\")\n",
    "w2v_size = 300\n",
    "word_index = tokenizer.word_index\n",
    "vocab_size = len(word_index) + 1\n",
    "embedding_matrix = np.zeros((vocab_size, w2v_size))\n",
    "i=0\n",
    "j=0\n",
    "    \n",
    "for word, idx in word_index.items():\n",
    "    i +=1\n",
    "    if word in w2v_words:\n",
    "        j +=1\n",
    "        embedding_vector = model_vectors[word]\n",
    "        if embedding_vector is not None:\n",
    "            embedding_matrix[idx] = model_vectors[word]\n",
    "            \n",
    "# word_rate = np.round(j/i,4)\n",
    "# print(\"Word embedding rate : \", word_rate)\n",
    "print(\"Embedding matrix shape: %s\" % str(embedding_matrix.shape))"
   ]
  },
  {
   "cell_type": "markdown",
   "metadata": {},
   "source": [
    "## Entraînement du modèle"
   ]
  },
  {
   "cell_type": "code",
   "execution_count": 68,
   "metadata": {},
   "outputs": [
    {
     "name": "stdout",
     "output_type": "stream",
     "text": [
      "Model: \"model\"\n",
      "_________________________________________________________________\n",
      " Layer (type)                Output Shape              Param #   \n",
      "=================================================================\n",
      " input_1 (InputLayer)        [(None, 64)]              0         \n",
      "                                                                 \n",
      " embedding (Embedding)       (None, 64, 300)           7149600   \n",
      "                                                                 \n",
      " global_average_pooling1d (G  (None, 300)              0         \n",
      " lobalAveragePooling1D)                                          \n",
      "                                                                 \n",
      " dropout (Dropout)           (None, 300)               0         \n",
      "                                                                 \n",
      " dense (Dense)               (None, 35)                10535     \n",
      "                                                                 \n",
      "=================================================================\n",
      "Total params: 7,160,135\n",
      "Trainable params: 7,160,135\n",
      "Non-trainable params: 0\n",
      "_________________________________________________________________\n"
     ]
    }
   ],
   "source": [
    "word_input         = keras.layers.Input(shape=(maxSeq_len,), dtype='float64')  \n",
    "word_embedding     = keras.layers.Embedding(input_dim    = vocab_size,\n",
    "                                            output_dim   = w2v_size,\n",
    "                                            weights      = [embedding_matrix],\n",
    "                                            input_length = maxSeq_len)(word_input)\n",
    "\n",
    "x                  = keras.layers.GlobalAveragePooling1D()(word_embedding)  \n",
    "x                  = keras.layers.Dropout(0.1)(x) # 0.3\n",
    "word_output        = keras.layers.Dense(nbr_tags, activation='softmax')(x)\n",
    "w2v_embed_model    = keras.models.Model([word_input],word_output)\n",
    "\n",
    "w2v_embed_model.compile(optimizer=tf.keras.optimizers.Adam(), \n",
    "              loss=tf.keras.losses.BinaryCrossentropy(), \n",
    "              metrics=[tf.keras.metrics.CategoricalAccuracy('accuracy')])\n",
    "\n",
    "w2v_embed_model.summary()"
   ]
  },
  {
   "cell_type": "code",
   "execution_count": 69,
   "metadata": {},
   "outputs": [],
   "source": [
    "# from keras.callbacks import ModelCheckpoint\n",
    "# #create callback\n",
    "# filepath = 'best_w2v.hdf5'\n",
    "\n",
    "# checkpoint = ModelCheckpoint(filepath=filepath, \n",
    "#                              monitor='val_loss',\n",
    "#                              verbose=1, \n",
    "#                              save_best_only=True,\n",
    "#                              mode='min')\n",
    "# callbacks = [checkpoint]"
   ]
  },
  {
   "cell_type": "code",
   "execution_count": 70,
   "metadata": {
    "scrolled": true
   },
   "outputs": [
    {
     "name": "stdout",
     "output_type": "stream",
     "text": [
      "Epoch 1/20\n",
      "243/243 [==============================] - 21s 86ms/step - loss: 0.2283 - accuracy: 0.1847 - val_loss: 0.1334 - val_accuracy: 0.3073\n",
      "Epoch 2/20\n",
      "243/243 [==============================] - 20s 84ms/step - loss: 0.1255 - accuracy: 0.3520 - val_loss: 0.1143 - val_accuracy: 0.4085\n",
      "Epoch 3/20\n",
      "243/243 [==============================] - 20s 83ms/step - loss: 0.1082 - accuracy: 0.4364 - val_loss: 0.1007 - val_accuracy: 0.4780\n",
      "Epoch 4/20\n",
      "243/243 [==============================] - 20s 84ms/step - loss: 0.0956 - accuracy: 0.5023 - val_loss: 0.0906 - val_accuracy: 0.5220\n",
      "Epoch 5/20\n",
      "243/243 [==============================] - 20s 84ms/step - loss: 0.0860 - accuracy: 0.5523 - val_loss: 0.0831 - val_accuracy: 0.5610\n",
      "Epoch 6/20\n",
      "243/243 [==============================] - 21s 85ms/step - loss: 0.0786 - accuracy: 0.5933 - val_loss: 0.0775 - val_accuracy: 0.5854\n",
      "Epoch 7/20\n",
      "243/243 [==============================] - 20s 84ms/step - loss: 0.0727 - accuracy: 0.6231 - val_loss: 0.0732 - val_accuracy: 0.6037\n",
      "Epoch 8/20\n",
      "243/243 [==============================] - 20s 83ms/step - loss: 0.0679 - accuracy: 0.6441 - val_loss: 0.0699 - val_accuracy: 0.6329\n",
      "Epoch 9/20\n",
      "243/243 [==============================] - 21s 85ms/step - loss: 0.0639 - accuracy: 0.6680 - val_loss: 0.0671 - val_accuracy: 0.6317\n",
      "Epoch 10/20\n",
      "243/243 [==============================] - 21s 85ms/step - loss: 0.0606 - accuracy: 0.6773 - val_loss: 0.0649 - val_accuracy: 0.6488\n",
      "Epoch 11/20\n",
      "243/243 [==============================] - 21s 85ms/step - loss: 0.0577 - accuracy: 0.6901 - val_loss: 0.0630 - val_accuracy: 0.6573\n",
      "Epoch 12/20\n",
      "243/243 [==============================] - 21s 85ms/step - loss: 0.0551 - accuracy: 0.7007 - val_loss: 0.0614 - val_accuracy: 0.6695\n",
      "Epoch 13/20\n",
      "243/243 [==============================] - 21s 85ms/step - loss: 0.0529 - accuracy: 0.7096 - val_loss: 0.0601 - val_accuracy: 0.6732\n",
      "Epoch 14/20\n",
      "243/243 [==============================] - 20s 84ms/step - loss: 0.0509 - accuracy: 0.7161 - val_loss: 0.0591 - val_accuracy: 0.6854\n",
      "Epoch 15/20\n",
      "243/243 [==============================] - 21s 84ms/step - loss: 0.0489 - accuracy: 0.7248 - val_loss: 0.0581 - val_accuracy: 0.6780\n",
      "Epoch 16/20\n",
      "243/243 [==============================] - 20s 84ms/step - loss: 0.0473 - accuracy: 0.7306 - val_loss: 0.0573 - val_accuracy: 0.6841\n",
      "Epoch 17/20\n",
      "243/243 [==============================] - 20s 81ms/step - loss: 0.0458 - accuracy: 0.7349 - val_loss: 0.0567 - val_accuracy: 0.6988\n",
      "Epoch 18/20\n",
      "243/243 [==============================] - 20s 83ms/step - loss: 0.0442 - accuracy: 0.7440 - val_loss: 0.0563 - val_accuracy: 0.6890\n",
      "Epoch 19/20\n",
      "243/243 [==============================] - 20s 83ms/step - loss: 0.0429 - accuracy: 0.7480 - val_loss: 0.0558 - val_accuracy: 0.6915\n",
      "Epoch 20/20\n",
      "243/243 [==============================] - 20s 84ms/step - loss: 0.0417 - accuracy: 0.7527 - val_loss: 0.0554 - val_accuracy: 0.7012\n"
     ]
    }
   ],
   "source": [
    "w2v_history = w2v_embed_model.fit(\n",
    "    train_padded,\n",
    "    train_label_bin,\n",
    "    epochs=20,\n",
    "    batch_size=128,\n",
    "    validation_data=[eval_padded, \n",
    "                     eval_label_bin],\n",
    "    verbose=1,\n",
    "#     callbacks=callbacks\n",
    ")"
   ]
  },
  {
   "cell_type": "markdown",
   "metadata": {},
   "source": [
    "# Evaluation du model"
   ]
  },
  {
   "cell_type": "code",
   "execution_count": 71,
   "metadata": {},
   "outputs": [
    {
     "data": {
      "image/png": "[encoded data removed]",
      "text/plain": [
       "<Figure size 1440x576 with 2 Axes>"
      ]
     },
     "metadata": {
      "needs_background": "light"
     },
     "output_type": "display_data"
    }
   ],
   "source": [
    "plot_model_history(w2v_embed_model)"
   ]
  },
  {
   "cell_type": "code",
   "execution_count": 72,
   "metadata": {},
   "outputs": [
    {
     "name": "stdout",
     "output_type": "stream",
     "text": [
      "25/25 [==============================] - 0s 2ms/step - loss: 0.0552 - accuracy: 0.6925\n"
     ]
    },
    {
     "data": {
      "text/plain": [
       "[0.05523531511425972, 0.6924999952316284]"
      ]
     },
     "execution_count": 72,
     "metadata": {},
     "output_type": "execute_result"
    }
   ],
   "source": [
    "w2v_embed_model.evaluate(test_padded, w2v_test_label)"
   ]
  },
  {
   "cell_type": "markdown",
   "metadata": {},
   "source": [
    "## Inférence sur le test set"
   ]
  },
  {
   "cell_type": "code",
   "execution_count": 73,
   "metadata": {},
   "outputs": [
    {
     "name": "stdout",
     "output_type": "stream",
     "text": [
      "25/25 [==============================] - 0s 2ms/step\n"
     ]
    }
   ],
   "source": [
    "w2v_pred_proba = w2v_embed_model.predict(test_padded)"
   ]
  },
  {
   "cell_type": "code",
   "execution_count": 87,
   "metadata": {},
   "outputs": [
    {
     "name": "stdout",
     "output_type": "stream",
     "text": [
      "predicted label := ('json', 'node.js')\n",
      "actual label := ('javascript', 'json', 'node.js')\n"
     ]
    }
   ],
   "source": [
    "# On ne garde que les index avec une probabilité softmax supérieur à un seuil 'tresh'\n",
    "tresh = 0.3\n",
    "w2v_pred_proba[w2v_pred_proba >= tresh] = 1\n",
    "w2v_pred_proba[w2v_pred_proba < tresh] = 0\n",
    "\n",
    "# Inverse transform\n",
    "w2v_pred_inversed = mlb.inverse_transform(w2v_pred_proba)\n",
    "w2v_test_inversed = mlb.inverse_transform(w2v_test_label)\n",
    "\n",
    "pos = randint(0,test_label_bin.shape[0])\n",
    "# display(test_df[body].iloc[pos])\n",
    "# print()\n",
    "print('predicted label :=', w2v_pred_inversed[pos])\n",
    "print('actual label :=',w2v_test_inversed[pos])"
   ]
  },
  {
   "cell_type": "markdown",
   "metadata": {},
   "source": [
    "## Évaluation des suggestions"
   ]
  },
  {
   "cell_type": "code",
   "execution_count": 78,
   "metadata": {},
   "outputs": [
    {
     "data": {
      "text/html": [
       "<div>\n",
       "<style scoped>\n",
       "    .dataframe tbody tr th:only-of-type {\n",
       "        vertical-align: middle;\n",
       "    }\n",
       "\n",
       "    .dataframe tbody tr th {\n",
       "        vertical-align: top;\n",
       "    }\n",
       "\n",
       "    .dataframe thead th {\n",
       "        text-align: right;\n",
       "    }\n",
       "</style>\n",
       "<table border=\"1\" class=\"dataframe\">\n",
       "  <thead>\n",
       "    <tr style=\"text-align: right;\">\n",
       "      <th></th>\n",
       "      <th>precision</th>\n",
       "      <th>recall</th>\n",
       "      <th>f1-score</th>\n",
       "      <th>support</th>\n",
       "    </tr>\n",
       "  </thead>\n",
       "  <tbody>\n",
       "    <tr>\n",
       "      <th>samples avg</th>\n",
       "      <td>0.793125</td>\n",
       "      <td>0.702083</td>\n",
       "      <td>0.725250</td>\n",
       "      <td>1042.0</td>\n",
       "    </tr>\n",
       "    <tr>\n",
       "      <th>weighted avg</th>\n",
       "      <td>0.851322</td>\n",
       "      <td>0.636276</td>\n",
       "      <td>0.709911</td>\n",
       "      <td>1042.0</td>\n",
       "    </tr>\n",
       "    <tr>\n",
       "      <th>macro avg</th>\n",
       "      <td>0.829644</td>\n",
       "      <td>0.572771</td>\n",
       "      <td>0.657647</td>\n",
       "      <td>1042.0</td>\n",
       "    </tr>\n",
       "    <tr>\n",
       "      <th>micro avg</th>\n",
       "      <td>0.851091</td>\n",
       "      <td>0.636276</td>\n",
       "      <td>0.728171</td>\n",
       "      <td>1042.0</td>\n",
       "    </tr>\n",
       "  </tbody>\n",
       "</table>\n",
       "</div>"
      ],
      "text/plain": [
       "              precision    recall  f1-score  support\n",
       "samples avg    0.793125  0.702083  0.725250   1042.0\n",
       "weighted avg   0.851322  0.636276  0.709911   1042.0\n",
       "macro avg      0.829644  0.572771  0.657647   1042.0\n",
       "micro avg      0.851091  0.636276  0.728171   1042.0"
      ]
     },
     "execution_count": 78,
     "metadata": {},
     "output_type": "execute_result"
    }
   ],
   "source": [
    "w2v_report = pd.DataFrame(classification_report(\n",
    "    w2v_test_label,\n",
    "    w2v_pred_proba,\n",
    "    output_dict=True,\n",
    "    target_names=tags_list,\n",
    "    zero_division=0\n",
    ")).T\n",
    "\n",
    "avg_index = ['samples avg', 'weighted avg','macro avg', 'micro avg' ]\n",
    "w2v_avg_report = w2v_report.loc[avg_index]\n",
    "w2v_avg_report"
   ]
  },
  {
   "cell_type": "code",
   "execution_count": 88,
   "metadata": {
    "scrolled": true
   },
   "outputs": [
    {
     "data": {
      "text/html": [
       "<div>\n",
       "<style scoped>\n",
       "    .dataframe tbody tr th:only-of-type {\n",
       "        vertical-align: middle;\n",
       "    }\n",
       "\n",
       "    .dataframe tbody tr th {\n",
       "        vertical-align: top;\n",
       "    }\n",
       "\n",
       "    .dataframe thead th {\n",
       "        text-align: right;\n",
       "    }\n",
       "</style>\n",
       "<table border=\"1\" class=\"dataframe\">\n",
       "  <thead>\n",
       "    <tr style=\"text-align: right;\">\n",
       "      <th></th>\n",
       "      <th>precision</th>\n",
       "      <th>recall</th>\n",
       "      <th>f1-score</th>\n",
       "      <th>support</th>\n",
       "    </tr>\n",
       "  </thead>\n",
       "  <tbody>\n",
       "    <tr>\n",
       "      <th>mysql</th>\n",
       "      <td>0.904255</td>\n",
       "      <td>0.833333</td>\n",
       "      <td>0.867347</td>\n",
       "      <td>102.0</td>\n",
       "    </tr>\n",
       "    <tr>\n",
       "      <th>php</th>\n",
       "      <td>0.682353</td>\n",
       "      <td>0.698795</td>\n",
       "      <td>0.690476</td>\n",
       "      <td>83.0</td>\n",
       "    </tr>\n",
       "    <tr>\n",
       "      <th>django</th>\n",
       "      <td>0.943662</td>\n",
       "      <td>0.858974</td>\n",
       "      <td>0.899329</td>\n",
       "      <td>78.0</td>\n",
       "    </tr>\n",
       "    <tr>\n",
       "      <th>linux</th>\n",
       "      <td>0.918367</td>\n",
       "      <td>0.584416</td>\n",
       "      <td>0.714286</td>\n",
       "      <td>77.0</td>\n",
       "    </tr>\n",
       "    <tr>\n",
       "      <th>c#</th>\n",
       "      <td>0.949153</td>\n",
       "      <td>0.875000</td>\n",
       "      <td>0.910569</td>\n",
       "      <td>64.0</td>\n",
       "    </tr>\n",
       "    <tr>\n",
       "      <th>ios</th>\n",
       "      <td>0.829787</td>\n",
       "      <td>0.829787</td>\n",
       "      <td>0.829787</td>\n",
       "      <td>47.0</td>\n",
       "    </tr>\n",
       "    <tr>\n",
       "      <th>python</th>\n",
       "      <td>0.705882</td>\n",
       "      <td>0.292683</td>\n",
       "      <td>0.413793</td>\n",
       "      <td>41.0</td>\n",
       "    </tr>\n",
       "    <tr>\n",
       "      <th>sql</th>\n",
       "      <td>0.850000</td>\n",
       "      <td>0.472222</td>\n",
       "      <td>0.607143</td>\n",
       "      <td>36.0</td>\n",
       "    </tr>\n",
       "    <tr>\n",
       "      <th>ruby</th>\n",
       "      <td>0.896552</td>\n",
       "      <td>0.764706</td>\n",
       "      <td>0.825397</td>\n",
       "      <td>34.0</td>\n",
       "    </tr>\n",
       "    <tr>\n",
       "      <th>html</th>\n",
       "      <td>0.933333</td>\n",
       "      <td>0.424242</td>\n",
       "      <td>0.583333</td>\n",
       "      <td>33.0</td>\n",
       "    </tr>\n",
       "    <tr>\n",
       "      <th>asp.net</th>\n",
       "      <td>0.875000</td>\n",
       "      <td>0.724138</td>\n",
       "      <td>0.792453</td>\n",
       "      <td>29.0</td>\n",
       "    </tr>\n",
       "    <tr>\n",
       "      <th>iphone</th>\n",
       "      <td>0.566667</td>\n",
       "      <td>0.586207</td>\n",
       "      <td>0.576271</td>\n",
       "      <td>29.0</td>\n",
       "    </tr>\n",
       "    <tr>\n",
       "      <th>objective-c</th>\n",
       "      <td>0.857143</td>\n",
       "      <td>0.206897</td>\n",
       "      <td>0.333333</td>\n",
       "      <td>29.0</td>\n",
       "    </tr>\n",
       "    <tr>\n",
       "      <th>jquery</th>\n",
       "      <td>0.900000</td>\n",
       "      <td>0.692308</td>\n",
       "      <td>0.782609</td>\n",
       "      <td>26.0</td>\n",
       "    </tr>\n",
       "    <tr>\n",
       "      <th>asp.net-mvc</th>\n",
       "      <td>0.736842</td>\n",
       "      <td>0.538462</td>\n",
       "      <td>0.622222</td>\n",
       "      <td>26.0</td>\n",
       "    </tr>\n",
       "    <tr>\n",
       "      <th>node.js</th>\n",
       "      <td>1.000000</td>\n",
       "      <td>0.346154</td>\n",
       "      <td>0.514286</td>\n",
       "      <td>26.0</td>\n",
       "    </tr>\n",
       "    <tr>\n",
       "      <th>string</th>\n",
       "      <td>0.952381</td>\n",
       "      <td>0.800000</td>\n",
       "      <td>0.869565</td>\n",
       "      <td>25.0</td>\n",
       "    </tr>\n",
       "    <tr>\n",
       "      <th>java</th>\n",
       "      <td>0.785714</td>\n",
       "      <td>0.550000</td>\n",
       "      <td>0.647059</td>\n",
       "      <td>20.0</td>\n",
       "    </tr>\n",
       "    <tr>\n",
       "      <th>r</th>\n",
       "      <td>0.875000</td>\n",
       "      <td>0.350000</td>\n",
       "      <td>0.500000</td>\n",
       "      <td>20.0</td>\n",
       "    </tr>\n",
       "    <tr>\n",
       "      <th>ruby-on-rails</th>\n",
       "      <td>0.812500</td>\n",
       "      <td>0.650000</td>\n",
       "      <td>0.722222</td>\n",
       "      <td>20.0</td>\n",
       "    </tr>\n",
       "    <tr>\n",
       "      <th>git</th>\n",
       "      <td>0.944444</td>\n",
       "      <td>0.894737</td>\n",
       "      <td>0.918919</td>\n",
       "      <td>19.0</td>\n",
       "    </tr>\n",
       "    <tr>\n",
       "      <th>bash</th>\n",
       "      <td>1.000000</td>\n",
       "      <td>0.722222</td>\n",
       "      <td>0.838710</td>\n",
       "      <td>18.0</td>\n",
       "    </tr>\n",
       "    <tr>\n",
       "      <th>arrays</th>\n",
       "      <td>1.000000</td>\n",
       "      <td>0.666667</td>\n",
       "      <td>0.800000</td>\n",
       "      <td>18.0</td>\n",
       "    </tr>\n",
       "    <tr>\n",
       "      <th>css</th>\n",
       "      <td>0.857143</td>\n",
       "      <td>0.352941</td>\n",
       "      <td>0.500000</td>\n",
       "      <td>17.0</td>\n",
       "    </tr>\n",
       "    <tr>\n",
       "      <th>.net</th>\n",
       "      <td>0.900000</td>\n",
       "      <td>0.600000</td>\n",
       "      <td>0.720000</td>\n",
       "      <td>15.0</td>\n",
       "    </tr>\n",
       "    <tr>\n",
       "      <th>windows</th>\n",
       "      <td>1.000000</td>\n",
       "      <td>0.428571</td>\n",
       "      <td>0.600000</td>\n",
       "      <td>14.0</td>\n",
       "    </tr>\n",
       "    <tr>\n",
       "      <th>sql-server</th>\n",
       "      <td>1.000000</td>\n",
       "      <td>0.583333</td>\n",
       "      <td>0.736842</td>\n",
       "      <td>12.0</td>\n",
       "    </tr>\n",
       "    <tr>\n",
       "      <th>c++</th>\n",
       "      <td>0.750000</td>\n",
       "      <td>0.500000</td>\n",
       "      <td>0.600000</td>\n",
       "      <td>12.0</td>\n",
       "    </tr>\n",
       "    <tr>\n",
       "      <th>database</th>\n",
       "      <td>0.666667</td>\n",
       "      <td>0.166667</td>\n",
       "      <td>0.266667</td>\n",
       "      <td>12.0</td>\n",
       "    </tr>\n",
       "    <tr>\n",
       "      <th>android</th>\n",
       "      <td>1.000000</td>\n",
       "      <td>0.454545</td>\n",
       "      <td>0.625000</td>\n",
       "      <td>11.0</td>\n",
       "    </tr>\n",
       "    <tr>\n",
       "      <th>performance</th>\n",
       "      <td>0.833333</td>\n",
       "      <td>0.454545</td>\n",
       "      <td>0.588235</td>\n",
       "      <td>11.0</td>\n",
       "    </tr>\n",
       "    <tr>\n",
       "      <th>algorithm</th>\n",
       "      <td>0.000000</td>\n",
       "      <td>0.000000</td>\n",
       "      <td>0.000000</td>\n",
       "      <td>10.0</td>\n",
       "    </tr>\n",
       "    <tr>\n",
       "      <th>json</th>\n",
       "      <td>0.636364</td>\n",
       "      <td>0.700000</td>\n",
       "      <td>0.666667</td>\n",
       "      <td>10.0</td>\n",
       "    </tr>\n",
       "    <tr>\n",
       "      <th>javascript</th>\n",
       "      <td>0.600000</td>\n",
       "      <td>0.666667</td>\n",
       "      <td>0.631579</td>\n",
       "      <td>9.0</td>\n",
       "    </tr>\n",
       "    <tr>\n",
       "      <th>c</th>\n",
       "      <td>0.875000</td>\n",
       "      <td>0.777778</td>\n",
       "      <td>0.823529</td>\n",
       "      <td>9.0</td>\n",
       "    </tr>\n",
       "  </tbody>\n",
       "</table>\n",
       "</div>"
      ],
      "text/plain": [
       "               precision    recall  f1-score  support\n",
       "mysql           0.904255  0.833333  0.867347    102.0\n",
       "php             0.682353  0.698795  0.690476     83.0\n",
       "django          0.943662  0.858974  0.899329     78.0\n",
       "linux           0.918367  0.584416  0.714286     77.0\n",
       "c#              0.949153  0.875000  0.910569     64.0\n",
       "ios             0.829787  0.829787  0.829787     47.0\n",
       "python          0.705882  0.292683  0.413793     41.0\n",
       "sql             0.850000  0.472222  0.607143     36.0\n",
       "ruby            0.896552  0.764706  0.825397     34.0\n",
       "html            0.933333  0.424242  0.583333     33.0\n",
       "asp.net         0.875000  0.724138  0.792453     29.0\n",
       "iphone          0.566667  0.586207  0.576271     29.0\n",
       "objective-c     0.857143  0.206897  0.333333     29.0\n",
       "jquery          0.900000  0.692308  0.782609     26.0\n",
       "asp.net-mvc     0.736842  0.538462  0.622222     26.0\n",
       "node.js         1.000000  0.346154  0.514286     26.0\n",
       "string          0.952381  0.800000  0.869565     25.0\n",
       "java            0.785714  0.550000  0.647059     20.0\n",
       "r               0.875000  0.350000  0.500000     20.0\n",
       "ruby-on-rails   0.812500  0.650000  0.722222     20.0\n",
       "git             0.944444  0.894737  0.918919     19.0\n",
       "bash            1.000000  0.722222  0.838710     18.0\n",
       "arrays          1.000000  0.666667  0.800000     18.0\n",
       "css             0.857143  0.352941  0.500000     17.0\n",
       ".net            0.900000  0.600000  0.720000     15.0\n",
       "windows         1.000000  0.428571  0.600000     14.0\n",
       "sql-server      1.000000  0.583333  0.736842     12.0\n",
       "c++             0.750000  0.500000  0.600000     12.0\n",
       "database        0.666667  0.166667  0.266667     12.0\n",
       "android         1.000000  0.454545  0.625000     11.0\n",
       "performance     0.833333  0.454545  0.588235     11.0\n",
       "algorithm       0.000000  0.000000  0.000000     10.0\n",
       "json            0.636364  0.700000  0.666667     10.0\n",
       "javascript      0.600000  0.666667  0.631579      9.0\n",
       "c               0.875000  0.777778  0.823529      9.0"
      ]
     },
     "execution_count": 88,
     "metadata": {},
     "output_type": "execute_result"
    }
   ],
   "source": [
    "w2v_clf_report = w2v_report[~w2v_report.index.isin(w2v_avg_report.index)]\n",
    "w2v_clf_report.sort_values(by='support', ascending=False)"
   ]
  },
  {
   "cell_type": "markdown",
   "metadata": {},
   "source": [
    "# <font color=\"blue\" id=section_5> 5. Modélisation via Transfer Learning. </font>"
   ]
  },
  {
   "cell_type": "markdown",
   "metadata": {},
   "source": [
    "Ici, nous utilisons la colonne `Body_pc` qui contient les ponctuations."
   ]
  },
  {
   "cell_type": "code",
   "execution_count": 94,
   "metadata": {},
   "outputs": [],
   "source": [
    "body = 'Body_pc'"
   ]
  },
  {
   "cell_type": "code",
   "execution_count": 95,
   "metadata": {},
   "outputs": [
    {
     "name": "stdout",
     "output_type": "stream",
     "text": [
      "Shape of x train: (31024,)\n",
      "Shape of y train: (31024, 35)\n"
     ]
    }
   ],
   "source": [
    "tl_train_feats = train_df[body] #.apply(lambda x: x.split(\" \")).copy()\n",
    "print(\"Shape of x train: {}\".format(tl_train_feats.shape))\n",
    "\n",
    "tl_train_label = train_label_bin.copy()\n",
    "print(\"Shape of y train: {}\".format(tl_train_label.shape))"
   ]
  },
  {
   "cell_type": "code",
   "execution_count": 96,
   "metadata": {
    "scrolled": true
   },
   "outputs": [
    {
     "name": "stdout",
     "output_type": "stream",
     "text": [
      "Shape of x test: (800,)\n",
      "Shape of y test: (800, 35)\n"
     ]
    }
   ],
   "source": [
    "tl_test_feats = test_df[body] #.apply(lambda x: x.split(\" \")) \n",
    "print(\"Shape of x test: {}\".format(tl_test_feats.shape))\n",
    "\n",
    "tl_test_label = test_label_bin.copy()\n",
    "print(\"Shape of y test: {}\".format(tl_test_label.shape))"
   ]
  },
  {
   "cell_type": "code",
   "execution_count": 97,
   "metadata": {},
   "outputs": [
    {
     "name": "stdout",
     "output_type": "stream",
     "text": [
      "Shape of x eval: (820,)\n",
      "Shape of y eval: (820, 35)\n"
     ]
    }
   ],
   "source": [
    "tl_eval_feats = eval_df[body] #.apply(lambda x: x.split(\" \")) \n",
    "print(\"Shape of x eval: {}\".format(tl_eval_feats.shape))\n",
    "\n",
    "tl_eval_label = eval_label_bin.copy()\n",
    "print(\"Shape of y eval: {}\".format(tl_eval_label.shape))"
   ]
  },
  {
   "cell_type": "markdown",
   "metadata": {},
   "source": [
    "# <font color=\"blue\" id=section_5_1> 5.1 Suggestion avec le modèle BERT. </font>"
   ]
  },
  {
   "cell_type": "code",
   "execution_count": 90,
   "metadata": {},
   "outputs": [],
   "source": [
    "import tensorflow_hub as hub\n",
    "import tensorflow_text as text\n",
    "\n",
    "bert_preprocess = hub.KerasLayer(\"https://tfhub.dev/tensorflow/bert_en_uncased_preprocess/3\")\n",
    "bert_encoder = hub.KerasLayer(\"https://tfhub.dev/tensorflow/bert_en_uncased_L-12_H-768_A-12/4\", trainable=True)"
   ]
  },
  {
   "cell_type": "code",
   "execution_count": 91,
   "metadata": {},
   "outputs": [
    {
     "name": "stdout",
     "output_type": "stream",
     "text": [
      "Model: \"model_1\"\n",
      "__________________________________________________________________________________________________\n",
      " Layer (type)                   Output Shape         Param #     Connected to                     \n",
      "==================================================================================================\n",
      " input_2 (InputLayer)           [(None,)]            0           []                               \n",
      "                                                                                                  \n",
      " keras_layer (KerasLayer)       {'input_word_ids':   0           ['input_2[0][0]']                \n",
      "                                (None, 128),                                                      \n",
      "                                 'input_mask': (Non                                               \n",
      "                                e, 128),                                                          \n",
      "                                 'input_type_ids':                                                \n",
      "                                (None, 128)}                                                      \n",
      "                                                                                                  \n",
      " keras_layer_1 (KerasLayer)     {'pooled_output': (  109482241   ['keras_layer[0][0]',            \n",
      "                                None, 768),                       'keras_layer[0][1]',            \n",
      "                                 'default': (None,                'keras_layer[0][2]']            \n",
      "                                768),                                                             \n",
      "                                 'sequence_output':                                               \n",
      "                                 (None, 128, 768),                                                \n",
      "                                 'encoder_outputs':                                               \n",
      "                                 [(None, 128, 768),                                               \n",
      "                                 (None, 128, 768),                                                \n",
      "                                 (None, 128, 768),                                                \n",
      "                                 (None, 128, 768),                                                \n",
      "                                 (None, 128, 768),                                                \n",
      "                                 (None, 128, 768),                                                \n",
      "                                 (None, 128, 768),                                                \n",
      "                                 (None, 128, 768),                                                \n",
      "                                 (None, 128, 768),                                                \n",
      "                                 (None, 128, 768),                                                \n",
      "                                 (None, 128, 768),                                                \n",
      "                                 (None, 128, 768)]}                                               \n",
      "                                                                                                  \n",
      " global_average_pooling1d_1 (Gl  (None, 768)         0           ['keras_layer_1[0][14]']         \n",
      " obalAveragePooling1D)                                                                            \n",
      "                                                                                                  \n",
      " dense_1 (Dense)                (None, 128)          98432       ['global_average_pooling1d_1[0][0\n",
      "                                                                 ]']                              \n",
      "                                                                                                  \n",
      " dropout_1 (Dropout)            (None, 128)          0           ['dense_1[0][0]']                \n",
      "                                                                                                  \n",
      " dense_2 (Dense)                (None, 35)           4515        ['dropout_1[0][0]']              \n",
      "                                                                                                  \n",
      "==================================================================================================\n",
      "Total params: 109,585,188\n",
      "Trainable params: 109,585,187\n",
      "Non-trainable params: 1\n",
      "__________________________________________________________________________________________________\n"
     ]
    }
   ],
   "source": [
    "# Bert input\n",
    "text_input        = tf.keras.layers.Input(shape=(), dtype=tf.string)\n",
    "preprocessed_text = bert_preprocess(text_input)\n",
    "encoded_text      = bert_encoder(preprocessed_text)\n",
    "sequence_output   = encoded_text['sequence_output']\n",
    "\n",
    "# Neural network layers\n",
    "b  = tf.keras.layers.GlobalAveragePooling1D()(sequence_output)\n",
    "b = tf.keras.layers.Dense(128, activation='relu')(b)\n",
    "b = tf.keras.layers.Dropout(0.3)(b)\n",
    "b_out = tf.keras.layers.Dense(nbr_tags, activation='softmax')(b)\n",
    "\n",
    "bert_embed_model = tf.keras.Model(inputs=[text_input], outputs = b_out)\n",
    "\n",
    "bert_embed_model.compile(optimizer=tf.keras.optimizers.Adam(2e-6), \n",
    "              loss=tf.keras.losses.BinaryCrossentropy(), \n",
    "              metrics=[tf.keras.metrics.CategoricalAccuracy('accuracy')])\n",
    "\n",
    "\n",
    "bert_embed_model.summary()"
   ]
  },
  {
   "cell_type": "code",
   "execution_count": 92,
   "metadata": {},
   "outputs": [],
   "source": [
    "# #create callback\n",
    "# from keras.callbacks import ModelCheckpoint\n",
    "# filepath = 'best_bert_v4_AR.hdf5'\n",
    "\n",
    "# checkpoint = ModelCheckpoint(filepath=filepath, \n",
    "#                              monitor='val_loss',\n",
    "#                              verbose=1, \n",
    "#                              save_best_only=True,\n",
    "#                              mode='min')\n",
    "# callbacks = [checkpoint]"
   ]
  },
  {
   "cell_type": "code",
   "execution_count": 98,
   "metadata": {
    "scrolled": true
   },
   "outputs": [
    {
     "name": "stdout",
     "output_type": "stream",
     "text": [
      "Epoch 1/10\n"
     ]
    },
    {
     "ename": "KeyboardInterrupt",
     "evalue": "",
     "output_type": "error",
     "traceback": [
      "\u001b[0;31m---------------------------------------------------------------------------\u001b[0m",
      "\u001b[0;31mKeyboardInterrupt\u001b[0m                         Traceback (most recent call last)",
      "\u001b[0;32m<ipython-input-98-cf30061ad23f>\u001b[0m in \u001b[0;36m<module>\u001b[0;34m\u001b[0m\n\u001b[0;32m----> 1\u001b[0;31m bert_history = bert_embed_model.fit(tl_train_feats, \n\u001b[0m\u001b[1;32m      2\u001b[0m                                     \u001b[0mtl_train_label\u001b[0m\u001b[0;34m,\u001b[0m\u001b[0;34m\u001b[0m\u001b[0;34m\u001b[0m\u001b[0m\n\u001b[1;32m      3\u001b[0m                                     validation_data=[tl_eval_feats, \n\u001b[1;32m      4\u001b[0m                                                     tl_eval_label],\n\u001b[1;32m      5\u001b[0m                                     \u001b[0mbatch_size\u001b[0m\u001b[0;34m=\u001b[0m\u001b[0;36m32\u001b[0m\u001b[0;34m,\u001b[0m\u001b[0;34m\u001b[0m\u001b[0;34m\u001b[0m\u001b[0m\n",
      "\u001b[0;32m~/.local/lib/python3.8/site-packages/keras/utils/traceback_utils.py\u001b[0m in \u001b[0;36merror_handler\u001b[0;34m(*args, **kwargs)\u001b[0m\n\u001b[1;32m     62\u001b[0m     \u001b[0mfiltered_tb\u001b[0m \u001b[0;34m=\u001b[0m \u001b[0;32mNone\u001b[0m\u001b[0;34m\u001b[0m\u001b[0;34m\u001b[0m\u001b[0m\n\u001b[1;32m     63\u001b[0m     \u001b[0;32mtry\u001b[0m\u001b[0;34m:\u001b[0m\u001b[0;34m\u001b[0m\u001b[0;34m\u001b[0m\u001b[0m\n\u001b[0;32m---> 64\u001b[0;31m       \u001b[0;32mreturn\u001b[0m \u001b[0mfn\u001b[0m\u001b[0;34m(\u001b[0m\u001b[0;34m*\u001b[0m\u001b[0margs\u001b[0m\u001b[0;34m,\u001b[0m \u001b[0;34m**\u001b[0m\u001b[0mkwargs\u001b[0m\u001b[0;34m)\u001b[0m\u001b[0;34m\u001b[0m\u001b[0;34m\u001b[0m\u001b[0m\n\u001b[0m\u001b[1;32m     65\u001b[0m     \u001b[0;32mexcept\u001b[0m \u001b[0mException\u001b[0m \u001b[0;32mas\u001b[0m \u001b[0me\u001b[0m\u001b[0;34m:\u001b[0m  \u001b[0;31m# pylint: disable=broad-except\u001b[0m\u001b[0;34m\u001b[0m\u001b[0;34m\u001b[0m\u001b[0m\n\u001b[1;32m     66\u001b[0m       \u001b[0mfiltered_tb\u001b[0m \u001b[0;34m=\u001b[0m \u001b[0m_process_traceback_frames\u001b[0m\u001b[0;34m(\u001b[0m\u001b[0me\u001b[0m\u001b[0;34m.\u001b[0m\u001b[0m__traceback__\u001b[0m\u001b[0;34m)\u001b[0m\u001b[0;34m\u001b[0m\u001b[0;34m\u001b[0m\u001b[0m\n",
      "\u001b[0;32m~/.local/lib/python3.8/site-packages/keras/engine/training.py\u001b[0m in \u001b[0;36mfit\u001b[0;34m(self, x, y, batch_size, epochs, verbose, callbacks, validation_split, validation_data, shuffle, class_weight, sample_weight, initial_epoch, steps_per_epoch, validation_steps, validation_batch_size, validation_freq, max_queue_size, workers, use_multiprocessing)\u001b[0m\n\u001b[1;32m   1407\u001b[0m                 _r=1):\n\u001b[1;32m   1408\u001b[0m               \u001b[0mcallbacks\u001b[0m\u001b[0;34m.\u001b[0m\u001b[0mon_train_batch_begin\u001b[0m\u001b[0;34m(\u001b[0m\u001b[0mstep\u001b[0m\u001b[0;34m)\u001b[0m\u001b[0;34m\u001b[0m\u001b[0;34m\u001b[0m\u001b[0m\n\u001b[0;32m-> 1409\u001b[0;31m               \u001b[0mtmp_logs\u001b[0m \u001b[0;34m=\u001b[0m \u001b[0mself\u001b[0m\u001b[0;34m.\u001b[0m\u001b[0mtrain_function\u001b[0m\u001b[0;34m(\u001b[0m\u001b[0miterator\u001b[0m\u001b[0;34m)\u001b[0m\u001b[0;34m\u001b[0m\u001b[0;34m\u001b[0m\u001b[0m\n\u001b[0m\u001b[1;32m   1410\u001b[0m               \u001b[0;32mif\u001b[0m \u001b[0mdata_handler\u001b[0m\u001b[0;34m.\u001b[0m\u001b[0mshould_sync\u001b[0m\u001b[0;34m:\u001b[0m\u001b[0;34m\u001b[0m\u001b[0;34m\u001b[0m\u001b[0m\n\u001b[1;32m   1411\u001b[0m                 \u001b[0mcontext\u001b[0m\u001b[0;34m.\u001b[0m\u001b[0masync_wait\u001b[0m\u001b[0;34m(\u001b[0m\u001b[0;34m)\u001b[0m\u001b[0;34m\u001b[0m\u001b[0;34m\u001b[0m\u001b[0m\n",
      "\u001b[0;32m~/.local/lib/python3.8/site-packages/tensorflow/python/util/traceback_utils.py\u001b[0m in \u001b[0;36merror_handler\u001b[0;34m(*args, **kwargs)\u001b[0m\n\u001b[1;32m    148\u001b[0m     \u001b[0mfiltered_tb\u001b[0m \u001b[0;34m=\u001b[0m \u001b[0;32mNone\u001b[0m\u001b[0;34m\u001b[0m\u001b[0;34m\u001b[0m\u001b[0m\n\u001b[1;32m    149\u001b[0m     \u001b[0;32mtry\u001b[0m\u001b[0;34m:\u001b[0m\u001b[0;34m\u001b[0m\u001b[0;34m\u001b[0m\u001b[0m\n\u001b[0;32m--> 150\u001b[0;31m       \u001b[0;32mreturn\u001b[0m \u001b[0mfn\u001b[0m\u001b[0;34m(\u001b[0m\u001b[0;34m*\u001b[0m\u001b[0margs\u001b[0m\u001b[0;34m,\u001b[0m \u001b[0;34m**\u001b[0m\u001b[0mkwargs\u001b[0m\u001b[0;34m)\u001b[0m\u001b[0;34m\u001b[0m\u001b[0;34m\u001b[0m\u001b[0m\n\u001b[0m\u001b[1;32m    151\u001b[0m     \u001b[0;32mexcept\u001b[0m \u001b[0mException\u001b[0m \u001b[0;32mas\u001b[0m \u001b[0me\u001b[0m\u001b[0;34m:\u001b[0m\u001b[0;34m\u001b[0m\u001b[0;34m\u001b[0m\u001b[0m\n\u001b[1;32m    152\u001b[0m       \u001b[0mfiltered_tb\u001b[0m \u001b[0;34m=\u001b[0m \u001b[0m_process_traceback_frames\u001b[0m\u001b[0;34m(\u001b[0m\u001b[0me\u001b[0m\u001b[0;34m.\u001b[0m\u001b[0m__traceback__\u001b[0m\u001b[0;34m)\u001b[0m\u001b[0;34m\u001b[0m\u001b[0;34m\u001b[0m\u001b[0m\n",
      "\u001b[0;32m~/.local/lib/python3.8/site-packages/tensorflow/python/eager/def_function.py\u001b[0m in \u001b[0;36m__call__\u001b[0;34m(self, *args, **kwds)\u001b[0m\n\u001b[1;32m    913\u001b[0m \u001b[0;34m\u001b[0m\u001b[0m\n\u001b[1;32m    914\u001b[0m       \u001b[0;32mwith\u001b[0m \u001b[0mOptionalXlaContext\u001b[0m\u001b[0;34m(\u001b[0m\u001b[0mself\u001b[0m\u001b[0;34m.\u001b[0m\u001b[0m_jit_compile\u001b[0m\u001b[0;34m)\u001b[0m\u001b[0;34m:\u001b[0m\u001b[0;34m\u001b[0m\u001b[0;34m\u001b[0m\u001b[0m\n\u001b[0;32m--> 915\u001b[0;31m         \u001b[0mresult\u001b[0m \u001b[0;34m=\u001b[0m \u001b[0mself\u001b[0m\u001b[0;34m.\u001b[0m\u001b[0m_call\u001b[0m\u001b[0;34m(\u001b[0m\u001b[0;34m*\u001b[0m\u001b[0margs\u001b[0m\u001b[0;34m,\u001b[0m \u001b[0;34m**\u001b[0m\u001b[0mkwds\u001b[0m\u001b[0;34m)\u001b[0m\u001b[0;34m\u001b[0m\u001b[0;34m\u001b[0m\u001b[0m\n\u001b[0m\u001b[1;32m    916\u001b[0m \u001b[0;34m\u001b[0m\u001b[0m\n\u001b[1;32m    917\u001b[0m       \u001b[0mnew_tracing_count\u001b[0m \u001b[0;34m=\u001b[0m \u001b[0mself\u001b[0m\u001b[0;34m.\u001b[0m\u001b[0mexperimental_get_tracing_count\u001b[0m\u001b[0;34m(\u001b[0m\u001b[0;34m)\u001b[0m\u001b[0;34m\u001b[0m\u001b[0;34m\u001b[0m\u001b[0m\n",
      "\u001b[0;32m~/.local/lib/python3.8/site-packages/tensorflow/python/eager/def_function.py\u001b[0m in \u001b[0;36m_call\u001b[0;34m(self, *args, **kwds)\u001b[0m\n\u001b[1;32m    978\u001b[0m         \u001b[0;31m# Lifting succeeded, so variables are initialized and we can run the\u001b[0m\u001b[0;34m\u001b[0m\u001b[0;34m\u001b[0m\u001b[0;34m\u001b[0m\u001b[0m\n\u001b[1;32m    979\u001b[0m         \u001b[0;31m# stateless function.\u001b[0m\u001b[0;34m\u001b[0m\u001b[0;34m\u001b[0m\u001b[0;34m\u001b[0m\u001b[0m\n\u001b[0;32m--> 980\u001b[0;31m         \u001b[0;32mreturn\u001b[0m \u001b[0mself\u001b[0m\u001b[0;34m.\u001b[0m\u001b[0m_stateless_fn\u001b[0m\u001b[0;34m(\u001b[0m\u001b[0;34m*\u001b[0m\u001b[0margs\u001b[0m\u001b[0;34m,\u001b[0m \u001b[0;34m**\u001b[0m\u001b[0mkwds\u001b[0m\u001b[0;34m)\u001b[0m\u001b[0;34m\u001b[0m\u001b[0;34m\u001b[0m\u001b[0m\n\u001b[0m\u001b[1;32m    981\u001b[0m     \u001b[0;32melse\u001b[0m\u001b[0;34m:\u001b[0m\u001b[0;34m\u001b[0m\u001b[0;34m\u001b[0m\u001b[0m\n\u001b[1;32m    982\u001b[0m       _, _, filtered_flat_args = (\n",
      "\u001b[0;32m~/.local/lib/python3.8/site-packages/tensorflow/python/eager/function.py\u001b[0m in \u001b[0;36m__call__\u001b[0;34m(self, *args, **kwargs)\u001b[0m\n\u001b[1;32m   2451\u001b[0m       (graph_function,\n\u001b[1;32m   2452\u001b[0m        filtered_flat_args) = self._maybe_define_function(args, kwargs)\n\u001b[0;32m-> 2453\u001b[0;31m     return graph_function._call_flat(\n\u001b[0m\u001b[1;32m   2454\u001b[0m         filtered_flat_args, captured_inputs=graph_function.captured_inputs)  # pylint: disable=protected-access\n\u001b[1;32m   2455\u001b[0m \u001b[0;34m\u001b[0m\u001b[0m\n",
      "\u001b[0;32m~/.local/lib/python3.8/site-packages/tensorflow/python/eager/function.py\u001b[0m in \u001b[0;36m_call_flat\u001b[0;34m(self, args, captured_inputs, cancellation_manager)\u001b[0m\n\u001b[1;32m   1858\u001b[0m         and executing_eagerly):\n\u001b[1;32m   1859\u001b[0m       \u001b[0;31m# No tape is watching; skip to running the function.\u001b[0m\u001b[0;34m\u001b[0m\u001b[0;34m\u001b[0m\u001b[0;34m\u001b[0m\u001b[0m\n\u001b[0;32m-> 1860\u001b[0;31m       return self._build_call_outputs(self._inference_function.call(\n\u001b[0m\u001b[1;32m   1861\u001b[0m           ctx, args, cancellation_manager=cancellation_manager))\n\u001b[1;32m   1862\u001b[0m     forward_backward = self._select_forward_and_backward_functions(\n",
      "\u001b[0;32m~/.local/lib/python3.8/site-packages/tensorflow/python/eager/function.py\u001b[0m in \u001b[0;36mcall\u001b[0;34m(self, ctx, args, cancellation_manager)\u001b[0m\n\u001b[1;32m    495\u001b[0m       \u001b[0;32mwith\u001b[0m \u001b[0m_InterpolateFunctionError\u001b[0m\u001b[0;34m(\u001b[0m\u001b[0mself\u001b[0m\u001b[0;34m)\u001b[0m\u001b[0;34m:\u001b[0m\u001b[0;34m\u001b[0m\u001b[0;34m\u001b[0m\u001b[0m\n\u001b[1;32m    496\u001b[0m         \u001b[0;32mif\u001b[0m \u001b[0mcancellation_manager\u001b[0m \u001b[0;32mis\u001b[0m \u001b[0;32mNone\u001b[0m\u001b[0;34m:\u001b[0m\u001b[0;34m\u001b[0m\u001b[0;34m\u001b[0m\u001b[0m\n\u001b[0;32m--> 497\u001b[0;31m           outputs = execute.execute(\n\u001b[0m\u001b[1;32m    498\u001b[0m               \u001b[0mstr\u001b[0m\u001b[0;34m(\u001b[0m\u001b[0mself\u001b[0m\u001b[0;34m.\u001b[0m\u001b[0msignature\u001b[0m\u001b[0;34m.\u001b[0m\u001b[0mname\u001b[0m\u001b[0;34m)\u001b[0m\u001b[0;34m,\u001b[0m\u001b[0;34m\u001b[0m\u001b[0;34m\u001b[0m\u001b[0m\n\u001b[1;32m    499\u001b[0m               \u001b[0mnum_outputs\u001b[0m\u001b[0;34m=\u001b[0m\u001b[0mself\u001b[0m\u001b[0;34m.\u001b[0m\u001b[0m_num_outputs\u001b[0m\u001b[0;34m,\u001b[0m\u001b[0;34m\u001b[0m\u001b[0;34m\u001b[0m\u001b[0m\n",
      "\u001b[0;32m~/.local/lib/python3.8/site-packages/tensorflow/python/eager/execute.py\u001b[0m in \u001b[0;36mquick_execute\u001b[0;34m(op_name, num_outputs, inputs, attrs, ctx, name)\u001b[0m\n\u001b[1;32m     52\u001b[0m   \u001b[0;32mtry\u001b[0m\u001b[0;34m:\u001b[0m\u001b[0;34m\u001b[0m\u001b[0;34m\u001b[0m\u001b[0m\n\u001b[1;32m     53\u001b[0m     \u001b[0mctx\u001b[0m\u001b[0;34m.\u001b[0m\u001b[0mensure_initialized\u001b[0m\u001b[0;34m(\u001b[0m\u001b[0;34m)\u001b[0m\u001b[0;34m\u001b[0m\u001b[0;34m\u001b[0m\u001b[0m\n\u001b[0;32m---> 54\u001b[0;31m     tensors = pywrap_tfe.TFE_Py_Execute(ctx._handle, device_name, op_name,\n\u001b[0m\u001b[1;32m     55\u001b[0m                                         inputs, attrs, num_outputs)\n\u001b[1;32m     56\u001b[0m   \u001b[0;32mexcept\u001b[0m \u001b[0mcore\u001b[0m\u001b[0;34m.\u001b[0m\u001b[0m_NotOkStatusException\u001b[0m \u001b[0;32mas\u001b[0m \u001b[0me\u001b[0m\u001b[0;34m:\u001b[0m\u001b[0;34m\u001b[0m\u001b[0;34m\u001b[0m\u001b[0m\n",
      "\u001b[0;31mKeyboardInterrupt\u001b[0m: "
     ]
    }
   ],
   "source": [
    "bert_history = bert_embed_model.fit(tl_train_feats, \n",
    "                                    tl_train_label,\n",
    "                                    validation_data=[tl_eval_feats, \n",
    "                                                    tl_eval_label],\n",
    "                                    batch_size=32,\n",
    "                                    epochs=10,\n",
    "                        #           callbacks=callbacks\n",
    "                        )"
   ]
  },
  {
   "cell_type": "markdown",
   "metadata": {},
   "source": [
    "## Évaluation du modèle "
   ]
  },
  {
   "cell_type": "code",
   "execution_count": 125,
   "metadata": {},
   "outputs": [
    {
     "ename": "IndexError",
     "evalue": "list index out of range",
     "output_type": "error",
     "traceback": [
      "\u001b[0;31m---------------------------------------------------------------------------\u001b[0m",
      "\u001b[0;31mIndexError\u001b[0m                                Traceback (most recent call last)",
      "\u001b[0;32m<ipython-input-125-fed0cbdd8a18>\u001b[0m in \u001b[0;36m<module>\u001b[0;34m\u001b[0m\n\u001b[0;32m----> 1\u001b[0;31m \u001b[0mplot_model_history\u001b[0m\u001b[0;34m(\u001b[0m\u001b[0mbert_embed_model\u001b[0m\u001b[0;34m)\u001b[0m\u001b[0;34m\u001b[0m\u001b[0;34m\u001b[0m\u001b[0m\n\u001b[0m",
      "\u001b[0;32m<ipython-input-124-47964afa472c>\u001b[0m in \u001b[0;36mplot_model_history\u001b[0;34m(model)\u001b[0m\n\u001b[1;32m      1\u001b[0m \u001b[0;32mdef\u001b[0m \u001b[0mplot_model_history\u001b[0m\u001b[0;34m(\u001b[0m\u001b[0mmodel\u001b[0m\u001b[0;34m)\u001b[0m\u001b[0;34m:\u001b[0m\u001b[0;34m\u001b[0m\u001b[0;34m\u001b[0m\u001b[0m\n\u001b[1;32m      2\u001b[0m \u001b[0;34m\u001b[0m\u001b[0m\n\u001b[0;32m----> 3\u001b[0;31m     \u001b[0macc\u001b[0m      \u001b[0;34m=\u001b[0m \u001b[0mmodel\u001b[0m\u001b[0;34m.\u001b[0m\u001b[0mhistory\u001b[0m\u001b[0;34m.\u001b[0m\u001b[0mhistory\u001b[0m\u001b[0;34m[\u001b[0m\u001b[0mlist\u001b[0m\u001b[0;34m(\u001b[0m\u001b[0mmodel\u001b[0m\u001b[0;34m.\u001b[0m\u001b[0mhistory\u001b[0m\u001b[0;34m.\u001b[0m\u001b[0mhistory\u001b[0m\u001b[0;34m.\u001b[0m\u001b[0mkeys\u001b[0m\u001b[0;34m(\u001b[0m\u001b[0;34m)\u001b[0m\u001b[0;34m)\u001b[0m\u001b[0;34m[\u001b[0m\u001b[0;36m1\u001b[0m\u001b[0;34m]\u001b[0m\u001b[0;34m]\u001b[0m\u001b[0;34m\u001b[0m\u001b[0;34m\u001b[0m\u001b[0m\n\u001b[0m\u001b[1;32m      4\u001b[0m     \u001b[0mval_acc\u001b[0m  \u001b[0;34m=\u001b[0m \u001b[0mmodel\u001b[0m\u001b[0;34m.\u001b[0m\u001b[0mhistory\u001b[0m\u001b[0;34m.\u001b[0m\u001b[0mhistory\u001b[0m\u001b[0;34m[\u001b[0m\u001b[0mlist\u001b[0m\u001b[0;34m(\u001b[0m\u001b[0mmodel\u001b[0m\u001b[0;34m.\u001b[0m\u001b[0mhistory\u001b[0m\u001b[0;34m.\u001b[0m\u001b[0mhistory\u001b[0m\u001b[0;34m.\u001b[0m\u001b[0mkeys\u001b[0m\u001b[0;34m(\u001b[0m\u001b[0;34m)\u001b[0m\u001b[0;34m)\u001b[0m\u001b[0;34m[\u001b[0m\u001b[0;36m3\u001b[0m\u001b[0;34m]\u001b[0m\u001b[0;34m]\u001b[0m\u001b[0;34m\u001b[0m\u001b[0;34m\u001b[0m\u001b[0m\n\u001b[1;32m      5\u001b[0m     \u001b[0mloss\u001b[0m     \u001b[0;34m=\u001b[0m \u001b[0mmodel\u001b[0m\u001b[0;34m.\u001b[0m\u001b[0mhistory\u001b[0m\u001b[0;34m.\u001b[0m\u001b[0mhistory\u001b[0m\u001b[0;34m[\u001b[0m\u001b[0mlist\u001b[0m\u001b[0;34m(\u001b[0m\u001b[0mmodel\u001b[0m\u001b[0;34m.\u001b[0m\u001b[0mhistory\u001b[0m\u001b[0;34m.\u001b[0m\u001b[0mhistory\u001b[0m\u001b[0;34m.\u001b[0m\u001b[0mkeys\u001b[0m\u001b[0;34m(\u001b[0m\u001b[0;34m)\u001b[0m\u001b[0;34m)\u001b[0m\u001b[0;34m[\u001b[0m\u001b[0;36m0\u001b[0m\u001b[0;34m]\u001b[0m\u001b[0;34m]\u001b[0m\u001b[0;34m\u001b[0m\u001b[0;34m\u001b[0m\u001b[0m\n",
      "\u001b[0;31mIndexError\u001b[0m: list index out of range"
     ]
    }
   ],
   "source": [
    "plot_model_history(bert_embed_model)"
   ]
  },
  {
   "cell_type": "code",
   "execution_count": null,
   "metadata": {},
   "outputs": [],
   "source": [
    "bert_embed_model.evaluate(evaluate(tl_test_feats, tl_test_label)"
   ]
  },
  {
   "cell_type": "markdown",
   "metadata": {},
   "source": [
    "## Inférence sur le test set"
   ]
  },
  {
   "cell_type": "code",
   "execution_count": null,
   "metadata": {},
   "outputs": [],
   "source": [
    "bert_pred_proba = bert_embed_model.predict(tl_test_feats)"
   ]
  },
  {
   "cell_type": "code",
   "execution_count": null,
   "metadata": {},
   "outputs": [],
   "source": [
    "tresh = 0.7\n",
    "bert_pred_proba[bert_pred_proba >= tresh] = 1\n",
    "bert_pred_proba[bert_pred_proba < tresh] = 0\n",
    "\n",
    "# Inverse transform\n",
    "bert_pred_inversed = mlb.inverse_transform(bert_pred_proba)\n",
    "bert_test_inversed = mlb.inverse_transform(tl_test_label)\n",
    "\n",
    "pos = randint(0,bert_pred_proba.shape[0])\n",
    "display(test_df.iloc[pos])\n",
    "print()\n",
    "print('predicted label :=', bert_pred_inversed[pos])\n",
    "print('actual label :=',bert_test_inversed[pos])"
   ]
  },
  {
   "cell_type": "markdown",
   "metadata": {},
   "source": [
    "## Évaluation des suggestions"
   ]
  },
  {
   "cell_type": "code",
   "execution_count": 78,
   "metadata": {},
   "outputs": [
    {
     "data": {
      "text/html": [
       "<div>\n",
       "<style scoped>\n",
       "    .dataframe tbody tr th:only-of-type {\n",
       "        vertical-align: middle;\n",
       "    }\n",
       "\n",
       "    .dataframe tbody tr th {\n",
       "        vertical-align: top;\n",
       "    }\n",
       "\n",
       "    .dataframe thead th {\n",
       "        text-align: right;\n",
       "    }\n",
       "</style>\n",
       "<table border=\"1\" class=\"dataframe\">\n",
       "  <thead>\n",
       "    <tr style=\"text-align: right;\">\n",
       "      <th></th>\n",
       "      <th>precision</th>\n",
       "      <th>recall</th>\n",
       "      <th>f1-score</th>\n",
       "      <th>support</th>\n",
       "    </tr>\n",
       "  </thead>\n",
       "  <tbody>\n",
       "    <tr>\n",
       "      <th>samples avg</th>\n",
       "      <td>0.793125</td>\n",
       "      <td>0.702083</td>\n",
       "      <td>0.725250</td>\n",
       "      <td>1042.0</td>\n",
       "    </tr>\n",
       "    <tr>\n",
       "      <th>weighted avg</th>\n",
       "      <td>0.851322</td>\n",
       "      <td>0.636276</td>\n",
       "      <td>0.709911</td>\n",
       "      <td>1042.0</td>\n",
       "    </tr>\n",
       "    <tr>\n",
       "      <th>macro avg</th>\n",
       "      <td>0.829644</td>\n",
       "      <td>0.572771</td>\n",
       "      <td>0.657647</td>\n",
       "      <td>1042.0</td>\n",
       "    </tr>\n",
       "    <tr>\n",
       "      <th>micro avg</th>\n",
       "      <td>0.851091</td>\n",
       "      <td>0.636276</td>\n",
       "      <td>0.728171</td>\n",
       "      <td>1042.0</td>\n",
       "    </tr>\n",
       "  </tbody>\n",
       "</table>\n",
       "</div>"
      ],
      "text/plain": [
       "              precision    recall  f1-score  support\n",
       "samples avg    0.793125  0.702083  0.725250   1042.0\n",
       "weighted avg   0.851322  0.636276  0.709911   1042.0\n",
       "macro avg      0.829644  0.572771  0.657647   1042.0\n",
       "micro avg      0.851091  0.636276  0.728171   1042.0"
      ]
     },
     "execution_count": 78,
     "metadata": {},
     "output_type": "execute_result"
    }
   ],
   "source": [
    "bert_report = pd.DataFrame(classification_report(\n",
    "    bert_test_label,\n",
    "    bert_pred_proba,\n",
    "    output_dict=True,\n",
    "    target_names=tags_list,\n",
    "    zero_division=0\n",
    ")).T\n",
    "\n",
    "bert_avg_report = bert_report.loc[avg_index]\n",
    "bert_avg_report"
   ]
  },
  {
   "cell_type": "code",
   "execution_count": 88,
   "metadata": {
    "scrolled": true
   },
   "outputs": [
    {
     "data": {
      "text/html": [
       "<div>\n",
       "<style scoped>\n",
       "    .dataframe tbody tr th:only-of-type {\n",
       "        vertical-align: middle;\n",
       "    }\n",
       "\n",
       "    .dataframe tbody tr th {\n",
       "        vertical-align: top;\n",
       "    }\n",
       "\n",
       "    .dataframe thead th {\n",
       "        text-align: right;\n",
       "    }\n",
       "</style>\n",
       "<table border=\"1\" class=\"dataframe\">\n",
       "  <thead>\n",
       "    <tr style=\"text-align: right;\">\n",
       "      <th></th>\n",
       "      <th>precision</th>\n",
       "      <th>recall</th>\n",
       "      <th>f1-score</th>\n",
       "      <th>support</th>\n",
       "    </tr>\n",
       "  </thead>\n",
       "  <tbody>\n",
       "    <tr>\n",
       "      <th>mysql</th>\n",
       "      <td>0.904255</td>\n",
       "      <td>0.833333</td>\n",
       "      <td>0.867347</td>\n",
       "      <td>102.0</td>\n",
       "    </tr>\n",
       "    <tr>\n",
       "      <th>php</th>\n",
       "      <td>0.682353</td>\n",
       "      <td>0.698795</td>\n",
       "      <td>0.690476</td>\n",
       "      <td>83.0</td>\n",
       "    </tr>\n",
       "    <tr>\n",
       "      <th>django</th>\n",
       "      <td>0.943662</td>\n",
       "      <td>0.858974</td>\n",
       "      <td>0.899329</td>\n",
       "      <td>78.0</td>\n",
       "    </tr>\n",
       "    <tr>\n",
       "      <th>linux</th>\n",
       "      <td>0.918367</td>\n",
       "      <td>0.584416</td>\n",
       "      <td>0.714286</td>\n",
       "      <td>77.0</td>\n",
       "    </tr>\n",
       "    <tr>\n",
       "      <th>c#</th>\n",
       "      <td>0.949153</td>\n",
       "      <td>0.875000</td>\n",
       "      <td>0.910569</td>\n",
       "      <td>64.0</td>\n",
       "    </tr>\n",
       "    <tr>\n",
       "      <th>ios</th>\n",
       "      <td>0.829787</td>\n",
       "      <td>0.829787</td>\n",
       "      <td>0.829787</td>\n",
       "      <td>47.0</td>\n",
       "    </tr>\n",
       "    <tr>\n",
       "      <th>python</th>\n",
       "      <td>0.705882</td>\n",
       "      <td>0.292683</td>\n",
       "      <td>0.413793</td>\n",
       "      <td>41.0</td>\n",
       "    </tr>\n",
       "    <tr>\n",
       "      <th>sql</th>\n",
       "      <td>0.850000</td>\n",
       "      <td>0.472222</td>\n",
       "      <td>0.607143</td>\n",
       "      <td>36.0</td>\n",
       "    </tr>\n",
       "    <tr>\n",
       "      <th>ruby</th>\n",
       "      <td>0.896552</td>\n",
       "      <td>0.764706</td>\n",
       "      <td>0.825397</td>\n",
       "      <td>34.0</td>\n",
       "    </tr>\n",
       "    <tr>\n",
       "      <th>html</th>\n",
       "      <td>0.933333</td>\n",
       "      <td>0.424242</td>\n",
       "      <td>0.583333</td>\n",
       "      <td>33.0</td>\n",
       "    </tr>\n",
       "    <tr>\n",
       "      <th>asp.net</th>\n",
       "      <td>0.875000</td>\n",
       "      <td>0.724138</td>\n",
       "      <td>0.792453</td>\n",
       "      <td>29.0</td>\n",
       "    </tr>\n",
       "    <tr>\n",
       "      <th>iphone</th>\n",
       "      <td>0.566667</td>\n",
       "      <td>0.586207</td>\n",
       "      <td>0.576271</td>\n",
       "      <td>29.0</td>\n",
       "    </tr>\n",
       "    <tr>\n",
       "      <th>objective-c</th>\n",
       "      <td>0.857143</td>\n",
       "      <td>0.206897</td>\n",
       "      <td>0.333333</td>\n",
       "      <td>29.0</td>\n",
       "    </tr>\n",
       "    <tr>\n",
       "      <th>jquery</th>\n",
       "      <td>0.900000</td>\n",
       "      <td>0.692308</td>\n",
       "      <td>0.782609</td>\n",
       "      <td>26.0</td>\n",
       "    </tr>\n",
       "    <tr>\n",
       "      <th>asp.net-mvc</th>\n",
       "      <td>0.736842</td>\n",
       "      <td>0.538462</td>\n",
       "      <td>0.622222</td>\n",
       "      <td>26.0</td>\n",
       "    </tr>\n",
       "    <tr>\n",
       "      <th>node.js</th>\n",
       "      <td>1.000000</td>\n",
       "      <td>0.346154</td>\n",
       "      <td>0.514286</td>\n",
       "      <td>26.0</td>\n",
       "    </tr>\n",
       "    <tr>\n",
       "      <th>string</th>\n",
       "      <td>0.952381</td>\n",
       "      <td>0.800000</td>\n",
       "      <td>0.869565</td>\n",
       "      <td>25.0</td>\n",
       "    </tr>\n",
       "    <tr>\n",
       "      <th>java</th>\n",
       "      <td>0.785714</td>\n",
       "      <td>0.550000</td>\n",
       "      <td>0.647059</td>\n",
       "      <td>20.0</td>\n",
       "    </tr>\n",
       "    <tr>\n",
       "      <th>r</th>\n",
       "      <td>0.875000</td>\n",
       "      <td>0.350000</td>\n",
       "      <td>0.500000</td>\n",
       "      <td>20.0</td>\n",
       "    </tr>\n",
       "    <tr>\n",
       "      <th>ruby-on-rails</th>\n",
       "      <td>0.812500</td>\n",
       "      <td>0.650000</td>\n",
       "      <td>0.722222</td>\n",
       "      <td>20.0</td>\n",
       "    </tr>\n",
       "    <tr>\n",
       "      <th>git</th>\n",
       "      <td>0.944444</td>\n",
       "      <td>0.894737</td>\n",
       "      <td>0.918919</td>\n",
       "      <td>19.0</td>\n",
       "    </tr>\n",
       "    <tr>\n",
       "      <th>bash</th>\n",
       "      <td>1.000000</td>\n",
       "      <td>0.722222</td>\n",
       "      <td>0.838710</td>\n",
       "      <td>18.0</td>\n",
       "    </tr>\n",
       "    <tr>\n",
       "      <th>arrays</th>\n",
       "      <td>1.000000</td>\n",
       "      <td>0.666667</td>\n",
       "      <td>0.800000</td>\n",
       "      <td>18.0</td>\n",
       "    </tr>\n",
       "    <tr>\n",
       "      <th>css</th>\n",
       "      <td>0.857143</td>\n",
       "      <td>0.352941</td>\n",
       "      <td>0.500000</td>\n",
       "      <td>17.0</td>\n",
       "    </tr>\n",
       "    <tr>\n",
       "      <th>.net</th>\n",
       "      <td>0.900000</td>\n",
       "      <td>0.600000</td>\n",
       "      <td>0.720000</td>\n",
       "      <td>15.0</td>\n",
       "    </tr>\n",
       "    <tr>\n",
       "      <th>windows</th>\n",
       "      <td>1.000000</td>\n",
       "      <td>0.428571</td>\n",
       "      <td>0.600000</td>\n",
       "      <td>14.0</td>\n",
       "    </tr>\n",
       "    <tr>\n",
       "      <th>sql-server</th>\n",
       "      <td>1.000000</td>\n",
       "      <td>0.583333</td>\n",
       "      <td>0.736842</td>\n",
       "      <td>12.0</td>\n",
       "    </tr>\n",
       "    <tr>\n",
       "      <th>c++</th>\n",
       "      <td>0.750000</td>\n",
       "      <td>0.500000</td>\n",
       "      <td>0.600000</td>\n",
       "      <td>12.0</td>\n",
       "    </tr>\n",
       "    <tr>\n",
       "      <th>database</th>\n",
       "      <td>0.666667</td>\n",
       "      <td>0.166667</td>\n",
       "      <td>0.266667</td>\n",
       "      <td>12.0</td>\n",
       "    </tr>\n",
       "    <tr>\n",
       "      <th>android</th>\n",
       "      <td>1.000000</td>\n",
       "      <td>0.454545</td>\n",
       "      <td>0.625000</td>\n",
       "      <td>11.0</td>\n",
       "    </tr>\n",
       "    <tr>\n",
       "      <th>performance</th>\n",
       "      <td>0.833333</td>\n",
       "      <td>0.454545</td>\n",
       "      <td>0.588235</td>\n",
       "      <td>11.0</td>\n",
       "    </tr>\n",
       "    <tr>\n",
       "      <th>algorithm</th>\n",
       "      <td>0.000000</td>\n",
       "      <td>0.000000</td>\n",
       "      <td>0.000000</td>\n",
       "      <td>10.0</td>\n",
       "    </tr>\n",
       "    <tr>\n",
       "      <th>json</th>\n",
       "      <td>0.636364</td>\n",
       "      <td>0.700000</td>\n",
       "      <td>0.666667</td>\n",
       "      <td>10.0</td>\n",
       "    </tr>\n",
       "    <tr>\n",
       "      <th>javascript</th>\n",
       "      <td>0.600000</td>\n",
       "      <td>0.666667</td>\n",
       "      <td>0.631579</td>\n",
       "      <td>9.0</td>\n",
       "    </tr>\n",
       "    <tr>\n",
       "      <th>c</th>\n",
       "      <td>0.875000</td>\n",
       "      <td>0.777778</td>\n",
       "      <td>0.823529</td>\n",
       "      <td>9.0</td>\n",
       "    </tr>\n",
       "  </tbody>\n",
       "</table>\n",
       "</div>"
      ],
      "text/plain": [
       "               precision    recall  f1-score  support\n",
       "mysql           0.904255  0.833333  0.867347    102.0\n",
       "php             0.682353  0.698795  0.690476     83.0\n",
       "django          0.943662  0.858974  0.899329     78.0\n",
       "linux           0.918367  0.584416  0.714286     77.0\n",
       "c#              0.949153  0.875000  0.910569     64.0\n",
       "ios             0.829787  0.829787  0.829787     47.0\n",
       "python          0.705882  0.292683  0.413793     41.0\n",
       "sql             0.850000  0.472222  0.607143     36.0\n",
       "ruby            0.896552  0.764706  0.825397     34.0\n",
       "html            0.933333  0.424242  0.583333     33.0\n",
       "asp.net         0.875000  0.724138  0.792453     29.0\n",
       "iphone          0.566667  0.586207  0.576271     29.0\n",
       "objective-c     0.857143  0.206897  0.333333     29.0\n",
       "jquery          0.900000  0.692308  0.782609     26.0\n",
       "asp.net-mvc     0.736842  0.538462  0.622222     26.0\n",
       "node.js         1.000000  0.346154  0.514286     26.0\n",
       "string          0.952381  0.800000  0.869565     25.0\n",
       "java            0.785714  0.550000  0.647059     20.0\n",
       "r               0.875000  0.350000  0.500000     20.0\n",
       "ruby-on-rails   0.812500  0.650000  0.722222     20.0\n",
       "git             0.944444  0.894737  0.918919     19.0\n",
       "bash            1.000000  0.722222  0.838710     18.0\n",
       "arrays          1.000000  0.666667  0.800000     18.0\n",
       "css             0.857143  0.352941  0.500000     17.0\n",
       ".net            0.900000  0.600000  0.720000     15.0\n",
       "windows         1.000000  0.428571  0.600000     14.0\n",
       "sql-server      1.000000  0.583333  0.736842     12.0\n",
       "c++             0.750000  0.500000  0.600000     12.0\n",
       "database        0.666667  0.166667  0.266667     12.0\n",
       "android         1.000000  0.454545  0.625000     11.0\n",
       "performance     0.833333  0.454545  0.588235     11.0\n",
       "algorithm       0.000000  0.000000  0.000000     10.0\n",
       "json            0.636364  0.700000  0.666667     10.0\n",
       "javascript      0.600000  0.666667  0.631579      9.0\n",
       "c               0.875000  0.777778  0.823529      9.0"
      ]
     },
     "execution_count": 88,
     "metadata": {},
     "output_type": "execute_result"
    }
   ],
   "source": [
    "bert_clf_report = bert_report[~bert_report.index.isin(bert_avg_report.index)]\n",
    "bert_clf_report.sort_values(by='support', ascending=False)"
   ]
  },
  {
   "cell_type": "code",
   "execution_count": null,
   "metadata": {},
   "outputs": [],
   "source": []
  },
  {
   "cell_type": "markdown",
   "metadata": {},
   "source": [
    "# <font color=\"blue\" id=section_5_2> 5.2 Suggestion avec le modèle USE. </font>"
   ]
  },
  {
   "cell_type": "code",
   "execution_count": 85,
   "metadata": {},
   "outputs": [],
   "source": [
    "module_url = 'https://tfhub.dev/google/universal-sentence-encoder-large/5'\n",
    "use_embed = hub.KerasLayer(module_url, trainable=True)"
   ]
  },
  {
   "cell_type": "code",
   "execution_count": 86,
   "metadata": {},
   "outputs": [
    {
     "name": "stdout",
     "output_type": "stream",
     "text": [
      "Model: \"sequential\"\n",
      "_________________________________________________________________\n",
      " Layer (type)                Output Shape              Param #   \n",
      "=================================================================\n",
      " keras_layer_2 (KerasLayer)  (None, 512)               147354880 \n",
      "                                                                 \n",
      " dropout_2 (Dropout)         (None, 512)               0         \n",
      "                                                                 \n",
      " dense_3 (Dense)             (None, 35)                17955     \n",
      "                                                                 \n",
      "=================================================================\n",
      "Total params: 147,372,835\n",
      "Trainable params: 147,372,835\n",
      "Non-trainable params: 0\n",
      "_________________________________________________________________\n"
     ]
    }
   ],
   "source": [
    "def build_model():\n",
    "    \n",
    "    model = keras.Sequential([\n",
    "        keras.Input(shape=[], dtype=tf.string),\n",
    "        use_embed,\n",
    "        keras.layers.Dropout(0.3),\n",
    "        keras.layers.Dense(nbr_tags, activation='softmax')\n",
    "    ])\n",
    "    \n",
    "#     model.compile(optimizer=\"adam\", loss='binary_crossentropy', metrics=['accuracy'])\n",
    "    model.compile(optimizer=tf.keras.optimizers.Adam(5e-4),\n",
    "                  loss=tf.keras.losses.BinaryCrossentropy(), \n",
    "                  metrics=[tf.keras.metrics.CategoricalAccuracy('accuracy')])\n",
    "    \n",
    "    return model\n",
    "\n",
    "use_embed_model = build_model()\n",
    "use_embed_model.summary()"
   ]
  },
  {
   "cell_type": "code",
   "execution_count": null,
   "metadata": {},
   "outputs": [],
   "source": [
    "use_history = use_embed_model.fit(tl_train_feats, \n",
    "                                  tl_train_label,\n",
    "                                  validation_data=[tl_eval_feats, \n",
    "                                                  tl_eval_label],\n",
    "                                  batch_size=256,\n",
    "                                  epochs=10,\n",
    "                        #           callbacks=callbacks\n",
    "                        )"
   ]
  },
  {
   "cell_type": "markdown",
   "metadata": {},
   "source": [
    "## Évaluation du modèle "
   ]
  },
  {
   "cell_type": "code",
   "execution_count": null,
   "metadata": {},
   "outputs": [],
   "source": [
    "plot_model_history(use_embed_model)"
   ]
  },
  {
   "cell_type": "code",
   "execution_count": null,
   "metadata": {},
   "outputs": [],
   "source": [
    "use_embed_model.evaluate(evaluate(tl_test_feats, tl_test_label)"
   ]
  },
  {
   "cell_type": "markdown",
   "metadata": {},
   "source": [
    "## Inférence sur le test set"
   ]
  },
  {
   "cell_type": "code",
   "execution_count": null,
   "metadata": {},
   "outputs": [],
   "source": [
    "use_pred_proba = use_embed_model.predict(tl_test_feats)"
   ]
  },
  {
   "cell_type": "code",
   "execution_count": null,
   "metadata": {},
   "outputs": [],
   "source": [
    "tresh = 0.7\n",
    "use_pred_proba[use_pred_proba >= tresh] = 1\n",
    "use_pred_proba[use_pred_proba < tresh] = 0\n",
    "\n",
    "# Inverse transform\n",
    "use_pred_inversed = mlb.inverse_transform(use_pred_proba)\n",
    "use_test_inversed = mlb.inverse_transform(tl_test_label)\n",
    "\n",
    "pos = randint(0,use_pred_proba.shape[0])\n",
    "display(test_df.iloc[pos])\n",
    "print()\n",
    "print('predicted label :=', use_pred_inversed[pos])\n",
    "print('actual label :=',use_test_inversed[pos])"
   ]
  },
  {
   "cell_type": "markdown",
   "metadata": {},
   "source": [
    "## Évaluation des suggestions"
   ]
  },
  {
   "cell_type": "code",
   "execution_count": 78,
   "metadata": {},
   "outputs": [
    {
     "data": {
      "text/html": [
       "<div>\n",
       "<style scoped>\n",
       "    .dataframe tbody tr th:only-of-type {\n",
       "        vertical-align: middle;\n",
       "    }\n",
       "\n",
       "    .dataframe tbody tr th {\n",
       "        vertical-align: top;\n",
       "    }\n",
       "\n",
       "    .dataframe thead th {\n",
       "        text-align: right;\n",
       "    }\n",
       "</style>\n",
       "<table border=\"1\" class=\"dataframe\">\n",
       "  <thead>\n",
       "    <tr style=\"text-align: right;\">\n",
       "      <th></th>\n",
       "      <th>precision</th>\n",
       "      <th>recall</th>\n",
       "      <th>f1-score</th>\n",
       "      <th>support</th>\n",
       "    </tr>\n",
       "  </thead>\n",
       "  <tbody>\n",
       "    <tr>\n",
       "      <th>samples avg</th>\n",
       "      <td>0.793125</td>\n",
       "      <td>0.702083</td>\n",
       "      <td>0.725250</td>\n",
       "      <td>1042.0</td>\n",
       "    </tr>\n",
       "    <tr>\n",
       "      <th>weighted avg</th>\n",
       "      <td>0.851322</td>\n",
       "      <td>0.636276</td>\n",
       "      <td>0.709911</td>\n",
       "      <td>1042.0</td>\n",
       "    </tr>\n",
       "    <tr>\n",
       "      <th>macro avg</th>\n",
       "      <td>0.829644</td>\n",
       "      <td>0.572771</td>\n",
       "      <td>0.657647</td>\n",
       "      <td>1042.0</td>\n",
       "    </tr>\n",
       "    <tr>\n",
       "      <th>micro avg</th>\n",
       "      <td>0.851091</td>\n",
       "      <td>0.636276</td>\n",
       "      <td>0.728171</td>\n",
       "      <td>1042.0</td>\n",
       "    </tr>\n",
       "  </tbody>\n",
       "</table>\n",
       "</div>"
      ],
      "text/plain": [
       "              precision    recall  f1-score  support\n",
       "samples avg    0.793125  0.702083  0.725250   1042.0\n",
       "weighted avg   0.851322  0.636276  0.709911   1042.0\n",
       "macro avg      0.829644  0.572771  0.657647   1042.0\n",
       "micro avg      0.851091  0.636276  0.728171   1042.0"
      ]
     },
     "execution_count": 78,
     "metadata": {},
     "output_type": "execute_result"
    }
   ],
   "source": [
    "use_report = pd.DataFrame(classification_report(\n",
    "    use_test_label,\n",
    "    use_pred_proba,\n",
    "    output_dict=True,\n",
    "    target_names=tags_list,\n",
    "    zero_division=0\n",
    ")).T\n",
    "\n",
    "use_avg_report = use_report.loc[avg_index]\n",
    "use_avg_report"
   ]
  },
  {
   "cell_type": "code",
   "execution_count": 88,
   "metadata": {
    "scrolled": true
   },
   "outputs": [
    {
     "data": {
      "text/html": [
       "<div>\n",
       "<style scoped>\n",
       "    .dataframe tbody tr th:only-of-type {\n",
       "        vertical-align: middle;\n",
       "    }\n",
       "\n",
       "    .dataframe tbody tr th {\n",
       "        vertical-align: top;\n",
       "    }\n",
       "\n",
       "    .dataframe thead th {\n",
       "        text-align: right;\n",
       "    }\n",
       "</style>\n",
       "<table border=\"1\" class=\"dataframe\">\n",
       "  <thead>\n",
       "    <tr style=\"text-align: right;\">\n",
       "      <th></th>\n",
       "      <th>precision</th>\n",
       "      <th>recall</th>\n",
       "      <th>f1-score</th>\n",
       "      <th>support</th>\n",
       "    </tr>\n",
       "  </thead>\n",
       "  <tbody>\n",
       "    <tr>\n",
       "      <th>mysql</th>\n",
       "      <td>0.904255</td>\n",
       "      <td>0.833333</td>\n",
       "      <td>0.867347</td>\n",
       "      <td>102.0</td>\n",
       "    </tr>\n",
       "    <tr>\n",
       "      <th>php</th>\n",
       "      <td>0.682353</td>\n",
       "      <td>0.698795</td>\n",
       "      <td>0.690476</td>\n",
       "      <td>83.0</td>\n",
       "    </tr>\n",
       "    <tr>\n",
       "      <th>django</th>\n",
       "      <td>0.943662</td>\n",
       "      <td>0.858974</td>\n",
       "      <td>0.899329</td>\n",
       "      <td>78.0</td>\n",
       "    </tr>\n",
       "    <tr>\n",
       "      <th>linux</th>\n",
       "      <td>0.918367</td>\n",
       "      <td>0.584416</td>\n",
       "      <td>0.714286</td>\n",
       "      <td>77.0</td>\n",
       "    </tr>\n",
       "    <tr>\n",
       "      <th>c#</th>\n",
       "      <td>0.949153</td>\n",
       "      <td>0.875000</td>\n",
       "      <td>0.910569</td>\n",
       "      <td>64.0</td>\n",
       "    </tr>\n",
       "    <tr>\n",
       "      <th>ios</th>\n",
       "      <td>0.829787</td>\n",
       "      <td>0.829787</td>\n",
       "      <td>0.829787</td>\n",
       "      <td>47.0</td>\n",
       "    </tr>\n",
       "    <tr>\n",
       "      <th>python</th>\n",
       "      <td>0.705882</td>\n",
       "      <td>0.292683</td>\n",
       "      <td>0.413793</td>\n",
       "      <td>41.0</td>\n",
       "    </tr>\n",
       "    <tr>\n",
       "      <th>sql</th>\n",
       "      <td>0.850000</td>\n",
       "      <td>0.472222</td>\n",
       "      <td>0.607143</td>\n",
       "      <td>36.0</td>\n",
       "    </tr>\n",
       "    <tr>\n",
       "      <th>ruby</th>\n",
       "      <td>0.896552</td>\n",
       "      <td>0.764706</td>\n",
       "      <td>0.825397</td>\n",
       "      <td>34.0</td>\n",
       "    </tr>\n",
       "    <tr>\n",
       "      <th>html</th>\n",
       "      <td>0.933333</td>\n",
       "      <td>0.424242</td>\n",
       "      <td>0.583333</td>\n",
       "      <td>33.0</td>\n",
       "    </tr>\n",
       "    <tr>\n",
       "      <th>asp.net</th>\n",
       "      <td>0.875000</td>\n",
       "      <td>0.724138</td>\n",
       "      <td>0.792453</td>\n",
       "      <td>29.0</td>\n",
       "    </tr>\n",
       "    <tr>\n",
       "      <th>iphone</th>\n",
       "      <td>0.566667</td>\n",
       "      <td>0.586207</td>\n",
       "      <td>0.576271</td>\n",
       "      <td>29.0</td>\n",
       "    </tr>\n",
       "    <tr>\n",
       "      <th>objective-c</th>\n",
       "      <td>0.857143</td>\n",
       "      <td>0.206897</td>\n",
       "      <td>0.333333</td>\n",
       "      <td>29.0</td>\n",
       "    </tr>\n",
       "    <tr>\n",
       "      <th>jquery</th>\n",
       "      <td>0.900000</td>\n",
       "      <td>0.692308</td>\n",
       "      <td>0.782609</td>\n",
       "      <td>26.0</td>\n",
       "    </tr>\n",
       "    <tr>\n",
       "      <th>asp.net-mvc</th>\n",
       "      <td>0.736842</td>\n",
       "      <td>0.538462</td>\n",
       "      <td>0.622222</td>\n",
       "      <td>26.0</td>\n",
       "    </tr>\n",
       "    <tr>\n",
       "      <th>node.js</th>\n",
       "      <td>1.000000</td>\n",
       "      <td>0.346154</td>\n",
       "      <td>0.514286</td>\n",
       "      <td>26.0</td>\n",
       "    </tr>\n",
       "    <tr>\n",
       "      <th>string</th>\n",
       "      <td>0.952381</td>\n",
       "      <td>0.800000</td>\n",
       "      <td>0.869565</td>\n",
       "      <td>25.0</td>\n",
       "    </tr>\n",
       "    <tr>\n",
       "      <th>java</th>\n",
       "      <td>0.785714</td>\n",
       "      <td>0.550000</td>\n",
       "      <td>0.647059</td>\n",
       "      <td>20.0</td>\n",
       "    </tr>\n",
       "    <tr>\n",
       "      <th>r</th>\n",
       "      <td>0.875000</td>\n",
       "      <td>0.350000</td>\n",
       "      <td>0.500000</td>\n",
       "      <td>20.0</td>\n",
       "    </tr>\n",
       "    <tr>\n",
       "      <th>ruby-on-rails</th>\n",
       "      <td>0.812500</td>\n",
       "      <td>0.650000</td>\n",
       "      <td>0.722222</td>\n",
       "      <td>20.0</td>\n",
       "    </tr>\n",
       "    <tr>\n",
       "      <th>git</th>\n",
       "      <td>0.944444</td>\n",
       "      <td>0.894737</td>\n",
       "      <td>0.918919</td>\n",
       "      <td>19.0</td>\n",
       "    </tr>\n",
       "    <tr>\n",
       "      <th>bash</th>\n",
       "      <td>1.000000</td>\n",
       "      <td>0.722222</td>\n",
       "      <td>0.838710</td>\n",
       "      <td>18.0</td>\n",
       "    </tr>\n",
       "    <tr>\n",
       "      <th>arrays</th>\n",
       "      <td>1.000000</td>\n",
       "      <td>0.666667</td>\n",
       "      <td>0.800000</td>\n",
       "      <td>18.0</td>\n",
       "    </tr>\n",
       "    <tr>\n",
       "      <th>css</th>\n",
       "      <td>0.857143</td>\n",
       "      <td>0.352941</td>\n",
       "      <td>0.500000</td>\n",
       "      <td>17.0</td>\n",
       "    </tr>\n",
       "    <tr>\n",
       "      <th>.net</th>\n",
       "      <td>0.900000</td>\n",
       "      <td>0.600000</td>\n",
       "      <td>0.720000</td>\n",
       "      <td>15.0</td>\n",
       "    </tr>\n",
       "    <tr>\n",
       "      <th>windows</th>\n",
       "      <td>1.000000</td>\n",
       "      <td>0.428571</td>\n",
       "      <td>0.600000</td>\n",
       "      <td>14.0</td>\n",
       "    </tr>\n",
       "    <tr>\n",
       "      <th>sql-server</th>\n",
       "      <td>1.000000</td>\n",
       "      <td>0.583333</td>\n",
       "      <td>0.736842</td>\n",
       "      <td>12.0</td>\n",
       "    </tr>\n",
       "    <tr>\n",
       "      <th>c++</th>\n",
       "      <td>0.750000</td>\n",
       "      <td>0.500000</td>\n",
       "      <td>0.600000</td>\n",
       "      <td>12.0</td>\n",
       "    </tr>\n",
       "    <tr>\n",
       "      <th>database</th>\n",
       "      <td>0.666667</td>\n",
       "      <td>0.166667</td>\n",
       "      <td>0.266667</td>\n",
       "      <td>12.0</td>\n",
       "    </tr>\n",
       "    <tr>\n",
       "      <th>android</th>\n",
       "      <td>1.000000</td>\n",
       "      <td>0.454545</td>\n",
       "      <td>0.625000</td>\n",
       "      <td>11.0</td>\n",
       "    </tr>\n",
       "    <tr>\n",
       "      <th>performance</th>\n",
       "      <td>0.833333</td>\n",
       "      <td>0.454545</td>\n",
       "      <td>0.588235</td>\n",
       "      <td>11.0</td>\n",
       "    </tr>\n",
       "    <tr>\n",
       "      <th>algorithm</th>\n",
       "      <td>0.000000</td>\n",
       "      <td>0.000000</td>\n",
       "      <td>0.000000</td>\n",
       "      <td>10.0</td>\n",
       "    </tr>\n",
       "    <tr>\n",
       "      <th>json</th>\n",
       "      <td>0.636364</td>\n",
       "      <td>0.700000</td>\n",
       "      <td>0.666667</td>\n",
       "      <td>10.0</td>\n",
       "    </tr>\n",
       "    <tr>\n",
       "      <th>javascript</th>\n",
       "      <td>0.600000</td>\n",
       "      <td>0.666667</td>\n",
       "      <td>0.631579</td>\n",
       "      <td>9.0</td>\n",
       "    </tr>\n",
       "    <tr>\n",
       "      <th>c</th>\n",
       "      <td>0.875000</td>\n",
       "      <td>0.777778</td>\n",
       "      <td>0.823529</td>\n",
       "      <td>9.0</td>\n",
       "    </tr>\n",
       "  </tbody>\n",
       "</table>\n",
       "</div>"
      ],
      "text/plain": [
       "               precision    recall  f1-score  support\n",
       "mysql           0.904255  0.833333  0.867347    102.0\n",
       "php             0.682353  0.698795  0.690476     83.0\n",
       "django          0.943662  0.858974  0.899329     78.0\n",
       "linux           0.918367  0.584416  0.714286     77.0\n",
       "c#              0.949153  0.875000  0.910569     64.0\n",
       "ios             0.829787  0.829787  0.829787     47.0\n",
       "python          0.705882  0.292683  0.413793     41.0\n",
       "sql             0.850000  0.472222  0.607143     36.0\n",
       "ruby            0.896552  0.764706  0.825397     34.0\n",
       "html            0.933333  0.424242  0.583333     33.0\n",
       "asp.net         0.875000  0.724138  0.792453     29.0\n",
       "iphone          0.566667  0.586207  0.576271     29.0\n",
       "objective-c     0.857143  0.206897  0.333333     29.0\n",
       "jquery          0.900000  0.692308  0.782609     26.0\n",
       "asp.net-mvc     0.736842  0.538462  0.622222     26.0\n",
       "node.js         1.000000  0.346154  0.514286     26.0\n",
       "string          0.952381  0.800000  0.869565     25.0\n",
       "java            0.785714  0.550000  0.647059     20.0\n",
       "r               0.875000  0.350000  0.500000     20.0\n",
       "ruby-on-rails   0.812500  0.650000  0.722222     20.0\n",
       "git             0.944444  0.894737  0.918919     19.0\n",
       "bash            1.000000  0.722222  0.838710     18.0\n",
       "arrays          1.000000  0.666667  0.800000     18.0\n",
       "css             0.857143  0.352941  0.500000     17.0\n",
       ".net            0.900000  0.600000  0.720000     15.0\n",
       "windows         1.000000  0.428571  0.600000     14.0\n",
       "sql-server      1.000000  0.583333  0.736842     12.0\n",
       "c++             0.750000  0.500000  0.600000     12.0\n",
       "database        0.666667  0.166667  0.266667     12.0\n",
       "android         1.000000  0.454545  0.625000     11.0\n",
       "performance     0.833333  0.454545  0.588235     11.0\n",
       "algorithm       0.000000  0.000000  0.000000     10.0\n",
       "json            0.636364  0.700000  0.666667     10.0\n",
       "javascript      0.600000  0.666667  0.631579      9.0\n",
       "c               0.875000  0.777778  0.823529      9.0"
      ]
     },
     "execution_count": 88,
     "metadata": {},
     "output_type": "execute_result"
    }
   ],
   "source": [
    "bert_clf_report = bert_report[~bert_report.index.isin(bert_avg_report.index)]\n",
    "bert_clf_report.sort_values(by='support', ascending=False)"
   ]
  },
  {
   "cell_type": "code",
   "execution_count": null,
   "metadata": {},
   "outputs": [],
   "source": []
  },
  {
   "cell_type": "code",
   "execution_count": null,
   "metadata": {},
   "outputs": [],
   "source": []
  },
  {
   "cell_type": "code",
   "execution_count": null,
   "metadata": {},
   "outputs": [],
   "source": []
  },
  {
   "cell_type": "code",
   "execution_count": null,
   "metadata": {},
   "outputs": [],
   "source": []
  }
 ],
 "metadata": {
  "kernelspec": {
   "display_name": "Python 3",
   "language": "python",
   "name": "python3"
  },
  "language_info": {
   "codemirror_mode": {
    "name": "ipython",
    "version": 3
   },
   "file_extension": ".py",
   "mimetype": "text/x-python",
   "name": "python",
   "nbconvert_exporter": "python",
   "pygments_lexer": "ipython3",
   "version": "3.8.10"
  }
 },
 "nbformat": 4,
 "nbformat_minor": 4
}
