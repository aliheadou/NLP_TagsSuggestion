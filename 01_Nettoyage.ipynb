{
 "cells": [
  {
   "cell_type": "markdown",
   "metadata": {},
   "source": [
    "# Projets: Suggestions de Tags \n",
    "\n",
    "Pour ce projet, l'objectif est de développer un système de suggestions de tags pour le site **StackOverflow**. Le problème que l'on cherchera à résoudre est ici un problème de classification multi-label.\n",
    "\n",
    "Les données sont obtenues via la plateforme [StackExchange Data Explorer](https://data.stackexchange.com/stackoverflow/query/new), et consistent en un grand nombre de *questions* (texte non-structuré) avec les *tags* qui leurs sont associés. Pour récupérer plus de résultats pertinents, les contraintes ci-dessous ont été appliquées sur certaines données\n",
    "  1. les questions les plus vues, \n",
    "  2. mises en favori par les internautes et ayant reçu une réponse \n",
    "  3. et ayant au moins 5 tags.\n",
    "  \n",
    "Dans ce notebook, nous allons procéder au nettoyage du dataset obtenu. Le jeu de données comptant plus de 11 000 tags uniqes, on effectue, dans un premier temps, une sélection parmi les tags ayant été mentionnés le plus grand nombre de fois. Enfin, les méthodes classiques de nettoyage de textes en NLP seront appliquées. \n",
    "\n",
    "\n",
    "# <font color=\"#00afe6\">Sommaire</font>\n",
    "1. [Sélection des meilleurs tags.](#section_1)                       \n",
    "2. [Nettoyage du jeu de données.](#section_2)    \n",
    "    2.1 [Suppression des codes et balises HTML.](#section_2_1)            \n",
    "    2.2 [Tokenization & Lemmatization.](#section_2_2)            \n",
    "    2.3 [Uniformisation de la longueur des textes.](#section_2_3)            "
   ]
  },
  {
   "cell_type": "code",
   "execution_count": 1,
   "metadata": {},
   "outputs": [],
   "source": [
    "# Importation des librairies python\n",
    "import sys\n",
    "import re\n",
    "\n",
    "import numpy as np\n",
    "import pandas as pd\n",
    "pd.set_option('display.max_colwidth', None)\n",
    "\n",
    "from tqdm import tqdm\n",
    "tqdm.pandas()\n",
    "\n",
    "import seaborn as sns\n",
    "import matplotlib.pyplot as plt"
   ]
  },
  {
   "cell_type": "code",
   "execution_count": 2,
   "metadata": {},
   "outputs": [],
   "source": [
    "df_orig = pd.read_csv('QueryResults_1a5.csv')\n",
    "df = df_orig.copy()"
   ]
  },
  {
   "cell_type": "code",
   "execution_count": 3,
   "metadata": {},
   "outputs": [
    {
     "data": {
      "text/html": [
       "<div>\n",
       "<style scoped>\n",
       "    .dataframe tbody tr th:only-of-type {\n",
       "        vertical-align: middle;\n",
       "    }\n",
       "\n",
       "    .dataframe tbody tr th {\n",
       "        vertical-align: top;\n",
       "    }\n",
       "\n",
       "    .dataframe thead th {\n",
       "        text-align: right;\n",
       "    }\n",
       "</style>\n",
       "<table border=\"1\" class=\"dataframe\">\n",
       "  <thead>\n",
       "    <tr style=\"text-align: right;\">\n",
       "      <th></th>\n",
       "      <th>Title</th>\n",
       "      <th>Body</th>\n",
       "      <th>Tags</th>\n",
       "      <th>Id</th>\n",
       "    </tr>\n",
       "  </thead>\n",
       "  <tbody>\n",
       "    <tr>\n",
       "      <th>42433</th>\n",
       "      <td>Programmatically obtaining Big-O efficiency of code</td>\n",
       "      <td>&lt;p&gt;I wonder whether there is any automatic way of determining (at least roughly) the Big-O time complexity of a given function?&lt;/p&gt;\\n\\n&lt;p&gt;If I graphed an O(n) function vs. an O(n lg n) function I think I would be able to visually ascertain which is which; I'm thinking there must be some heuristic solution which enables this to be done automatically.&lt;/p&gt;\\n\\n&lt;p&gt;Any ideas?&lt;/p&gt;\\n\\n&lt;p&gt;&lt;strong&gt;Edit:&lt;/strong&gt; I am happy to find a semi-automated solution, just wondering whether there is some way of avoiding doing a fully manual analysis.&lt;/p&gt;\\n</td>\n",
       "      <td>&lt;algorithm&gt;&lt;complexity-theory&gt;</td>\n",
       "      <td>480775</td>\n",
       "    </tr>\n",
       "    <tr>\n",
       "      <th>25666</th>\n",
       "      <td>PHP Sessions with disabled cookies, does it work?</td>\n",
       "      <td>&lt;p&gt;Today I had skype interview for a job as PHP developer, one of the questions asked was about Cookies and PHP Sessions.&lt;/p&gt;\\n\\n&lt;p&gt;The question was, can PHP session be set and read, used, if Cookies are disabled in users Browser?&lt;/p&gt;\\n\\n&lt;p&gt;I told them not, beacuse PHP Sessions by default depends on setting a session cookie. When PHP session starts, new session Cookie is set with default name PHPSESSID, and that cookie holds value of that session id, for example: ftu63d8al491s5gatuobj39gk7\\nThen on apache server in tmp folder file sess_ftu63d8al491s5gatuobj39gk7 is created and it holds content of that session, for example: test1|s:12:\"SessionTest1\";test2|s:12:\"SessionTest2\";&lt;/p&gt;\\n\\n&lt;p&gt;They told me that's not true, and that you can use PHP Sessions even if user disables cookies in his browser. &lt;/p&gt;\\n\\n&lt;p&gt;Then I told them that you can do that, but then session id would be passed through URL as GET variable. And that's not secure and you must set it up in php.ini.&lt;/p&gt;\\n\\n&lt;p&gt;They were talking how you can use PHP Sessions even if Cookies are disabled in browser. And what if we are building web shop, and some granny uses our web shop and disables cookies and she joust don't care. And that PHP Sessions are great because you can use them even if user disables Cookies. I was like wtf, wtf wtf?!?!&lt;/p&gt;\\n\\n&lt;p&gt;I made test with two files, index.php starts session and sets session variables. And then session.php tries to read that session variables.&lt;/p&gt;\\n\\n&lt;p&gt;This is how it looks:&lt;/p&gt;\\n\\n&lt;p&gt;index.php&lt;/p&gt;\\n\\n&lt;pre&gt;&lt;code&gt;&amp;lt;p&amp;gt;This is where I start and set php sessions.&amp;lt;/p&amp;gt;\\n\\n&amp;lt;?php\\n\\n    session_start();\\n    $_SESSION['test1'] = \"SessionTest1\";\\n    $_SESSION['test2'] = \"SessionTest2\";\\n\\n?&amp;gt;\\n\\n&amp;lt;p&amp;gt;This is a link, that starts new HTTP Request, and tries to read session set on this page:&amp;lt;/p&amp;gt;\\n&amp;lt;p&amp;gt;&amp;lt;a href=\"session.php\"&amp;gt;Read Session&amp;lt;/a&amp;gt;&amp;lt;/p&amp;gt;\\n&lt;/code&gt;&lt;/pre&gt;\\n\\n&lt;p&gt;session.php&lt;/p&gt;\\n\\n&lt;pre&gt;&lt;code&gt;&amp;lt;?php\\n\\n    session_start();\\n    var_export($_SESSION);\\n\\n?&amp;gt;\\n\\n&amp;lt;p&amp;gt;&amp;lt;a href=\"index.php\"&amp;gt;Back&amp;lt;/a&amp;gt;&amp;lt;/p&amp;gt;\\n&lt;/code&gt;&lt;/pre&gt;\\n\\n&lt;p&gt;Now, if you enable cookies in your browser, visit index.php, and the visit session.php , session would be printed out.&lt;/p&gt;\\n\\n&lt;p&gt;But, if you clear your browser history and cookies, and then visit index.php, and then visit session.php, you would see empty array right?&lt;/p&gt;\\n\\n&lt;p&gt;So basically my question is, am I right?\\nCan you use PHP sessions if you disable cookies in your browser?\\nAnd do PHP Session mechanism by default, depends on setting a session COOKIE?&lt;/p&gt;\\n\\n&lt;p&gt;Update:\\nI was going mad about this, so I called back the guy I was talking with. And asked him, can PHP session work without cookies by default? The guy said \"yes\". Then I told him he is wrong and he said: \"yes, yes, if you say so...\" and start laughing. Then I told him, ok if PHP session can work without setting cookie, how would server know current user/browser session id, if its not stored in a session cookie? (I wanted to see if he knows that session id can be passed as GET variable) And he was quiet for at least 20s, and told me that he is a System Administrator, and that I should ask that the Developer guy. And that he is 43 years old and has huge experience of 13 years in the bussines (he started with 30? wtf?), but he trusts me on this one. And I explained him how Session work and that you can use it without Cookie but then session id is passed as GET variable, and told him I told them that on interview, but they ware telling me no, no no... :S &lt;/p&gt;\\n\\n&lt;p&gt;So basically, the guy didn't have a clue about PHP and PHP Sessions, and yes he was the one that asked me about sessions telling me that PHP Session can work without cookie, even when I told him it cant be done, and that there is a way to use PHP Sessions without cookies but it won't work by default. He was like, no no no...\\nAt the end he told me that he was thinking that sessions can work without cookies because he, as System Admin on his servers, can never see sessions in tmp folder?!?!?&lt;/p&gt;\\n\\n&lt;p&gt;Anyway, those guys suck at PHP, there is no way I will accept job offer from them, and after all this I dont think they will offer me a job anyway...&lt;/p&gt;\\n\\n&lt;p&gt;Thanks for all the comments!&lt;/p&gt;\\n</td>\n",
       "      <td>&lt;php&gt;&lt;session&gt;&lt;cookies&gt;</td>\n",
       "      <td>12572134</td>\n",
       "    </tr>\n",
       "  </tbody>\n",
       "</table>\n",
       "</div>"
      ],
      "text/plain": [
       "                                                     Title  \\\n",
       "42433  Programmatically obtaining Big-O efficiency of code   \n",
       "25666    PHP Sessions with disabled cookies, does it work?   \n",
       "\n",
       "                                                                                                                                                                                                                                                                                                                                                                                                                                                                                                                                                                                                                                                                                                                                                                                                                                                                                                                                                                                                                                                                                                                                                                                                                                                                                                                                                                                                                                                                                                                                                                                                                                                                                                                                                                                                                                                                                                                                                                                                                                                                                                                                                                                                                                                                                                                                                                                                                                                                                                                                                                                                                                                                                                                                                                                                                                                                                                                                                                                                                                                                                                                                                                                                                                                                                                                                                                                                                                                                                                                                                                                                                                                                                                                                                                                                                                                                                                                                                                                                                                                                                                                                                                                                                                                                                                                                                                                                                                         Body  \\\n",
       "42433                                                                                                                                                                                                                                                                                                                                                                                                                                                                                                                                                                                                                                                                                                                                                                                                                                                                                                                                                                                                                                                                                                                                                                                                                                                                                                                                                                                                                                                                                                                                                                                                                                                                                                                                                                                                                                                                                                                                                                                                                                                                                                                                                                                                                                                                                                                                                                                                                                                                                                                                                                                                                                                                                                                                                                                                                                                                                                                                                                                                                                                                                                                                                                                                                                                                                                                                                                                                                                                                                                                                                                                                                                                                                                                                                                                                                                                                           <p>I wonder whether there is any automatic way of determining (at least roughly) the Big-O time complexity of a given function?</p>\\n\\n<p>If I graphed an O(n) function vs. an O(n lg n) function I think I would be able to visually ascertain which is which; I'm thinking there must be some heuristic solution which enables this to be done automatically.</p>\\n\\n<p>Any ideas?</p>\\n\\n<p><strong>Edit:</strong> I am happy to find a semi-automated solution, just wondering whether there is some way of avoiding doing a fully manual analysis.</p>\\n   \n",
       "25666  <p>Today I had skype interview for a job as PHP developer, one of the questions asked was about Cookies and PHP Sessions.</p>\\n\\n<p>The question was, can PHP session be set and read, used, if Cookies are disabled in users Browser?</p>\\n\\n<p>I told them not, beacuse PHP Sessions by default depends on setting a session cookie. When PHP session starts, new session Cookie is set with default name PHPSESSID, and that cookie holds value of that session id, for example: ftu63d8al491s5gatuobj39gk7\\nThen on apache server in tmp folder file sess_ftu63d8al491s5gatuobj39gk7 is created and it holds content of that session, for example: test1|s:12:\"SessionTest1\";test2|s:12:\"SessionTest2\";</p>\\n\\n<p>They told me that's not true, and that you can use PHP Sessions even if user disables cookies in his browser. </p>\\n\\n<p>Then I told them that you can do that, but then session id would be passed through URL as GET variable. And that's not secure and you must set it up in php.ini.</p>\\n\\n<p>They were talking how you can use PHP Sessions even if Cookies are disabled in browser. And what if we are building web shop, and some granny uses our web shop and disables cookies and she joust don't care. And that PHP Sessions are great because you can use them even if user disables Cookies. I was like wtf, wtf wtf?!?!</p>\\n\\n<p>I made test with two files, index.php starts session and sets session variables. And then session.php tries to read that session variables.</p>\\n\\n<p>This is how it looks:</p>\\n\\n<p>index.php</p>\\n\\n<pre><code>&lt;p&gt;This is where I start and set php sessions.&lt;/p&gt;\\n\\n&lt;?php\\n\\n    session_start();\\n    $_SESSION['test1'] = \"SessionTest1\";\\n    $_SESSION['test2'] = \"SessionTest2\";\\n\\n?&gt;\\n\\n&lt;p&gt;This is a link, that starts new HTTP Request, and tries to read session set on this page:&lt;/p&gt;\\n&lt;p&gt;&lt;a href=\"session.php\"&gt;Read Session&lt;/a&gt;&lt;/p&gt;\\n</code></pre>\\n\\n<p>session.php</p>\\n\\n<pre><code>&lt;?php\\n\\n    session_start();\\n    var_export($_SESSION);\\n\\n?&gt;\\n\\n&lt;p&gt;&lt;a href=\"index.php\"&gt;Back&lt;/a&gt;&lt;/p&gt;\\n</code></pre>\\n\\n<p>Now, if you enable cookies in your browser, visit index.php, and the visit session.php , session would be printed out.</p>\\n\\n<p>But, if you clear your browser history and cookies, and then visit index.php, and then visit session.php, you would see empty array right?</p>\\n\\n<p>So basically my question is, am I right?\\nCan you use PHP sessions if you disable cookies in your browser?\\nAnd do PHP Session mechanism by default, depends on setting a session COOKIE?</p>\\n\\n<p>Update:\\nI was going mad about this, so I called back the guy I was talking with. And asked him, can PHP session work without cookies by default? The guy said \"yes\". Then I told him he is wrong and he said: \"yes, yes, if you say so...\" and start laughing. Then I told him, ok if PHP session can work without setting cookie, how would server know current user/browser session id, if its not stored in a session cookie? (I wanted to see if he knows that session id can be passed as GET variable) And he was quiet for at least 20s, and told me that he is a System Administrator, and that I should ask that the Developer guy. And that he is 43 years old and has huge experience of 13 years in the bussines (he started with 30? wtf?), but he trusts me on this one. And I explained him how Session work and that you can use it without Cookie but then session id is passed as GET variable, and told him I told them that on interview, but they ware telling me no, no no... :S </p>\\n\\n<p>So basically, the guy didn't have a clue about PHP and PHP Sessions, and yes he was the one that asked me about sessions telling me that PHP Session can work without cookie, even when I told him it cant be done, and that there is a way to use PHP Sessions without cookies but it won't work by default. He was like, no no no...\\nAt the end he told me that he was thinking that sessions can work without cookies because he, as System Admin on his servers, can never see sessions in tmp folder?!?!?</p>\\n\\n<p>Anyway, those guys suck at PHP, there is no way I will accept job offer from them, and after all this I dont think they will offer me a job anyway...</p>\\n\\n<p>Thanks for all the comments!</p>\\n   \n",
       "\n",
       "                                 Tags        Id  \n",
       "42433  <algorithm><complexity-theory>    480775  \n",
       "25666         <php><session><cookies>  12572134  "
      ]
     },
     "execution_count": 3,
     "metadata": {},
     "output_type": "execute_result"
    }
   ],
   "source": [
    "df.sample(2)"
   ]
  },
  {
   "cell_type": "code",
   "execution_count": 4,
   "metadata": {},
   "outputs": [
    {
     "name": "stdout",
     "output_type": "stream",
     "text": [
      "Le dataframe contient 4 colonnes et 50000 lignes.\n",
      "\n",
      "NUnique\n",
      "------\n",
      "Title============================================= 49998\n",
      "Body============================================== 50000\n",
      "Tags============================================== 39007\n",
      "Id================================================ 50000\n",
      "\n",
      "IsNull\n",
      "------\n",
      "Title============================================= 0\n",
      "Body============================================== 0\n",
      "Tags============================================== 0\n",
      "Id================================================ 0\n"
     ]
    }
   ],
   "source": [
    "# Fonction pour afficher la taille, le nombre de valeurs uniques et le nombre de valeurs nulles\n",
    "def show_isNull_NUnique_shape(df):\n",
    "    print(\"Le dataframe contient {} colonnes et {} lignes.\"\\\n",
    "          .format(df.shape[1],df.shape[0]))\n",
    "    print()\n",
    "    print('NUnique')\n",
    "    print('---'*2)\n",
    "    for col in df.columns:\n",
    "        print(f'{col :=<50} {df[col].nunique()}')\n",
    "    print()\n",
    "    print('IsNull')\n",
    "    print('---'*2)\n",
    "    for col in df.columns:\n",
    "        print(f'{col :=<50} {df[col].isnull().sum()}') \n",
    "        \n",
    "show_isNull_NUnique_shape(df)"
   ]
  },
  {
   "cell_type": "markdown",
   "metadata": {},
   "source": [
    "La colonne `Id` est constituée à 100% de valeurs uniques. Nous allons l'utiliser pour indexer le dataframe."
   ]
  },
  {
   "cell_type": "code",
   "execution_count": 5,
   "metadata": {},
   "outputs": [],
   "source": [
    "df = df.set_index('Id')"
   ]
  },
  {
   "cell_type": "markdown",
   "metadata": {},
   "source": [
    "# <font color=\"blue\" id=section_1> 1. Sélection des meilleurs tags. </font>"
   ]
  },
  {
   "cell_type": "code",
   "execution_count": 6,
   "metadata": {
    "scrolled": true
   },
   "outputs": [],
   "source": [
    "# Remplacement des balises entre les tags\n",
    "df['Tags'] = df['Tags'].str.translate(str.maketrans({'<': '', '>': ','}))\n",
    "\n",
    "# Suppression du \",\"\n",
    "df['Tags'] = df['Tags'].str[:-1]\n",
    "\n",
    "# Création d'une nouvelle colonne pour lister les tags \n",
    "df['Tags_list'] = df['Tags'].apply(lambda x : x.split(','))\n",
    "\n",
    "# Comptage du nombre de tags pour chaque question\n",
    "df['Tags_count'] = df['Tags_list'].apply(lambda x: len(x))"
   ]
  },
  {
   "cell_type": "code",
   "execution_count": 7,
   "metadata": {},
   "outputs": [
    {
     "data": {
      "image/png": "[encoded data removed]",
      "text/plain": [
       "<Figure size 720x432 with 1 Axes>"
      ]
     },
     "metadata": {
      "needs_background": "light"
     },
     "output_type": "display_data"
    }
   ],
   "source": [
    "fig = plt.figure(figsize=(10,6))\n",
    "ax = sns.countplot(x=df.Tags_count, color=\"skyblue\")\n",
    "ax.set_xlabel(\"Tags\", fontsize=15)\n",
    "ax.set_ylabel(\"Total\", fontsize=15)\n",
    "plt.title(\"Nombre de tags pour chaque question dans le dataframe original. \\n\", fontsize=18)\n",
    "plt.show()\n",
    "fig.savefig('orig_nb_tags.png')"
   ]
  },
  {
   "cell_type": "code",
   "execution_count": 8,
   "metadata": {},
   "outputs": [],
   "source": [
    "# Fonction pour compter le nombre de tags unique dans le dataframe\n",
    "def split_and_count_tags(df, column, separator):\n",
    "    list_words = []\n",
    "    \n",
    "    for word in df[column]:\n",
    "        list_words.extend(word)\n",
    "        \n",
    "    df_list_words = pd.DataFrame(list_words, columns=[\"Tag\"])\n",
    "    df_list_words = df_list_words.groupby(\"Tag\")\\\n",
    "        .agg(tag_count=pd.NamedAgg(column=\"Tag\", aggfunc=\"count\"))\n",
    "    \n",
    "    df_list_words.sort_values(\"tag_count\", ascending=False, inplace=True)\n",
    "    \n",
    "    return df_list_words"
   ]
  },
  {
   "cell_type": "code",
   "execution_count": 9,
   "metadata": {},
   "outputs": [
    {
     "name": "stdout",
     "output_type": "stream",
     "text": [
      "Le jeu de données compte 11708 tags uniques.\n"
     ]
    }
   ],
   "source": [
    "tags_list = split_and_count_tags(df=df, column='Tags_list', separator=',')\n",
    "print(\"Le jeu de données compte {} tags uniques.\".format(tags_list.shape[0]))"
   ]
  },
  {
   "cell_type": "markdown",
   "metadata": {},
   "source": [
    "Regardons le top des tags les plus utilisés dans le dataframe."
   ]
  },
  {
   "cell_type": "code",
   "execution_count": 10,
   "metadata": {},
   "outputs": [
    {
     "data": {
      "image/png": "[encoded data removed]",
      "text/plain": [
       "<Figure size 1080x576 with 1 Axes>"
      ]
     },
     "metadata": {
      "needs_background": "light"
     },
     "output_type": "display_data"
    }
   ],
   "source": [
    "# Plot top best tags\n",
    "top = 40\n",
    "fig = plt.figure(figsize=(15, 8))\n",
    "sns.barplot(data=tags_list.iloc[0:top, :],\n",
    "            x=tags_list.iloc[0:top, :].index,\n",
    "            y=\"tag_count\", color=\"skyblue\")\n",
    "plt.xticks(rotation=90)\n",
    "plt.title(f\"Top {top} des tags dans le dataframe\", fontsize=18)\n",
    "plt.show()\n",
    "fig.savefig('top_40.png')"
   ]
  },
  {
   "cell_type": "code",
   "execution_count": 11,
   "metadata": {},
   "outputs": [
    {
     "name": "stdout",
     "output_type": "stream",
     "text": [
      "Il y a 4986 de tags ayant été utilisé une seule fois.\n"
     ]
    }
   ],
   "source": [
    "# Nombre de tags unique\n",
    "unique_tag = tags_list[tags_list['tag_count']==1]\n",
    "\n",
    "print(f\"Il y a {unique_tag.shape[0]} de tags ayant été utilisé une seule fois.\")"
   ]
  },
  {
   "cell_type": "markdown",
   "metadata": {},
   "source": [
    "Parmi les 11708 tags présents, on ne va retenir que ceux qui ont été utilisé au moins 500 fois."
   ]
  },
  {
   "cell_type": "code",
   "execution_count": 12,
   "metadata": {},
   "outputs": [
    {
     "name": "stderr",
     "output_type": "stream",
     "text": [
      "100%|██████████| 50000/50000 [00:12<00:00, 4052.67it/s]"
     ]
    },
    {
     "name": "stdout",
     "output_type": "stream",
     "text": [
      "Le jeu de données compte à présent 35 tags.\n"
     ]
    },
    {
     "name": "stderr",
     "output_type": "stream",
     "text": [
      "\n"
     ]
    }
   ],
   "source": [
    "def filter_tag_fct(tags, list_tags):\n",
    "    matches = [match for match in tags.split(',') if match not in list_tags]\n",
    "    return matches\n",
    "\n",
    "# Nombre d'occurence minimum\n",
    "min_unique_tag = 500\n",
    "unique_tag_lists = list(tags_list[tags_list['tag_count']<min_unique_tag].index.values)\n",
    "\n",
    "# Création d'une nouvelle colonne pour les tags les plus utilisés\n",
    "df['Best_Tags'] = df['Tags'].progress_apply(lambda x : filter_tag_fct(x,unique_tag_lists))\n",
    "\n",
    "# Count \n",
    "best_tags_list = split_and_count_tags(df=df, column='Best_Tags', separator=',')\n",
    "print(f\"Le jeu de données compte à présent {best_tags_list.shape[0]} tags.\")"
   ]
  },
  {
   "cell_type": "code",
   "execution_count": 13,
   "metadata": {},
   "outputs": [],
   "source": [
    "df['Best_Tags_count'] = df['Best_Tags'].apply(lambda x: len(x))"
   ]
  },
  {
   "cell_type": "markdown",
   "metadata": {},
   "source": [
    "Nous devons maintenant supprimer du dataframe les lignes qui n'ont plus de tags. Regardons leur nombre."
   ]
  },
  {
   "cell_type": "code",
   "execution_count": 14,
   "metadata": {},
   "outputs": [
    {
     "name": "stdout",
     "output_type": "stream",
     "text": [
      "Il y a 11294 lignes sans tags.\n"
     ]
    }
   ],
   "source": [
    "print(f\"Il y a {df[df['Best_Tags'].str.len() == 0].shape[0]} lignes sans tags.\")"
   ]
  },
  {
   "cell_type": "code",
   "execution_count": 15,
   "metadata": {},
   "outputs": [
    {
     "name": "stdout",
     "output_type": "stream",
     "text": [
      "Le dataframe contient à présent 38706 lignes.\n"
     ]
    }
   ],
   "source": [
    "# On supprime donc ces lignes\n",
    "df = df[~df.index.isin(df[df['Best_Tags'].str.len() == 0].index)]\n",
    "\n",
    "print(f\"Le dataframe contient à présent {df.shape[0]} lignes.\")"
   ]
  },
  {
   "cell_type": "code",
   "execution_count": 16,
   "metadata": {},
   "outputs": [],
   "source": [
    "# # Plot the result\n",
    "# plt.figure(figsize=(15,6))\n",
    "# ax = sns.countplot(x=df.Best_Tags_count)\n",
    "# ax.set_xlabel(\"Best Tags\")\n",
    "# plt.title(\"Number of tags used per question\",\n",
    "#           fontsize=18)\n",
    "# plt.show()"
   ]
  },
  {
   "cell_type": "code",
   "execution_count": 17,
   "metadata": {},
   "outputs": [
    {
     "data": {
      "text/plain": [
       "1    27547\n",
       "2     9569\n",
       "3     1442\n",
       "4      138\n",
       "5       10\n",
       "Name: Best_Tags_count, dtype: int64"
      ]
     },
     "execution_count": 17,
     "metadata": {},
     "output_type": "execute_result"
    }
   ],
   "source": [
    "df.Best_Tags_count.value_counts()"
   ]
  },
  {
   "cell_type": "markdown",
   "metadata": {},
   "source": [
    "Pour finir, nous allons garder les lignes ayant au plus 3 tags. Le déséquilibre de classes sera alors réduit."
   ]
  },
  {
   "cell_type": "code",
   "execution_count": 18,
   "metadata": {},
   "outputs": [
    {
     "data": {
      "image/png": "[encoded data removed]",
      "text/plain": [
       "<Figure size 1080x432 with 1 Axes>"
      ]
     },
     "metadata": {
      "needs_background": "light"
     },
     "output_type": "display_data"
    }
   ],
   "source": [
    "df = df[df['Best_Tags_count']<=3]\n",
    "df['Best_Tags_count'].value_counts().plot(kind='bar',figsize=(15,6))\n",
    "plt.show()"
   ]
  },
  {
   "cell_type": "code",
   "execution_count": 19,
   "metadata": {},
   "outputs": [
    {
     "data": {
      "text/plain": [
       "Index(['Title', 'Body', 'Tags', 'Tags_list', 'Tags_count', 'Best_Tags',\n",
       "       'Best_Tags_count'],\n",
       "      dtype='object')"
      ]
     },
     "execution_count": 19,
     "metadata": {},
     "output_type": "execute_result"
    }
   ],
   "source": [
    "df.columns"
   ]
  },
  {
   "cell_type": "markdown",
   "metadata": {},
   "source": [
    "On peut maintenant supprimer les colonnes redondantes qui ont été créées pour cette première partie de nettoyage des données."
   ]
  },
  {
   "cell_type": "code",
   "execution_count": 54,
   "metadata": {},
   "outputs": [],
   "source": [
    "df = df.drop(['Tags',\n",
    "              'Tags_list',\n",
    "              'Tags_count',\n",
    "#               'Best_Tags_count'\n",
    "             ], axis=1)"
   ]
  },
  {
   "cell_type": "markdown",
   "metadata": {},
   "source": [
    "# <font color=\"blue\" id=section_2> 2. Nettoyage du jeu de données. </font>"
   ]
  },
  {
   "cell_type": "markdown",
   "metadata": {},
   "source": [
    "Pour observer l'effet du néttoyage de texte à chaque étape, on sélectionne une liste d'indices qui nous serviront de marqueurs."
   ]
  },
  {
   "cell_type": "code",
   "execution_count": 21,
   "metadata": {
    "scrolled": false
   },
   "outputs": [
    {
     "data": {
      "text/html": [
       "<div>\n",
       "<style scoped>\n",
       "    .dataframe tbody tr th:only-of-type {\n",
       "        vertical-align: middle;\n",
       "    }\n",
       "\n",
       "    .dataframe tbody tr th {\n",
       "        vertical-align: top;\n",
       "    }\n",
       "\n",
       "    .dataframe thead th {\n",
       "        text-align: right;\n",
       "    }\n",
       "</style>\n",
       "<table border=\"1\" class=\"dataframe\">\n",
       "  <thead>\n",
       "    <tr style=\"text-align: right;\">\n",
       "      <th></th>\n",
       "      <th>Title</th>\n",
       "      <th>Body</th>\n",
       "      <th>Tags</th>\n",
       "      <th>Tags_list</th>\n",
       "      <th>Tags_count</th>\n",
       "      <th>Best_Tags</th>\n",
       "      <th>Best_Tags_count</th>\n",
       "    </tr>\n",
       "    <tr>\n",
       "      <th>Id</th>\n",
       "      <th></th>\n",
       "      <th></th>\n",
       "      <th></th>\n",
       "      <th></th>\n",
       "      <th></th>\n",
       "      <th></th>\n",
       "      <th></th>\n",
       "    </tr>\n",
       "  </thead>\n",
       "  <tbody>\n",
       "    <tr>\n",
       "      <th>198496</th>\n",
       "      <td>Difference between the System.Array.CopyTo() and System.Array.Clone()</td>\n",
       "      <td>&lt;p&gt;What’s the difference between the &lt;code&gt;System.Array.CopyTo()&lt;/code&gt; and &lt;code&gt;System.Array.Clone()&lt;/code&gt;?&lt;/p&gt;\\n</td>\n",
       "      <td>c#,.net,arrays,.net-2.0</td>\n",
       "      <td>[c#, .net, arrays, .net-2.0]</td>\n",
       "      <td>4</td>\n",
       "      <td>[c#, .net, arrays]</td>\n",
       "      <td>3</td>\n",
       "    </tr>\n",
       "    <tr>\n",
       "      <th>3190870</th>\n",
       "      <td>'const string' vs. 'static readonly string' in C#</td>\n",
       "      <td>&lt;p&gt;In C#, what's the difference between&lt;/p&gt;\\n&lt;pre&gt;&lt;code&gt;static readonly string MyStr;\\n&lt;/code&gt;&lt;/pre&gt;\\n&lt;p&gt;and&lt;/p&gt;\\n&lt;pre&gt;&lt;code&gt;const string MyStr;\\n&lt;/code&gt;&lt;/pre&gt;\\n&lt;p&gt;?&lt;/p&gt;\\n</td>\n",
       "      <td>c#</td>\n",
       "      <td>[c#]</td>\n",
       "      <td>1</td>\n",
       "      <td>[c#]</td>\n",
       "      <td>1</td>\n",
       "    </tr>\n",
       "    <tr>\n",
       "      <th>4083351</th>\n",
       "      <td>What does jQuery.fn mean?</td>\n",
       "      <td>&lt;p&gt;What does the &lt;code&gt;fn&lt;/code&gt; here mean?&lt;/p&gt;\\n\\n&lt;pre&gt;&lt;code&gt;jQuery.fn.jquery\\n&lt;/code&gt;&lt;/pre&gt;\\n</td>\n",
       "      <td>javascript,jquery</td>\n",
       "      <td>[javascript, jquery]</td>\n",
       "      <td>2</td>\n",
       "      <td>[javascript, jquery]</td>\n",
       "      <td>2</td>\n",
       "    </tr>\n",
       "    <tr>\n",
       "      <th>21396524</th>\n",
       "      <td>What is the difference between “assert”, “expect”, and “should” in Chai?</td>\n",
       "      <td>&lt;p&gt;What is the difference between &lt;code&gt;assert&lt;/code&gt;, &lt;code&gt;expect&lt;/code&gt;, and &lt;code&gt;should&lt;/code&gt;? When to use what?&lt;/p&gt;\\n&lt;pre class=\"lang-js prettyprint-override\"&gt;&lt;code&gt;assert.equal(3, '3', '== coerces values to strings');\\n    \\nvar foo = 'bar';\\n    \\nexpect(foo).to.equal('bar');\\n    \\nfoo.should.equal('bar');\\n&lt;/code&gt;&lt;/pre&gt;\\n</td>\n",
       "      <td>javascript,mocha.js,chai</td>\n",
       "      <td>[javascript, mocha.js, chai]</td>\n",
       "      <td>3</td>\n",
       "      <td>[javascript]</td>\n",
       "      <td>1</td>\n",
       "    </tr>\n",
       "    <tr>\n",
       "      <th>36901</th>\n",
       "      <td>What does ** (double star/asterisk) and * (star/asterisk) do for parameters?</td>\n",
       "      <td>&lt;p&gt;What do &lt;code&gt;*args&lt;/code&gt; and &lt;code&gt;**kwargs&lt;/code&gt; mean?&lt;/p&gt;\\n&lt;pre&gt;&lt;code&gt;def foo(x, y, *args):\\ndef bar(x, y, **kwargs):\\n&lt;/code&gt;&lt;/pre&gt;\\n</td>\n",
       "      <td>python,syntax,parameter-passing,variadic-functions,argument-unpacking</td>\n",
       "      <td>[python, syntax, parameter-passing, variadic-functions, argument-unpacking]</td>\n",
       "      <td>5</td>\n",
       "      <td>[python]</td>\n",
       "      <td>1</td>\n",
       "    </tr>\n",
       "    <tr>\n",
       "      <th>3366506</th>\n",
       "      <td>Extract p-value from aov</td>\n",
       "      <td>&lt;p&gt;I am looking to extract the p-value generated from an anova in R.  &lt;/p&gt;\\n\\n&lt;p&gt;Here is what I am running:&lt;/p&gt;\\n\\n&lt;pre&gt;&lt;code&gt;test &amp;lt;- aov(asq[,9] ~ asq[,187])\\nsummary(test)\\n&lt;/code&gt;&lt;/pre&gt;\\n\\n&lt;p&gt;Yields:&lt;/p&gt;\\n\\n&lt;pre&gt;&lt;code&gt;              Df Sum Sq Mean Sq F value    Pr(&amp;gt;F)    \\nasq[, 187]     1   3.02 3.01951  12.333 0.0004599 ***\\nResiduals   1335 326.85 0.24483                      \\n---\\nSignif. codes:  0 '***' 0.001 '**' 0.01 '*' 0.05 '.' 0.1 ' ' 1 \\n12 observations deleted due to missingness\\n&lt;/code&gt;&lt;/pre&gt;\\n\\n&lt;p&gt;When I look a the structure, this is what I see.  I usually can work through lists to get what I need, but I am having a hard time with this one.  A Google searched also seemed to reveal much simpler structures than I am getting.&lt;/p&gt;\\n\\n&lt;p&gt;NOTE: ASQ is my data frame.&lt;/p&gt;\\n\\n&lt;pre&gt;&lt;code&gt;str(test)\\n\\nList of 13\\n $ coefficients : Named num [1:2] 0.2862 0.0973\\n  ..- attr(*, \"names\")= chr [1:2] \"(Intercept)\" \"asq[, 187]\"\\n $ residuals    : Named num [1:1337] 0.519 0.519 -0.481 -0.481 -0.481 ...\\n  ..- attr(*, \"names\")= chr [1:1337] \"1\" \"2\" \"3\" \"4\" ...\\n $ effects      : Named num [1:1337] -16.19 -1.738 -0.505 -0.505 -0.505 ...\\n  ..- attr(*, \"names\")= chr [1:1337] \"(Intercept)\" \"asq[, 187]\" \"\" \"\" ...\\n $ rank         : int 2\\n $ fitted.values: Named num [1:1337] 0.481 0.481 0.481 0.481 0.481 ...\\n  ..- attr(*, \"names\")= chr [1:1337] \"1\" \"2\" \"3\" \"4\" ...\\n $ assign       : int [1:2] 0 1\\n $ qr           :List of 5\\n  ..$ qr   : num [1:1337, 1:2] -36.565 0.0273 0.0273 0.0273 0.0273 ...\\n  .. ..- attr(*, \"dimnames\")=List of 2\\n  .. .. ..$ : chr [1:1337] \"1\" \"2\" \"3\" \"4\" ...\\n  .. .. ..$ : chr [1:2] \"(Intercept)\" \"asq[, 187]\"\\n  .. ..- attr(*, \"assign\")= int [1:2] 0 1\\n  ..$ qraux: num [1:2] 1.03 1.02\\n  ..$ pivot: int [1:2] 1 2\\n  ..$ tol  : num 1e-07\\n  ..$ rank : int 2\\n  ..- attr(*, \"class\")= chr \"qr\"\\n $ df.residual  : int 1335\\n $ na.action    :Class 'omit'  Named int [1:12] 26 257 352 458 508 624 820 874 1046 1082 ...\\n  .. ..- attr(*, \"names\")= chr [1:12] \"26\" \"257\" \"352\" \"458\" ...\\n $ xlevels      : list()\\n $ call         : language aov(formula = asq[, 9] ~ asq[, 187])\\n $ terms        :Classes 'terms', 'formula' length 3 asq[, 9] ~ asq[, 187]\\n  .. ..- attr(*, \"variables\")= language list(asq[, 9], asq[, 187])\\n  .. ..- attr(*, \"factors\")= int [1:2, 1] 0 1\\n  .. .. ..- attr(*, \"dimnames\")=List of 2\\n  .. .. .. ..$ : chr [1:2] \"asq[, 9]\" \"asq[, 187]\"\\n  .. .. .. ..$ : chr \"asq[, 187]\"\\n  .. ..- attr(*, \"term.labels\")= chr \"asq[, 187]\"\\n  .. ..- attr(*, \"order\")= int 1\\n  .. ..- attr(*, \"intercept\")= int 1\\n  .. ..- attr(*, \"response\")= int 1\\n  .. ..- attr(*, \".Environment\")=&amp;lt;environment: R_GlobalEnv&amp;gt; \\n  .. ..- attr(*, \"predvars\")= language list(asq[, 9], asq[, 187])\\n  .. ..- attr(*, \"dataClasses\")= Named chr [1:2] \"numeric\" \"numeric\"\\n  .. .. ..- attr(*, \"names\")= chr [1:2] \"asq[, 9]\" \"asq[, 187]\"\\n $ model        :'data.frame':  1337 obs. of  2 variables:\\n  ..$ asq[, 9]  : int [1:1337] 1 1 0 0 0 1 1 1 0 0 ...\\n  ..$ asq[, 187]: int [1:1337] 2 2 2 2 2 2 2 2 2 2 ...\\n  ..- attr(*, \"terms\")=Classes 'terms', 'formula' length 3 asq[, 9] ~ asq[, 187]\\n  .. .. ..- attr(*, \"variables\")= language list(asq[, 9], asq[, 187])\\n  .. .. ..- attr(*, \"factors\")= int [1:2, 1] 0 1\\n  .. .. .. ..- attr(*, \"dimnames\")=List of 2\\n  .. .. .. .. ..$ : chr [1:2] \"asq[, 9]\" \"asq[, 187]\"\\n  .. .. .. .. ..$ : chr \"asq[, 187]\"\\n  .. .. ..- attr(*, \"term.labels\")= chr \"asq[, 187]\"\\n  .. .. ..- attr(*, \"order\")= int 1\\n  .. .. ..- attr(*, \"intercept\")= int 1\\n  .. .. ..- attr(*, \"response\")= int 1\\n  .. .. ..- attr(*, \".Environment\")=&amp;lt;environment: R_GlobalEnv&amp;gt; \\n  .. .. ..- attr(*, \"predvars\")= language list(asq[, 9], asq[, 187])\\n  .. .. ..- attr(*, \"dataClasses\")= Named chr [1:2] \"numeric\" \"numeric\"\\n  .. .. .. ..- attr(*, \"names\")= chr [1:2] \"asq[, 9]\" \"asq[, 187]\"\\n  ..- attr(*, \"na.action\")=Class 'omit'  Named int [1:12] 26 257 352 458 508 624 820 874 1046 1082 ...\\n  .. .. ..- attr(*, \"names\")= chr [1:12] \"26\" \"257\" \"352\" \"458\" ...\\n - attr(*, \"class\")= chr [1:2] \"aov\" \"lm\"\\n&lt;/code&gt;&lt;/pre&gt;\\n</td>\n",
       "      <td>r,anova</td>\n",
       "      <td>[r, anova]</td>\n",
       "      <td>2</td>\n",
       "      <td>[r]</td>\n",
       "      <td>1</td>\n",
       "    </tr>\n",
       "    <tr>\n",
       "      <th>428884</th>\n",
       "      <td>How to play MP3 files in C?</td>\n",
       "      <td>&lt;p&gt;I'm looking for the easiest way to play a MP3 file in C. I am looking for either a library, in which I could just call the function on the filename, or an executable that will just run and quit. Please suggest.&lt;/p&gt;\\n</td>\n",
       "      <td>c,mp3</td>\n",
       "      <td>[c, mp3]</td>\n",
       "      <td>2</td>\n",
       "      <td>[c]</td>\n",
       "      <td>1</td>\n",
       "    </tr>\n",
       "    <tr>\n",
       "      <th>45469214</th>\n",
       "      <td>Why does the most negative int value cause an error about ambiguous function overloads?</td>\n",
       "      <td>&lt;p&gt;I'm learning about function overloading in C++ and came across this:&lt;/p&gt;\\n\\n&lt;pre&gt;&lt;code&gt;void display(int a)\\n{\\n    cout &amp;lt;&amp;lt; \"int\" &amp;lt;&amp;lt; endl;\\n}\\n\\nvoid display(unsigned a)\\n{\\n    cout &amp;lt;&amp;lt; \"unsigned\" &amp;lt;&amp;lt; endl;\\n}\\n\\nint main()\\n{\\n    int i = -2147483648;\\n    cout &amp;lt;&amp;lt; i &amp;lt;&amp;lt; endl; //will display -2147483648\\n    display(-2147483648);\\n}\\n&lt;/code&gt;&lt;/pre&gt;\\n\\n&lt;p&gt;From what I understood, any value given in the &lt;code&gt;int&lt;/code&gt; range (in my case &lt;code&gt;int&lt;/code&gt; is 4 byte) will call &lt;code&gt;display(int)&lt;/code&gt; and any value outside this range will be ambiguous (since the compiler cannot decide which function to call). It is valid for the complete range of &lt;code&gt;int&lt;/code&gt; values except its min value i.e. &lt;code&gt;-2147483648&lt;/code&gt; where compilation fails with the error&lt;/p&gt;\\n\\n&lt;blockquote&gt;\\n  &lt;p&gt;call of overloaded &lt;code&gt;display(long int)&lt;/code&gt; is ambiguous&lt;/p&gt;\\n&lt;/blockquote&gt;\\n\\n&lt;p&gt;But taking the same value to an &lt;code&gt;int&lt;/code&gt; and printing the value gives &lt;code&gt;2147483648&lt;/code&gt;. I'm literally confused with this behavior.&lt;/p&gt;\\n\\n&lt;p&gt;Why is this behavior observed only when the most negative number is passed? (The behavior is the same if a &lt;code&gt;short&lt;/code&gt; is used with &lt;code&gt;-32768&lt;/code&gt; - in fact, in any case where the negative number and positive number have the same binary representation)&lt;/p&gt;\\n\\n&lt;p&gt;Compiler used: g++ (GCC) 4.8.5&lt;/p&gt;\\n</td>\n",
       "      <td>c++,integer,overloading,negative-number,ambiguous-call</td>\n",
       "      <td>[c++, integer, overloading, negative-number, ambiguous-call]</td>\n",
       "      <td>5</td>\n",
       "      <td>[c++]</td>\n",
       "      <td>1</td>\n",
       "    </tr>\n",
       "  </tbody>\n",
       "</table>\n",
       "</div>"
      ],
      "text/plain": [
       "                                                                                            Title  \\\n",
       "Id                                                                                                  \n",
       "198496                      Difference between the System.Array.CopyTo() and System.Array.Clone()   \n",
       "3190870                                         'const string' vs. 'static readonly string' in C#   \n",
       "4083351                                                                 What does jQuery.fn mean?   \n",
       "21396524                 What is the difference between “assert”, “expect”, and “should” in Chai?   \n",
       "36901                What does ** (double star/asterisk) and * (star/asterisk) do for parameters?   \n",
       "3366506                                                                  Extract p-value from aov   \n",
       "428884                                                                How to play MP3 files in C?   \n",
       "45469214  Why does the most negative int value cause an error about ambiguous function overloads?   \n",
       "\n",
       "                                                                                                                                                                                                                                                                                                                                                                                                                                                                                                                                                                                                                                                                                                                                                                                                                                                                                                                                                                                                                                                                                                                                                                                                                                                                                                                                                                                                                                                                                                                                                                                                                                                                                                                                                                                                                                                                                                                                                                                                                                                                                                                                                                                                                                                                                                                                                                                                                                                                                                                                                                                                                                                                                                                                                                                                                                                                                                                                                                                                                                                                                                                                                                                                                                                                                                                                                                                                                                                                                                                                                                                                                                                                                                                                                                                                                                                                                                                                                                                                                                                                                                                                                                                                                                               Body  \\\n",
       "Id                                                                                                                                                                                                                                                                                                                                                                                                                                                                                                                                                                                                                                                                                                                                                                                                                                                                                                                                                                                                                                                                                                                                                                                                                                                                                                                                                                                                                                                                                                                                                                                                                                                                                                                                                                                                                                                                                                                                                                                                                                                                                                                                                                                                                                                                                                                                                                                                                                                                                                                                                                                                                                                                                                                                                                                                                                                                                                                                                                                                                                                                                                                                                                                                                                                                                                                                                                                                                                                                                                                                                                                                                                                                                                                                                                                                                                                                                                                                                                                                                                                                                                                                                                                                                                                    \n",
       "198496                                                                                                                                                                                                                                                                                                                                                                                                                                                                                                                                                                                                                                                                                                                                                                                                                                                                                                                                                                                                                                                                                                                                                                                                                                                                                                                                                                                                                                                                                                                                                                                                                                                                                                                                                                                                                                                                                                                                                                                                                                                                                                                                                                                                                                                                                                                                                                                                                                                                                                                                                                                                                                                                                                                                                                                                                                                                                                                                                                                                                                                                                                                                                                                                                                                                                                                                                                                                                                                                                                                                                                                                                                                                                                                                                                                                                                                                                                                                                                                                                                                                                                                         <p>What’s the difference between the <code>System.Array.CopyTo()</code> and <code>System.Array.Clone()</code>?</p>\\n   \n",
       "3190870                                                                                                                                                                                                                                                                                                                                                                                                                                                                                                                                                                                                                                                                                                                                                                                                                                                                                                                                                                                                                                                                                                                                                                                                                                                                                                                                                                                                                                                                                                                                                                                                                                                                                                                                                                                                                                                                                                                                                                                                                                                                                                                                                                                                                                                                                                                                                                                                                                                                                                                                                                                                                                                                                                                                                                                                                                                                                                                                                                                                                                                                                                                                                                                                                                                                                                                                                                                                                                                                                                                                                                                                                                                                                                                                                                                                                                                                                                                                                                                                                                                                 <p>In C#, what's the difference between</p>\\n<pre><code>static readonly string MyStr;\\n</code></pre>\\n<p>and</p>\\n<pre><code>const string MyStr;\\n</code></pre>\\n<p>?</p>\\n   \n",
       "4083351                                                                                                                                                                                                                                                                                                                                                                                                                                                                                                                                                                                                                                                                                                                                                                                                                                                                                                                                                                                                                                                                                                                                                                                                                                                                                                                                                                                                                                                                                                                                                                                                                                                                                                                                                                                                                                                                                                                                                                                                                                                                                                                                                                                                                                                                                                                                                                                                                                                                                                                                                                                                                                                                                                                                                                                                                                                                                                                                                                                                                                                                                                                                                                                                                                                                                                                                                                                                                                                                                                                                                                                                                                                                                                                                                                                                                                                                                                                                                                                                                                                                                                                                             <p>What does the <code>fn</code> here mean?</p>\\n\\n<pre><code>jQuery.fn.jquery\\n</code></pre>\\n   \n",
       "21396524                                                                                                                                                                                                                                                                                                                                                                                                                                                                                                                                                                                                                                                                                                                                                                                                                                                                                                                                                                                                                                                                                                                                                                                                                                                                                                                                                                                                                                                                                                                                                                                                                                                                                                                                                                                                                                                                                                                                                                                                                                                                                                                                                                                                                                                                                                                                                                                                                                                                                                                                                                                                                                                                                                                                                                                                                                                                                                                                                                                                                                                                                                                                                                                                                                                                                                                                                                                                                                                                                                                                                                                                                                                                                                                                                                                                                                                                                             <p>What is the difference between <code>assert</code>, <code>expect</code>, and <code>should</code>? When to use what?</p>\\n<pre class=\"lang-js prettyprint-override\"><code>assert.equal(3, '3', '== coerces values to strings');\\n    \\nvar foo = 'bar';\\n    \\nexpect(foo).to.equal('bar');\\n    \\nfoo.should.equal('bar');\\n</code></pre>\\n   \n",
       "36901                                                                                                                                                                                                                                                                                                                                                                                                                                                                                                                                                                                                                                                                                                                                                                                                                                                                                                                                                                                                                                                                                                                                                                                                                                                                                                                                                                                                                                                                                                                                                                                                                                                                                                                                                                                                                                                                                                                                                                                                                                                                                                                                                                                                                                                                                                                                                                                                                                                                                                                                                                                                                                                                                                                                                                                                                                                                                                                                                                                                                                                                                                                                                                                                                                                                                                                                                                                                                                                                                                                                                                                                                                                                                                                                                                                                                                                                                                                                                                                                                                                                                                <p>What do <code>*args</code> and <code>**kwargs</code> mean?</p>\\n<pre><code>def foo(x, y, *args):\\ndef bar(x, y, **kwargs):\\n</code></pre>\\n   \n",
       "3366506   <p>I am looking to extract the p-value generated from an anova in R.  </p>\\n\\n<p>Here is what I am running:</p>\\n\\n<pre><code>test &lt;- aov(asq[,9] ~ asq[,187])\\nsummary(test)\\n</code></pre>\\n\\n<p>Yields:</p>\\n\\n<pre><code>              Df Sum Sq Mean Sq F value    Pr(&gt;F)    \\nasq[, 187]     1   3.02 3.01951  12.333 0.0004599 ***\\nResiduals   1335 326.85 0.24483                      \\n---\\nSignif. codes:  0 '***' 0.001 '**' 0.01 '*' 0.05 '.' 0.1 ' ' 1 \\n12 observations deleted due to missingness\\n</code></pre>\\n\\n<p>When I look a the structure, this is what I see.  I usually can work through lists to get what I need, but I am having a hard time with this one.  A Google searched also seemed to reveal much simpler structures than I am getting.</p>\\n\\n<p>NOTE: ASQ is my data frame.</p>\\n\\n<pre><code>str(test)\\n\\nList of 13\\n $ coefficients : Named num [1:2] 0.2862 0.0973\\n  ..- attr(*, \"names\")= chr [1:2] \"(Intercept)\" \"asq[, 187]\"\\n $ residuals    : Named num [1:1337] 0.519 0.519 -0.481 -0.481 -0.481 ...\\n  ..- attr(*, \"names\")= chr [1:1337] \"1\" \"2\" \"3\" \"4\" ...\\n $ effects      : Named num [1:1337] -16.19 -1.738 -0.505 -0.505 -0.505 ...\\n  ..- attr(*, \"names\")= chr [1:1337] \"(Intercept)\" \"asq[, 187]\" \"\" \"\" ...\\n $ rank         : int 2\\n $ fitted.values: Named num [1:1337] 0.481 0.481 0.481 0.481 0.481 ...\\n  ..- attr(*, \"names\")= chr [1:1337] \"1\" \"2\" \"3\" \"4\" ...\\n $ assign       : int [1:2] 0 1\\n $ qr           :List of 5\\n  ..$ qr   : num [1:1337, 1:2] -36.565 0.0273 0.0273 0.0273 0.0273 ...\\n  .. ..- attr(*, \"dimnames\")=List of 2\\n  .. .. ..$ : chr [1:1337] \"1\" \"2\" \"3\" \"4\" ...\\n  .. .. ..$ : chr [1:2] \"(Intercept)\" \"asq[, 187]\"\\n  .. ..- attr(*, \"assign\")= int [1:2] 0 1\\n  ..$ qraux: num [1:2] 1.03 1.02\\n  ..$ pivot: int [1:2] 1 2\\n  ..$ tol  : num 1e-07\\n  ..$ rank : int 2\\n  ..- attr(*, \"class\")= chr \"qr\"\\n $ df.residual  : int 1335\\n $ na.action    :Class 'omit'  Named int [1:12] 26 257 352 458 508 624 820 874 1046 1082 ...\\n  .. ..- attr(*, \"names\")= chr [1:12] \"26\" \"257\" \"352\" \"458\" ...\\n $ xlevels      : list()\\n $ call         : language aov(formula = asq[, 9] ~ asq[, 187])\\n $ terms        :Classes 'terms', 'formula' length 3 asq[, 9] ~ asq[, 187]\\n  .. ..- attr(*, \"variables\")= language list(asq[, 9], asq[, 187])\\n  .. ..- attr(*, \"factors\")= int [1:2, 1] 0 1\\n  .. .. ..- attr(*, \"dimnames\")=List of 2\\n  .. .. .. ..$ : chr [1:2] \"asq[, 9]\" \"asq[, 187]\"\\n  .. .. .. ..$ : chr \"asq[, 187]\"\\n  .. ..- attr(*, \"term.labels\")= chr \"asq[, 187]\"\\n  .. ..- attr(*, \"order\")= int 1\\n  .. ..- attr(*, \"intercept\")= int 1\\n  .. ..- attr(*, \"response\")= int 1\\n  .. ..- attr(*, \".Environment\")=&lt;environment: R_GlobalEnv&gt; \\n  .. ..- attr(*, \"predvars\")= language list(asq[, 9], asq[, 187])\\n  .. ..- attr(*, \"dataClasses\")= Named chr [1:2] \"numeric\" \"numeric\"\\n  .. .. ..- attr(*, \"names\")= chr [1:2] \"asq[, 9]\" \"asq[, 187]\"\\n $ model        :'data.frame':  1337 obs. of  2 variables:\\n  ..$ asq[, 9]  : int [1:1337] 1 1 0 0 0 1 1 1 0 0 ...\\n  ..$ asq[, 187]: int [1:1337] 2 2 2 2 2 2 2 2 2 2 ...\\n  ..- attr(*, \"terms\")=Classes 'terms', 'formula' length 3 asq[, 9] ~ asq[, 187]\\n  .. .. ..- attr(*, \"variables\")= language list(asq[, 9], asq[, 187])\\n  .. .. ..- attr(*, \"factors\")= int [1:2, 1] 0 1\\n  .. .. .. ..- attr(*, \"dimnames\")=List of 2\\n  .. .. .. .. ..$ : chr [1:2] \"asq[, 9]\" \"asq[, 187]\"\\n  .. .. .. .. ..$ : chr \"asq[, 187]\"\\n  .. .. ..- attr(*, \"term.labels\")= chr \"asq[, 187]\"\\n  .. .. ..- attr(*, \"order\")= int 1\\n  .. .. ..- attr(*, \"intercept\")= int 1\\n  .. .. ..- attr(*, \"response\")= int 1\\n  .. .. ..- attr(*, \".Environment\")=&lt;environment: R_GlobalEnv&gt; \\n  .. .. ..- attr(*, \"predvars\")= language list(asq[, 9], asq[, 187])\\n  .. .. ..- attr(*, \"dataClasses\")= Named chr [1:2] \"numeric\" \"numeric\"\\n  .. .. .. ..- attr(*, \"names\")= chr [1:2] \"asq[, 9]\" \"asq[, 187]\"\\n  ..- attr(*, \"na.action\")=Class 'omit'  Named int [1:12] 26 257 352 458 508 624 820 874 1046 1082 ...\\n  .. .. ..- attr(*, \"names\")= chr [1:12] \"26\" \"257\" \"352\" \"458\" ...\\n - attr(*, \"class\")= chr [1:2] \"aov\" \"lm\"\\n</code></pre>\\n   \n",
       "428884                                                                                                                                                                                                                                                                                                                                                                                                                                                                                                                                                                                                                                                                                                                                                                                                                                                                                                                                                                                                                                                                                                                                                                                                                                                                                                                                                                                                                                                                                                                                                                                                                                                                                                                                                                                                                                                                                                                                                                                                                                                                                                                                                                                                                                                                                                                                                                                                                                                                                                                                                                                                                                                                                                                                                                                                                                                                                                                                                                                                                                                                                                                                                                                                                                                                                                                                                                                                                                                                                                                                                                                                                                                                                                                                                                                                                                                                                                                                                                                                                  <p>I'm looking for the easiest way to play a MP3 file in C. I am looking for either a library, in which I could just call the function on the filename, or an executable that will just run and quit. Please suggest.</p>\\n   \n",
       "45469214                                                                                                                                                                                                                                                                                                                                                                                                                                                                                                                                                                                                                                                                                                                                                                                                                                                                                                                                                                                                                                                                                                                                                                                                                                                                                                                                                                                                                                                                                                                                                                                                                                                                                                                                                                                                                                                                                                                                                                                                                                                                                                                                                                                                                                                                                                                                                                                                                                                                                                                                                                                                                                                                                                                                                                                                      <p>I'm learning about function overloading in C++ and came across this:</p>\\n\\n<pre><code>void display(int a)\\n{\\n    cout &lt;&lt; \"int\" &lt;&lt; endl;\\n}\\n\\nvoid display(unsigned a)\\n{\\n    cout &lt;&lt; \"unsigned\" &lt;&lt; endl;\\n}\\n\\nint main()\\n{\\n    int i = -2147483648;\\n    cout &lt;&lt; i &lt;&lt; endl; //will display -2147483648\\n    display(-2147483648);\\n}\\n</code></pre>\\n\\n<p>From what I understood, any value given in the <code>int</code> range (in my case <code>int</code> is 4 byte) will call <code>display(int)</code> and any value outside this range will be ambiguous (since the compiler cannot decide which function to call). It is valid for the complete range of <code>int</code> values except its min value i.e. <code>-2147483648</code> where compilation fails with the error</p>\\n\\n<blockquote>\\n  <p>call of overloaded <code>display(long int)</code> is ambiguous</p>\\n</blockquote>\\n\\n<p>But taking the same value to an <code>int</code> and printing the value gives <code>2147483648</code>. I'm literally confused with this behavior.</p>\\n\\n<p>Why is this behavior observed only when the most negative number is passed? (The behavior is the same if a <code>short</code> is used with <code>-32768</code> - in fact, in any case where the negative number and positive number have the same binary representation)</p>\\n\\n<p>Compiler used: g++ (GCC) 4.8.5</p>\\n   \n",
       "\n",
       "                                                                           Tags  \\\n",
       "Id                                                                                \n",
       "198496                                                  c#,.net,arrays,.net-2.0   \n",
       "3190870                                                                      c#   \n",
       "4083351                                                       javascript,jquery   \n",
       "21396524                                               javascript,mocha.js,chai   \n",
       "36901     python,syntax,parameter-passing,variadic-functions,argument-unpacking   \n",
       "3366506                                                                 r,anova   \n",
       "428884                                                                    c,mp3   \n",
       "45469214                 c++,integer,overloading,negative-number,ambiguous-call   \n",
       "\n",
       "                                                                            Tags_list  \\\n",
       "Id                                                                                      \n",
       "198496                                                   [c#, .net, arrays, .net-2.0]   \n",
       "3190870                                                                          [c#]   \n",
       "4083351                                                          [javascript, jquery]   \n",
       "21396524                                                 [javascript, mocha.js, chai]   \n",
       "36901     [python, syntax, parameter-passing, variadic-functions, argument-unpacking]   \n",
       "3366506                                                                    [r, anova]   \n",
       "428884                                                                       [c, mp3]   \n",
       "45469214                 [c++, integer, overloading, negative-number, ambiguous-call]   \n",
       "\n",
       "          Tags_count             Best_Tags  Best_Tags_count  \n",
       "Id                                                           \n",
       "198496             4    [c#, .net, arrays]                3  \n",
       "3190870            1                  [c#]                1  \n",
       "4083351            2  [javascript, jquery]                2  \n",
       "21396524           3          [javascript]                1  \n",
       "36901              5              [python]                1  \n",
       "3366506            2                   [r]                1  \n",
       "428884             2                   [c]                1  \n",
       "45469214           5                 [c++]                1  "
      ]
     },
     "execution_count": 21,
     "metadata": {},
     "output_type": "execute_result"
    }
   ],
   "source": [
    "idx_list = [198496,  3190870,  4083351, 21396524, 36901,  3366506, 428884,  45469214] # 4730787, 1320264\n",
    "df.loc[idx_list] "
   ]
  },
  {
   "cell_type": "raw",
   "metadata": {},
   "source": [
    "toto_df = df.loc[idx_list]"
   ]
  },
  {
   "cell_type": "markdown",
   "metadata": {},
   "source": [
    "# <font color=\"blue\" id=section_2_1> 2.1 Suppression des codes et balises HTML. </font>"
   ]
  },
  {
   "cell_type": "code",
   "execution_count": 22,
   "metadata": {
    "scrolled": true
   },
   "outputs": [
    {
     "name": "stderr",
     "output_type": "stream",
     "text": [
      "100%|██████████| 38558/38558 [00:23<00:00, 1643.56it/s]\n"
     ]
    }
   ],
   "source": [
    "from bs4 import BeautifulSoup\n",
    "\n",
    "def remove_code(x):\n",
    "    \"\"\"Function based on the Beautifulsoup library intended to replace \n",
    "    the content of all the <code> </code> tags of a text specified as a parameter.\n",
    "\n",
    "    Parameters\n",
    "    ----------------------------------------\n",
    "    x : string\n",
    "        Sequence of characters to modify.\n",
    "    ----------------------------------------\n",
    "    \"\"\"\n",
    "    soup = BeautifulSoup(x,\"lxml\")\n",
    "    code_to_remove = soup.findAll(\"code\")\n",
    "    for code in code_to_remove:\n",
    "        code.replace_with(\" \")\n",
    "    return str(soup)\n",
    "\n",
    "df['Body'] = df['Body'].progress_apply(remove_code)"
   ]
  },
  {
   "cell_type": "code",
   "execution_count": 23,
   "metadata": {},
   "outputs": [
    {
     "data": {
      "text/html": [
       "<div>\n",
       "<style scoped>\n",
       "    .dataframe tbody tr th:only-of-type {\n",
       "        vertical-align: middle;\n",
       "    }\n",
       "\n",
       "    .dataframe tbody tr th {\n",
       "        vertical-align: top;\n",
       "    }\n",
       "\n",
       "    .dataframe thead th {\n",
       "        text-align: right;\n",
       "    }\n",
       "</style>\n",
       "<table border=\"1\" class=\"dataframe\">\n",
       "  <thead>\n",
       "    <tr style=\"text-align: right;\">\n",
       "      <th></th>\n",
       "      <th>Title</th>\n",
       "      <th>Body</th>\n",
       "      <th>Tags</th>\n",
       "      <th>Tags_list</th>\n",
       "      <th>Tags_count</th>\n",
       "      <th>Best_Tags</th>\n",
       "      <th>Best_Tags_count</th>\n",
       "    </tr>\n",
       "    <tr>\n",
       "      <th>Id</th>\n",
       "      <th></th>\n",
       "      <th></th>\n",
       "      <th></th>\n",
       "      <th></th>\n",
       "      <th></th>\n",
       "      <th></th>\n",
       "      <th></th>\n",
       "    </tr>\n",
       "  </thead>\n",
       "  <tbody>\n",
       "    <tr>\n",
       "      <th>198496</th>\n",
       "      <td>Difference between the System.Array.CopyTo() and System.Array.Clone()</td>\n",
       "      <td>&lt;html&gt;&lt;body&gt;&lt;p&gt;What’s the difference between the   and  ?&lt;/p&gt;\\n&lt;/body&gt;&lt;/html&gt;</td>\n",
       "      <td>c#,.net,arrays,.net-2.0</td>\n",
       "      <td>[c#, .net, arrays, .net-2.0]</td>\n",
       "      <td>4</td>\n",
       "      <td>[c#, .net, arrays]</td>\n",
       "      <td>3</td>\n",
       "    </tr>\n",
       "    <tr>\n",
       "      <th>3190870</th>\n",
       "      <td>'const string' vs. 'static readonly string' in C#</td>\n",
       "      <td>&lt;html&gt;&lt;body&gt;&lt;p&gt;In C#, what's the difference between&lt;/p&gt;\\n&lt;pre&gt; &lt;/pre&gt;\\n&lt;p&gt;and&lt;/p&gt;\\n&lt;pre&gt; &lt;/pre&gt;\\n&lt;p&gt;?&lt;/p&gt;\\n&lt;/body&gt;&lt;/html&gt;</td>\n",
       "      <td>c#</td>\n",
       "      <td>[c#]</td>\n",
       "      <td>1</td>\n",
       "      <td>[c#]</td>\n",
       "      <td>1</td>\n",
       "    </tr>\n",
       "    <tr>\n",
       "      <th>4083351</th>\n",
       "      <td>What does jQuery.fn mean?</td>\n",
       "      <td>&lt;html&gt;&lt;body&gt;&lt;p&gt;What does the   here mean?&lt;/p&gt;\\n&lt;pre&gt; &lt;/pre&gt;\\n&lt;/body&gt;&lt;/html&gt;</td>\n",
       "      <td>javascript,jquery</td>\n",
       "      <td>[javascript, jquery]</td>\n",
       "      <td>2</td>\n",
       "      <td>[javascript, jquery]</td>\n",
       "      <td>2</td>\n",
       "    </tr>\n",
       "    <tr>\n",
       "      <th>21396524</th>\n",
       "      <td>What is the difference between “assert”, “expect”, and “should” in Chai?</td>\n",
       "      <td>&lt;html&gt;&lt;body&gt;&lt;p&gt;What is the difference between  ,  , and  ? When to use what?&lt;/p&gt;\\n&lt;pre class=\"lang-js prettyprint-override\"&gt; &lt;/pre&gt;\\n&lt;/body&gt;&lt;/html&gt;</td>\n",
       "      <td>javascript,mocha.js,chai</td>\n",
       "      <td>[javascript, mocha.js, chai]</td>\n",
       "      <td>3</td>\n",
       "      <td>[javascript]</td>\n",
       "      <td>1</td>\n",
       "    </tr>\n",
       "    <tr>\n",
       "      <th>36901</th>\n",
       "      <td>What does ** (double star/asterisk) and * (star/asterisk) do for parameters?</td>\n",
       "      <td>&lt;html&gt;&lt;body&gt;&lt;p&gt;What do   and   mean?&lt;/p&gt;\\n&lt;pre&gt; &lt;/pre&gt;\\n&lt;/body&gt;&lt;/html&gt;</td>\n",
       "      <td>python,syntax,parameter-passing,variadic-functions,argument-unpacking</td>\n",
       "      <td>[python, syntax, parameter-passing, variadic-functions, argument-unpacking]</td>\n",
       "      <td>5</td>\n",
       "      <td>[python]</td>\n",
       "      <td>1</td>\n",
       "    </tr>\n",
       "    <tr>\n",
       "      <th>3366506</th>\n",
       "      <td>Extract p-value from aov</td>\n",
       "      <td>&lt;html&gt;&lt;body&gt;&lt;p&gt;I am looking to extract the p-value generated from an anova in R.  &lt;/p&gt;\\n&lt;p&gt;Here is what I am running:&lt;/p&gt;\\n&lt;pre&gt; &lt;/pre&gt;\\n&lt;p&gt;Yields:&lt;/p&gt;\\n&lt;pre&gt; &lt;/pre&gt;\\n&lt;p&gt;When I look a the structure, this is what I see.  I usually can work through lists to get what I need, but I am having a hard time with this one.  A Google searched also seemed to reveal much simpler structures than I am getting.&lt;/p&gt;\\n&lt;p&gt;NOTE: ASQ is my data frame.&lt;/p&gt;\\n&lt;pre&gt; &lt;/pre&gt;\\n&lt;/body&gt;&lt;/html&gt;</td>\n",
       "      <td>r,anova</td>\n",
       "      <td>[r, anova]</td>\n",
       "      <td>2</td>\n",
       "      <td>[r]</td>\n",
       "      <td>1</td>\n",
       "    </tr>\n",
       "    <tr>\n",
       "      <th>428884</th>\n",
       "      <td>How to play MP3 files in C?</td>\n",
       "      <td>&lt;html&gt;&lt;body&gt;&lt;p&gt;I'm looking for the easiest way to play a MP3 file in C. I am looking for either a library, in which I could just call the function on the filename, or an executable that will just run and quit. Please suggest.&lt;/p&gt;\\n&lt;/body&gt;&lt;/html&gt;</td>\n",
       "      <td>c,mp3</td>\n",
       "      <td>[c, mp3]</td>\n",
       "      <td>2</td>\n",
       "      <td>[c]</td>\n",
       "      <td>1</td>\n",
       "    </tr>\n",
       "    <tr>\n",
       "      <th>45469214</th>\n",
       "      <td>Why does the most negative int value cause an error about ambiguous function overloads?</td>\n",
       "      <td>&lt;html&gt;&lt;body&gt;&lt;p&gt;I'm learning about function overloading in C++ and came across this:&lt;/p&gt;\\n&lt;pre&gt; &lt;/pre&gt;\\n&lt;p&gt;From what I understood, any value given in the   range (in my case   is 4 byte) will call   and any value outside this range will be ambiguous (since the compiler cannot decide which function to call). It is valid for the complete range of   values except its min value i.e.   where compilation fails with the error&lt;/p&gt;\\n&lt;blockquote&gt;\\n&lt;p&gt;call of overloaded   is ambiguous&lt;/p&gt;\\n&lt;/blockquote&gt;\\n&lt;p&gt;But taking the same value to an   and printing the value gives  . I'm literally confused with this behavior.&lt;/p&gt;\\n&lt;p&gt;Why is this behavior observed only when the most negative number is passed? (The behavior is the same if a   is used with   - in fact, in any case where the negative number and positive number have the same binary representation)&lt;/p&gt;\\n&lt;p&gt;Compiler used: g++ (GCC) 4.8.5&lt;/p&gt;\\n&lt;/body&gt;&lt;/html&gt;</td>\n",
       "      <td>c++,integer,overloading,negative-number,ambiguous-call</td>\n",
       "      <td>[c++, integer, overloading, negative-number, ambiguous-call]</td>\n",
       "      <td>5</td>\n",
       "      <td>[c++]</td>\n",
       "      <td>1</td>\n",
       "    </tr>\n",
       "  </tbody>\n",
       "</table>\n",
       "</div>"
      ],
      "text/plain": [
       "                                                                                            Title  \\\n",
       "Id                                                                                                  \n",
       "198496                      Difference between the System.Array.CopyTo() and System.Array.Clone()   \n",
       "3190870                                         'const string' vs. 'static readonly string' in C#   \n",
       "4083351                                                                 What does jQuery.fn mean?   \n",
       "21396524                 What is the difference between “assert”, “expect”, and “should” in Chai?   \n",
       "36901                What does ** (double star/asterisk) and * (star/asterisk) do for parameters?   \n",
       "3366506                                                                  Extract p-value from aov   \n",
       "428884                                                                How to play MP3 files in C?   \n",
       "45469214  Why does the most negative int value cause an error about ambiguous function overloads?   \n",
       "\n",
       "                                                                                                                                                                                                                                                                                                                                                                                                                                                                                                                                                                                                                                                                                                                                                                                                                                                                                                                                                Body  \\\n",
       "Id                                                                                                                                                                                                                                                                                                                                                                                                                                                                                                                                                                                                                                                                                                                                                                                                                                                                                                                                                     \n",
       "198496                                                                                                                                                                                                                                                                                                                                                                                                                                                                                                                                                                                                                                                                                                                                                                                                                                                                 <html><body><p>What’s the difference between the   and  ?</p>\\n</body></html>   \n",
       "3190870                                                                                                                                                                                                                                                                                                                                                                                                                                                                                                                                                                                                                                                                                                                                                                                                                    <html><body><p>In C#, what's the difference between</p>\\n<pre> </pre>\\n<p>and</p>\\n<pre> </pre>\\n<p>?</p>\\n</body></html>   \n",
       "4083351                                                                                                                                                                                                                                                                                                                                                                                                                                                                                                                                                                                                                                                                                                                                                                                                                                                                  <html><body><p>What does the   here mean?</p>\\n<pre> </pre>\\n</body></html>   \n",
       "21396524                                                                                                                                                                                                                                                                                                                                                                                                                                                                                                                                                                                                                                                                                                                                                                                         <html><body><p>What is the difference between  ,  , and  ? When to use what?</p>\\n<pre class=\"lang-js prettyprint-override\"> </pre>\\n</body></html>   \n",
       "36901                                                                                                                                                                                                                                                                                                                                                                                                                                                                                                                                                                                                                                                                                                                                                                                                                                                                         <html><body><p>What do   and   mean?</p>\\n<pre> </pre>\\n</body></html>   \n",
       "3366506                                                                                                                                                                                                                                                                                                                                                                                                                                                        <html><body><p>I am looking to extract the p-value generated from an anova in R.  </p>\\n<p>Here is what I am running:</p>\\n<pre> </pre>\\n<p>Yields:</p>\\n<pre> </pre>\\n<p>When I look a the structure, this is what I see.  I usually can work through lists to get what I need, but I am having a hard time with this one.  A Google searched also seemed to reveal much simpler structures than I am getting.</p>\\n<p>NOTE: ASQ is my data frame.</p>\\n<pre> </pre>\\n</body></html>   \n",
       "428884                                                                                                                                                                                                                                                                                                                                                                                                                                                                                                                                                                                                                                                                                         <html><body><p>I'm looking for the easiest way to play a MP3 file in C. I am looking for either a library, in which I could just call the function on the filename, or an executable that will just run and quit. Please suggest.</p>\\n</body></html>   \n",
       "45469214  <html><body><p>I'm learning about function overloading in C++ and came across this:</p>\\n<pre> </pre>\\n<p>From what I understood, any value given in the   range (in my case   is 4 byte) will call   and any value outside this range will be ambiguous (since the compiler cannot decide which function to call). It is valid for the complete range of   values except its min value i.e.   where compilation fails with the error</p>\\n<blockquote>\\n<p>call of overloaded   is ambiguous</p>\\n</blockquote>\\n<p>But taking the same value to an   and printing the value gives  . I'm literally confused with this behavior.</p>\\n<p>Why is this behavior observed only when the most negative number is passed? (The behavior is the same if a   is used with   - in fact, in any case where the negative number and positive number have the same binary representation)</p>\\n<p>Compiler used: g++ (GCC) 4.8.5</p>\\n</body></html>   \n",
       "\n",
       "                                                                           Tags  \\\n",
       "Id                                                                                \n",
       "198496                                                  c#,.net,arrays,.net-2.0   \n",
       "3190870                                                                      c#   \n",
       "4083351                                                       javascript,jquery   \n",
       "21396524                                               javascript,mocha.js,chai   \n",
       "36901     python,syntax,parameter-passing,variadic-functions,argument-unpacking   \n",
       "3366506                                                                 r,anova   \n",
       "428884                                                                    c,mp3   \n",
       "45469214                 c++,integer,overloading,negative-number,ambiguous-call   \n",
       "\n",
       "                                                                            Tags_list  \\\n",
       "Id                                                                                      \n",
       "198496                                                   [c#, .net, arrays, .net-2.0]   \n",
       "3190870                                                                          [c#]   \n",
       "4083351                                                          [javascript, jquery]   \n",
       "21396524                                                 [javascript, mocha.js, chai]   \n",
       "36901     [python, syntax, parameter-passing, variadic-functions, argument-unpacking]   \n",
       "3366506                                                                    [r, anova]   \n",
       "428884                                                                       [c, mp3]   \n",
       "45469214                 [c++, integer, overloading, negative-number, ambiguous-call]   \n",
       "\n",
       "          Tags_count             Best_Tags  Best_Tags_count  \n",
       "Id                                                           \n",
       "198496             4    [c#, .net, arrays]                3  \n",
       "3190870            1                  [c#]                1  \n",
       "4083351            2  [javascript, jquery]                2  \n",
       "21396524           3          [javascript]                1  \n",
       "36901              5              [python]                1  \n",
       "3366506            2                   [r]                1  \n",
       "428884             2                   [c]                1  \n",
       "45469214           5                 [c++]                1  "
      ]
     },
     "execution_count": 23,
     "metadata": {},
     "output_type": "execute_result"
    }
   ],
   "source": [
    "df.loc[idx_list] "
   ]
  },
  {
   "cell_type": "code",
   "execution_count": 24,
   "metadata": {},
   "outputs": [
    {
     "name": "stderr",
     "output_type": "stream",
     "text": [
      "100%|██████████| 38558/38558 [00:28<00:00, 1364.80it/s]\n"
     ]
    }
   ],
   "source": [
    "def strip_tags(html, whitelist=[]):\n",
    "    \"\"\"\n",
    "    Strip all HTML tags except for a list of whitelisted tags.\n",
    "    \"\"\"\n",
    "    soup = BeautifulSoup(html)\n",
    "\n",
    "    for tag in soup.findAll(True):\n",
    "        if tag.name not in whitelist:\n",
    "            tag.append(' ')\n",
    "            tag.replaceWithChildren()\n",
    "\n",
    "    result = str(soup)\n",
    "\n",
    "    # Clean up any repeated spaces and spaces like this: '<a>test </a> '\n",
    "    result = re.sub(' +', ' ', result)\n",
    "    result = re.sub(r' (<[^>]*> )', r'\\1', result)\n",
    "    result = re.sub('\\n', ' ',result)\n",
    "    return result.strip()\n",
    "\n",
    "df['Body'] = df['Body'].progress_apply(strip_tags)"
   ]
  },
  {
   "cell_type": "code",
   "execution_count": 25,
   "metadata": {},
   "outputs": [
    {
     "data": {
      "text/html": [
       "<div>\n",
       "<style scoped>\n",
       "    .dataframe tbody tr th:only-of-type {\n",
       "        vertical-align: middle;\n",
       "    }\n",
       "\n",
       "    .dataframe tbody tr th {\n",
       "        vertical-align: top;\n",
       "    }\n",
       "\n",
       "    .dataframe thead th {\n",
       "        text-align: right;\n",
       "    }\n",
       "</style>\n",
       "<table border=\"1\" class=\"dataframe\">\n",
       "  <thead>\n",
       "    <tr style=\"text-align: right;\">\n",
       "      <th></th>\n",
       "      <th>Title</th>\n",
       "      <th>Body</th>\n",
       "      <th>Tags</th>\n",
       "      <th>Tags_list</th>\n",
       "      <th>Tags_count</th>\n",
       "      <th>Best_Tags</th>\n",
       "      <th>Best_Tags_count</th>\n",
       "    </tr>\n",
       "    <tr>\n",
       "      <th>Id</th>\n",
       "      <th></th>\n",
       "      <th></th>\n",
       "      <th></th>\n",
       "      <th></th>\n",
       "      <th></th>\n",
       "      <th></th>\n",
       "      <th></th>\n",
       "    </tr>\n",
       "  </thead>\n",
       "  <tbody>\n",
       "    <tr>\n",
       "      <th>198496</th>\n",
       "      <td>Difference between the System.Array.CopyTo() and System.Array.Clone()</td>\n",
       "      <td>What’s the difference between the and ?</td>\n",
       "      <td>c#,.net,arrays,.net-2.0</td>\n",
       "      <td>[c#, .net, arrays, .net-2.0]</td>\n",
       "      <td>4</td>\n",
       "      <td>[c#, .net, arrays]</td>\n",
       "      <td>3</td>\n",
       "    </tr>\n",
       "    <tr>\n",
       "      <th>3190870</th>\n",
       "      <td>'const string' vs. 'static readonly string' in C#</td>\n",
       "      <td>In C#, what's the difference between    and    ?</td>\n",
       "      <td>c#</td>\n",
       "      <td>[c#]</td>\n",
       "      <td>1</td>\n",
       "      <td>[c#]</td>\n",
       "      <td>1</td>\n",
       "    </tr>\n",
       "    <tr>\n",
       "      <th>4083351</th>\n",
       "      <td>What does jQuery.fn mean?</td>\n",
       "      <td>What does the here mean?</td>\n",
       "      <td>javascript,jquery</td>\n",
       "      <td>[javascript, jquery]</td>\n",
       "      <td>2</td>\n",
       "      <td>[javascript, jquery]</td>\n",
       "      <td>2</td>\n",
       "    </tr>\n",
       "    <tr>\n",
       "      <th>21396524</th>\n",
       "      <td>What is the difference between “assert”, “expect”, and “should” in Chai?</td>\n",
       "      <td>What is the difference between , , and ? When to use what?</td>\n",
       "      <td>javascript,mocha.js,chai</td>\n",
       "      <td>[javascript, mocha.js, chai]</td>\n",
       "      <td>3</td>\n",
       "      <td>[javascript]</td>\n",
       "      <td>1</td>\n",
       "    </tr>\n",
       "    <tr>\n",
       "      <th>36901</th>\n",
       "      <td>What does ** (double star/asterisk) and * (star/asterisk) do for parameters?</td>\n",
       "      <td>What do and mean?</td>\n",
       "      <td>python,syntax,parameter-passing,variadic-functions,argument-unpacking</td>\n",
       "      <td>[python, syntax, parameter-passing, variadic-functions, argument-unpacking]</td>\n",
       "      <td>5</td>\n",
       "      <td>[python]</td>\n",
       "      <td>1</td>\n",
       "    </tr>\n",
       "    <tr>\n",
       "      <th>3366506</th>\n",
       "      <td>Extract p-value from aov</td>\n",
       "      <td>I am looking to extract the p-value generated from an anova in R.  Here is what I am running:    Yields:    When I look a the structure, this is what I see. I usually can work through lists to get what I need, but I am having a hard time with this one. A Google searched also seemed to reveal much simpler structures than I am getting.  NOTE: ASQ is my data frame.</td>\n",
       "      <td>r,anova</td>\n",
       "      <td>[r, anova]</td>\n",
       "      <td>2</td>\n",
       "      <td>[r]</td>\n",
       "      <td>1</td>\n",
       "    </tr>\n",
       "    <tr>\n",
       "      <th>428884</th>\n",
       "      <td>How to play MP3 files in C?</td>\n",
       "      <td>I'm looking for the easiest way to play a MP3 file in C. I am looking for either a library, in which I could just call the function on the filename, or an executable that will just run and quit. Please suggest.</td>\n",
       "      <td>c,mp3</td>\n",
       "      <td>[c, mp3]</td>\n",
       "      <td>2</td>\n",
       "      <td>[c]</td>\n",
       "      <td>1</td>\n",
       "    </tr>\n",
       "    <tr>\n",
       "      <th>45469214</th>\n",
       "      <td>Why does the most negative int value cause an error about ambiguous function overloads?</td>\n",
       "      <td>I'm learning about function overloading in C++ and came across this:    From what I understood, any value given in the range (in my case is 4 byte) will call and any value outside this range will be ambiguous (since the compiler cannot decide which function to call). It is valid for the complete range of values except its min value i.e. where compilation fails with the error   call of overloaded is ambiguous    But taking the same value to an and printing the value gives . I'm literally confused with this behavior.  Why is this behavior observed only when the most negative number is passed? (The behavior is the same if a is used with - in fact, in any case where the negative number and positive number have the same binary representation)  Compiler used: g++ (GCC) 4.8.5</td>\n",
       "      <td>c++,integer,overloading,negative-number,ambiguous-call</td>\n",
       "      <td>[c++, integer, overloading, negative-number, ambiguous-call]</td>\n",
       "      <td>5</td>\n",
       "      <td>[c++]</td>\n",
       "      <td>1</td>\n",
       "    </tr>\n",
       "  </tbody>\n",
       "</table>\n",
       "</div>"
      ],
      "text/plain": [
       "                                                                                            Title  \\\n",
       "Id                                                                                                  \n",
       "198496                      Difference between the System.Array.CopyTo() and System.Array.Clone()   \n",
       "3190870                                         'const string' vs. 'static readonly string' in C#   \n",
       "4083351                                                                 What does jQuery.fn mean?   \n",
       "21396524                 What is the difference between “assert”, “expect”, and “should” in Chai?   \n",
       "36901                What does ** (double star/asterisk) and * (star/asterisk) do for parameters?   \n",
       "3366506                                                                  Extract p-value from aov   \n",
       "428884                                                                How to play MP3 files in C?   \n",
       "45469214  Why does the most negative int value cause an error about ambiguous function overloads?   \n",
       "\n",
       "                                                                                                                                                                                                                                                                                                                                                                                                                                                                                                                                                                                                                                                                                                                                                                                                                 Body  \\\n",
       "Id                                                                                                                                                                                                                                                                                                                                                                                                                                                                                                                                                                                                                                                                                                                                                                                                                      \n",
       "198496                                                                                                                                                                                                                                                                                                                                                                                                                                                                                                                                                                                                                                                                                                                                                                        What’s the difference between the and ?   \n",
       "3190870                                                                                                                                                                                                                                                                                                                                                                                                                                                                                                                                                                                                                                                                                                                                                              In C#, what's the difference between    and    ?   \n",
       "4083351                                                                                                                                                                                                                                                                                                                                                                                                                                                                                                                                                                                                                                                                                                                                                                                      What does the here mean?   \n",
       "21396524                                                                                                                                                                                                                                                                                                                                                                                                                                                                                                                                                                                                                                                                                                                                                   What is the difference between , , and ? When to use what?   \n",
       "36901                                                                                                                                                                                                                                                                                                                                                                                                                                                                                                                                                                                                                                                                                                                                                                                               What do and mean?   \n",
       "3366506                                                                                                                                                                                                                                                                                                                                                                                                                                  I am looking to extract the p-value generated from an anova in R.  Here is what I am running:    Yields:    When I look a the structure, this is what I see. I usually can work through lists to get what I need, but I am having a hard time with this one. A Google searched also seemed to reveal much simpler structures than I am getting.  NOTE: ASQ is my data frame.   \n",
       "428884                                                                                                                                                                                                                                                                                                                                                                                                                                                                                                                                                                                             I'm looking for the easiest way to play a MP3 file in C. I am looking for either a library, in which I could just call the function on the filename, or an executable that will just run and quit. Please suggest.   \n",
       "45469214  I'm learning about function overloading in C++ and came across this:    From what I understood, any value given in the range (in my case is 4 byte) will call and any value outside this range will be ambiguous (since the compiler cannot decide which function to call). It is valid for the complete range of values except its min value i.e. where compilation fails with the error   call of overloaded is ambiguous    But taking the same value to an and printing the value gives . I'm literally confused with this behavior.  Why is this behavior observed only when the most negative number is passed? (The behavior is the same if a is used with - in fact, in any case where the negative number and positive number have the same binary representation)  Compiler used: g++ (GCC) 4.8.5   \n",
       "\n",
       "                                                                           Tags  \\\n",
       "Id                                                                                \n",
       "198496                                                  c#,.net,arrays,.net-2.0   \n",
       "3190870                                                                      c#   \n",
       "4083351                                                       javascript,jquery   \n",
       "21396524                                               javascript,mocha.js,chai   \n",
       "36901     python,syntax,parameter-passing,variadic-functions,argument-unpacking   \n",
       "3366506                                                                 r,anova   \n",
       "428884                                                                    c,mp3   \n",
       "45469214                 c++,integer,overloading,negative-number,ambiguous-call   \n",
       "\n",
       "                                                                            Tags_list  \\\n",
       "Id                                                                                      \n",
       "198496                                                   [c#, .net, arrays, .net-2.0]   \n",
       "3190870                                                                          [c#]   \n",
       "4083351                                                          [javascript, jquery]   \n",
       "21396524                                                 [javascript, mocha.js, chai]   \n",
       "36901     [python, syntax, parameter-passing, variadic-functions, argument-unpacking]   \n",
       "3366506                                                                    [r, anova]   \n",
       "428884                                                                       [c, mp3]   \n",
       "45469214                 [c++, integer, overloading, negative-number, ambiguous-call]   \n",
       "\n",
       "          Tags_count             Best_Tags  Best_Tags_count  \n",
       "Id                                                           \n",
       "198496             4    [c#, .net, arrays]                3  \n",
       "3190870            1                  [c#]                1  \n",
       "4083351            2  [javascript, jquery]                2  \n",
       "21396524           3          [javascript]                1  \n",
       "36901              5              [python]                1  \n",
       "3366506            2                   [r]                1  \n",
       "428884             2                   [c]                1  \n",
       "45469214           5                 [c++]                1  "
      ]
     },
     "execution_count": 25,
     "metadata": {},
     "output_type": "execute_result"
    }
   ],
   "source": [
    "df.loc[idx_list] "
   ]
  },
  {
   "cell_type": "code",
   "execution_count": 26,
   "metadata": {},
   "outputs": [
    {
     "name": "stderr",
     "output_type": "stream",
     "text": [
      "100%|██████████| 38558/38558 [00:07<00:00, 5145.87it/s]\n"
     ]
    },
    {
     "data": {
      "text/html": [
       "<div>\n",
       "<style scoped>\n",
       "    .dataframe tbody tr th:only-of-type {\n",
       "        vertical-align: middle;\n",
       "    }\n",
       "\n",
       "    .dataframe tbody tr th {\n",
       "        vertical-align: top;\n",
       "    }\n",
       "\n",
       "    .dataframe thead th {\n",
       "        text-align: right;\n",
       "    }\n",
       "</style>\n",
       "<table border=\"1\" class=\"dataframe\">\n",
       "  <thead>\n",
       "    <tr style=\"text-align: right;\">\n",
       "      <th></th>\n",
       "      <th>Title</th>\n",
       "      <th>Body</th>\n",
       "      <th>Tags</th>\n",
       "      <th>Tags_list</th>\n",
       "      <th>Tags_count</th>\n",
       "      <th>Best_Tags</th>\n",
       "      <th>Best_Tags_count</th>\n",
       "    </tr>\n",
       "    <tr>\n",
       "      <th>Id</th>\n",
       "      <th></th>\n",
       "      <th></th>\n",
       "      <th></th>\n",
       "      <th></th>\n",
       "      <th></th>\n",
       "      <th></th>\n",
       "      <th></th>\n",
       "    </tr>\n",
       "  </thead>\n",
       "  <tbody>\n",
       "    <tr>\n",
       "      <th>198496</th>\n",
       "      <td>Difference between the System.Array.CopyTo() and System.Array.Clone()</td>\n",
       "      <td>What’s the difference between the and ?</td>\n",
       "      <td>c#,.net,arrays,.net-2.0</td>\n",
       "      <td>[c#, .net, arrays, .net-2.0]</td>\n",
       "      <td>4</td>\n",
       "      <td>[c#, .net, arrays]</td>\n",
       "      <td>3</td>\n",
       "    </tr>\n",
       "    <tr>\n",
       "      <th>3190870</th>\n",
       "      <td>'const string' vs. 'static readonly string' in C#</td>\n",
       "      <td>In C#, what's the difference between    and    ?</td>\n",
       "      <td>c#</td>\n",
       "      <td>[c#]</td>\n",
       "      <td>1</td>\n",
       "      <td>[c#]</td>\n",
       "      <td>1</td>\n",
       "    </tr>\n",
       "    <tr>\n",
       "      <th>4083351</th>\n",
       "      <td>What does jQuery.fn mean?</td>\n",
       "      <td>What does the here mean?</td>\n",
       "      <td>javascript,jquery</td>\n",
       "      <td>[javascript, jquery]</td>\n",
       "      <td>2</td>\n",
       "      <td>[javascript, jquery]</td>\n",
       "      <td>2</td>\n",
       "    </tr>\n",
       "    <tr>\n",
       "      <th>21396524</th>\n",
       "      <td>What is the difference between “assert”, “expect”, and “should” in Chai?</td>\n",
       "      <td>What is the difference between , , and ? When to use what?</td>\n",
       "      <td>javascript,mocha.js,chai</td>\n",
       "      <td>[javascript, mocha.js, chai]</td>\n",
       "      <td>3</td>\n",
       "      <td>[javascript]</td>\n",
       "      <td>1</td>\n",
       "    </tr>\n",
       "    <tr>\n",
       "      <th>36901</th>\n",
       "      <td>What does ** (double star/asterisk) and * (star/asterisk) do for parameters?</td>\n",
       "      <td>What do and mean?</td>\n",
       "      <td>python,syntax,parameter-passing,variadic-functions,argument-unpacking</td>\n",
       "      <td>[python, syntax, parameter-passing, variadic-functions, argument-unpacking]</td>\n",
       "      <td>5</td>\n",
       "      <td>[python]</td>\n",
       "      <td>1</td>\n",
       "    </tr>\n",
       "    <tr>\n",
       "      <th>3366506</th>\n",
       "      <td>Extract p-value from aov</td>\n",
       "      <td>I am looking to extract the p-value generated from an anova in R.  Here is what I am running:    Yields:    When I look a the structure, this is what I see. I usually can work through lists to get what I need, but I am having a hard time with this one. A Google searched also seemed to reveal much simpler structures than I am getting.  NOTE: ASQ is my data frame.</td>\n",
       "      <td>r,anova</td>\n",
       "      <td>[r, anova]</td>\n",
       "      <td>2</td>\n",
       "      <td>[r]</td>\n",
       "      <td>1</td>\n",
       "    </tr>\n",
       "    <tr>\n",
       "      <th>428884</th>\n",
       "      <td>How to play MP3 files in C?</td>\n",
       "      <td>I'm looking for the easiest way to play a MP3 file in C. I am looking for either a library, in which I could just call the function on the filename, or an executable that will just run and quit. Please suggest.</td>\n",
       "      <td>c,mp3</td>\n",
       "      <td>[c, mp3]</td>\n",
       "      <td>2</td>\n",
       "      <td>[c]</td>\n",
       "      <td>1</td>\n",
       "    </tr>\n",
       "    <tr>\n",
       "      <th>45469214</th>\n",
       "      <td>Why does the most negative int value cause an error about ambiguous function overloads?</td>\n",
       "      <td>I'm learning about function overloading in C++ and came across this:    From what I understood, any value given in the range (in my case is 4 byte) will call and any value outside this range will be ambiguous (since the compiler cannot decide which function to call). It is valid for the complete range of values except its min value i.e. where compilation fails with the error   call of overloaded is ambiguous    But taking the same value to an and printing the value gives . I'm literally confused with this behavior.  Why is this behavior observed only when the most negative number is passed? (The behavior is the same if a is used with - in fact, in any case where the negative number and positive number have the same binary representation)  Compiler used: g++ (GCC) 4.8.5</td>\n",
       "      <td>c++,integer,overloading,negative-number,ambiguous-call</td>\n",
       "      <td>[c++, integer, overloading, negative-number, ambiguous-call]</td>\n",
       "      <td>5</td>\n",
       "      <td>[c++]</td>\n",
       "      <td>1</td>\n",
       "    </tr>\n",
       "  </tbody>\n",
       "</table>\n",
       "</div>"
      ],
      "text/plain": [
       "                                                                                            Title  \\\n",
       "Id                                                                                                  \n",
       "198496                      Difference between the System.Array.CopyTo() and System.Array.Clone()   \n",
       "3190870                                         'const string' vs. 'static readonly string' in C#   \n",
       "4083351                                                                 What does jQuery.fn mean?   \n",
       "21396524                 What is the difference between “assert”, “expect”, and “should” in Chai?   \n",
       "36901                What does ** (double star/asterisk) and * (star/asterisk) do for parameters?   \n",
       "3366506                                                                  Extract p-value from aov   \n",
       "428884                                                                How to play MP3 files in C?   \n",
       "45469214  Why does the most negative int value cause an error about ambiguous function overloads?   \n",
       "\n",
       "                                                                                                                                                                                                                                                                                                                                                                                                                                                                                                                                                                                                                                                                                                                                                                                                                 Body  \\\n",
       "Id                                                                                                                                                                                                                                                                                                                                                                                                                                                                                                                                                                                                                                                                                                                                                                                                                      \n",
       "198496                                                                                                                                                                                                                                                                                                                                                                                                                                                                                                                                                                                                                                                                                                                                                                        What’s the difference between the and ?   \n",
       "3190870                                                                                                                                                                                                                                                                                                                                                                                                                                                                                                                                                                                                                                                                                                                                                              In C#, what's the difference between    and    ?   \n",
       "4083351                                                                                                                                                                                                                                                                                                                                                                                                                                                                                                                                                                                                                                                                                                                                                                                      What does the here mean?   \n",
       "21396524                                                                                                                                                                                                                                                                                                                                                                                                                                                                                                                                                                                                                                                                                                                                                   What is the difference between , , and ? When to use what?   \n",
       "36901                                                                                                                                                                                                                                                                                                                                                                                                                                                                                                                                                                                                                                                                                                                                                                                               What do and mean?   \n",
       "3366506                                                                                                                                                                                                                                                                                                                                                                                                                                  I am looking to extract the p-value generated from an anova in R.  Here is what I am running:    Yields:    When I look a the structure, this is what I see. I usually can work through lists to get what I need, but I am having a hard time with this one. A Google searched also seemed to reveal much simpler structures than I am getting.  NOTE: ASQ is my data frame.   \n",
       "428884                                                                                                                                                                                                                                                                                                                                                                                                                                                                                                                                                                                             I'm looking for the easiest way to play a MP3 file in C. I am looking for either a library, in which I could just call the function on the filename, or an executable that will just run and quit. Please suggest.   \n",
       "45469214  I'm learning about function overloading in C++ and came across this:    From what I understood, any value given in the range (in my case is 4 byte) will call and any value outside this range will be ambiguous (since the compiler cannot decide which function to call). It is valid for the complete range of values except its min value i.e. where compilation fails with the error   call of overloaded is ambiguous    But taking the same value to an and printing the value gives . I'm literally confused with this behavior.  Why is this behavior observed only when the most negative number is passed? (The behavior is the same if a is used with - in fact, in any case where the negative number and positive number have the same binary representation)  Compiler used: g++ (GCC) 4.8.5   \n",
       "\n",
       "                                                                           Tags  \\\n",
       "Id                                                                                \n",
       "198496                                                  c#,.net,arrays,.net-2.0   \n",
       "3190870                                                                      c#   \n",
       "4083351                                                       javascript,jquery   \n",
       "21396524                                               javascript,mocha.js,chai   \n",
       "36901     python,syntax,parameter-passing,variadic-functions,argument-unpacking   \n",
       "3366506                                                                 r,anova   \n",
       "428884                                                                    c,mp3   \n",
       "45469214                 c++,integer,overloading,negative-number,ambiguous-call   \n",
       "\n",
       "                                                                            Tags_list  \\\n",
       "Id                                                                                      \n",
       "198496                                                   [c#, .net, arrays, .net-2.0]   \n",
       "3190870                                                                          [c#]   \n",
       "4083351                                                          [javascript, jquery]   \n",
       "21396524                                                 [javascript, mocha.js, chai]   \n",
       "36901     [python, syntax, parameter-passing, variadic-functions, argument-unpacking]   \n",
       "3366506                                                                    [r, anova]   \n",
       "428884                                                                       [c, mp3]   \n",
       "45469214                 [c++, integer, overloading, negative-number, ambiguous-call]   \n",
       "\n",
       "          Tags_count             Best_Tags  Best_Tags_count  \n",
       "Id                                                           \n",
       "198496             4    [c#, .net, arrays]                3  \n",
       "3190870            1                  [c#]                1  \n",
       "4083351            2  [javascript, jquery]                2  \n",
       "21396524           3          [javascript]                1  \n",
       "36901              5              [python]                1  \n",
       "3366506            2                   [r]                1  \n",
       "428884             2                   [c]                1  \n",
       "45469214           5                 [c++]                1  "
      ]
     },
     "execution_count": 26,
     "metadata": {},
     "output_type": "execute_result"
    }
   ],
   "source": [
    "# Delete all remainig html tags\n",
    "df['Body'] = [BeautifulSoup(text,\"lxml\").get_text() for text in tqdm(df['Body'], total=len(df))]\n",
    "df.loc[idx_list] "
   ]
  },
  {
   "cell_type": "code",
   "execution_count": 27,
   "metadata": {},
   "outputs": [],
   "source": [
    "# text = \"!#€f#$#\"\n",
    "# newtext = re.sub(r\"^[^\\w$€]+|[^\\w$€]+$\", \"\", text)\n",
    "# print(newtext)"
   ]
  },
  {
   "cell_type": "raw",
   "metadata": {},
   "source": [
    "toto_df = df.loc[idx_list]"
   ]
  },
  {
   "cell_type": "markdown",
   "metadata": {},
   "source": [
    "Pour finir, on applique un dernière fois un filtre sur le corps du texte en utilisant les expréssions régulières. "
   ]
  },
  {
   "cell_type": "code",
   "execution_count": 28,
   "metadata": {},
   "outputs": [],
   "source": [
    "def pre_cleaner(x):\n",
    "    # Case normalization\n",
    "    x = x.lower()\n",
    "    # Remove unicode characters\n",
    "    x = x.encode(\"ascii\", \"ignore\").decode()\n",
    "    # Remove links\n",
    "    x = re.sub(r'http*\\S+', '', x)\n",
    "    # Remove numbers\n",
    "    x = re.sub(r'\\w*\\d+\\w*', '', x)\n",
    "    # Remove extra spaces\n",
    "    x = re.sub(r'\\s+', ' ', x)\n",
    "    # Remove url\n",
    "    x = re.sub(r'https?:\\S+|http?:\\S', ' ', x)\n",
    "    # Replace special character\n",
    "    x = x.replace('-', ' ').replace('/', ' ').replace(\"\\\\\", ' ').replace(':',' ').replace(\"'\", ' ')\\\n",
    "         .replace('=', ' ').replace('..',' ').replace('...',' ').replace(',',' ')\\\n",
    "         .replace('(',' ').replace(')',' ').replace('*',' ')\\\n",
    "         .replace('_',' ').replace('  ', ' ').replace('-',' ')\n",
    "    return x"
   ]
  },
  {
   "cell_type": "raw",
   "metadata": {},
   "source": [
    "toto_df['Body_title'] =  toto_df['Title'] + \". \" + toto_df['Body']\n",
    "\n",
    "toto_df['Body_pc'] = toto_df['Body_title'].progress_apply(lambda x : pre_cleaner(x))\n",
    "toto_df[['Body_pc', 'Body_title']].loc[idx_list] "
   ]
  },
  {
   "cell_type": "code",
   "execution_count": 29,
   "metadata": {
    "scrolled": false
   },
   "outputs": [
    {
     "name": "stderr",
     "output_type": "stream",
     "text": [
      "100%|██████████| 38558/38558 [00:03<00:00, 10750.98it/s]\n"
     ]
    }
   ],
   "source": [
    "# Fusion du corps du texte avec le titre correspondant.\n",
    "df['Body_title'] =  df['Title'] + \". \" + df['Body']\n",
    "\n",
    "df['Body_pc'] = df['Body_title'].progress_apply(lambda x : pre_cleaner(x))"
   ]
  },
  {
   "cell_type": "code",
   "execution_count": 30,
   "metadata": {
    "scrolled": false
   },
   "outputs": [
    {
     "data": {
      "text/html": [
       "<div>\n",
       "<style scoped>\n",
       "    .dataframe tbody tr th:only-of-type {\n",
       "        vertical-align: middle;\n",
       "    }\n",
       "\n",
       "    .dataframe tbody tr th {\n",
       "        vertical-align: top;\n",
       "    }\n",
       "\n",
       "    .dataframe thead th {\n",
       "        text-align: right;\n",
       "    }\n",
       "</style>\n",
       "<table border=\"1\" class=\"dataframe\">\n",
       "  <thead>\n",
       "    <tr style=\"text-align: right;\">\n",
       "      <th></th>\n",
       "      <th>Body_pc</th>\n",
       "      <th>Body_title</th>\n",
       "    </tr>\n",
       "    <tr>\n",
       "      <th>Id</th>\n",
       "      <th></th>\n",
       "      <th></th>\n",
       "    </tr>\n",
       "  </thead>\n",
       "  <tbody>\n",
       "    <tr>\n",
       "      <th>198496</th>\n",
       "      <td>difference between the system.array.copyto  and system.array.clone . whats the difference between the and ?</td>\n",
       "      <td>Difference between the System.Array.CopyTo() and System.Array.Clone(). What’s the difference between the and ?</td>\n",
       "    </tr>\n",
       "    <tr>\n",
       "      <th>3190870</th>\n",
       "      <td>const string vs. static readonly string in c#. in c# what s the difference between and ?</td>\n",
       "      <td>'const string' vs. 'static readonly string' in C#. In C#, what's the difference between    and    ?</td>\n",
       "    </tr>\n",
       "    <tr>\n",
       "      <th>4083351</th>\n",
       "      <td>what does jquery.fn mean?. what does the here mean?</td>\n",
       "      <td>What does jQuery.fn mean?. What does the here mean?</td>\n",
       "    </tr>\n",
       "    <tr>\n",
       "      <th>21396524</th>\n",
       "      <td>what is the difference between assert expect and should in chai?. what is the difference between   and ? when to use what?</td>\n",
       "      <td>What is the difference between “assert”, “expect”, and “should” in Chai?. What is the difference between , , and ? When to use what?</td>\n",
       "    </tr>\n",
       "    <tr>\n",
       "      <th>36901</th>\n",
       "      <td>what does   double star asterisk and  star asterisk do for parameters?. what do and mean?</td>\n",
       "      <td>What does ** (double star/asterisk) and * (star/asterisk) do for parameters?. What do and mean?</td>\n",
       "    </tr>\n",
       "    <tr>\n",
       "      <th>3366506</th>\n",
       "      <td>extract p value from aov. i am looking to extract the p value generated from an anova in r. here is what i am running yields when i look a the structure this is what i see. i usually can work through lists to get what i need but i am having a hard time with this one. a google searched also seemed to reveal much simpler structures than i am getting. note asq is my data frame.</td>\n",
       "      <td>Extract p-value from aov. I am looking to extract the p-value generated from an anova in R.  Here is what I am running:    Yields:    When I look a the structure, this is what I see. I usually can work through lists to get what I need, but I am having a hard time with this one. A Google searched also seemed to reveal much simpler structures than I am getting.  NOTE: ASQ is my data frame.</td>\n",
       "    </tr>\n",
       "    <tr>\n",
       "      <th>428884</th>\n",
       "      <td>how to play files in c?. i m looking for the easiest way to play a file in c. i am looking for either a library in which i could just call the function on the filename or an executable that will just run and quit. please suggest.</td>\n",
       "      <td>How to play MP3 files in C?. I'm looking for the easiest way to play a MP3 file in C. I am looking for either a library, in which I could just call the function on the filename, or an executable that will just run and quit. Please suggest.</td>\n",
       "    </tr>\n",
       "    <tr>\n",
       "      <th>45469214</th>\n",
       "      <td>why does the most negative int value cause an error about ambiguous function overloads?. i m learning about function overloading in c++ and came across this from what i understood any value given in the range in my case is byte will call and any value outside this range will be ambiguous since the compiler cannot decide which function to call . it is valid for the complete range of values except its min value i.e. where compilation fails with the error call of overloaded is ambiguous but taking the same value to an and printing the value gives . i m literally confused with this behavior. why is this behavior observed only when the most negative number is passed? the behavior is the same if a is used with  in fact in any case where the negative number and positive number have the same binary representation compiler used g++ gcc</td>\n",
       "      <td>Why does the most negative int value cause an error about ambiguous function overloads?. I'm learning about function overloading in C++ and came across this:    From what I understood, any value given in the range (in my case is 4 byte) will call and any value outside this range will be ambiguous (since the compiler cannot decide which function to call). It is valid for the complete range of values except its min value i.e. where compilation fails with the error   call of overloaded is ambiguous    But taking the same value to an and printing the value gives . I'm literally confused with this behavior.  Why is this behavior observed only when the most negative number is passed? (The behavior is the same if a is used with - in fact, in any case where the negative number and positive number have the same binary representation)  Compiler used: g++ (GCC) 4.8.5</td>\n",
       "    </tr>\n",
       "  </tbody>\n",
       "</table>\n",
       "</div>"
      ],
      "text/plain": [
       "                                                                                                                                                                                                                                                                                                                                                                                                                                                                                                                                                                                                                                                                                                                                                                                                                                                                           Body_pc  \\\n",
       "Id                                                                                                                                                                                                                                                                                                                                                                                                                                                                                                                                                                                                                                                                                                                                                                                                                                                                                   \n",
       "198496                                                                                                                                                                                                                                                                                                                                                                                                                                                                                                                                                                                                                                                                                                                                                                 difference between the system.array.copyto  and system.array.clone . whats the difference between the and ?   \n",
       "3190870                                                                                                                                                                                                                                                                                                                                                                                                                                                                                                                                                                                                                                                                                                                                                                                   const string vs. static readonly string in c#. in c# what s the difference between and ?   \n",
       "4083351                                                                                                                                                                                                                                                                                                                                                                                                                                                                                                                                                                                                                                                                                                                                                                                                                        what does jquery.fn mean?. what does the here mean?   \n",
       "21396524                                                                                                                                                                                                                                                                                                                                                                                                                                                                                                                                                                                                                                                                                                                                                what is the difference between assert expect and should in chai?. what is the difference between   and ? when to use what?   \n",
       "36901                                                                                                                                                                                                                                                                                                                                                                                                                                                                                                                                                                                                                                                                                                                                                                                    what does   double star asterisk and  star asterisk do for parameters?. what do and mean?   \n",
       "3366506                                                                                                                                                                                                                                                                                                                                                                                                                                                                                  extract p value from aov. i am looking to extract the p value generated from an anova in r. here is what i am running yields when i look a the structure this is what i see. i usually can work through lists to get what i need but i am having a hard time with this one. a google searched also seemed to reveal much simpler structures than i am getting. note asq is my data frame.   \n",
       "428884                                                                                                                                                                                                                                                                                                                                                                                                                                                                                                                                                                                                                                       how to play files in c?. i m looking for the easiest way to play a file in c. i am looking for either a library in which i could just call the function on the filename or an executable that will just run and quit. please suggest.   \n",
       "45469214  why does the most negative int value cause an error about ambiguous function overloads?. i m learning about function overloading in c++ and came across this from what i understood any value given in the range in my case is byte will call and any value outside this range will be ambiguous since the compiler cannot decide which function to call . it is valid for the complete range of values except its min value i.e. where compilation fails with the error call of overloaded is ambiguous but taking the same value to an and printing the value gives . i m literally confused with this behavior. why is this behavior observed only when the most negative number is passed? the behavior is the same if a is used with  in fact in any case where the negative number and positive number have the same binary representation compiler used g++ gcc     \n",
       "\n",
       "                                                                                                                                                                                                                                                                                                                                                                                                                                                                                                                                                                                                                                                                                                                                                                                                                                                                                                    Body_title  \n",
       "Id                                                                                                                                                                                                                                                                                                                                                                                                                                                                                                                                                                                                                                                                                                                                                                                                                                                                                                              \n",
       "198496                                                                                                                                                                                                                                                                                                                                                                                                                                                                                                                                                                                                                                                                                                                                                                                          Difference between the System.Array.CopyTo() and System.Array.Clone(). What’s the difference between the and ?  \n",
       "3190870                                                                                                                                                                                                                                                                                                                                                                                                                                                                                                                                                                                                                                                                                                                                                                                                    'const string' vs. 'static readonly string' in C#. In C#, what's the difference between    and    ?  \n",
       "4083351                                                                                                                                                                                                                                                                                                                                                                                                                                                                                                                                                                                                                                                                                                                                                                                                                                                    What does jQuery.fn mean?. What does the here mean?  \n",
       "21396524                                                                                                                                                                                                                                                                                                                                                                                                                                                                                                                                                                                                                                                                                                                                                                  What is the difference between “assert”, “expect”, and “should” in Chai?. What is the difference between , , and ? When to use what?  \n",
       "36901                                                                                                                                                                                                                                                                                                                                                                                                                                                                                                                                                                                                                                                                                                                                                                                                          What does ** (double star/asterisk) and * (star/asterisk) do for parameters?. What do and mean?  \n",
       "3366506                                                                                                                                                                                                                                                                                                                                                                                                                                                                                                 Extract p-value from aov. I am looking to extract the p-value generated from an anova in R.  Here is what I am running:    Yields:    When I look a the structure, this is what I see. I usually can work through lists to get what I need, but I am having a hard time with this one. A Google searched also seemed to reveal much simpler structures than I am getting.  NOTE: ASQ is my data frame.  \n",
       "428884                                                                                                                                                                                                                                                                                                                                                                                                                                                                                                                                                                                                                                                         How to play MP3 files in C?. I'm looking for the easiest way to play a MP3 file in C. I am looking for either a library, in which I could just call the function on the filename, or an executable that will just run and quit. Please suggest.  \n",
       "45469214  Why does the most negative int value cause an error about ambiguous function overloads?. I'm learning about function overloading in C++ and came across this:    From what I understood, any value given in the range (in my case is 4 byte) will call and any value outside this range will be ambiguous (since the compiler cannot decide which function to call). It is valid for the complete range of values except its min value i.e. where compilation fails with the error   call of overloaded is ambiguous    But taking the same value to an and printing the value gives . I'm literally confused with this behavior.  Why is this behavior observed only when the most negative number is passed? (The behavior is the same if a is used with - in fact, in any case where the negative number and positive number have the same binary representation)  Compiler used: g++ (GCC) 4.8.5  "
      ]
     },
     "execution_count": 30,
     "metadata": {},
     "output_type": "execute_result"
    }
   ],
   "source": [
    "df[['Body_pc', 'Body_title']].loc[idx_list] "
   ]
  },
  {
   "cell_type": "markdown",
   "metadata": {},
   "source": [
    "Comme on peut le voir ci-dessus, toutes les ponctuations n'ont pas été retiré de la colonne `Body_pc`. Nous allons utiliser cette colonne pour l'utilisation des modèles pré-entrainés (*Transfer Learning*) qui sont capables d'interpréter les ponctuations. La *tokenization* et la *lemmatization* seront utilisées pour les modèles ayant une approche *bag-of-words* telle que la LDA et Word2Vec."
   ]
  },
  {
   "cell_type": "markdown",
   "metadata": {},
   "source": [
    "# <font color=\"blue\" id=section_2_2> 2.2 Tokenization & Lemmatization. </font>"
   ]
  },
  {
   "cell_type": "code",
   "execution_count": 31,
   "metadata": {},
   "outputs": [],
   "source": [
    "from nltk.corpus import stopwords\n",
    "stop_words = stopwords.words('english')\n",
    "\n",
    "stop_words.extend(['from',  're', 'edu',  'not', 'would',\n",
    "                   'say', 'could', '_', 'be', 'know', 'good', 'go', 'get', 'try',\n",
    "                   'do', 'done', 'try', 'many', 'some', 'nice', 'thank', \n",
    "                   'think', 'see', 'rather', 'easy', 'lot', \n",
    "                   'lack', 'make', 'want', 'seem', 'run', 'need', 'even', \n",
    "                   'right', 'line', 'even', 'also', 'may', 'take', 'come',\n",
    "                   # perso\n",
    "                   'like','work','have', 'code', 'file', 'use', 'one', \n",
    "                   'question','type','way','error','find', 'look'\n",
    "])"
   ]
  },
  {
   "cell_type": "markdown",
   "metadata": {},
   "source": [
    "Ci-dessous, un liste de token de taille <= 2 que nous ne devons pas supprimer du corps du texte car ils représentent des tags."
   ]
  },
  {
   "cell_type": "code",
   "execution_count": 32,
   "metadata": {},
   "outputs": [],
   "source": [
    "special_tokens = ['c','r','c#','js']"
   ]
  },
  {
   "cell_type": "code",
   "execution_count": 33,
   "metadata": {},
   "outputs": [],
   "source": [
    "from nltk.tokenize import sent_tokenize, word_tokenize\n",
    "\n",
    "import spacy\n",
    "nlp = spacy.load(\"en_core_web_sm\")\n",
    "\n",
    "def tokenizer_fct(sentence):\n",
    "    sentence = sentence.replace('.', ' ')\n",
    "    word_tokens = word_tokenize(sentence)\n",
    "    return word_tokens\n",
    "\n",
    "def stop_word_filter_fct(list_words, stop_words=stop_words):\n",
    "    filtered_w = [w for w in list_words if not w in stop_words or (w in special_tokens)]\n",
    "    filtered_w2 = [w for w in filtered_w if (len(w) > 2) or (w in special_tokens)]\n",
    "    return filtered_w2\n",
    "\n",
    "def transform_bow_fct(desc_text):\n",
    "#     desc_text = desc_text.replace('.', ' ')\n",
    "    word_tokens = tokenizer_fct(desc_text)\n",
    "    word_tokens = keep_hashtag_token(word_tokens)\n",
    "    sw = stop_word_filter_fct(word_tokens)\n",
    "    transf_desc_text = ' '.join(sw)\n",
    "    return transf_desc_text\n",
    "\n",
    "def lemmatizer_spacy(sentence, stop_words=stop_words):\n",
    "    doc = nlp(sentence)\n",
    "    lemmas = []\n",
    "    for token in doc:\n",
    "#         if not token.is_punct:\n",
    "        temp_lm = token.lemma_\n",
    "        if temp_lm not in stop_words:\n",
    "            lemmas.append(temp_lm)\n",
    "        final_lemmas = keep_hashtag_token(lemmas)\n",
    "    return \" \".join(final_lemmas) # str(lemmas) # \n",
    "\n",
    "# Pour garder les tokens \"C#\"\n",
    "def keep_hashtag_token(tokens):\n",
    "    i_offset = 0\n",
    "    for i, t in enumerate(tokens):\n",
    "        i -= i_offset\n",
    "        if t == '#' and i > 0:\n",
    "            left = tokens[:i-1]\n",
    "            joined = [tokens[i - 1] + t]\n",
    "            right = tokens[i + 1:]\n",
    "            tokens = left + joined + right\n",
    "            i_offset += 1\n",
    "    return tokens"
   ]
  },
  {
   "cell_type": "raw",
   "metadata": {},
   "source": [
    "toto_df['Body_bow'] = toto_df['Body_pc'].progress_apply(lambda x : transform_bow_fct(x))\n",
    "toto_df[['Body_pc','Body_bow']].loc[idx_list]"
   ]
  },
  {
   "cell_type": "raw",
   "metadata": {},
   "source": [
    "toto_df['Body_lm'] = toto_df['Body_bow'].progress_apply(lambda x : lemmatizer_spacy(x))\n",
    "toto_df[['Body_lm','Body_pc']].loc[idx_list]"
   ]
  },
  {
   "cell_type": "code",
   "execution_count": 34,
   "metadata": {
    "scrolled": false
   },
   "outputs": [
    {
     "name": "stderr",
     "output_type": "stream",
     "text": [
      "100%|██████████| 38558/38558 [00:25<00:00, 1500.21it/s]\n"
     ]
    },
    {
     "data": {
      "text/html": [
       "<div>\n",
       "<style scoped>\n",
       "    .dataframe tbody tr th:only-of-type {\n",
       "        vertical-align: middle;\n",
       "    }\n",
       "\n",
       "    .dataframe tbody tr th {\n",
       "        vertical-align: top;\n",
       "    }\n",
       "\n",
       "    .dataframe thead th {\n",
       "        text-align: right;\n",
       "    }\n",
       "</style>\n",
       "<table border=\"1\" class=\"dataframe\">\n",
       "  <thead>\n",
       "    <tr style=\"text-align: right;\">\n",
       "      <th></th>\n",
       "      <th>Body_pc</th>\n",
       "      <th>Body_bow</th>\n",
       "    </tr>\n",
       "    <tr>\n",
       "      <th>Id</th>\n",
       "      <th></th>\n",
       "      <th></th>\n",
       "    </tr>\n",
       "  </thead>\n",
       "  <tbody>\n",
       "    <tr>\n",
       "      <th>198496</th>\n",
       "      <td>difference between the system.array.copyto  and system.array.clone . whats the difference between the and ?</td>\n",
       "      <td>difference system array copyto system array clone whats difference</td>\n",
       "    </tr>\n",
       "    <tr>\n",
       "      <th>3190870</th>\n",
       "      <td>const string vs. static readonly string in c#. in c# what s the difference between and ?</td>\n",
       "      <td>const string static readonly string c# c# difference</td>\n",
       "    </tr>\n",
       "    <tr>\n",
       "      <th>4083351</th>\n",
       "      <td>what does jquery.fn mean?. what does the here mean?</td>\n",
       "      <td>jquery mean mean</td>\n",
       "    </tr>\n",
       "    <tr>\n",
       "      <th>21396524</th>\n",
       "      <td>what is the difference between assert expect and should in chai?. what is the difference between   and ? when to use what?</td>\n",
       "      <td>difference assert expect chai difference</td>\n",
       "    </tr>\n",
       "    <tr>\n",
       "      <th>36901</th>\n",
       "      <td>what does   double star asterisk and  star asterisk do for parameters?. what do and mean?</td>\n",
       "      <td>double star asterisk star asterisk parameters mean</td>\n",
       "    </tr>\n",
       "    <tr>\n",
       "      <th>3366506</th>\n",
       "      <td>extract p value from aov. i am looking to extract the p value generated from an anova in r. here is what i am running yields when i look a the structure this is what i see. i usually can work through lists to get what i need but i am having a hard time with this one. a google searched also seemed to reveal much simpler structures than i am getting. note asq is my data frame.</td>\n",
       "      <td>extract value aov looking extract value generated anova r running yields structure usually lists hard time google searched seemed reveal much simpler structures getting note asq data frame</td>\n",
       "    </tr>\n",
       "    <tr>\n",
       "      <th>428884</th>\n",
       "      <td>how to play files in c?. i m looking for the easiest way to play a file in c. i am looking for either a library in which i could just call the function on the filename or an executable that will just run and quit. please suggest.</td>\n",
       "      <td>play files c looking easiest play c looking either library call function filename executable quit please suggest</td>\n",
       "    </tr>\n",
       "    <tr>\n",
       "      <th>45469214</th>\n",
       "      <td>why does the most negative int value cause an error about ambiguous function overloads?. i m learning about function overloading in c++ and came across this from what i understood any value given in the range in my case is byte will call and any value outside this range will be ambiguous since the compiler cannot decide which function to call . it is valid for the complete range of values except its min value i.e. where compilation fails with the error call of overloaded is ambiguous but taking the same value to an and printing the value gives . i m literally confused with this behavior. why is this behavior observed only when the most negative number is passed? the behavior is the same if a is used with  in fact in any case where the negative number and positive number have the same binary representation compiler used g++ gcc</td>\n",
       "      <td>negative int value cause ambiguous function overloads learning function overloading c++ came across understood value given range case byte call value outside range ambiguous since compiler decide function call valid complete range values except min value compilation fails call overloaded ambiguous taking value printing value gives literally confused behavior behavior observed negative number passed behavior used fact case negative number positive number binary representation compiler used g++ gcc</td>\n",
       "    </tr>\n",
       "  </tbody>\n",
       "</table>\n",
       "</div>"
      ],
      "text/plain": [
       "                                                                                                                                                                                                                                                                                                                                                                                                                                                                                                                                                                                                                                                                                                                                                                                                                                                                           Body_pc  \\\n",
       "Id                                                                                                                                                                                                                                                                                                                                                                                                                                                                                                                                                                                                                                                                                                                                                                                                                                                                                   \n",
       "198496                                                                                                                                                                                                                                                                                                                                                                                                                                                                                                                                                                                                                                                                                                                                                                 difference between the system.array.copyto  and system.array.clone . whats the difference between the and ?   \n",
       "3190870                                                                                                                                                                                                                                                                                                                                                                                                                                                                                                                                                                                                                                                                                                                                                                                   const string vs. static readonly string in c#. in c# what s the difference between and ?   \n",
       "4083351                                                                                                                                                                                                                                                                                                                                                                                                                                                                                                                                                                                                                                                                                                                                                                                                                        what does jquery.fn mean?. what does the here mean?   \n",
       "21396524                                                                                                                                                                                                                                                                                                                                                                                                                                                                                                                                                                                                                                                                                                                                                what is the difference between assert expect and should in chai?. what is the difference between   and ? when to use what?   \n",
       "36901                                                                                                                                                                                                                                                                                                                                                                                                                                                                                                                                                                                                                                                                                                                                                                                    what does   double star asterisk and  star asterisk do for parameters?. what do and mean?   \n",
       "3366506                                                                                                                                                                                                                                                                                                                                                                                                                                                                                  extract p value from aov. i am looking to extract the p value generated from an anova in r. here is what i am running yields when i look a the structure this is what i see. i usually can work through lists to get what i need but i am having a hard time with this one. a google searched also seemed to reveal much simpler structures than i am getting. note asq is my data frame.   \n",
       "428884                                                                                                                                                                                                                                                                                                                                                                                                                                                                                                                                                                                                                                       how to play files in c?. i m looking for the easiest way to play a file in c. i am looking for either a library in which i could just call the function on the filename or an executable that will just run and quit. please suggest.   \n",
       "45469214  why does the most negative int value cause an error about ambiguous function overloads?. i m learning about function overloading in c++ and came across this from what i understood any value given in the range in my case is byte will call and any value outside this range will be ambiguous since the compiler cannot decide which function to call . it is valid for the complete range of values except its min value i.e. where compilation fails with the error call of overloaded is ambiguous but taking the same value to an and printing the value gives . i m literally confused with this behavior. why is this behavior observed only when the most negative number is passed? the behavior is the same if a is used with  in fact in any case where the negative number and positive number have the same binary representation compiler used g++ gcc     \n",
       "\n",
       "                                                                                                                                                                                                                                                                                                                                                                                                                                                                                                                       Body_bow  \n",
       "Id                                                                                                                                                                                                                                                                                                                                                                                                                                                                                                                               \n",
       "198496                                                                                                                                                                                                                                                                                                                                                                                                                                                       difference system array copyto system array clone whats difference  \n",
       "3190870                                                                                                                                                                                                                                                                                                                                                                                                                                                                    const string static readonly string c# c# difference  \n",
       "4083351                                                                                                                                                                                                                                                                                                                                                                                                                                                                                                        jquery mean mean  \n",
       "21396524                                                                                                                                                                                                                                                                                                                                                                                                                                                                               difference assert expect chai difference  \n",
       "36901                                                                                                                                                                                                                                                                                                                                                                                                                                                                        double star asterisk star asterisk parameters mean  \n",
       "3366506                                                                                                                                                                                                                                                                                                                            extract value aov looking extract value generated anova r running yields structure usually lists hard time google searched seemed reveal much simpler structures getting note asq data frame  \n",
       "428884                                                                                                                                                                                                                                                                                                                                                                                                         play files c looking easiest play c looking either library call function filename executable quit please suggest  \n",
       "45469214  negative int value cause ambiguous function overloads learning function overloading c++ came across understood value given range case byte call value outside range ambiguous since compiler decide function call valid complete range values except min value compilation fails call overloaded ambiguous taking value printing value gives literally confused behavior behavior observed negative number passed behavior used fact case negative number positive number binary representation compiler used g++ gcc  "
      ]
     },
     "execution_count": 34,
     "metadata": {},
     "output_type": "execute_result"
    }
   ],
   "source": [
    "df['Body_bow'] = df['Body_pc'].progress_apply(lambda x : transform_bow_fct(x))\n",
    "df[['Body_pc','Body_bow']].loc[idx_list]"
   ]
  },
  {
   "cell_type": "code",
   "execution_count": 35,
   "metadata": {
    "scrolled": false
   },
   "outputs": [
    {
     "name": "stderr",
     "output_type": "stream",
     "text": [
      "100%|██████████| 38558/38558 [06:31<00:00, 98.39it/s] \n"
     ]
    },
    {
     "data": {
      "text/html": [
       "<div>\n",
       "<style scoped>\n",
       "    .dataframe tbody tr th:only-of-type {\n",
       "        vertical-align: middle;\n",
       "    }\n",
       "\n",
       "    .dataframe tbody tr th {\n",
       "        vertical-align: top;\n",
       "    }\n",
       "\n",
       "    .dataframe thead th {\n",
       "        text-align: right;\n",
       "    }\n",
       "</style>\n",
       "<table border=\"1\" class=\"dataframe\">\n",
       "  <thead>\n",
       "    <tr style=\"text-align: right;\">\n",
       "      <th></th>\n",
       "      <th>Body_lm</th>\n",
       "      <th>Body_pc</th>\n",
       "    </tr>\n",
       "    <tr>\n",
       "      <th>Id</th>\n",
       "      <th></th>\n",
       "      <th></th>\n",
       "    </tr>\n",
       "  </thead>\n",
       "  <tbody>\n",
       "    <tr>\n",
       "      <th>198496</th>\n",
       "      <td>difference system array copyto system array clone difference</td>\n",
       "      <td>difference between the system.array.copyto  and system.array.clone . whats the difference between the and ?</td>\n",
       "    </tr>\n",
       "    <tr>\n",
       "      <th>3190870</th>\n",
       "      <td>const string static readonly stre c# c# difference</td>\n",
       "      <td>const string vs. static readonly string in c#. in c# what s the difference between and ?</td>\n",
       "    </tr>\n",
       "    <tr>\n",
       "      <th>4083351</th>\n",
       "      <td>jquery mean mean</td>\n",
       "      <td>what does jquery.fn mean?. what does the here mean?</td>\n",
       "    </tr>\n",
       "    <tr>\n",
       "      <th>21396524</th>\n",
       "      <td>difference assert expect chai difference</td>\n",
       "      <td>what is the difference between assert expect and should in chai?. what is the difference between   and ? when to use what?</td>\n",
       "    </tr>\n",
       "    <tr>\n",
       "      <th>36901</th>\n",
       "      <td>double star asterisk star asterisk parameter mean</td>\n",
       "      <td>what does   double star asterisk and  star asterisk do for parameters?. what do and mean?</td>\n",
       "    </tr>\n",
       "    <tr>\n",
       "      <th>3366506</th>\n",
       "      <td>extract value aov looking extract value generate anova r yield structure usually list hard time google search reveal much simple structure getting note asq datum frame</td>\n",
       "      <td>extract p value from aov. i am looking to extract the p value generated from an anova in r. here is what i am running yields when i look a the structure this is what i see. i usually can work through lists to get what i need but i am having a hard time with this one. a google searched also seemed to reveal much simpler structures than i am getting. note asq is my data frame.</td>\n",
       "    </tr>\n",
       "    <tr>\n",
       "      <th>428884</th>\n",
       "      <td>play c play c either library call function filename executable quit please suggest</td>\n",
       "      <td>how to play files in c?. i m looking for the easiest way to play a file in c. i am looking for either a library in which i could just call the function on the filename or an executable that will just run and quit. please suggest.</td>\n",
       "    </tr>\n",
       "    <tr>\n",
       "      <th>45469214</th>\n",
       "      <td>negative int value cause ambiguous function overload learn function overloading c++ across understand value give range case byte call value outside range ambiguous since compiler decide function call valid complete range value except min value compilation fail call overload ambiguous taking value printing value give literally confused behavior behavior observe negative number pass behavior fact case negative number positive number binary representation compiler g++ gcc</td>\n",
       "      <td>why does the most negative int value cause an error about ambiguous function overloads?. i m learning about function overloading in c++ and came across this from what i understood any value given in the range in my case is byte will call and any value outside this range will be ambiguous since the compiler cannot decide which function to call . it is valid for the complete range of values except its min value i.e. where compilation fails with the error call of overloaded is ambiguous but taking the same value to an and printing the value gives . i m literally confused with this behavior. why is this behavior observed only when the most negative number is passed? the behavior is the same if a is used with  in fact in any case where the negative number and positive number have the same binary representation compiler used g++ gcc</td>\n",
       "    </tr>\n",
       "  </tbody>\n",
       "</table>\n",
       "</div>"
      ],
      "text/plain": [
       "                                                                                                                                                                                                                                                                                                                                                                                                                                                                                            Body_lm  \\\n",
       "Id                                                                                                                                                                                                                                                                                                                                                                                                                                                                                                    \n",
       "198496                                                                                                                                                                                                                                                                                                                                                                                                                                 difference system array copyto system array clone difference   \n",
       "3190870                                                                                                                                                                                                                                                                                                                                                                                                                                          const string static readonly stre c# c# difference   \n",
       "4083351                                                                                                                                                                                                                                                                                                                                                                                                                                                                            jquery mean mean   \n",
       "21396524                                                                                                                                                                                                                                                                                                                                                                                                                                                   difference assert expect chai difference   \n",
       "36901                                                                                                                                                                                                                                                                                                                                                                                                                                             double star asterisk star asterisk parameter mean   \n",
       "3366506                                                                                                                                                                                                                                                                                                                     extract value aov looking extract value generate anova r yield structure usually list hard time google search reveal much simple structure getting note asq datum frame   \n",
       "428884                                                                                                                                                                                                                                                                                                                                                                                                           play c play c either library call function filename executable quit please suggest   \n",
       "45469214  negative int value cause ambiguous function overload learn function overloading c++ across understand value give range case byte call value outside range ambiguous since compiler decide function call valid complete range value except min value compilation fail call overload ambiguous taking value printing value give literally confused behavior behavior observe negative number pass behavior fact case negative number positive number binary representation compiler g++ gcc   \n",
       "\n",
       "                                                                                                                                                                                                                                                                                                                                                                                                                                                                                                                                                                                                                                                                                                                                                                                                                                                                           Body_pc  \n",
       "Id                                                                                                                                                                                                                                                                                                                                                                                                                                                                                                                                                                                                                                                                                                                                                                                                                                                                                  \n",
       "198496                                                                                                                                                                                                                                                                                                                                                                                                                                                                                                                                                                                                                                                                                                                                                                 difference between the system.array.copyto  and system.array.clone . whats the difference between the and ?  \n",
       "3190870                                                                                                                                                                                                                                                                                                                                                                                                                                                                                                                                                                                                                                                                                                                                                                                   const string vs. static readonly string in c#. in c# what s the difference between and ?  \n",
       "4083351                                                                                                                                                                                                                                                                                                                                                                                                                                                                                                                                                                                                                                                                                                                                                                                                                        what does jquery.fn mean?. what does the here mean?  \n",
       "21396524                                                                                                                                                                                                                                                                                                                                                                                                                                                                                                                                                                                                                                                                                                                                                what is the difference between assert expect and should in chai?. what is the difference between   and ? when to use what?  \n",
       "36901                                                                                                                                                                                                                                                                                                                                                                                                                                                                                                                                                                                                                                                                                                                                                                                    what does   double star asterisk and  star asterisk do for parameters?. what do and mean?  \n",
       "3366506                                                                                                                                                                                                                                                                                                                                                                                                                                                                                  extract p value from aov. i am looking to extract the p value generated from an anova in r. here is what i am running yields when i look a the structure this is what i see. i usually can work through lists to get what i need but i am having a hard time with this one. a google searched also seemed to reveal much simpler structures than i am getting. note asq is my data frame.  \n",
       "428884                                                                                                                                                                                                                                                                                                                                                                                                                                                                                                                                                                                                                                       how to play files in c?. i m looking for the easiest way to play a file in c. i am looking for either a library in which i could just call the function on the filename or an executable that will just run and quit. please suggest.  \n",
       "45469214  why does the most negative int value cause an error about ambiguous function overloads?. i m learning about function overloading in c++ and came across this from what i understood any value given in the range in my case is byte will call and any value outside this range will be ambiguous since the compiler cannot decide which function to call . it is valid for the complete range of values except its min value i.e. where compilation fails with the error call of overloaded is ambiguous but taking the same value to an and printing the value gives . i m literally confused with this behavior. why is this behavior observed only when the most negative number is passed? the behavior is the same if a is used with  in fact in any case where the negative number and positive number have the same binary representation compiler used g++ gcc    "
      ]
     },
     "execution_count": 35,
     "metadata": {},
     "output_type": "execute_result"
    }
   ],
   "source": [
    "df['Body_lm'] = df['Body_bow'].progress_apply(lambda x : lemmatizer_spacy(x))\n",
    "df[['Body_lm','Body_pc']].loc[idx_list]"
   ]
  },
  {
   "cell_type": "code",
   "execution_count": 51,
   "metadata": {},
   "outputs": [],
   "source": [
    "# Enfin, on supprime les colonnes redondantes\n",
    "df = df.drop(['Title', \n",
    "              'Body', \n",
    "              'Body_title', \n",
    "              'Body_bow',\n",
    "             ], axis=1)"
   ]
  },
  {
   "cell_type": "markdown",
   "metadata": {},
   "source": [
    "# <font color=\"blue\" id=section_2_3> 2.3 Uniformisation de la longueur des textes. </font>"
   ]
  },
  {
   "cell_type": "markdown",
   "metadata": {},
   "source": [
    "Regardons la distribution des *tokens* dans les deux colonnes qui nous intéressent."
   ]
  },
  {
   "cell_type": "code",
   "execution_count": 37,
   "metadata": {},
   "outputs": [],
   "source": [
    "def token_distribution(col):\n",
    "    tk = [len(body) for body in df[col].apply(lambda x: x.split(\" \"))]\n",
    "    print(f\"\\n Le corps de texte le plus long contient {max(tk)} tokens. \\n\")\n",
    "\n",
    "    plt.figure(figsize=(15,6))\n",
    "    plt.hist(tk, bins=100)\n",
    "    plt.title(f\"Distribution du nombre de token dans la colonne {col}\", fontsize=18)\n",
    "    plt.xlabel('Nombre de tokens', fontsize=18)\n",
    "    plt.xticks(fontsize=15)\n",
    "    plt.ylabel('Nombre de lignes', fontsize=18 )\n",
    "    plt.yticks(fontsize=15)\n",
    "    plt.show()"
   ]
  },
  {
   "cell_type": "code",
   "execution_count": 38,
   "metadata": {
    "scrolled": false
   },
   "outputs": [
    {
     "name": "stdout",
     "output_type": "stream",
     "text": [
      "\n",
      " Le corps de texte le plus long contient 3302 tokens. \n",
      "\n"
     ]
    },
    {
     "data": {
      "image/png": "[encoded data removed]",
      "text/plain": [
       "<Figure size 1080x432 with 1 Axes>"
      ]
     },
     "metadata": {
      "needs_background": "light"
     },
     "output_type": "display_data"
    },
    {
     "name": "stdout",
     "output_type": "stream",
     "text": [
      "\n",
      " Le corps de texte le plus long contient 1389 tokens. \n",
      "\n"
     ]
    },
    {
     "data": {
      "image/png": "[encoded data removed]",
      "text/plain": [
       "<Figure size 1080x432 with 1 Axes>"
      ]
     },
     "metadata": {
      "needs_background": "light"
     },
     "output_type": "display_data"
    }
   ],
   "source": [
    "token_distribution('Body_pc')\n",
    "token_distribution('Body_lm')"
   ]
  },
  {
   "cell_type": "code",
   "execution_count": 39,
   "metadata": {},
   "outputs": [
    {
     "name": "stdout",
     "output_type": "stream",
     "text": [
      "\n",
      " Le corps de texte le plus long contient 1389 tokens. \n",
      "\n"
     ]
    },
    {
     "data": {
      "image/png": "[encoded data removed]",
      "text/plain": [
       "<Figure size 1080x432 with 1 Axes>"
      ]
     },
     "metadata": {
      "needs_background": "light"
     },
     "output_type": "display_data"
    }
   ],
   "source": [
    "token_distribution('Body_lm')"
   ]
  },
  {
   "cell_type": "code",
   "execution_count": 40,
   "metadata": {},
   "outputs": [],
   "source": [
    "# On utilise la colonne 'Body_pc' pour faire la selection sur les indices\n",
    "\n",
    "pc_idx=[]\n",
    "for i,data in df['Body_pc'].apply(lambda x: x.split(\" \")).items():\n",
    "    if (len(data) < 512) and (len(data) > 16):\n",
    "        pc_idx.append(i)"
   ]
  },
  {
   "cell_type": "code",
   "execution_count": 41,
   "metadata": {},
   "outputs": [],
   "source": [
    "df = df.loc[pc_idx]"
   ]
  },
  {
   "cell_type": "code",
   "execution_count": 42,
   "metadata": {},
   "outputs": [
    {
     "name": "stdout",
     "output_type": "stream",
     "text": [
      "\n",
      " Le corps de texte le plus long contient 511 tokens. \n",
      "\n"
     ]
    },
    {
     "data": {
      "image/png": "[encoded data removed]",
      "text/plain": [
       "<Figure size 1080x432 with 1 Axes>"
      ]
     },
     "metadata": {
      "needs_background": "light"
     },
     "output_type": "display_data"
    }
   ],
   "source": [
    "# Nouvelle distribution des tokens\n",
    "token_distribution('Body_pc')"
   ]
  },
  {
   "cell_type": "code",
   "execution_count": 43,
   "metadata": {},
   "outputs": [
    {
     "name": "stdout",
     "output_type": "stream",
     "text": [
      "\n",
      " Le corps de texte le plus long contient 430 tokens. \n",
      "\n"
     ]
    },
    {
     "data": {
      "image/png": "[encoded data removed]",
      "text/plain": [
       "<Figure size 1080x432 with 1 Axes>"
      ]
     },
     "metadata": {
      "needs_background": "light"
     },
     "output_type": "display_data"
    }
   ],
   "source": [
    "# Nouvelle distribution des tokens\n",
    "token_distribution('Body_lm')"
   ]
  },
  {
   "cell_type": "code",
   "execution_count": 44,
   "metadata": {},
   "outputs": [
    {
     "name": "stdout",
     "output_type": "stream",
     "text": [
      "Le jeu de données compte 37961 lignes.\n"
     ]
    }
   ],
   "source": [
    "print(\"Le jeu de données compte {} lignes.\".format(df.shape[0]))"
   ]
  },
  {
   "cell_type": "code",
   "execution_count": 45,
   "metadata": {},
   "outputs": [
    {
     "name": "stdout",
     "output_type": "stream",
     "text": [
      "Le jeu de données a été réduit de 24.08%\n"
     ]
    }
   ],
   "source": [
    "reduction_df = df.shape[0]/df_orig.shape[0]\n",
    "print(\"Le jeu de données a été réduit de {}%\".format(round((1-reduction_df)*100, 2)))"
   ]
  },
  {
   "cell_type": "code",
   "execution_count": 46,
   "metadata": {},
   "outputs": [
    {
     "data": {
      "text/plain": [
       "1    27114\n",
       "2     9428\n",
       "3     1419\n",
       "Name: Best_Tags_count, dtype: int64"
      ]
     },
     "execution_count": 46,
     "metadata": {},
     "output_type": "execute_result"
    }
   ],
   "source": [
    "df['Best_Tags_count'].value_counts()\n",
    "# .plot(kind='bar',figsize=(15,6))\n",
    "# plt.show()"
   ]
  },
  {
   "cell_type": "code",
   "execution_count": 47,
   "metadata": {},
   "outputs": [
    {
     "data": {
      "image/png": "[encoded data removed]",
      "text/plain": [
       "<Figure size 1080x576 with 1 Axes>"
      ]
     },
     "metadata": {
      "needs_background": "light"
     },
     "output_type": "display_data"
    }
   ],
   "source": [
    "fig = plt.figure(figsize=(15,8))\n",
    "ax = sns.countplot(x=df.Best_Tags_count, color=\"skyblue\")\n",
    "ax.set_xlabel(\"Tags\", fontsize=15)\n",
    "ax.set_ylabel(\"Total\", fontsize=15)\n",
    "plt.title(\"Nombre de tags pour chaque question dans le dataframe final. \\n\", fontsize=18)\n",
    "plt.show()\n",
    "fig.savefig('final_best_tags.png')"
   ]
  },
  {
   "cell_type": "code",
   "execution_count": 52,
   "metadata": {},
   "outputs": [],
   "source": [
    "df = df.drop(['Best_Tags_count',\n",
    "             ], axis=1)"
   ]
  },
  {
   "cell_type": "code",
   "execution_count": 55,
   "metadata": {},
   "outputs": [
    {
     "name": "stdout",
     "output_type": "stream",
     "text": [
      "<class 'pandas.core.frame.DataFrame'>\n",
      "Int64Index: 37961 entries, 689677 to 665299\n",
      "Data columns (total 3 columns):\n",
      " #   Column     Non-Null Count  Dtype \n",
      "---  ------     --------------  ----- \n",
      " 0   Best_Tags  37961 non-null  object\n",
      " 1   Body_pc    37961 non-null  object\n",
      " 2   Body_lm    37961 non-null  object\n",
      "dtypes: object(3)\n",
      "memory usage: 2.2+ MB\n"
     ]
    }
   ],
   "source": [
    "df.info()"
   ]
  },
  {
   "cell_type": "code",
   "execution_count": 56,
   "metadata": {},
   "outputs": [],
   "source": [
    "# df.to_csv('df_preclean_lemma.csv')"
   ]
  },
  {
   "cell_type": "code",
   "execution_count": 58,
   "metadata": {},
   "outputs": [],
   "source": [
    "# df.loc[1320264]"
   ]
  },
  {
   "cell_type": "code",
   "execution_count": null,
   "metadata": {},
   "outputs": [],
   "source": []
  }
 ],
 "metadata": {
  "kernelspec": {
   "display_name": "Python 3",
   "language": "python",
   "name": "python3"
  },
  "language_info": {
   "codemirror_mode": {
    "name": "ipython",
    "version": 3
   },
   "file_extension": ".py",
   "mimetype": "text/x-python",
   "name": "python",
   "nbconvert_exporter": "python",
   "pygments_lexer": "ipython3",
   "version": "3.8.10"
  }
 },
 "nbformat": 4,
 "nbformat_minor": 4
}
